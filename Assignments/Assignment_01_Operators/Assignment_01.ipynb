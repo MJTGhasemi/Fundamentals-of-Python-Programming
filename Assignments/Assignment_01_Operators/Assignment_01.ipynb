{
 "cells": [
  {
   "attachments": {},
   "cell_type": "markdown",
   "metadata": {},
   "source": [
    "# <font color='#4682B4'>**Assignment 1**</font>\n",
    "\n",
    "## Write your response in a notebook and make sure to title the file with your name.\n",
    "\n",
    "### <font color='#FF4500'>**Note:**</font> Deadline: Friday, Feb 21st, 2025 | 18:00 "
   ]
  },
  {
   "attachments": {},
   "cell_type": "markdown",
   "metadata": {},
   "source": [
    "\n",
    "\n",
    "**Exercise 1:** Write a Python program to calculate the area and perimeter of a rectangle with width 7 and height 5. Use arithmetic operators to calculate both values.\n",
    "\n",
    "**Exercise 2:** Given three grades, 88, 76, and 91, write a Python script to calculate the average grade. Use variables to store the grades and the arithmetic operators to calculate the average.\n",
    "\n",
    "**Exercise 3:** Assume you have $1000 USD and you want to convert it to Euros. The conversion rate is 1 USD to 0.85 Euros. Write a Python program to calculate how many Euros you will get after conversion.\n",
    "\n",
    "**Exercise 4:** The formula for a straight line is $y = mx + b$. if $m = 5$, $b = 2$, and $y = 32$, write a Python program to solve for x.\n",
    "\n",
    "**Exercise 5:** Write a Python script that checks if today's temperature is higher than yesterday's. Yesterday's temperature was 23 degrees Celsius, and today's is 25 degrees Celsius. Use comparison operators to find out the result.\n",
    "\n",
    "**Exercise 6:** Given a passing score of 50, write a Python program to check if a student's score of 47 qualifies as a pass or fail using comparison operators.\n",
    "\n",
    "**Exercise 7:** Write a Python script that determines if a given number $n$ is odd or even. Use the modulus operator for your check and print out \"Odd\" or \"Even\".\n",
    "\n",
    "**Exercise 8:** Write a Python program where you compare the ages of two people, Alice and Bob, who are 24 and 30 years old, respectively. Check if Alice is older than Bob, and print a message stating whether it's true or false."
   ]
  }
 ],
 "metadata": {
  "kernelspec": {
   "display_name": "base",
   "language": "python",
   "name": "python3"
  },
  "language_info": {
   "codemirror_mode": {
    "name": "ipython",
    "version": 3
   },
   "file_extension": ".py",
   "mimetype": "text/x-python",
   "name": "python",
   "nbconvert_exporter": "python",
   "pygments_lexer": "ipython3",
   "version": "3.10.9"
  },
  "orig_nbformat": 4
 },
 "nbformat": 4,
 "nbformat_minor": 2
}
