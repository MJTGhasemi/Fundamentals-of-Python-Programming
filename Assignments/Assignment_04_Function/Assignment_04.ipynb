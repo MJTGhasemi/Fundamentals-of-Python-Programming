{
 "cells": [
  {
   "attachments": {},
   "cell_type": "markdown",
   "metadata": {},
   "source": [
    "# <font color='#8FBC8F'>**Assignment # 4**</font> "
   ]
  },
  {
   "attachments": {},
   "cell_type": "markdown",
   "metadata": {},
   "source": [
    "## <font color='#DC143C'>**Deadline: Friday, November 1st, 2024 | 06:00 PM**</font> "
   ]
  },
  {
   "attachments": {},
   "cell_type": "markdown",
   "metadata": {},
   "source": [
    "### **Add Your Name Here:**\n",
    "------->"
   ]
  },
  {
   "attachments": {},
   "cell_type": "markdown",
   "metadata": {},
   "source": [
    "### Using the course material, write the proper codes to answer the following:"
   ]
  },
  {
   "attachments": {},
   "cell_type": "markdown",
   "metadata": {},
   "source": [
    "- **Question 1:**  \n",
    "Write a Python function named `calculate_sum` that takes two positional arguments and returns their sum. Demonstrate how to call this function with the numbers 10 and 20."
   ]
  },
  {
   "cell_type": "code",
   "execution_count": 2,
   "metadata": {},
   "outputs": [],
   "source": [
    "# Answer to Question 1: \n",
    "\n",
    "\n"
   ]
  },
  {
   "attachments": {},
   "cell_type": "markdown",
   "metadata": {},
   "source": [
    "- **Question 2:**  \n",
    "Write a Python function named `classify_number` that takes a single argument. If the number is positive, return \"Positive\". If the number is negative, return \"Negative\". If the number is zero, return \"Zero\". Demonstrate using this function with a positive, negative, and zero value."
   ]
  },
  {
   "cell_type": "code",
   "execution_count": 1,
   "metadata": {},
   "outputs": [],
   "source": [
    "# Answer to Question 2: \n",
    "\n"
   ]
  },
  {
   "attachments": {},
   "cell_type": "markdown",
   "metadata": {},
   "source": [
    "- **Question 3:**  \n",
    "Write a Python function named `find_first_even` that takes a list of integers as an argument and returns the first even number in the list. Use a loop to iterate through the list. If there is no even number, return `None`."
   ]
  },
  {
   "cell_type": "code",
   "execution_count": 3,
   "metadata": {},
   "outputs": [],
   "source": [
    "# Answer to Question 3: \n",
    "\n"
   ]
  },
  {
   "attachments": {},
   "cell_type": "markdown",
   "metadata": {},
   "source": [
    "- **Question 4:**  \n",
    "Write a Python function named `is_palindrome` that checks if a given string is a palindrome (reads the same backward as forward). The function should return `True` if it is a palindrome and `False` otherwise. Ignore case and spaces. For example, \"A man a plan a canal Panama\" is a palindrome."
   ]
  },
  {
   "cell_type": "code",
   "execution_count": 4,
   "metadata": {},
   "outputs": [],
   "source": [
    "# Answer to Question 4: \n",
    "\n"
   ]
  },
  {
   "attachments": {},
   "cell_type": "markdown",
   "metadata": {},
   "source": [
    "- **Question 5:**  \n",
    "Write a function named `create_greeting` that takes two parameters: `name` and `greeting` with a default value of \"Hello\". The function should return a string that combines the greeting and the name, e.g., \"Hello, John\". Demonstrate calling this function with just the name argument, and then with both the name and a different greeting."
   ]
  },
  {
   "cell_type": "code",
   "execution_count": 5,
   "metadata": {},
   "outputs": [],
   "source": [
    "# Answer to Question 5: \n",
    "\n"
   ]
  },
  {
   "attachments": {},
   "cell_type": "markdown",
   "metadata": {},
   "source": [
    "- **Question 6:**  \n",
    "Write a Python function named `merge_information` that accepts an arbitrary number of dictionaries (using `*args`) and merges them into one dictionary. If there are duplicate keys, values from later dictionaries should override earlier ones. Demonstrate using this function with three dictionaries containing some overlapping keys."
   ]
  },
  {
   "cell_type": "code",
   "execution_count": 6,
   "metadata": {},
   "outputs": [],
   "source": [
    "# Answer to Question 6:\n",
    "\n"
   ]
  },
  {
   "attachments": {},
   "cell_type": "markdown",
   "metadata": {},
   "source": [
    "- **Question 7:**  \n",
    "Write a Python function named `filter_and_transform` that takes a list of numbers. The function should filter out all numbers that are not divisible by 3, square the remaining numbers, and return the squared numbers as a new list. Use list comprehension for filtering and squaring."
   ]
  },
  {
   "cell_type": "code",
   "execution_count": 7,
   "metadata": {},
   "outputs": [],
   "source": [
    "# Answer to Question 7:\n",
    "\n"
   ]
  },
  {
   "attachments": {},
   "cell_type": "markdown",
   "metadata": {},
   "source": [
    "- **Question 8:**  \n",
    "Write a Python function named `make_multiplier` that returns a function that multiplies any number by a number that was passed to `make_multiplier`. Demonstrate how to use this function to create a `triple` function that triples any number passed to it."
   ]
  },
  {
   "cell_type": "code",
   "execution_count": 8,
   "metadata": {},
   "outputs": [],
   "source": [
    "# Answer to Question 8:\n",
    "\n"
   ]
  },
  {
   "attachments": {},
   "cell_type": "markdown",
   "metadata": {},
   "source": [
    "- **Question 9:**  \n",
    "Write a Python function named `safely_convert` that attempts to convert a string to an integer. If the conversion fails due to a `ValueError`, return `None`. The function should use a try-except block to handle the error."
   ]
  },
  {
   "cell_type": "code",
   "execution_count": 9,
   "metadata": {},
   "outputs": [],
   "source": [
    "# Answer to Question 9:\n",
    "\n"
   ]
  },
  {
   "attachments": {},
   "cell_type": "markdown",
   "metadata": {},
   "source": [
    "- **Question 10:**  \n",
    "Write a Python script that uses a lambda function and the `map()` function to convert all items in a list from Fahrenheit to Celsius. The formula for the conversion is `(F - 32) * 5/9`. Apply this to a list of Fahrenheit temperatures and print the resulting list of Celsius temperatures."
   ]
  },
  {
   "cell_type": "code",
   "execution_count": 10,
   "metadata": {},
   "outputs": [],
   "source": [
    "# Answer to Question 10:\n",
    "\n"
   ]
  },
  {
   "attachments": {},
   "cell_type": "markdown",
   "metadata": {},
   "source": [
    "- **Question 11:**  \n",
    "Write a Python function named `construct_profile` that accepts an arbitrary number of keyword arguments (**kwargs) and constructs a user profile dictionary from them. The function should also include two mandatory keyword arguments, `name` and `email`, which must be provided by the user. Ensure the function raises a `TypeError` if these mandatory arguments are not provided. Demonstrate using this function by creating a user profile with a name, email, and additional information such as age and location."
   ]
  },
  {
   "cell_type": "code",
   "execution_count": 11,
   "metadata": {},
   "outputs": [],
   "source": [
    "# Answer to Question 11:\n",
    "\n"
   ]
  },
  {
   "attachments": {},
   "cell_type": "markdown",
   "metadata": {},
   "source": [
    "- **Question 12:** \n",
    "Write a function called `add_time_intervals` that accepts two time intervals as tuples (hours, minutes, seconds) and returns their sum as a new tuple. Make use of unpacking and lambda functions where necessary."
   ]
  },
  {
   "cell_type": "code",
   "execution_count": null,
   "metadata": {},
   "outputs": [],
   "source": [
    "# Answer to Question 12:"
   ]
  }
 ],
 "metadata": {
  "kernelspec": {
   "display_name": "base",
   "language": "python",
   "name": "python3"
  },
  "language_info": {
   "codemirror_mode": {
    "name": "ipython",
    "version": 3
   },
   "file_extension": ".py",
   "mimetype": "text/x-python",
   "name": "python",
   "nbconvert_exporter": "python",
   "pygments_lexer": "ipython3",
   "version": "3.10.9"
  },
  "orig_nbformat": 4
 },
 "nbformat": 4,
 "nbformat_minor": 2
}
