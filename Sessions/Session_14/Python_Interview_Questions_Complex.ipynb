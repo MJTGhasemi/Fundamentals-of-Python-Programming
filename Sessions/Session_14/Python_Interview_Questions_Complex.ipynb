{
 "cells": [
  {
   "cell_type": "markdown",
   "id": "6e1680ea",
   "metadata": {},
   "source": [
    "### Question: How do you print 'Hello, World!' in Python?"
   ]
  },
  {
   "cell_type": "code",
   "execution_count": null,
   "id": "ae4ae0cf",
   "metadata": {},
   "outputs": [],
   "source": [
    "print('Hello, World!')"
   ]
  },
  {
   "cell_type": "markdown",
   "id": "56c67cb9",
   "metadata": {},
   "source": [
    "### Question: How do you create a variable 'x' with the value 10?"
   ]
  },
  {
   "cell_type": "code",
   "execution_count": null,
   "id": "2ddbd0c9",
   "metadata": {},
   "outputs": [],
   "source": [
    "x = 10"
   ]
  },
  {
   "cell_type": "markdown",
   "id": "4796d7bf",
   "metadata": {},
   "source": [
    "### Question: How do you check the type of a variable 'x'?"
   ]
  },
  {
   "cell_type": "code",
   "execution_count": null,
   "id": "fccb65f3",
   "metadata": {},
   "outputs": [],
   "source": [
    "x = 10\n",
    "type(x)"
   ]
  },
  {
   "cell_type": "markdown",
   "id": "fe53754e",
   "metadata": {},
   "source": [
    "### Question: How do you create a list of numbers from 1 to 5 in Python?"
   ]
  },
  {
   "cell_type": "code",
   "execution_count": null,
   "id": "c10cfefd",
   "metadata": {},
   "outputs": [],
   "source": [
    "numbers = [1, 2, 3, 4, 5]"
   ]
  },
  {
   "cell_type": "markdown",
   "id": "784249ba",
   "metadata": {},
   "source": [
    "### Question: How do you write a function that takes a list of numbers and returns their sum?"
   ]
  },
  {
   "cell_type": "code",
   "execution_count": null,
   "id": "771b1b1b",
   "metadata": {},
   "outputs": [],
   "source": [
    "def sum_numbers(numbers):\n",
    "    return sum(numbers)"
   ]
  },
  {
   "cell_type": "markdown",
   "id": "eb2211af",
   "metadata": {},
   "source": [
    "### Question: How do you create a generator function that yields the squares of numbers from 1 to 5?"
   ]
  },
  {
   "cell_type": "code",
   "execution_count": null,
   "id": "1381b170",
   "metadata": {},
   "outputs": [],
   "source": [
    "def squares():\n",
    "    for i in range(1, 6):\n",
    "        yield i * i"
   ]
  },
  {
   "cell_type": "markdown",
   "id": "8fdadcf8",
   "metadata": {},
   "source": [
    "### Question: How do you handle exceptions in Python?"
   ]
  },
  {
   "cell_type": "code",
   "execution_count": null,
   "id": "a7d2695f",
   "metadata": {},
   "outputs": [],
   "source": [
    "try:\n",
    "    # code that may raise an exception\n",
    "    pass\n",
    "except Exception as e:\n",
    "    print(e)"
   ]
  },
  {
   "cell_type": "markdown",
   "id": "864da3fb",
   "metadata": {},
   "source": [
    "### Question: What is a lambda function in Python?"
   ]
  },
  {
   "cell_type": "code",
   "execution_count": null,
   "id": "0efbed38",
   "metadata": {},
   "outputs": [],
   "source": [
    "lambda x: x * 2"
   ]
  },
  {
   "cell_type": "markdown",
   "id": "60dfb674",
   "metadata": {},
   "source": [
    "### Question: How do you read a file in Python?"
   ]
  },
  {
   "cell_type": "code",
   "execution_count": null,
   "id": "6b11f3ad",
   "metadata": {},
   "outputs": [],
   "source": [
    "with open('filename.txt', 'r') as file:\n",
    "    content = file.read()"
   ]
  },
  {
   "cell_type": "markdown",
   "id": "ab2bd1d8",
   "metadata": {},
   "source": [
    "### Question: How do you write to a file in Python?"
   ]
  },
  {
   "cell_type": "code",
   "execution_count": null,
   "id": "c06a5ba0",
   "metadata": {},
   "outputs": [],
   "source": [
    "with open('filename.txt', 'w') as file:\n",
    "    file.write('Hello, World!')"
   ]
  },
  {
   "cell_type": "markdown",
   "id": "981a60c1",
   "metadata": {},
   "source": [
    "### Question: How do you create a class in Python with an initializer and a method?"
   ]
  },
  {
   "cell_type": "code",
   "execution_count": null,
   "id": "7693e457",
   "metadata": {},
   "outputs": [],
   "source": [
    "class MyClass:\n",
    "    def __init__(self, value):\n",
    "        self.value = value\n",
    "\n",
    "    def display(self):\n",
    "        print(self.value)"
   ]
  },
  {
   "cell_type": "markdown",
   "id": "fbc2dc5b",
   "metadata": {},
   "source": [
    "### Question: How do you implement a decorator in Python?"
   ]
  },
  {
   "cell_type": "code",
   "execution_count": null,
   "id": "ce51afb1",
   "metadata": {},
   "outputs": [],
   "source": [
    "def my_decorator(func):\n",
    "    def wrapper():\n",
    "        print('Something is happening before the function is called.')\n",
    "        func()\n",
    "        print('Something is happening after the function is called.')\n",
    "    return wrapper\n",
    "\n",
    "@my_decorator\n",
    "def say_hello():\n",
    "    print('Hello!')"
   ]
  },
  {
   "cell_type": "markdown",
   "id": "eb715cf9",
   "metadata": {},
   "source": [
    "### Question: How do you create a module in Python and import it?"
   ]
  },
  {
   "cell_type": "code",
   "execution_count": null,
   "id": "2a4f6c0e",
   "metadata": {},
   "outputs": [],
   "source": [
    "# Create a file named my_module.py with the following content:\n",
    "# def greet(name):\n",
    "#     return f'Hello, {name}!'\n",
    "\n",
    "# Then, in another file, you can import the module:\n",
    "# import my_module\n",
    "# print(my_module.greet('World'))"
   ]
  },
  {
   "cell_type": "markdown",
   "id": "ff6ce539",
   "metadata": {},
   "source": [
    "### Question: How do you create a list comprehension to get the squares of numbers from 1 to 10?"
   ]
  },
  {
   "cell_type": "code",
   "execution_count": null,
   "id": "f4950ca2",
   "metadata": {},
   "outputs": [],
   "source": [
    "squares = [x * x for x in range(1, 11)]"
   ]
  },
  {
   "cell_type": "markdown",
   "id": "5b93f6ec",
   "metadata": {},
   "source": [
    "### Question: How do you use the map() function to double the values in a list?"
   ]
  },
  {
   "cell_type": "code",
   "execution_count": null,
   "id": "1f31839b",
   "metadata": {},
   "outputs": [],
   "source": [
    "numbers = [1, 2, 3, 4, 5]\n",
    "doubled = list(map(lambda x: x * 2, numbers))"
   ]
  },
  {
   "cell_type": "markdown",
   "id": "f1668236",
   "metadata": {},
   "source": [
    "### Question: How do you implement a linked list in Python?"
   ]
  },
  {
   "cell_type": "code",
   "execution_count": null,
   "id": "9470367d",
   "metadata": {},
   "outputs": [],
   "source": [
    "class Node:\n",
    "    def __init__(self, data):\n",
    "        self.data = data\n",
    "        self.next = None\n",
    "\n",
    "class LinkedList:\n",
    "    def __init__(self):\n",
    "        self.head = None\n",
    "\n",
    "    def append(self, data):\n",
    "        new_node = Node(data)\n",
    "        if not self.head:\n",
    "            self.head = new_node\n",
    "            return\n",
    "        last = self.head\n",
    "        while last.next:\n",
    "            last = last.next\n",
    "        last.next = new_node\n",
    "\n",
    "    def display(self):\n",
    "        current = self.head\n",
    "        while current:\n",
    "            print(current.data)\n",
    "            current = current.next"
   ]
  },
  {
   "cell_type": "markdown",
   "id": "801706a9",
   "metadata": {},
   "source": [
    "### Question: How do you perform a merge sort in Python?"
   ]
  },
  {
   "cell_type": "code",
   "execution_count": null,
   "id": "e5a050bb",
   "metadata": {},
   "outputs": [],
   "source": [
    "def merge_sort(arr):\n",
    "    if len(arr) > 1:\n",
    "        mid = len(arr) // 2\n",
    "        L = arr[:mid]\n",
    "        R = arr[mid:]\n",
    "\n",
    "        merge_sort(L)\n",
    "        merge_sort(R)\n",
    "\n",
    "        i = j = k = 0\n",
    "\n",
    "        while i < len(L) and j < len(R):\n",
    "            if L[i] < R[j]:\n",
    "                arr[k] = L[i]\n",
    "                i += 1\n",
    "            else:\n",
    "                arr[k] = R[j]\n",
    "                j += 1\n",
    "            k += 1\n",
    "\n",
    "        while i < len(L):\n",
    "            arr[k] = L[i]\n",
    "            i += 1\n",
    "            k += 1\n",
    "\n",
    "        while j < len(R):\n",
    "            arr[k] = R[j]\n",
    "            j += 1\n",
    "            k += 1"
   ]
  },
  {
   "cell_type": "markdown",
   "id": "ea595d5e",
   "metadata": {},
   "source": [
    "### Question: How do you implement a binary search tree in Python?"
   ]
  },
  {
   "cell_type": "code",
   "execution_count": null,
   "id": "cd08c9aa",
   "metadata": {},
   "outputs": [],
   "source": [
    "class Node:\n",
    "    def __init__(self, key):\n",
    "        self.left = None\n",
    "        self.right = None\n",
    "        self.val = key\n",
    "\n",
    "class BST:\n",
    "    def __init__(self):\n",
    "        self.root = None\n",
    "\n",
    "    def insert(self, key):\n",
    "        if self.root is None:\n",
    "            self.root = Node(key)\n",
    "        else:\n",
    "            self._insert(self.root, key)\n",
    "\n",
    "    def _insert(self, root, key):\n",
    "        if key < root.val:\n",
    "            if root.left is None:\n",
    "                root.left = Node(key)\n",
    "            else:\n",
    "                self._insert(root.left, key)\n",
    "        else:\n",
    "            if root.right is None:\n",
    "                root.right = Node(key)\n",
    "            else:\n",
    "                self._insert(root.right, key)\n",
    "\n",
    "    def inorder(self, root):\n",
    "        if root:\n",
    "            self.inorder(root.left)\n",
    "            print(root.val)\n",
    "            self.inorder(root.right)"
   ]
  },
  {
   "cell_type": "markdown",
   "id": "29424dd6",
   "metadata": {},
   "source": [
    "### Question: How do you perform data manipulation and analysis using Pandas in Python?"
   ]
  },
  {
   "cell_type": "code",
   "execution_count": null,
   "id": "974be611",
   "metadata": {},
   "outputs": [],
   "source": [
    "import pandas as pd\n",
    "\n",
    "data = {'Name': ['John', 'Anna', 'Peter', 'Linda'], 'Age': [28, 24, 35, 32]}\n",
    "df = pd.DataFrame(data)\n",
    "print(df)\n",
    "\n",
    "# Filter rows where age is greater than 30\n",
    "filtered_df = df[df['Age'] > 30]\n",
    "print(filtered_df)\n",
    "\n",
    "# Add a new column\n",
    "df['Salary'] = [70000, 80000, 120000, 90000]\n",
    "print(df)\n",
    "\n",
    "# Group by Name and get mean Age\n",
    "grouped_df = df.groupby('Name').mean()\n",
    "print(grouped_df)"
   ]
  },
  {
   "cell_type": "markdown",
   "id": "fa17d239",
   "metadata": {},
   "source": [
    "### Question: How do you perform web scraping using BeautifulSoup in Python?"
   ]
  },
  {
   "cell_type": "code",
   "execution_count": null,
   "id": "83dc3bc9",
   "metadata": {},
   "outputs": [],
   "source": [
    "import requests\n",
    "from bs4 import BeautifulSoup\n",
    "\n",
    "url = 'http://example.com'\n",
    "response = requests.get(url)\n",
    "soup = BeautifulSoup(response.text, 'html.parser')\n",
    "\n",
    "print(soup.title.text)\n",
    "\n",
    "for link in soup.find_all('a'):\n",
    "    print(link.get('href'))"
   ]
  }
 ],
 "metadata": {},
 "nbformat": 4,
 "nbformat_minor": 5
}
