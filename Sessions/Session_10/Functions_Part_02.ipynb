{
 "cells": [
  {
   "attachments": {},
   "cell_type": "markdown",
   "metadata": {},
   "source": [
    "# <font color='#98FB98'>**Functions in Python | Part 2**</font> "
   ]
  },
  {
   "attachments": {},
   "cell_type": "markdown",
   "metadata": {},
   "source": [
    "As we discussed, function arguments are essential in Python, as they allow functions to operate on different data inputs, thus making the functions more general and versatile.\n",
    "\n",
    "When you define a function, you specify the `parameters` it can accept. When you call a function, you pass `arguments` to it.\n",
    "\n",
    "The arguments are assigned to the parameters in the function definition."
   ]
  },
  {
   "attachments": {},
   "cell_type": "markdown",
   "metadata": {},
   "source": [
    "<div style='text-align: center'>\n",
    "    <img src='https://i.sstatic.net/9lg1H.png' alt='functions' title='functions_def' width='600' height='400'/>\n",
    "</div>"
   ]
  },
  {
   "attachments": {},
   "cell_type": "markdown",
   "metadata": {},
   "source": [
    "## <font color='#FFA500'>**Types of Arguments in Python Functions**</font> "
   ]
  },
  {
   "attachments": {},
   "cell_type": "markdown",
   "metadata": {},
   "source": [
    "Python functions can accept several types of arguments:\n",
    "- **`Positional Arguments`**\n",
    "- **`Keyword Arguments`**\n",
    "- **`Default Parameters`**"
   ]
  },
  {
   "attachments": {},
   "cell_type": "markdown",
   "metadata": {},
   "source": [
    "### Positional Arguments\n",
    "\n",
    "Positional arguments are the most basic way to pass information to functions in Python.  \n",
    "They rely on the order of the arguments you provide to match them with the parameters defined in the function."
   ]
  },
  {
   "cell_type": "code",
   "execution_count": 1,
   "metadata": {},
   "outputs": [],
   "source": [
    "def create_invitation(name, age, date):\n",
    "    print(f\"Dear {name}, you're invited to a birthday party celebrating {age} years on {date}!\")"
   ]
  },
  {
   "attachments": {},
   "cell_type": "markdown",
   "metadata": {},
   "source": [
    "Here, `name`, `age`, and `date` are the parameters that your function expects. When you call the function, you need to provide arguments in the <font color='#FF69B4'>**exact**</font> order these parameters are listed:"
   ]
  },
  {
   "cell_type": "code",
   "execution_count": 2,
   "metadata": {},
   "outputs": [
    {
     "name": "stdout",
     "output_type": "stream",
     "text": [
      "Dear Alice, you're invited to a birthday party celebrating 10 years on April 21st!\n"
     ]
    }
   ],
   "source": [
    "create_invitation('Alice', 10, 'April 21st')"
   ]
  },
  {
   "attachments": {},
   "cell_type": "markdown",
   "metadata": {},
   "source": [
    "In this example, the order of arguments is crucial for the message to make sense. The first argument `'Alice'` is used for `name`, the second `38` for `age`, and the third `'February 23rd'` for `date`."
   ]
  },
  {
   "attachments": {},
   "cell_type": "markdown",
   "metadata": {},
   "source": [
    "If you accidentally swap the order of these values, the invitation message will not convey what you intended:"
   ]
  },
  {
   "cell_type": "code",
   "execution_count": 3,
   "metadata": {},
   "outputs": [
    {
     "name": "stdout",
     "output_type": "stream",
     "text": [
      "Dear 38, you're invited to a birthday party celebrating February 23rd years on Alice!\n"
     ]
    }
   ],
   "source": [
    "create_invitation(38, 'February 23rd', 'Alice')"
   ]
  },
  {
   "attachments": {},
   "cell_type": "markdown",
   "metadata": {},
   "source": [
    "<font color='#FF69B4'>**Note:**</font> When using positional arguments:\n",
    "1. **Order Is Key**: The order in which you pass the arguments must align with the order of parameters in the function definition. An incorrect sequence can lead to confusing results or errors.\n",
    "\n",
    "2. **Exact Number of Arguments**: You must provide the same number of arguments as there are parameters. If you provide too many or too few, Python will throw an error."
   ]
  },
  {
   "attachments": {},
   "cell_type": "markdown",
   "metadata": {},
   "source": [
    "For example, if an argument is missing:"
   ]
  },
  {
   "cell_type": "code",
   "execution_count": 4,
   "metadata": {},
   "outputs": [
    {
     "ename": "TypeError",
     "evalue": "create_invitation() missing 1 required positional argument: 'date'",
     "output_type": "error",
     "traceback": [
      "\u001b[0;31m---------------------------------------------------------------------------\u001b[0m",
      "\u001b[0;31mTypeError\u001b[0m                                 Traceback (most recent call last)",
      "Cell \u001b[0;32mIn[4], line 1\u001b[0m\n\u001b[0;32m----> 1\u001b[0m create_invitation(\u001b[39m'\u001b[39;49m\u001b[39mAlice\u001b[39;49m\u001b[39m'\u001b[39;49m, \u001b[39m38\u001b[39;49m)\n",
      "\u001b[0;31mTypeError\u001b[0m: create_invitation() missing 1 required positional argument: 'date'"
     ]
    }
   ],
   "source": [
    "create_invitation('Alice', 38)\n",
    "# Error: missing 1 required positional argument: 'date'"
   ]
  },
  {
   "attachments": {},
   "cell_type": "markdown",
   "metadata": {},
   "source": [
    "Or if there's an extra argument:"
   ]
  },
  {
   "cell_type": "code",
   "execution_count": 5,
   "metadata": {},
   "outputs": [
    {
     "ename": "TypeError",
     "evalue": "create_invitation() takes 3 positional arguments but 4 were given",
     "output_type": "error",
     "traceback": [
      "\u001b[0;31m---------------------------------------------------------------------------\u001b[0m",
      "\u001b[0;31mTypeError\u001b[0m                                 Traceback (most recent call last)",
      "Cell \u001b[0;32mIn[5], line 1\u001b[0m\n\u001b[0;32m----> 1\u001b[0m create_invitation(\u001b[39m'\u001b[39;49m\u001b[39mAlice\u001b[39;49m\u001b[39m'\u001b[39;49m, \u001b[39m38\u001b[39;49m, \u001b[39m'\u001b[39;49m\u001b[39mFebruary 23rd\u001b[39;49m\u001b[39m'\u001b[39;49m, \u001b[39m'\u001b[39;49m\u001b[39m2 PM\u001b[39;49m\u001b[39m'\u001b[39;49m)\n",
      "\u001b[0;31mTypeError\u001b[0m: create_invitation() takes 3 positional arguments but 4 were given"
     ]
    }
   ],
   "source": [
    "create_invitation('Alice', 38, 'February 23rd', '2 PM')\n",
    "# Error: takes 3 positional arguments but 4 were given"
   ]
  },
  {
   "cell_type": "code",
   "execution_count": 6,
   "metadata": {},
   "outputs": [
    {
     "name": "stdout",
     "output_type": "stream",
     "text": [
      "Dear 123, you're invited to a birthday party celebrating 38 years on February 23rd!\n"
     ]
    }
   ],
   "source": [
    "create_invitation(123, 38, 'February 23rd')"
   ]
  },
  {
   "attachments": {},
   "cell_type": "markdown",
   "metadata": {},
   "source": [
    "<font color='#FF69B4'>**To sum up:**</font> Using positional arguments is straightforward but demands careful attention to the sequence and number of arguments you provide.  \n",
    "This foundational concept is essential for learning more advanced ways to pass arguments to functions, which offer greater flexibility and error prevention."
   ]
  },
  {
   "attachments": {},
   "cell_type": "markdown",
   "metadata": {},
   "source": [
    "### Keyword Arguments"
   ]
  },
  {
   "attachments": {},
   "cell_type": "markdown",
   "metadata": {},
   "source": [
    "This method allows you to specify arguments by explicitly naming each one, giving you the freedom to order them as you wish."
   ]
  },
  {
   "attachments": {},
   "cell_type": "markdown",
   "metadata": {},
   "source": [
    "Example: Imagine we have a function for printing out details of a book purchase:"
   ]
  },
  {
   "attachments": {},
   "cell_type": "markdown",
   "metadata": {},
   "source": [
    "With keyword arguments, you can specify which parameter each argument corresponds to, using the syntax `<keyword>=<value>`:"
   ]
  },
  {
   "cell_type": "code",
   "execution_count": 13,
   "metadata": {},
   "outputs": [],
   "source": [
    "def print_purchase(book_title, author, price):\n",
    "    print(f\"Purchased Book: {book_title} by {author} for ${price}\")"
   ]
  },
  {
   "cell_type": "code",
   "execution_count": 14,
   "metadata": {},
   "outputs": [
    {
     "name": "stdout",
     "output_type": "stream",
     "text": [
      "Purchased Book: The Great Gatsby by F. Scott Fitzgerald for $22.99\n"
     ]
    }
   ],
   "source": [
    "print_purchase('The Great Gatsby', 'F. Scott Fitzgerald', 22.99) # This is the function calling with the positional arguments"
   ]
  },
  {
   "cell_type": "code",
   "execution_count": 11,
   "metadata": {},
   "outputs": [
    {
     "name": "stdout",
     "output_type": "stream",
     "text": [
      "Purchased Book: The Great Gatsby by F. Scott Fitzgerald for 22.99\n"
     ]
    }
   ],
   "source": [
    "print_purchase(book_title='The Great Gatsby', author='F. Scott Fitzgerald', price=22.99)"
   ]
  },
  {
   "attachments": {},
   "cell_type": "markdown",
   "metadata": {},
   "source": [
    "One of the significant advantages of keyword arguments is the flexibility they offer in `argument order`. You can rearrange the order of arguments, and Python will still understand which is which based on the keywords:"
   ]
  },
  {
   "cell_type": "code",
   "execution_count": 15,
   "metadata": {},
   "outputs": [
    {
     "name": "stdout",
     "output_type": "stream",
     "text": [
      "Purchased Book: The Great Gatsby by F. Scott Fitzgerald for $22.99\n"
     ]
    }
   ],
   "source": [
    "print_purchase(price=22.99, book_title='The Great Gatsby', author='F. Scott Fitzgerald')"
   ]
  },
  {
   "attachments": {},
   "cell_type": "markdown",
   "metadata": {},
   "source": [
    "However, attempting to use a keyword that doesn't correspond to any parameter in the function definition will lead to an error:"
   ]
  },
  {
   "cell_type": "code",
   "execution_count": 16,
   "metadata": {},
   "outputs": [
    {
     "ename": "TypeError",
     "evalue": "print_purchase() got an unexpected keyword argument 'writer'",
     "output_type": "error",
     "traceback": [
      "\u001b[0;31m---------------------------------------------------------------------------\u001b[0m",
      "\u001b[0;31mTypeError\u001b[0m                                 Traceback (most recent call last)",
      "Cell \u001b[0;32mIn[16], line 1\u001b[0m\n\u001b[0;32m----> 1\u001b[0m print_purchase(book_title\u001b[39m=\u001b[39;49m\u001b[39m'\u001b[39;49m\u001b[39mThe Great Gatsby\u001b[39;49m\u001b[39m'\u001b[39;49m, writer\u001b[39m=\u001b[39;49m\u001b[39m'\u001b[39;49m\u001b[39mF. Scott Fitzgerald\u001b[39;49m\u001b[39m'\u001b[39;49m, price\u001b[39m=\u001b[39;49m\u001b[39m22.99\u001b[39;49m)\n",
      "\u001b[0;31mTypeError\u001b[0m: print_purchase() got an unexpected keyword argument 'writer'"
     ]
    }
   ],
   "source": [
    "print_purchase(book_title='The Great Gatsby', writer='F. Scott Fitzgerald', price=22.99)\n",
    "# Error: got an unexpected keyword argument 'writer'"
   ]
  },
  {
   "attachments": {},
   "cell_type": "markdown",
   "metadata": {},
   "source": [
    "Even though keyword arguments add flexibility in order, the rule about matching the number of arguments to the number of parameters still applies. Forgetting an argument will result in an error:"
   ]
  },
  {
   "cell_type": "code",
   "execution_count": 17,
   "metadata": {},
   "outputs": [
    {
     "ename": "TypeError",
     "evalue": "print_purchase() missing 1 required positional argument: 'price'",
     "output_type": "error",
     "traceback": [
      "\u001b[0;31m---------------------------------------------------------------------------\u001b[0m",
      "\u001b[0;31mTypeError\u001b[0m                                 Traceback (most recent call last)",
      "Cell \u001b[0;32mIn[17], line 1\u001b[0m\n\u001b[0;32m----> 1\u001b[0m print_purchase(book_title\u001b[39m=\u001b[39;49m\u001b[39m'\u001b[39;49m\u001b[39mThe Great Gatsby\u001b[39;49m\u001b[39m'\u001b[39;49m, author\u001b[39m=\u001b[39;49m\u001b[39m'\u001b[39;49m\u001b[39mF. Scott Fitzgerald\u001b[39;49m\u001b[39m'\u001b[39;49m)\n",
      "\u001b[0;31mTypeError\u001b[0m: print_purchase() missing 1 required positional argument: 'price'"
     ]
    }
   ],
   "source": [
    "print_purchase(book_title='The Great Gatsby', author='F. Scott Fitzgerald')\n",
    "# Error: missing 1 required positional argument: 'price'"
   ]
  },
  {
   "attachments": {},
   "cell_type": "markdown",
   "metadata": {},
   "source": [
    "### Default Parameters"
   ]
  },
  {
   "attachments": {},
   "cell_type": "markdown",
   "metadata": {},
   "source": [
    "Default parameters are a convenient feature in Python, allowing functions to have parameters with preset values. These defaults make function calls more flexible, as you can choose to omit certain arguments if you're happy with their default values."
   ]
  },
  {
   "attachments": {},
   "cell_type": "markdown",
   "metadata": {},
   "source": [
    "Imagine a function designed to display information about a user, where some details might not always be provided:"
   ]
  },
  {
   "cell_type": "code",
   "execution_count": 18,
   "metadata": {},
   "outputs": [],
   "source": [
    "def create_profile(name, age, country='Unknown', language='English'):\n",
    "    print(f'Name: {name}, Age: {age}, Country: {country}, Language: {language}')"
   ]
  },
  {
   "attachments": {},
   "cell_type": "markdown",
   "metadata": {},
   "source": [
    "In this function, `country` and `language` have <font color='#FF69B4'>**default values**</font> of `'Unknown'` and `'English'`, respectively. This setup allows for various function calls depending on the information available:\n"
   ]
  },
  {
   "cell_type": "code",
   "execution_count": 19,
   "metadata": {},
   "outputs": [
    {
     "name": "stdout",
     "output_type": "stream",
     "text": [
      "Name: Albert Einstein, Age: 76, Country: Unknown, Language: English\n"
     ]
    }
   ],
   "source": [
    "create_profile('Albert Einstein', 76)"
   ]
  },
  {
   "cell_type": "code",
   "execution_count": 20,
   "metadata": {},
   "outputs": [
    {
     "name": "stdout",
     "output_type": "stream",
     "text": [
      "Name: Marie Curie, Age: 66, Country: Poland, Language: English\n"
     ]
    }
   ],
   "source": [
    "create_profile('Marie Curie', 66, 'Poland')"
   ]
  },
  {
   "cell_type": "code",
   "execution_count": 21,
   "metadata": {},
   "outputs": [
    {
     "name": "stdout",
     "output_type": "stream",
     "text": [
      "Name: Nikola Tesla, Age: 86, Country: Unknown, Language: Serbian\n"
     ]
    }
   ],
   "source": [
    "create_profile('Nikola Tesla', 86, language='Serbian')"
   ]
  },
  {
   "cell_type": "code",
   "execution_count": 22,
   "metadata": {},
   "outputs": [
    {
     "name": "stdout",
     "output_type": "stream",
     "text": [
      "Name: Isaac Newton, Age: 84, Country: England, Language: English\n"
     ]
    }
   ],
   "source": [
    "create_profile('Isaac Newton', 84, 'England', 'English')"
   ]
  },
  {
   "cell_type": "code",
   "execution_count": 26,
   "metadata": {},
   "outputs": [
    {
     "name": "stdout",
     "output_type": "stream",
     "text": [
      "Name: Ada Lovelace, Age: 36, Country: 123, Language: English\n"
     ]
    }
   ],
   "source": [
    "create_profile(country=123, name ='Ada Lovelace', age=36 )"
   ]
  },
  {
   "attachments": {},
   "cell_type": "markdown",
   "metadata": {},
   "source": [
    "Note that default parameters must follow non-default parameters in the function definition. Attempting to define a default parameter before a non-default one will result in a syntax error"
   ]
  },
  {
   "cell_type": "code",
   "execution_count": 25,
   "metadata": {},
   "outputs": [
    {
     "ename": "SyntaxError",
     "evalue": "non-default argument follows default argument (807339484.py, line 1)",
     "output_type": "error",
     "traceback": [
      "\u001b[0;36m  Cell \u001b[0;32mIn[25], line 1\u001b[0;36m\u001b[0m\n\u001b[0;31m    def user_profile(country='Unknown', name, language='English'):\u001b[0m\n\u001b[0m                                        ^\u001b[0m\n\u001b[0;31mSyntaxError\u001b[0m\u001b[0;31m:\u001b[0m non-default argument follows default argument\n"
     ]
    }
   ],
   "source": [
    "def user_profile(country='Unknown', name, language='English'):\n",
    "    print(f\"Name: {name}, Country: {country}, Language: {language}\")"
   ]
  },
  {
   "attachments": {},
   "cell_type": "markdown",
   "metadata": {},
   "source": [
    "This example demonstrates several ways to use default parameters effectively:\n",
    "- Calling the function with only the required arguments (`name` and `age`) uses the default values for any others.\n",
    "- You can override default values by providing additional positional arguments in the order they appear in the function definition.\n",
    "- Specifying arguments using keywords (e.g., `language='Mandarin'`) allows you to skip over default parameters you don't need to change.\n",
    "- The order of keyword arguments doesn't matter, offering further flexibility in how you call the function."
   ]
  },
  {
   "attachments": {},
   "cell_type": "markdown",
   "metadata": {},
   "source": [
    "Key points to remember about default parameters include:\n",
    "- They make some arguments optional by providing a predefined value that is used if no argument is passed for that parameter.\n",
    "- Default parameters must follow any required parameters in the function definition to avoid syntax errors.\n",
    "- When calling functions, positional arguments must precede keyword arguments. This rule prevents confusion and ensures clarity in which value corresponds to which parameter."
   ]
  },
  {
   "attachments": {},
   "cell_type": "markdown",
   "metadata": {},
   "source": [
    "### Best Practice"
   ]
  },
  {
   "attachments": {},
   "cell_type": "markdown",
   "metadata": {},
   "source": [
    "**Positional Arguments:** Use positional arguments for required parameters that have a clear and logical ordering.  \n",
    "`Descriptive parameter names enhance readability and self-documentation of your function.`"
   ]
  },
  {
   "cell_type": "code",
   "execution_count": 44,
   "metadata": {},
   "outputs": [
    {
     "data": {
      "text/plain": [
       "200"
      ]
     },
     "execution_count": 44,
     "metadata": {},
     "output_type": "execute_result"
    }
   ],
   "source": [
    "# Good practice\n",
    "def calculate_area(length, width):\n",
    "    return length * width\n",
    "\n",
    "# Clear and logical call\n",
    "area = calculate_area(10, 20)\n",
    "area"
   ]
  },
  {
   "attachments": {},
   "cell_type": "markdown",
   "metadata": {},
   "source": [
    "**Keyword Arguments:** Utilize keyword arguments to enhance clarity when a function has multiple parameters or when the purpose of arguments might not be immediately clear from the context alone. Descriptive names are crucial."
   ]
  },
  {
   "cell_type": "code",
   "execution_count": 10,
   "metadata": {},
   "outputs": [],
   "source": [
    "# Good practice\n",
    "def create_email(to, subject, body, cc=None, bcc=None):\n",
    "    # Function body here\n",
    "    pass\n",
    "\n",
    "# Clear and flexible call\n",
    "create_email(to='user@example.com', subject='Welcome!', body='Hello, welcome to our service!', cc='manager@example.com')"
   ]
  },
  {
   "attachments": {},
   "cell_type": "markdown",
   "metadata": {},
   "source": [
    "This approach makes the function call very readable, with each argument's purpose clearly indicated by its keyword."
   ]
  },
  {
   "attachments": {},
   "cell_type": "markdown",
   "metadata": {},
   "source": [
    "**Default Parameters:** Wisely choose default values for parameters based on what makes sense and is practical for the common use cases of the function. It's not always beneficial to define default values for every parameter, especially if it could lead to confusion or misuse of the function. Descriptive names combined with judicious defaults enhance usability and clarity."
   ]
  },
  {
   "cell_type": "code",
   "execution_count": 28,
   "metadata": {},
   "outputs": [],
   "source": [
    "# Good practice\n",
    "def prepare_tea(type='black', sugar_level='medium', milk=False):\n",
    "    milk_str = 'with milk' if milk else 'without milk'\n",
    "    print(f'Preparing a cup of {type} tea, {sugar_level} sugar, {milk_str}.')"
   ]
  },
  {
   "cell_type": "code",
   "execution_count": 29,
   "metadata": {},
   "outputs": [
    {
     "name": "stdout",
     "output_type": "stream",
     "text": [
      "Preparing a cup of black tea, medium sugar, without milk.\n"
     ]
    }
   ],
   "source": [
    "# Ideal for a common request\n",
    "prepare_tea()"
   ]
  },
  {
   "cell_type": "code",
   "execution_count": 17,
   "metadata": {},
   "outputs": [
    {
     "name": "stdout",
     "output_type": "stream",
     "text": [
      "Preparing a cup of black tea, low sugar, with milk.\n"
     ]
    }
   ],
   "source": [
    "# Custom request specifying only what's different from the default\n",
    "prepare_tea(sugar_level='low', milk=True)"
   ]
  },
  {
   "attachments": {},
   "cell_type": "markdown",
   "metadata": {},
   "source": [
    "### Exercise: Zoo Party!"
   ]
  },
  {
   "attachments": {},
   "cell_type": "markdown",
   "metadata": {},
   "source": [
    "You are planning a visit to the local zoo with a group of students. The zoo has several sections for different kinds of animals, and each section has feeding times, special shows, and educational talks. To maximize the visit, you decide to write a Python program that helps organize the day's activities based on the group's preferences."
   ]
  },
  {
   "attachments": {},
   "cell_type": "markdown",
   "metadata": {},
   "source": [
    "**Tasks:**\n",
    "\n",
    "1. Write a function named `schedule_visit` that takes three parameters: `section` (the section of the zoo to visit, e.g., \"Reptiles\", \"Birds\"), `time` (the time you plan to visit that section), and `activity` with a default value of \"Feeding\". The function should print a message summarizing the visit plan for that section.\n",
    "\n",
    "2. Call the `schedule_visit` function for the \"Reptiles\" section at \"10:00 AM\" without specifying an activity to use the default value.\n",
    "\n",
    "3. Call the `schedule_visit` function for the \"Birds\" section at \"1:00 PM\" with the activity \"Educational Talk\".\n",
    "\n",
    "4. Write a function named `add_special_request` that takes two parameters: `section` and `request` with a default value of \"None\". This function should print a message indicating any special requests for the visit to that section. If no special request is made, the function should print that no special requests have been made for this section.\n",
    "\n",
    "5. Call the `add_special_request` function for the \"Reptiles\" section without specifying a request.\n",
    "\n",
    "6. Call the `add_special_request` function for the \"Mammals\" section with a special request of \"Wheelchair Access\"."
   ]
  },
  {
   "attachments": {},
   "cell_type": "markdown",
   "metadata": {},
   "source": [
    "**Expected Output:**\n",
    "\n",
    "```sh\n",
    "Planning to visit Reptiles section at 10:00 AM for a Feeding activity.\n",
    "Planning to visit Birds section at 1:00 PM for an Educational Talk activity.\n",
    "No special requests have been made for the Reptiles section.\n",
    "Special request for the Mammals section: Wheelchair Access.\n",
    "```"
   ]
  },
  {
   "cell_type": "code",
   "execution_count": 43,
   "metadata": {},
   "outputs": [],
   "source": [
    "# Task 1: Function to schedule a visit to a zoo section\n",
    "def schedule_visit(section, time, activity='Feeding'):\n",
    "    print(f'Planning to visit {section} section at {time} for a {activity} activity.')"
   ]
  },
  {
   "attachments": {},
   "cell_type": "markdown",
   "metadata": {},
   "source": [
    "- The `schedule_visit` function accepts three parameters. The `section` and `time` need to be provided, while `activity` defaults to \"Feeding\" if not specified. This design allows for flexibility in planning activities without the need to specify common activities every time."
   ]
  },
  {
   "cell_type": "code",
   "execution_count": 19,
   "metadata": {},
   "outputs": [
    {
     "name": "stdout",
     "output_type": "stream",
     "text": [
      "Planning to visit Reptiles section at 10:00 AM for a Feeding activity.\n"
     ]
    }
   ],
   "source": [
    "# Task 2: Schedule visit to Reptiles section using the default activity\n",
    "schedule_visit('Reptiles', '10:00 AM')"
   ]
  },
  {
   "cell_type": "code",
   "execution_count": 22,
   "metadata": {},
   "outputs": [
    {
     "name": "stdout",
     "output_type": "stream",
     "text": [
      "Planning to visit Birds section at 1:00 PM for a Educational Talk activity.\n"
     ]
    }
   ],
   "source": [
    "# Task 3: Schedule visit to Birds section with a specified activity\n",
    "schedule_visit('Birds', '1:00 PM', 'Educational Talk')\n",
    "# schedule_visit('Birds', '1:00 PM', activity = 'Educational Talk')"
   ]
  },
  {
   "cell_type": "code",
   "execution_count": 23,
   "metadata": {},
   "outputs": [],
   "source": [
    "# Task 4: Function to add a special request for a zoo section visit\n",
    "def add_special_request(section, request=None):\n",
    "    if request:\n",
    "        print(f'Special request for the {section} section: {request}.')\n",
    "    else:\n",
    "        print(f'No special requests have been made for the {section} section.')"
   ]
  },
  {
   "attachments": {},
   "cell_type": "markdown",
   "metadata": {},
   "source": [
    "- The `add_special_request` function is designed to handle special requests for each zoo section visit. If no specific request is made (using the default parameter value \"None\"), it informs that no special requests have been made for that section. This approach makes it convenient to handle situations where additional accommodations are not necessary."
   ]
  },
  {
   "cell_type": "code",
   "execution_count": 24,
   "metadata": {},
   "outputs": [
    {
     "name": "stdout",
     "output_type": "stream",
     "text": [
      "No special requests have been made for the Reptiles section.\n"
     ]
    }
   ],
   "source": [
    "# Task 5: Add no special request for the Reptiles section\n",
    "add_special_request('Reptiles')"
   ]
  },
  {
   "cell_type": "code",
   "execution_count": 25,
   "metadata": {},
   "outputs": [
    {
     "name": "stdout",
     "output_type": "stream",
     "text": [
      "Special request for the Mammals section: Wheelchair Access.\n"
     ]
    }
   ],
   "source": [
    "# Task 6: Add a special request for the Mammals section\n",
    "add_special_request('Mammals', 'Wheelchair Access')"
   ]
  },
  {
   "attachments": {},
   "cell_type": "markdown",
   "metadata": {},
   "source": [
    "## <font color='#FFA500'>**Lambda Functions**</font> "
   ]
  },
  {
   "attachments": {},
   "cell_type": "markdown",
   "metadata": {},
   "source": [
    "<div style='text-align: center'>\n",
    "    <img src='https://i.ytimg.com/vi/OgwbIZveGwg/maxresdefault.jpg' alt='functions' title='lambda' width='600' height='400'/>\n",
    "</div>"
   ]
  },
  {
   "attachments": {},
   "cell_type": "markdown",
   "metadata": {},
   "source": [
    "`Lambda` functions, also known as lambda expressions, are used for constructing function objects that are required for a short duration and are not intended to be reused outside of their immediate context.\n",
    "\n",
    "Understanding and utilizing lambda functions in your code can lead to more elegant and expressive programming patterns."
   ]
  },
  {
   "attachments": {},
   "cell_type": "markdown",
   "metadata": {},
   "source": [
    "Lambda functions are a feature in Python that allows you to create `small`, `one-time`, `anonymous function` objects.  \n",
    "These functions are called \"lambda\" functions because they are not declared with the standard `def` keyword, but with the `lambda` keyword, which is derived from the lambda calculus, a formal system in mathematical logic and computer science for expressing computation by way of variable binding and substitution."
   ]
  },
  {
   "attachments": {},
   "cell_type": "markdown",
   "metadata": {},
   "source": [
    "Lambda functions can take any number of arguments, but they can only contain a single expression. The result of this expression is the return value of the function.\n",
    "\n",
    "They are often used in situations where a simple function is needed for a short duration, and where defining a full function using `def` would be unnecessarily verbose or complex."
   ]
  },
  {
   "attachments": {},
   "cell_type": "markdown",
   "metadata": {},
   "source": [
    "### The Syntax of Lambda Functions"
   ]
  },
  {
   "attachments": {},
   "cell_type": "markdown",
   "metadata": {},
   "source": [
    "The syntax of a lambda function is distinct and straightforward. Here's the basic structure:"
   ]
  },
  {
   "attachments": {},
   "cell_type": "markdown",
   "metadata": {},
   "source": [
    "```python\n",
    "lambda arguments: expression\n",
    "```"
   ]
  },
  {
   "attachments": {},
   "cell_type": "markdown",
   "metadata": {},
   "source": [
    "Let's break down the components:\n",
    "\n",
    "- `lambda`: This is the keyword that signifies the start of a lambda function.\n",
    "- `arguments`: This is where you specify any number of arguments (parameters) that the lambda function can receive, separated by commas. These work like arguments in a regular function. You can also have lambda functions without any arguments.\n",
    "- `:`: The colon separates the arguments from the body of the lambda function.\n",
    "- `expression`: A single line of code that gets evaluated and returned when the lambda function is called. Unlike regular functions, you do not need to include a `return` statement."
   ]
  },
  {
   "cell_type": "code",
   "execution_count": 41,
   "metadata": {},
   "outputs": [
    {
     "data": {
      "text/plain": [
       "8"
      ]
     },
     "execution_count": 41,
     "metadata": {},
     "output_type": "execute_result"
    }
   ],
   "source": [
    "def add(x,y):  \n",
    "    return x + y\n",
    "\n",
    "add(5,3)"
   ]
  },
  {
   "cell_type": "code",
   "execution_count": 42,
   "metadata": {},
   "outputs": [
    {
     "data": {
      "text/plain": [
       "8"
      ]
     },
     "execution_count": 42,
     "metadata": {},
     "output_type": "execute_result"
    }
   ],
   "source": [
    "# Example: \n",
    "add = lambda x, y: x + y\n",
    "\n",
    "add(5, 3)"
   ]
  },
  {
   "attachments": {},
   "cell_type": "markdown",
   "metadata": {},
   "source": [
    "In this example, the lambda function takes two arguments, `x` and `y`, and returns their sum. The lambda function is assigned to the variable `add`, which can then be used like any function object.\n",
    "\n",
    "<font color='#FF69B4'>**Note:**</font> It's important to note that while you can assign a lambda function to a variable, it's more common to use them in a transient manner, for instance as an argument to a higher-order function:"
   ]
  },
  {
   "cell_type": "code",
   "execution_count": 40,
   "metadata": {},
   "outputs": [
    {
     "data": {
      "text/plain": [
       "[1, 4, 9, 16, 25]"
      ]
     },
     "execution_count": 40,
     "metadata": {},
     "output_type": "execute_result"
    }
   ],
   "source": [
    "numbers = [1, 2, 3, 4, 5]\n",
    "squared = map(lambda x: x ** 2, numbers)\n",
    "list(squared)"
   ]
  },
  {
   "attachments": {},
   "cell_type": "markdown",
   "metadata": {},
   "source": [
    "In this example, `map()` takes a lambda function and an iterable, and returns an iterator that applies the lambda function to every item of the iterable."
   ]
  },
  {
   "attachments": {},
   "cell_type": "markdown",
   "metadata": {},
   "source": [
    "### When to Use `Lambda` Functions"
   ]
  },
  {
   "attachments": {},
   "cell_type": "markdown",
   "metadata": {},
   "source": [
    "Lambda functions are best used in scenarios where a simple, temporary function is needed without the syntactic baggage of a full function definition. Here are some common use cases where lambda functions are particularly useful:\n",
    "\n",
    "1. **Short-Lived Functions**: When you need a function for a brief period, and defining it with a `def` would make the code less clear and more verbose.\n",
    "\n",
    "2. **Higher-Order Functions**: When passing a function as an argument to another function, like `sort()`, `map()`, `filter()`, or `reduce()`. Lambda functions can be used inline, which can make the code more readable.\n",
    "\n",
    "3. **Small Transformations or Actions**: When performing minor data transformations, such as formatting strings, changing case, or performing simple arithmetic.\n",
    "\n",
    "4. **Functional Constructs**: When dealing with functional programming constructs where you need to compose functions in a mathematical sense."
   ]
  },
  {
   "cell_type": "code",
   "execution_count": 39,
   "metadata": {},
   "outputs": [
    {
     "data": {
      "text/plain": [
       "[(4, 'four'), (1, 'one'), (3, 'three'), (2, 'two')]"
      ]
     },
     "execution_count": 39,
     "metadata": {},
     "output_type": "execute_result"
    }
   ],
   "source": [
    "# Example of using lambda with sort()\n",
    "pairs = [(1, 'one'), (2, 'two'), (3, 'three'), (4, 'four')]\n",
    "pairs.sort(key=lambda pair: pair[1])\n",
    "pairs"
   ]
  },
  {
   "cell_type": "code",
   "execution_count": 38,
   "metadata": {},
   "outputs": [
    {
     "data": {
      "text/plain": [
       "'hello'"
      ]
     },
     "execution_count": 38,
     "metadata": {},
     "output_type": "execute_result"
    }
   ],
   "source": [
    "# Here is an explanation of the above lambda functions, and how it returns the second element of a list (tuple).\n",
    "my_fun = lambda element: element[1]\n",
    "\n",
    "my_fun([2, 'hello'])"
   ]
  },
  {
   "attachments": {},
   "cell_type": "markdown",
   "metadata": {},
   "source": [
    "This code snippet sorts a list of tuples, `pairs`, based on the alphabetical order of the words in the second element of each tuple. It uses the `sort()` method with a lambda function as the `key` argument.  \n",
    "The lambda function takes each tuple (`pair`) and returns its second element (`pair[1]`), which is a string.  \n",
    "The `sort()` method then rearranges the tuples in the list according to the alphabetical order of these strings. After sorting, the tuples are ordered by the English words 'four', 'one', 'three', 'two'."
   ]
  },
  {
   "cell_type": "code",
   "execution_count": 37,
   "metadata": {},
   "outputs": [
    {
     "name": "stdout",
     "output_type": "stream",
     "text": [
      "Help on built-in function sorted in module builtins:\n",
      "\n",
      "sorted(iterable, /, *, key=None, reverse=False)\n",
      "    Return a new list containing all items from the iterable in ascending order.\n",
      "    \n",
      "    A custom key function can be supplied to customize the sort order, and the\n",
      "    reverse flag can be set to request the result in descending order.\n",
      "\n"
     ]
    }
   ],
   "source": [
    "help(sorted)"
   ]
  },
  {
   "attachments": {},
   "cell_type": "markdown",
   "metadata": {},
   "source": [
    "**Question:** Rewrite the sorting functionality without using a lambda function"
   ]
  },
  {
   "cell_type": "code",
   "execution_count": 36,
   "metadata": {},
   "outputs": [
    {
     "name": "stdout",
     "output_type": "stream",
     "text": [
      "[(4, 'four'), (1, 'one'), (3, 'three'), (2, 'two')]\n"
     ]
    }
   ],
   "source": [
    "# Solution\n",
    "\n",
    "def get_second_element(pair):\n",
    "    return pair[1]\n",
    "\n",
    "pairs = [(1, 'one'), (2, 'two'), (3, 'three'), (4, 'four')]\n",
    "pairs.sort(key=get_second_element)\n",
    "sorted_pairs = sorted(pairs, key=get_second_element)\n",
    "print(pairs)"
   ]
  },
  {
   "attachments": {},
   "cell_type": "markdown",
   "metadata": {},
   "source": [
    "### Limitations of Lambda Functions\n",
    "\n",
    "While lambda functions are useful, they are not always the best choice. Here are some limitations and considerations to keep in mind:\n",
    "\n",
    "1. **Single Expression**: Lambda functions are limited to a single expression. This means that they are not suitable for complex operations that require multiple statements, loops, or conditional branching.\n",
    "\n",
    "2. **Readability**: Overuse of lambda functions can lead to code that is hard to read and understand, especially for beginners. It's important to prioritize readability and maintainability over conciseness.\n",
    "\n",
    "3. **Debugging Difficulty**: Lambda functions do not have a name, which can make debugging harder since no useful name is displayed in stack traces.\n",
    "\n",
    "4. **No Documentation**: Lambda functions do not support docstrings, so you cannot document them as thoroughly as named functions.\n",
    "\n",
    "5. **Limited Scope**: Variables from the enclosing scope can be accessed within a lambda function, but the lambda function does not have its own local namespace.\n",
    "\n",
    "6. **No Assignments**: You cannot make variable assignments inside a lambda function.\n",
    "\n",
    "7. **No Annotations**: Lambda functions do not support annotations for their arguments or return type, which can be useful for type checking and readability.\n",
    "\n",
    "8. **Misuse**: Lambda functions can be misused to cram complex operations into a single line, which can lead to less maintainable code."
   ]
  },
  {
   "attachments": {},
   "cell_type": "markdown",
   "metadata": {},
   "source": [
    "### Time to Practice!"
   ]
  },
  {
   "attachments": {},
   "cell_type": "markdown",
   "metadata": {},
   "source": [
    "**Tasks:**\n",
    "\n",
    "1. **A Simple Addition Function**:\n",
    "   Write a lambda function that adds two numbers\n",
    "\n",
    "2. **A Lambda to Square a Number**:\n",
    "   Write a lambda function that squares a number\n",
    "\n",
    "3. **A Lambda to Check for Even Numbers**:\n",
    "   Write a lambda function that checks if a number is even\n",
    "\n",
    "4. **A Lambda to Reverse a String**:\n",
    "   Write a lambda function that reverses a string\n",
    "\n",
    "5. **A Lambda to Concatenate phrases**:\n",
    "   Write a lambda function that concatenate 3 phrases (Py, th, on) to make a complete word (Python)\n"
   ]
  },
  {
   "cell_type": "code",
   "execution_count": 35,
   "metadata": {},
   "outputs": [
    {
     "data": {
      "text/plain": [
       "5"
      ]
     },
     "execution_count": 35,
     "metadata": {},
     "output_type": "execute_result"
    }
   ],
   "source": [
    "# A lambda function that adds two numbers\n",
    "add = lambda x, y: x + y\n",
    "add(2, 3)"
   ]
  },
  {
   "cell_type": "code",
   "execution_count": 34,
   "metadata": {},
   "outputs": [
    {
     "data": {
      "text/plain": [
       "16"
      ]
     },
     "execution_count": 34,
     "metadata": {},
     "output_type": "execute_result"
    }
   ],
   "source": [
    "# A lambda function that squares a number\n",
    "square = lambda x: x**2\n",
    "square(4)"
   ]
  },
  {
   "cell_type": "code",
   "execution_count": 33,
   "metadata": {},
   "outputs": [
    {
     "data": {
      "text/plain": [
       "False"
      ]
     },
     "execution_count": 33,
     "metadata": {},
     "output_type": "execute_result"
    }
   ],
   "source": [
    "# A lambda function that checks if a number is even\n",
    "is_even = lambda x: x % 2 == 0 \n",
    "is_even(5)"
   ]
  },
  {
   "cell_type": "code",
   "execution_count": 32,
   "metadata": {},
   "outputs": [
    {
     "data": {
      "text/plain": [
       "'even'"
      ]
     },
     "execution_count": 32,
     "metadata": {},
     "output_type": "execute_result"
    }
   ],
   "source": [
    "# A lambda function that checks if a number is even using if expression\n",
    "is_even = lambda x: 'even' if x % 2 == 0 else 'odd'\n",
    "is_even(20)"
   ]
  },
  {
   "cell_type": "code",
   "execution_count": 31,
   "metadata": {},
   "outputs": [
    {
     "data": {
      "text/plain": [
       "'olleh'"
      ]
     },
     "execution_count": 31,
     "metadata": {},
     "output_type": "execute_result"
    }
   ],
   "source": [
    "# A lambda function that reverses a string\n",
    "reverse_str = lambda s: s[::-1]\n",
    "reverse_str('hello')"
   ]
  },
  {
   "cell_type": "code",
   "execution_count": 30,
   "metadata": {},
   "outputs": [
    {
     "data": {
      "text/plain": [
       "'Python'"
      ]
     },
     "execution_count": 30,
     "metadata": {},
     "output_type": "execute_result"
    }
   ],
   "source": [
    "# A lambda function with multiple arguments\n",
    "concatenate = lambda a, b, c: a + b + c\n",
    "concatenate('Py', 'th', 'on')"
   ]
  },
  {
   "cell_type": "code",
   "execution_count": null,
   "metadata": {},
   "outputs": [],
   "source": [
    "number_1=float(input(\"Enter the first number: \"))\n",
    "number_2=float(input(\"Enter the second number: \"))\n",
    "somme_numbers = lambda number_1 , number_2 : number_1 + number_2\n",
    "x = somme_numbers(number_1, number_2)\n",
    "print(f\"Number 1: {number_1}\")\n",
    "print(x)\n"
   ]
  }
 ],
 "metadata": {
  "kernelspec": {
   "display_name": "base",
   "language": "python",
   "name": "python3"
  },
  "language_info": {
   "codemirror_mode": {
    "name": "ipython",
    "version": 3
   },
   "file_extension": ".py",
   "mimetype": "text/x-python",
   "name": "python",
   "nbconvert_exporter": "python",
   "pygments_lexer": "ipython3",
   "version": "3.10.9"
  },
  "orig_nbformat": 4
 },
 "nbformat": 4,
 "nbformat_minor": 2
}
