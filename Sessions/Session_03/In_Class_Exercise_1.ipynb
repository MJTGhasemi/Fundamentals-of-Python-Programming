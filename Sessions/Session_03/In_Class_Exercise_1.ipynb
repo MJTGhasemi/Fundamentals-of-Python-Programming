{
 "cells": [
  {
   "attachments": {},
   "cell_type": "markdown",
   "metadata": {},
   "source": [
    "# `Exercise:`\n",
    "\n",
    "- Assign values to three variables myAge,my_name, and MyHeightin a single line.\n",
    " \n",
    "- Print the values.\n",
    " \n",
    "- Create a constant named MAX_SCORE and set its value to 100.\n",
    " \n",
    "- Multiplied myAgeand MyHeightby MAX_SCORE.\n",
    " \n",
    "- Convert myAge and MAX_SCORE variable to strings and then print them. \n",
    " "
   ]
  },
  {
   "attachments": {},
   "cell_type": "markdown",
   "metadata": {},
   "source": [
    "Name: --\n",
    "\n",
    "Class: Fundamentals of Python Programming "
   ]
  },
  {
   "cell_type": "code",
   "execution_count": null,
   "metadata": {},
   "outputs": [],
   "source": [
    "# This is the code for in class exercise\n",
    "\n",
    "myAge = "
   ]
  }
 ],
 "metadata": {
  "kernelspec": {
   "display_name": "base",
   "language": "python",
   "name": "python3"
  },
  "language_info": {
   "name": "python",
   "version": "3.10.9"
  },
  "orig_nbformat": 4
 },
 "nbformat": 4,
 "nbformat_minor": 2
}
