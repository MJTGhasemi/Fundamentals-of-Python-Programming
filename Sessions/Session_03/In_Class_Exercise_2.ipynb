{
 "cells": [
  {
   "attachments": {},
   "cell_type": "markdown",
   "metadata": {},
   "source": [
    "# `In Class Exercise (No. 2):`\n",
    " "
   ]
  },
  {
   "attachments": {},
   "cell_type": "markdown",
   "metadata": {},
   "source": [
    "## Exercise 1: Data Types and Type Conversion\n",
    "\n",
    "1. Create a variable num_str with the string value \"1234\". Convert it to an integer and store it in a variable num_int. Print the type of num_int.\n",
    "2. Create a variable num_float with the float value 12.34. Convert it to a string and store it in a variable num_str_float. Print the type of num_str_float.\n",
    "3. Create a variable bool_str with the string value \"True\". Convert it to a boolean and store it in a variable bool_value. Print the type of bool_value.\n",
    "4. Explain why the following type conversion raises an error:\n",
    "```\n",
    "invalid_conversion = int(\"123abc\")\n",
    "```"
   ]
  },
  {
   "cell_type": "code",
   "execution_count": 7,
   "metadata": {},
   "outputs": [
    {
     "data": {
      "text/plain": [
       "bool"
      ]
     },
     "execution_count": 7,
     "metadata": {},
     "output_type": "execute_result"
    }
   ],
   "source": []
  },
  {
   "attachments": {},
   "cell_type": "markdown",
   "metadata": {},
   "source": [
    "## Exercise 2: Operators and Expressions\n",
    "\n",
    "1.\tCreate two variables a and b with values 15 and 4, respectively. Perform the following operations and print the results:  \n",
    "\t•\tAddition  \n",
    "\t•\tSubtraction  \n",
    "\t•\tMultiplication  \n",
    "\t•\tDivision  \n",
    "\t•\tModulus  \n",
    "\t•\tExponentiation  \n",
    "\t•\tFloor Division  \n",
    "2.\tWrite an expression to check if a is greater than b. Print the result.\n",
    "3.\tWrite an expression to check if a is equal to b. Print the result.\n",
    "4.\tWrite an expression to check if a is not equal to b and a is greater than b. Print the result."
   ]
  },
  {
   "cell_type": "code",
   "execution_count": null,
   "metadata": {},
   "outputs": [],
   "source": [
    "\n"
   ]
  },
  {
   "attachments": {},
   "cell_type": "markdown",
   "metadata": {},
   "source": [
    "## Exercise 3: Comparison and Logical Operators\n",
    "\n",
    "1.\tCreate a list nums with the values [10, 20, 30, 40, 50]. Use a comparison operator to check if 30 is in the list. Print the result.\n",
    "2.\tCreate two variables x and y with values True and False, respectively. Use logical operators to perform the following operations and print the results:  \n",
    "\t•\tLogical AND  \n",
    "\t•\tLogical OR  \n",
    "\t•\tLogical NOT for x  \n",
    "\t•\tLogical NOT for y  \n",
    "3.\tExplain what happens when you use the is operator with the following code:"
   ]
  },
  {
   "cell_type": "code",
   "execution_count": 10,
   "metadata": {},
   "outputs": [],
   "source": []
  },
  {
   "cell_type": "code",
   "execution_count": 11,
   "metadata": {},
   "outputs": [
    {
     "name": "stdout",
     "output_type": "stream",
     "text": [
      "False\n"
     ]
    }
   ],
   "source": []
  }
 ],
 "metadata": {
  "kernelspec": {
   "display_name": "base",
   "language": "python",
   "name": "python3"
  },
  "language_info": {
   "codemirror_mode": {
    "name": "ipython",
    "version": 3
   },
   "file_extension": ".py",
   "mimetype": "text/x-python",
   "name": "python",
   "nbconvert_exporter": "python",
   "pygments_lexer": "ipython3",
   "version": "3.10.9"
  },
  "orig_nbformat": 4
 },
 "nbformat": 4,
 "nbformat_minor": 2
}
