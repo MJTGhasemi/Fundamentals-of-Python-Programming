{
 "cells": [
  {
   "attachments": {},
   "cell_type": "markdown",
   "metadata": {},
   "source": [
    "# <font color='#FFA07A'>**Welcome to Data Types in Pyhton!**</font>\n",
    "\n",
    "In essence, a data type provides a set of values from which an expression (i.e., variable, function, etc.) may take its values. They describe the characteristic of the data. Different programming languages might have different data types or might handle them differently, but the core concept remains the same."
   ]
  },
  {
   "attachments": {},
   "cell_type": "markdown",
   "metadata": {},
   "source": [
    "<div style=\"text-align: center\">\n",
    "    <img src=\"https://static.javatpoint.com/python/images/python-data-types.png\" alt=\"python-data-types\" title=\"Python Data Types\"/>\n",
    "</div>\n"
   ]
  },
  {
   "attachments": {},
   "cell_type": "markdown",
   "metadata": {},
   "source": [
    "## Basic Data Types\n",
    "\n",
    "Python's basic types are:  \n",
    "- `Integer`\n",
    "- `Float`\n",
    "- `Complex Numbers`\n",
    "- `Strings`\n",
    "- `Booleans`"
   ]
  },
  {
   "attachments": {},
   "cell_type": "markdown",
   "metadata": {},
   "source": [
    "## Integers\n",
    "\n",
    "> An integer is a data type used to represent `whole numbers`. These are numbers without any fractional or decimal component.  \n",
    "> Python uses the int type to store these kinds of numbers, which can be positive, negative, or zero. "
   ]
  },
  {
   "cell_type": "code",
   "execution_count": 1,
   "metadata": {},
   "outputs": [
    {
     "data": {
      "text/plain": [
       "5"
      ]
     },
     "execution_count": 1,
     "metadata": {},
     "output_type": "execute_result"
    }
   ],
   "source": [
    "# A positive integer\n",
    "5"
   ]
  },
  {
   "cell_type": "code",
   "execution_count": 2,
   "metadata": {},
   "outputs": [
    {
     "data": {
      "text/plain": [
       "-110"
      ]
     },
     "execution_count": 2,
     "metadata": {},
     "output_type": "execute_result"
    }
   ],
   "source": [
    "# A negative integer\n",
    "-110"
   ]
  },
  {
   "cell_type": "code",
   "execution_count": 3,
   "metadata": {},
   "outputs": [
    {
     "data": {
      "text/plain": [
       "0"
      ]
     },
     "execution_count": 3,
     "metadata": {},
     "output_type": "execute_result"
    }
   ],
   "source": [
    "# Zero, also considered an integer\n",
    "0 "
   ]
  },
  {
   "attachments": {},
   "cell_type": "markdown",
   "metadata": {},
   "source": [
    "There are no real length limit!"
   ]
  },
  {
   "cell_type": "code",
   "execution_count": 4,
   "metadata": {},
   "outputs": [
    {
     "data": {
      "text/plain": [
       "475997245980923649572385453427874356034072345670340892457"
      ]
     },
     "execution_count": 4,
     "metadata": {},
     "output_type": "execute_result"
    }
   ],
   "source": [
    "475997245980923649572385453427874356034072345670340892456 + 1"
   ]
  },
  {
   "attachments": {},
   "cell_type": "markdown",
   "metadata": {},
   "source": [
    "<font color='#FF69B4'>**Note:**</font> The `type` function is a built-in Python function that returns the type of an object."
   ]
  },
  {
   "cell_type": "code",
   "execution_count": 6,
   "metadata": {},
   "outputs": [
    {
     "data": {
      "text/plain": [
       "int"
      ]
     },
     "execution_count": 6,
     "metadata": {},
     "output_type": "execute_result"
    }
   ],
   "source": [
    "type(1100997554)\n"
   ]
  },
  {
   "cell_type": "code",
   "execution_count": 7,
   "metadata": {},
   "outputs": [
    {
     "data": {
      "text/plain": [
       "int"
      ]
     },
     "execution_count": 7,
     "metadata": {},
     "output_type": "execute_result"
    }
   ],
   "source": [
    "int_num = 124\n",
    "type(int_num)"
   ]
  },
  {
   "attachments": {},
   "cell_type": "markdown",
   "metadata": {},
   "source": [
    "## Float\n",
    "\n",
    "> Floating-point numbers, often referred to as \"floats\" in Python, represent `real numbers` and are written with a decimal point dividing the integer and fractional parts."
   ]
  },
  {
   "cell_type": "code",
   "execution_count": 7,
   "metadata": {},
   "outputs": [
    {
     "data": {
      "text/plain": [
       "5.6"
      ]
     },
     "execution_count": 7,
     "metadata": {},
     "output_type": "execute_result"
    }
   ],
   "source": [
    "5.6"
   ]
  },
  {
   "cell_type": "code",
   "execution_count": 8,
   "metadata": {},
   "outputs": [
    {
     "data": {
      "text/plain": [
       "float"
      ]
     },
     "execution_count": 8,
     "metadata": {},
     "output_type": "execute_result"
    }
   ],
   "source": [
    "type(5.4)"
   ]
  },
  {
   "cell_type": "code",
   "execution_count": 10,
   "metadata": {},
   "outputs": [
    {
     "data": {
      "text/plain": [
       "4.0"
      ]
     },
     "execution_count": 10,
     "metadata": {},
     "output_type": "execute_result"
    }
   ],
   "source": [
    "4."
   ]
  },
  {
   "cell_type": "code",
   "execution_count": 10,
   "metadata": {},
   "outputs": [
    {
     "data": {
      "text/plain": [
       "float"
      ]
     },
     "execution_count": 10,
     "metadata": {},
     "output_type": "execute_result"
    }
   ],
   "source": [
    "type(4.)"
   ]
  },
  {
   "cell_type": "code",
   "execution_count": 11,
   "metadata": {},
   "outputs": [
    {
     "data": {
      "text/plain": [
       "0.5"
      ]
     },
     "execution_count": 11,
     "metadata": {},
     "output_type": "execute_result"
    }
   ],
   "source": [
    ".5"
   ]
  },
  {
   "cell_type": "code",
   "execution_count": 11,
   "metadata": {},
   "outputs": [
    {
     "data": {
      "text/plain": [
       "400000.0"
      ]
     },
     "execution_count": 11,
     "metadata": {},
     "output_type": "execute_result"
    }
   ],
   "source": [
    "0.4e6"
   ]
  },
  {
   "cell_type": "code",
   "execution_count": 12,
   "metadata": {},
   "outputs": [
    {
     "data": {
      "text/plain": [
       "float"
      ]
     },
     "execution_count": 12,
     "metadata": {},
     "output_type": "execute_result"
    }
   ],
   "source": [
    "type(.4e6)"
   ]
  },
  {
   "attachments": {},
   "cell_type": "markdown",
   "metadata": {},
   "source": [
    "<font color='#FF69B4'>**Note:**</font> The maximum value a floating-point number can have is approximately $1.8 \\times 10^{308}.$ Any number beyond this is represented as `inf` in Python."
   ]
  },
  {
   "cell_type": "code",
   "execution_count": 13,
   "metadata": {},
   "outputs": [
    {
     "data": {
      "text/plain": [
       "1.79e+308"
      ]
     },
     "execution_count": 13,
     "metadata": {},
     "output_type": "execute_result"
    }
   ],
   "source": [
    "1.79e308"
   ]
  },
  {
   "cell_type": "code",
   "execution_count": 14,
   "metadata": {},
   "outputs": [
    {
     "data": {
      "text/plain": [
       "inf"
      ]
     },
     "execution_count": 14,
     "metadata": {},
     "output_type": "execute_result"
    }
   ],
   "source": [
    "1.8e308"
   ]
  },
  {
   "attachments": {},
   "cell_type": "markdown",
   "metadata": {},
   "source": [
    "<font color='#FF69B4'>**Note:**</font> The smallest number a float can represent, closer to zero without being zero, is around $5.0 \\times 10^{-324}.$  Anything smaller is considered `zero`."
   ]
  },
  {
   "cell_type": "code",
   "execution_count": 15,
   "metadata": {},
   "outputs": [
    {
     "data": {
      "text/plain": [
       "5e-324"
      ]
     },
     "execution_count": 15,
     "metadata": {},
     "output_type": "execute_result"
    }
   ],
   "source": [
    "5e-324"
   ]
  },
  {
   "cell_type": "code",
   "execution_count": 16,
   "metadata": {},
   "outputs": [
    {
     "data": {
      "text/plain": [
       "0.0"
      ]
     },
     "execution_count": 16,
     "metadata": {},
     "output_type": "execute_result"
    }
   ],
   "source": [
    "1e-325"
   ]
  },
  {
   "attachments": {},
   "cell_type": "markdown",
   "metadata": {},
   "source": [
    "## Complex Numbers \n",
    "> A complex number is composed of a `real part` and an `imaginary part`.  \n",
    "> It's represented as $x + yj$, where $x$ is the real part and $y$ is the imaginary part.\n"
   ]
  },
  {
   "cell_type": "code",
   "execution_count": 20,
   "metadata": {},
   "outputs": [
    {
     "data": {
      "text/plain": [
       "(3+6j)"
      ]
     },
     "execution_count": 20,
     "metadata": {},
     "output_type": "execute_result"
    }
   ],
   "source": [
    "3 + 6j"
   ]
  },
  {
   "cell_type": "code",
   "execution_count": 17,
   "metadata": {},
   "outputs": [
    {
     "data": {
      "text/plain": [
       "complex"
      ]
     },
     "execution_count": 17,
     "metadata": {},
     "output_type": "execute_result"
    }
   ],
   "source": [
    "type(2-5j)"
   ]
  },
  {
   "cell_type": "markdown",
   "metadata": {},
   "source": [
    "<font color='#FF69B4'>**Note:**</font> Complex Numbers are less common in typical programming tasks but essential for specific domains like digital signal processing or electrical engineering problems."
   ]
  },
  {
   "attachments": {},
   "cell_type": "markdown",
   "metadata": {},
   "source": [
    "## Strings\n",
    "\n",
    "> Strings in Python are sequences of characters, and the type in Python for strings is called `str`.  \n",
    "> Strings can be created using either single or double quotes."
   ]
  },
  {
   "cell_type": "code",
   "execution_count": 18,
   "metadata": {},
   "outputs": [
    {
     "data": {
      "text/plain": [
       "'Here is a sample sentence.'"
      ]
     },
     "execution_count": 18,
     "metadata": {},
     "output_type": "execute_result"
    }
   ],
   "source": [
    "\"Here is a sample sentence.\""
   ]
  },
  {
   "cell_type": "code",
   "execution_count": 19,
   "metadata": {},
   "outputs": [
    {
     "data": {
      "text/plain": [
       "str"
      ]
     },
     "execution_count": 19,
     "metadata": {},
     "output_type": "execute_result"
    }
   ],
   "source": [
    "my_sentence = 'Check out the data type!'\n",
    "type(my_sentence)"
   ]
  },
  {
   "attachments": {},
   "cell_type": "markdown",
   "metadata": {},
   "source": [
    "<font color='#FF69B4'>**Note:**</font> Strings in Python can contain any number of characters, including `none`:"
   ]
  },
  {
   "cell_type": "code",
   "execution_count": 12,
   "metadata": {},
   "outputs": [
    {
     "data": {
      "text/plain": [
       "str"
      ]
     },
     "execution_count": 12,
     "metadata": {},
     "output_type": "execute_result"
    }
   ],
   "source": [
    "num_str = '23'\n",
    "type(num_str)"
   ]
  },
  {
   "cell_type": "code",
   "execution_count": 11,
   "metadata": {},
   "outputs": [
    {
     "data": {
      "text/plain": [
       "int"
      ]
     },
     "execution_count": 11,
     "metadata": {},
     "output_type": "execute_result"
    }
   ],
   "source": [
    "num_str = 23\n",
    "type(num_str)"
   ]
  },
  {
   "cell_type": "code",
   "execution_count": 28,
   "metadata": {},
   "outputs": [
    {
     "data": {
      "text/plain": [
       "str"
      ]
     },
     "execution_count": 28,
     "metadata": {},
     "output_type": "execute_result"
    }
   ],
   "source": [
    "str_example = ''\n",
    "type(str_example)"
   ]
  },
  {
   "attachments": {},
   "cell_type": "markdown",
   "metadata": {},
   "source": [
    "<font color='#FF69B4'>**Note:**</font> To include a quote character within the string itself, you can either use the opposite quote to delimit the string, or use escape sequences:"
   ]
  },
  {
   "cell_type": "code",
   "execution_count": 15,
   "metadata": {},
   "outputs": [
    {
     "data": {
      "text/plain": [
       "'Life is like riding a bicycle. To keep your balance you must keep moving. \"- Albert Einestein\"'"
      ]
     },
     "execution_count": 15,
     "metadata": {},
     "output_type": "execute_result"
    }
   ],
   "source": [
    "# Using opposite quote in String\n",
    "'Life is like riding a bicycle. To keep your balance you must keep moving. \"- Albert Einestein\"'"
   ]
  },
  {
   "cell_type": "code",
   "execution_count": 25,
   "metadata": {},
   "outputs": [
    {
     "data": {
      "text/plain": [
       "\"Life is like riding a bicycle. To keep your balance you must keep moving. '- Albert Einestein'\""
      ]
     },
     "execution_count": 25,
     "metadata": {},
     "output_type": "execute_result"
    }
   ],
   "source": [
    "# Using Escape Sequence in String\n",
    "'Life is like riding a bicycle. To keep your balance you must keep moving. \\'- Albert Einestein\\''"
   ]
  },
  {
   "attachments": {},
   "cell_type": "markdown",
   "metadata": {},
   "source": [
    "<font color='#FF69B4'>**Note:**</font> Escape sequences let you include special characters in your strings."
   ]
  },
  {
   "attachments": {},
   "cell_type": "markdown",
   "metadata": {},
   "source": [
    "If you want to continue a string onto the next line, use a backslash:  \n",
    "**Usecase**: where you have a very long string that you want to split across multiple lines for readability in your code"
   ]
  },
  {
   "cell_type": "code",
   "execution_count": 16,
   "metadata": {},
   "outputs": [
    {
     "data": {
      "text/plain": [
       "'SELECT name, age, email FROM users WHERE age > 35 AND email LIKE \"%@mcit.com\" ORDER BY name'"
      ]
     },
     "execution_count": 16,
     "metadata": {},
     "output_type": "execute_result"
    }
   ],
   "source": [
    "sql_query = 'SELECT name, age, email FROM users WHERE age > 35 ' \\\n",
    "            'AND email LIKE \"%@mcit.com\" ORDER BY name' \n",
    "sql_query\n"
   ]
  },
  {
   "attachments": {},
   "cell_type": "markdown",
   "metadata": {},
   "source": [
    "Some useful escape sequences include:\n",
    "\n",
    "* `\\t`: Tab\n",
    "* `\\n`: Newline\n",
    "* `\\\\`: Backslash\n",
    "* `\\'`: Single quote\n",
    "* `\\\"`: Double quote"
   ]
  },
  {
   "cell_type": "code",
   "execution_count": 32,
   "metadata": {},
   "outputs": [
    {
     "name": "stdout",
     "output_type": "stream",
     "text": [
      "Just trying to test \\ here.\n"
     ]
    }
   ],
   "source": [
    "print('Just trying to test \\\\ here.')"
   ]
  },
  {
   "cell_type": "code",
   "execution_count": 37,
   "metadata": {},
   "outputs": [
    {
     "name": "stdout",
     "output_type": "stream",
     "text": [
      "I am practicing coding.\n",
      "I will learn Python.\n"
     ]
    }
   ],
   "source": [
    "print('I am practicing coding.\\nI will learn Python.')"
   ]
  },
  {
   "cell_type": "code",
   "execution_count": 38,
   "metadata": {},
   "outputs": [
    {
     "name": "stdout",
     "output_type": "stream",
     "text": [
      "Name: Alex\n",
      "Age: 36\n",
      "Job: Data Scientist\n"
     ]
    }
   ],
   "source": [
    "print('Name: Alex\\nAge: 36\\nJob: Data Scientist')"
   ]
  },
  {
   "attachments": {},
   "cell_type": "markdown",
   "metadata": {},
   "source": [
    "<font color='#FF69B4'>**Note:**</font> Triple-quoted strings would be handy for defining multiline strings and ignore both single and double quotes within them.  \n",
    "Also, they can be used for strings that span multiple lines."
   ]
  },
  {
   "cell_type": "code",
   "execution_count": 17,
   "metadata": {},
   "outputs": [
    {
     "name": "stdout",
     "output_type": "stream",
     "text": [
      "This is a\n",
      "string 'that' spans\n",
      "across several lines.\n"
     ]
    }
   ],
   "source": [
    "print('''This is a\n",
    "string 'that' spans\n",
    "across several lines.''')"
   ]
  },
  {
   "cell_type": "code",
   "execution_count": 39,
   "metadata": {},
   "outputs": [
    {
     "name": "stdout",
     "output_type": "stream",
     "text": [
      "This is a\n",
      "string that spans\n",
      "across several lines.\n"
     ]
    }
   ],
   "source": [
    "print(\"\"\"This is a\n",
    "string that spans\n",
    "across several lines.\"\"\")"
   ]
  },
  {
   "attachments": {},
   "cell_type": "markdown",
   "metadata": {},
   "source": [
    "## Boolean\n",
    "\n",
    "> Boolean data type is a primitive data type that can have one of two values: `True` or `False`.  \n",
    "> Python provides a dedicated type for representing Boolean values: `bool`."
   ]
  },
  {
   "cell_type": "code",
   "execution_count": 18,
   "metadata": {},
   "outputs": [
    {
     "data": {
      "text/plain": [
       "True"
      ]
     },
     "execution_count": 18,
     "metadata": {},
     "output_type": "execute_result"
    }
   ],
   "source": [
    "comparison = 10 > 5\n",
    "comparison"
   ]
  },
  {
   "cell_type": "code",
   "execution_count": 46,
   "metadata": {},
   "outputs": [
    {
     "data": {
      "text/plain": [
       "bool"
      ]
     },
     "execution_count": 46,
     "metadata": {},
     "output_type": "execute_result"
    }
   ],
   "source": [
    "type(comparison)"
   ]
  },
  {
   "cell_type": "code",
   "execution_count": 54,
   "metadata": {},
   "outputs": [
    {
     "data": {
      "text/plain": [
       "bool"
      ]
     },
     "execution_count": 54,
     "metadata": {},
     "output_type": "execute_result"
    }
   ],
   "source": [
    "type(True)"
   ]
  },
  {
   "attachments": {},
   "cell_type": "markdown",
   "metadata": {},
   "source": [
    "<font color='#FF69B4'>**Note:**</font> The `bool` function can be used to evaluate the truthiness of any value or expression.\n",
    "\n",
    "- Objects equal to `True` are truthy.\n",
    "- Objects equal to `False` are falsy."
   ]
  },
  {
   "cell_type": "code",
   "execution_count": 47,
   "metadata": {},
   "outputs": [
    {
     "data": {
      "text/plain": [
       "False"
      ]
     },
     "execution_count": 47,
     "metadata": {},
     "output_type": "execute_result"
    }
   ],
   "source": [
    "bool(0)"
   ]
  },
  {
   "cell_type": "code",
   "execution_count": 48,
   "metadata": {},
   "outputs": [
    {
     "data": {
      "text/plain": [
       "True"
      ]
     },
     "execution_count": 48,
     "metadata": {},
     "output_type": "execute_result"
    }
   ],
   "source": [
    "bool(1)"
   ]
  },
  {
   "cell_type": "code",
   "execution_count": 50,
   "metadata": {},
   "outputs": [
    {
     "data": {
      "text/plain": [
       "True"
      ]
     },
     "execution_count": 50,
     "metadata": {},
     "output_type": "execute_result"
    }
   ],
   "source": [
    "bool(2 + 2 == 4)"
   ]
  },
  {
   "cell_type": "code",
   "execution_count": 51,
   "metadata": {},
   "outputs": [
    {
     "data": {
      "text/plain": [
       "False"
      ]
     },
     "execution_count": 51,
     "metadata": {},
     "output_type": "execute_result"
    }
   ],
   "source": [
    "bool(2 + 2 == 5)"
   ]
  },
  {
   "attachments": {},
   "cell_type": "markdown",
   "metadata": {},
   "source": [
    "## Variables\n",
    "\n",
    "> Variables are names that you specify in your code that are mapped to objects in memory.   \n",
    "> These names can be assigned to different types of data, such as numbers, strings, lists, dictionaries, and more.\n",
    "\n",
    "> To create a variable in Python, you simply assign a value to it and then you can start using it immediately. The assignment operation is performed using a single equals sign (`=`)."
   ]
  },
  {
   "attachments": {},
   "cell_type": "markdown",
   "metadata": {},
   "source": [
    "<div style=\"text-align: center\">\n",
    "    <img src=\"https://www.scaler.com/topics/images/type-of-variables-in-python_thumbnail.webp\" alt=\"python-data-types\" title=\"Python Data Types\"/>\n",
    "</div>"
   ]
  },
  {
   "cell_type": "code",
   "execution_count": 19,
   "metadata": {},
   "outputs": [],
   "source": [
    "# m is assigned the value 245.\n",
    "m = 245"
   ]
  },
  {
   "cell_type": "code",
   "execution_count": 20,
   "metadata": {},
   "outputs": [
    {
     "data": {
      "text/plain": [
       "245"
      ]
     },
     "execution_count": 20,
     "metadata": {},
     "output_type": "execute_result"
    }
   ],
   "source": [
    "m"
   ]
  },
  {
   "attachments": {},
   "cell_type": "markdown",
   "metadata": {},
   "source": [
    "<font color='#FF69B4'>**Note:**</font> Variables in Python are `dynamic`, meaning you don't need to declare their type ahead of time (as in some other programming languages), and their type can change as you reassign different data to them."
   ]
  },
  {
   "cell_type": "code",
   "execution_count": 21,
   "metadata": {},
   "outputs": [
    {
     "data": {
      "text/plain": [
       "756"
      ]
     },
     "execution_count": 21,
     "metadata": {},
     "output_type": "execute_result"
    }
   ],
   "source": [
    "m = 756\n",
    "m"
   ]
  },
  {
   "cell_type": "code",
   "execution_count": 22,
   "metadata": {},
   "outputs": [
    {
     "data": {
      "text/plain": [
       "'Hello'"
      ]
     },
     "execution_count": 22,
     "metadata": {},
     "output_type": "execute_result"
    }
   ],
   "source": [
    "m = 'Hello'\n",
    "m"
   ]
  },
  {
   "attachments": {},
   "cell_type": "markdown",
   "metadata": {},
   "source": [
    "Python supports chained assignment, a feature that allows you to assign a single value to multiple variables simultaneously:"
   ]
  },
  {
   "cell_type": "code",
   "execution_count": 27,
   "metadata": {},
   "outputs": [
    {
     "data": {
      "text/plain": [
       "(450, 450, 450)"
      ]
     },
     "execution_count": 27,
     "metadata": {},
     "output_type": "execute_result"
    }
   ],
   "source": [
    "aa = bb = cc = 450\n",
    "aa, bb, cc"
   ]
  },
  {
   "attachments": {},
   "cell_type": "markdown",
   "metadata": {},
   "source": [
    "<font color='#FF69B4'>**Note:**</font> In Python, you can print multiple variables in a single print statement by separating them with commas.  \n",
    "For instance, print(n, m) will print the values of n and m separated by a space. "
   ]
  },
  {
   "attachments": {},
   "cell_type": "markdown",
   "metadata": {},
   "source": [
    "In many computer languages, once you say a variable is a certain type (like a number or text), it can only be that type.  \n",
    "But in Python, you can change the type of a variable anytime you want."
   ]
  },
  {
   "cell_type": "code",
   "execution_count": 57,
   "metadata": {},
   "outputs": [
    {
     "data": {
      "text/plain": [
       "234"
      ]
     },
     "execution_count": 57,
     "metadata": {},
     "output_type": "execute_result"
    }
   ],
   "source": [
    "# Here variable_test is a numerical variable. \n",
    "variable_test = 234\n",
    "variable_test"
   ]
  },
  {
   "cell_type": "code",
   "execution_count": 58,
   "metadata": {},
   "outputs": [
    {
     "data": {
      "text/plain": [
       "'I am text now'"
      ]
     },
     "execution_count": 58,
     "metadata": {},
     "output_type": "execute_result"
    }
   ],
   "source": [
    "variable_test = 'I am text now'\n",
    "variable_test"
   ]
  },
  {
   "attachments": {},
   "cell_type": "markdown",
   "metadata": {},
   "source": [
    "## Variable Names\n",
    "\n",
    "In Python, variable names can:\n",
    "- Be as long as you want.\n",
    "- Use both small and capital letters (a-z, A-Z).\n",
    "- Have numbers (0-9), but not at the start.\n",
    "- Use the underscore (_) character.\n"
   ]
  },
  {
   "cell_type": "code",
   "execution_count": 28,
   "metadata": {},
   "outputs": [],
   "source": [
    "alex2 = 5\n",
    "a2lex =10"
   ]
  },
  {
   "cell_type": "code",
   "execution_count": 31,
   "metadata": {},
   "outputs": [
    {
     "data": {
      "text/plain": [
       "(46, 'Jordan', True)"
      ]
     },
     "execution_count": 31,
     "metadata": {},
     "output_type": "execute_result"
    }
   ],
   "source": [
    "Age = 46\n",
    "name = 'Jordan'\n",
    "is_male = True\n",
    "\n",
    "Age, name, is_male"
   ]
  },
  {
   "attachments": {},
   "cell_type": "markdown",
   "metadata": {},
   "source": [
    "<font color='#FF69B4'>**Note:**</font> Python is case-sensitive for variable names. This means that the names `Variable`, `VARIABLE`, and `variable` would refer to three different variables in Python.\n",
    "\n",
    "The Python interpreter distinguishes between uppercase and lowercase letters in variable names, function names, class names, and all other identifiers in your code."
   ]
  },
  {
   "cell_type": "code",
   "execution_count": 75,
   "metadata": {},
   "outputs": [],
   "source": [
    "# Example of naming a variable\n",
    "\n",
    "number_of_college_students = 56"
   ]
  },
  {
   "attachments": {},
   "cell_type": "markdown",
   "metadata": {},
   "source": [
    "## Naming Variables\n",
    "\n",
    "> Best practice to write long names in Python:\n",
    "\n",
    "> - Use Snake Case (Words are separated by underscores, like number_of_college_graduates) for `variables` and `functions`.\n",
    "> - Use Pascal Case (The first letter of every word is capital, like NumberOfCollegeGraduates) for `class` names."
   ]
  },
  {
   "attachments": {},
   "cell_type": "markdown",
   "metadata": {},
   "source": [
    "In Python, there are some special words that have a fixed meaning. These words are called \"reserved words\" or \"keywords\". We cannot use these words as names for our variables, functions, or any other objects."
   ]
  },
  {
   "attachments": {},
   "cell_type": "markdown",
   "metadata": {},
   "source": [
    "Here's a list of these reserved words in Python:\n",
    "\n",
    "<div align=\"center\">\n",
    "\n",
    "| Keywords |       |       |       |\n",
    "|----------|-------|-------|-------|\n",
    "| `False`  | `await` | `else`  | `import` |\n",
    "| `None`   | `break` | `except`| `in`     |\n",
    "| `True`   | `class` | `finally`| `is`    |\n",
    "| `and`    | `continue`| `for`  | `lambda` |\n",
    "| `as`     | `def`   | `from`  | `nonlocal` |\n",
    "| `assert` | `del`   | `global`| `not`    |\n",
    "| `async`  | `elif`  | `if`    | `or`     |\n",
    "| `pass`   | `raise` | `return`| `try`    |\n",
    "| `while`  | `with`  | `yield` | `match`  |\n",
    "| `case`   |       |       |       |\n",
    "\n",
    "</div>\n"
   ]
  },
  {
   "cell_type": "code",
   "execution_count": 23,
   "metadata": {},
   "outputs": [
    {
     "ename": "SyntaxError",
     "evalue": "invalid syntax (2566238618.py, line 1)",
     "output_type": "error",
     "traceback": [
      "\u001b[0;36m  Cell \u001b[0;32mIn[23], line 1\u001b[0;36m\u001b[0m\n\u001b[0;31m    from = 120\u001b[0m\n\u001b[0m         ^\u001b[0m\n\u001b[0;31mSyntaxError\u001b[0m\u001b[0;31m:\u001b[0m invalid syntax\n"
     ]
    }
   ],
   "source": [
    "from = 120"
   ]
  },
  {
   "attachments": {},
   "cell_type": "markdown",
   "metadata": {},
   "source": [
    "### Naming Constant Variables\n",
    "\n",
    "In Python, by convention, constants vriables are written in all capital letters and underscores separating the words.  \n",
    "By seeing the all-caps variable names, developers know they shouldn't change these values."
   ]
  },
  {
   "cell_type": "code",
   "execution_count": 77,
   "metadata": {},
   "outputs": [],
   "source": [
    "PI = 3.14159"
   ]
  },
  {
   "cell_type": "code",
   "execution_count": null,
   "metadata": {},
   "outputs": [],
   "source": [
    "my_num = 5\n",
    "my_age = 'Alex'\n",
    "NUMBER = 110 # NUMBER is a constant number because it's all capital. "
   ]
  },
  {
   "attachments": {},
   "cell_type": "markdown",
   "metadata": {},
   "source": [
    "## Conversion Between Data Types\n",
    "\n",
    "> Within the domain of programming, data types are crucial for defining the storage and handling of information.  \n",
    "> Nonetheless, situations arise when it becomes necessary to transform data from one type to another to fulfill particular needs or execute specific tasks.  \n",
    "> This procedure is referred to as `Type Conversion`."
   ]
  },
  {
   "attachments": {},
   "cell_type": "markdown",
   "metadata": {},
   "source": [
    "Type Conversion in Python is essential for various reasons:\n",
    "\n",
    "- **Flexibility in Operations**: Different operations require data in specific formats. Type conversion allows us to switch between these formats seamlessly.\n",
    "\n",
    "- **Data Integrity**: Ensuring that data retains its meaning and doesn't lose essential details is crucial. Type conversion, when done correctly, helps maintain this integrity.\n"
   ]
  },
  {
   "attachments": {},
   "cell_type": "markdown",
   "metadata": {},
   "source": [
    "For instance, consider the simple act of converting an `int` data type to a `str`.\n",
    "\n",
    "This might seem trivial, but understanding the underlying mechanics of such conversions can be the key to writing efficient and error-free code."
   ]
  },
  {
   "attachments": {},
   "cell_type": "markdown",
   "metadata": {},
   "source": [
    "## Kinds of Data Type Conversion in Python\n",
    "\n",
    "In Python, data type conversion can be broadly categorized into two types:\n",
    "\n",
    "1. **Implicit Conversion (Automatic Type Conversion)**\n",
    "    - This is performed by Python automatically.\n",
    "    - Python interprets the data type conversion on its own without any explicit instructions.\n",
    "    - Typically used when there's no risk of data loss, such as converting an `int` to a `float`.\n",
    "    \n"
   ]
  },
  {
   "attachments": {},
   "cell_type": "markdown",
   "metadata": {},
   "source": [
    "2. **Explicit Conversion (Manual Type Conversion or Typecasting)**\n",
    "    - Requires manual intervention using predefined functions.\n",
    "    - Used when there's a need to convert data types explicitly based on the requirements of the operation.\n",
    "    - Functions like `int()`, `float()`, and `str()` are commonly used for explicit type conversion.\n",
    "\n",
    "Understanding the distinction between these two types is crucial as it affects how operations are performed and ensures the integrity of the data."
   ]
  },
  {
   "attachments": {},
   "cell_type": "markdown",
   "metadata": {},
   "source": [
    "## Implicit Conversion\n",
    "\n",
    "**Example: Converting integer to float**\n",
    "\n",
    "Consider the scenario where Python promotes the conversion of a lower data type (`int`) to a higher data type (`float`) to prevent data loss."
   ]
  },
  {
   "cell_type": "code",
   "execution_count": 75,
   "metadata": {},
   "outputs": [
    {
     "data": {
      "text/plain": [
       "124.23"
      ]
     },
     "execution_count": 75,
     "metadata": {},
     "output_type": "execute_result"
    }
   ],
   "source": [
    "integer_number = 123\n",
    "float_number = 1.23\n",
    "\n",
    "new_number = integer_number + float_number\n",
    "new_number"
   ]
  },
  {
   "cell_type": "code",
   "execution_count": 65,
   "metadata": {},
   "outputs": [
    {
     "name": "stdout",
     "output_type": "stream",
     "text": [
      "Value: 124.23\n",
      "Data Type: <class 'float'>\n"
     ]
    }
   ],
   "source": [
    "# Displaying the new value and its data type\n",
    "print(\"Value:\", new_number)\n",
    "print(\"Data Type:\", type(new_number))"
   ]
  },
  {
   "attachments": {},
   "cell_type": "markdown",
   "metadata": {},
   "source": [
    "In this example, the `integer_number` and `float_number` are of `int` and `float` types, respectively. When added together, Python automatically converts the result to a `float` to ensure no data is lost."
   ]
  },
  {
   "attachments": {},
   "cell_type": "markdown",
   "metadata": {},
   "source": [
    "> **Note:**\n",
    "> It's essential to be aware of situations where implicit conversion might not work. For instance, adding a `str` and an `int` (e.g., `'12' + 23`) will result in a `TypeError`. In such cases, Python requires explicit conversion."
   ]
  },
  {
   "cell_type": "code",
   "execution_count": 73,
   "metadata": {},
   "outputs": [
    {
     "ename": "TypeError",
     "evalue": "unsupported operand type(s) for +: 'int' and 'str'",
     "output_type": "error",
     "traceback": [
      "\u001b[0;31m---------------------------------------------------------------------------\u001b[0m",
      "\u001b[0;31mTypeError\u001b[0m                                 Traceback (most recent call last)",
      "Cell \u001b[0;32mIn[73], line 3\u001b[0m\n\u001b[1;32m      1\u001b[0m integer_number \u001b[39m=\u001b[39m \u001b[39m123\u001b[39m\n\u001b[1;32m      2\u001b[0m str_number \u001b[39m=\u001b[39m \u001b[39m'\u001b[39m\u001b[39m456\u001b[39m\u001b[39m'\u001b[39m\n\u001b[0;32m----> 3\u001b[0m new_number \u001b[39m=\u001b[39m integer_number \u001b[39m+\u001b[39;49m str_number\n",
      "\u001b[0;31mTypeError\u001b[0m: unsupported operand type(s) for +: 'int' and 'str'"
     ]
    }
   ],
   "source": [
    "integer_number = 123\n",
    "str_number = '456'\n",
    "new_number = integer_number + str_number"
   ]
  },
  {
   "attachments": {},
   "cell_type": "markdown",
   "metadata": {},
   "source": [
    "## Explicit Conversion\n",
    "\n",
    "Explicit type conversion, commonly known as **typecasting**, involves manually converting the data type of an object to a desired data type. This is done using built-in Python functions."
   ]
  },
  {
   "attachments": {},
   "cell_type": "markdown",
   "metadata": {},
   "source": [
    "**Common Functions for Explicit Conversion:**\n",
    "\n",
    "- `int()`: Converts to an integer.\n",
    "- `float()`: Converts to a floating-point number.\n",
    "- `str()`: Converts to a string."
   ]
  },
  {
   "attachments": {},
   "cell_type": "markdown",
   "metadata": {},
   "source": [
    "\n",
    "\n",
    "**Example: Addition of string and integer using Explicit Conversion**\n",
    "\n",
    "Consider a scenario where we have a string representing a number and an integer. To add them, we need to perform explicit type conversion."
   ]
  },
  {
   "cell_type": "code",
   "execution_count": 80,
   "metadata": {},
   "outputs": [
    {
     "name": "stdout",
     "output_type": "stream",
     "text": [
      "Data type of num_string before Type Casting: <class 'str'>\n"
     ]
    }
   ],
   "source": [
    "num_string = '456'\n",
    "num_integer = 235\n",
    "\n",
    "print('Data type of num_string before Type Casting:', type(num_string))"
   ]
  },
  {
   "cell_type": "code",
   "execution_count": 82,
   "metadata": {},
   "outputs": [
    {
     "data": {
      "text/plain": [
       "str"
      ]
     },
     "execution_count": 82,
     "metadata": {},
     "output_type": "execute_result"
    }
   ],
   "source": [
    "# Be mindful of difference between using type() function in print() or independently. \n",
    "type(num_string)"
   ]
  },
  {
   "cell_type": "code",
   "execution_count": 86,
   "metadata": {},
   "outputs": [
    {
     "name": "stdout",
     "output_type": "stream",
     "text": [
      "Data type of num_string after Type Casting: <class 'int'>\n"
     ]
    }
   ],
   "source": [
    "# Performing explicit type conversion\n",
    "num_string = int(num_string)\n",
    "\n",
    "print(\"Data type of num_string after Type Casting:\", type(num_string))"
   ]
  },
  {
   "cell_type": "code",
   "execution_count": 87,
   "metadata": {},
   "outputs": [
    {
     "name": "stdout",
     "output_type": "stream",
     "text": [
      "Sum: 691\n",
      "Data type of num_sum: <class 'int'>\n"
     ]
    }
   ],
   "source": [
    "num_sum = num_integer + num_string\n",
    "\n",
    "print(\"Sum:\", num_sum)\n",
    "print(\"Data type of num_sum:\", type(num_sum))"
   ]
  }
 ],
 "metadata": {
  "kernelspec": {
   "display_name": "base",
   "language": "python",
   "name": "python3"
  },
  "language_info": {
   "codemirror_mode": {
    "name": "ipython",
    "version": 3
   },
   "file_extension": ".py",
   "mimetype": "text/x-python",
   "name": "python",
   "nbconvert_exporter": "python",
   "pygments_lexer": "ipython3",
   "version": "3.10.9"
  },
  "orig_nbformat": 4
 },
 "nbformat": 4,
 "nbformat_minor": 2
}
