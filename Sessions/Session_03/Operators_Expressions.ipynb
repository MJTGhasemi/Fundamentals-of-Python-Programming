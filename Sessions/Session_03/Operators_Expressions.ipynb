{
 "cells": [
  {
   "attachments": {},
   "cell_type": "markdown",
   "metadata": {},
   "source": [
    "# <font color='#98FB98'>**Welcome to Operators and Expressions in Pyhton!**</font>"
   ]
  },
  {
   "attachments": {},
   "cell_type": "markdown",
   "metadata": {},
   "source": [
    "In the world of programming, operators and expressions are fundamental building blocks that allow us to perform operations on data and evaluate results.  \n",
    "Just as in mathematics, where we use symbols like `+`, `-`, and `=` to perform operations and derive results, in programming, we use operators to manipulate data and derive outcomes."
   ]
  },
  {
   "attachments": {},
   "cell_type": "markdown",
   "metadata": {},
   "source": [
    "**Operators** are special symbols in Python that carry out arithmetic, logical, or relational computations. They act as a bridge, connecting values and variables to produce a desired result."
   ]
  },
  {
   "attachments": {},
   "cell_type": "markdown",
   "metadata": {},
   "source": [
    "**Expressions**, on the other hand, are combinations of values, variables, and operators that, when evaluated, produce a result. Think of them as mathematical equations that the computer solves to give us an answer."
   ]
  },
  {
   "attachments": {},
   "cell_type": "markdown",
   "metadata": {},
   "source": [
    "<div style=\"text-align: center\">\n",
    "    <img src=\"https://files.realpython.com/media/Operators-and-Expressions-in-Python_Watermarked.651045da4031.jpg\" alt=\"python-operators-expression\" title=\"Python Operators and Expressions\"/>\n",
    "</div>"
   ]
  },
  {
   "attachments": {},
   "cell_type": "markdown",
   "metadata": {},
   "source": [
    "## Basic Arithmetic Operators"
   ]
  },
  {
   "attachments": {},
   "cell_type": "markdown",
   "metadata": {},
   "source": [
    "Arithmetic operators are the most commonly used operators in programming. They allow us to perform basic mathematical operations, just like we do in everyday math."
   ]
  },
  {
   "attachments": {},
   "cell_type": "markdown",
   "metadata": {},
   "source": [
    "Here's a breakdown of the basic arithmetic operators available in Python:\n",
    "\n",
    "1. **Addition (`+`)**:\n",
    "   - Adds values on either side of the operator.\n",
    "   - Example: `5 + 3` results in `8`.\n",
    "\n",
    "2. **Subtraction (`-`)**:\n",
    "   - Subtracts the right-hand operand from the left-hand operand.\n",
    "   - Example: `9 - 4` results in `5`.\n",
    "\n",
    "3. **Multiplication (`*`)**:\n",
    "   - Multiplies values on either side of the operator.\n",
    "   - Example: `6 * 7` results in `42`.\n",
    "\n",
    "4. **Division (`/`)**:\n",
    "   - Divides the left-hand operand by the right-hand operand.\n",
    "   - Example: `8 / 2` results in `4.0`.\n",
    "\n",
    "5. **Floor Division (`//`)**:\n",
    "   - Divides the left operand by the right operand, rounding down the result to the nearest whole number.\n",
    "   - Example: `7 // 3` results in `2`.\n",
    "\n",
    "6. **Modulus (`%`)**:\n",
    "   - Returns the remainder of the division of the left operand by the right operand.\n",
    "   - Example: `7 % 3` results in `1`.\n",
    "\n",
    "7. **Exponentiation (`**`)**:\n",
    "   - Raises the left operand to the power of the right operand.\n",
    "   - Example: `3 ** 2` results in `9`.\n",
    "\n",
    "8. **Unary Minus (`-`)**:\n",
    "   - Negates the value of the operand.\n",
    "   - Example: `-5` results in `-5`."
   ]
  },
  {
   "cell_type": "code",
   "execution_count": 1,
   "metadata": {},
   "outputs": [
    {
     "data": {
      "text/plain": [
       "43"
      ]
     },
     "execution_count": 1,
     "metadata": {},
     "output_type": "execute_result"
    }
   ],
   "source": [
    "89 - 46"
   ]
  },
  {
   "cell_type": "code",
   "execution_count": 3,
   "metadata": {},
   "outputs": [
    {
     "data": {
      "text/plain": [
       "2408"
      ]
     },
     "execution_count": 3,
     "metadata": {},
     "output_type": "execute_result"
    }
   ],
   "source": [
    "56 * 43"
   ]
  },
  {
   "cell_type": "code",
   "execution_count": 2,
   "metadata": {},
   "outputs": [
    {
     "data": {
      "text/plain": [
       "9.88888888888889"
      ]
     },
     "execution_count": 2,
     "metadata": {},
     "output_type": "execute_result"
    }
   ],
   "source": [
    "89 / 9"
   ]
  },
  {
   "cell_type": "code",
   "execution_count": 4,
   "metadata": {},
   "outputs": [
    {
     "data": {
      "text/plain": [
       "1"
      ]
     },
     "execution_count": 4,
     "metadata": {},
     "output_type": "execute_result"
    }
   ],
   "source": [
    "17 % 4"
   ]
  },
  {
   "cell_type": "code",
   "execution_count": 6,
   "metadata": {},
   "outputs": [
    {
     "data": {
      "text/plain": [
       "216"
      ]
     },
     "execution_count": 6,
     "metadata": {},
     "output_type": "execute_result"
    }
   ],
   "source": [
    "6 ** 3"
   ]
  },
  {
   "cell_type": "code",
   "execution_count": 7,
   "metadata": {},
   "outputs": [
    {
     "data": {
      "text/plain": [
       "11"
      ]
     },
     "execution_count": 7,
     "metadata": {},
     "output_type": "execute_result"
    }
   ],
   "source": [
    "45 // 4"
   ]
  },
  {
   "attachments": {},
   "cell_type": "markdown",
   "metadata": {},
   "source": [
    "<font color='#FF69B4'>**Note:**</font> A real-life programming example where floor division (`//`) is particularly useful involves calculating the distribution of items into equally sized groups without fractions, a common scenario in logistics, event planning, or software that deals with allocation of resources.\n",
    "\n",
    "**Example:**  \n",
    "Let's say you have 987 products that need to be distributed equally among 10 stores.  \n",
    "Using floor division, you can easily calculate how many products each store will receive and how many products will remain for the warehouse."
   ]
  },
  {
   "cell_type": "code",
   "execution_count": 5,
   "metadata": {},
   "outputs": [
    {
     "name": "stdout",
     "output_type": "stream",
     "text": [
      "Each store receives: 98 products\n",
      "Remaining for the warehouse: 7 products\n"
     ]
    }
   ],
   "source": [
    "# Example of using Floor Devision\n",
    "\n",
    "total_products = 987\n",
    "stores = 10\n",
    "\n",
    "# Calculate the number of products per store using floor division\n",
    "products_per_store = total_products // stores\n",
    "\n",
    "# Calculate the remainder to find out how many products will go to the warehouse\n",
    "products_for_warehouse = total_products % stores\n",
    "\n",
    "print(f'Each store receives: {products_per_store} products')\n",
    "print(f'Remaining for the warehouse: {products_for_warehouse} products')\n"
   ]
  },
  {
   "attachments": {},
   "cell_type": "markdown",
   "metadata": {},
   "source": [
    "These operators provide the foundation for performing mathematical calculations in our programs. Whether you're building a simple calculator app, analyzing data, or solving complex problems, understanding and using these operators effectively is essential."
   ]
  },
  {
   "attachments": {},
   "cell_type": "markdown",
   "metadata": {},
   "source": [
    "## Comparison Operators\n",
    "\n",
    "Comparison operators, as the name suggests, allow us to compare two values. They are fundamental in decision-making processes in programming, as they help determine the flow of a program based on certain conditions. The result of a comparison is always a Boolean value, either `True` or `False`."
   ]
  },
  {
   "attachments": {},
   "cell_type": "markdown",
   "metadata": {},
   "source": [
    "Here's an overview of the comparison operators in Python:\n",
    "\n",
    "1. **Equal to (`==`)**:\n",
    "   - Checks if the values of two operands are equal.\n",
    "   - Example: `5 == 5` returns `True`, while `5 == 4` returns `False`.  \n",
    "\n",
    "2. **Not equal to (`!=`)**:\n",
    "   - Checks if the values of two operands are not equal.\n",
    "   - Example: `3 != 4` returns `True`, while `7 != 7` returns `False`.\n",
    "\n",
    "3. **Greater than (`>`)**:\n",
    "   - Checks if the value of the left operand is greater than the value of the right operand.\n",
    "   - Example: `9 > 6` returns `True`, while `4 > 5` returns `False`.\n",
    "\n",
    "4. **Less than (`<`)**:\n",
    "   - Checks if the value of the left operand is less than the value of the right operand.\n",
    "   - Example: `2 < 8` returns `True`, while `7 < 3` returns `False`.\n",
    "\n",
    "5. **Greater than or equal to (`>=`)**:\n",
    "   - Checks if the value of the left operand is greater than or equal to the value of the right operand.\n",
    "   - Example: `6 >= 6` returns `True`, while `5 >= 7` returns `False`.\n",
    "\n",
    "6. **Less than or equal to (`<=`)**:\n",
    "   - Checks if the value of the left operand is less than or equal to the value of the right operand.\n",
    "   - Example: `3 <= 4` returns `True`, while `8 <= 7` returns `False`."
   ]
  },
  {
   "cell_type": "code",
   "execution_count": 8,
   "metadata": {},
   "outputs": [
    {
     "data": {
      "text/plain": [
       "False"
      ]
     },
     "execution_count": 8,
     "metadata": {},
     "output_type": "execute_result"
    }
   ],
   "source": [
    "5 == 4"
   ]
  },
  {
   "cell_type": "code",
   "execution_count": 9,
   "metadata": {},
   "outputs": [
    {
     "data": {
      "text/plain": [
       "True"
      ]
     },
     "execution_count": 9,
     "metadata": {},
     "output_type": "execute_result"
    }
   ],
   "source": [
    "3 != 4"
   ]
  },
  {
   "cell_type": "code",
   "execution_count": 10,
   "metadata": {},
   "outputs": [
    {
     "data": {
      "text/plain": [
       "True"
      ]
     },
     "execution_count": 10,
     "metadata": {},
     "output_type": "execute_result"
    }
   ],
   "source": [
    "9 > 6"
   ]
  },
  {
   "cell_type": "code",
   "execution_count": 11,
   "metadata": {},
   "outputs": [
    {
     "data": {
      "text/plain": [
       "True"
      ]
     },
     "execution_count": 11,
     "metadata": {},
     "output_type": "execute_result"
    }
   ],
   "source": [
    "2 < 8"
   ]
  },
  {
   "cell_type": "code",
   "execution_count": 12,
   "metadata": {},
   "outputs": [
    {
     "data": {
      "text/plain": [
       "True"
      ]
     },
     "execution_count": 12,
     "metadata": {},
     "output_type": "execute_result"
    }
   ],
   "source": [
    "6 >= 6"
   ]
  },
  {
   "cell_type": "code",
   "execution_count": 5,
   "metadata": {},
   "outputs": [
    {
     "data": {
      "text/plain": [
       "True"
      ]
     },
     "execution_count": 5,
     "metadata": {},
     "output_type": "execute_result"
    }
   ],
   "source": [
    "3 <= 4"
   ]
  },
  {
   "attachments": {},
   "cell_type": "markdown",
   "metadata": {},
   "source": [
    "Comparison operators play a crucial role in control structures like `if`, `elif`, and `else` statements, as well as loops. They enable our programs to make decisions and take different actions based on specific conditions, making our code dynamic and responsive to different scenarios."
   ]
  },
  {
   "attachments": {},
   "cell_type": "markdown",
   "metadata": {},
   "source": [
    "## Exercise: \n",
    "\n",
    "**Exercise 1:** Write a Python program to calculate the area and perimeter of a rectangle with width 7 and height 5. Use arithmetic operators to calculate both values.\n",
    "\n",
    "**Exercise 2:** Given three grades, 88, 76, and 91, write a Python script to calculate the average grade. Use variables to store the grades and the arithmetic operators to calculate the average.\n",
    "\n",
    "**Exercise 3:** Assume you have $1000 USD and you want to convert it to Euros. The conversion rate is 1 USD to 0.85 Euros. Write a Python program to calculate how many Euros you will get after conversion.\n",
    "\n",
    "**Exercise 4:** The formula for a straight line is $y = mx + b$. if $m = 5$, $b = 2$, and $y = 32$, write a Python program to solve for x.\n",
    "\n",
    "**Exercise 5:** Write a Python script that checks if today's temperature is higher than yesterday's. Yesterday's temperature was 23 degrees Celsius, and today's is 25 degrees Celsius. Use comparison operators to find out the result.\n",
    "\n",
    "**Exercise 6:** Given a passing score of 50, write a Python program to check if a student's score of 47 qualifies as a pass or fail using comparison operators.\n",
    "\n",
    "**Exercise 7:** Write a Python script that determines if a given number $n$ is odd or even. Use the modulus operator for your check and print out \"Odd\" or \"Even\".\n",
    "\n",
    "**Exercise 8:** Write a Python program where you compare the ages of two people, Alice and Bob, who are 24 and 30 years old, respectively. Check if Alice is older than Bob, and print a message stating whether it's true or false.\n"
   ]
  },
  {
   "attachments": {},
   "cell_type": "markdown",
   "metadata": {},
   "source": [
    "## Logical Operators\n",
    "\n",
    "Logical operators are used to combine multiple conditions and determine the truth value of an expression. They are essential for making complex decisions in our code based on multiple criteria."
   ]
  },
  {
   "attachments": {},
   "cell_type": "markdown",
   "metadata": {},
   "source": [
    "Here's a breakdown of the logical operators in Python:\n",
    "\n",
    "1. **AND (`and`)**:\n",
    "   - Returns `True` if both the operands are true.\n",
    "   - Example: `(5 > 3) and (6 < 9)` returns `True`.\n",
    "\n",
    "2. **OR (`or`)**:\n",
    "   - Returns `True` if at least one of the operands is true.\n",
    "   - Example: `(5 < 3) or (6 < 9)` returns `True`.\n",
    "\n",
    "3. **NOT (`not`)**:\n",
    "   - Inverts the truth value of the operand.\n",
    "   - Example: `not(5 > 3)` returns `False`."
   ]
  },
  {
   "attachments": {},
   "cell_type": "markdown",
   "metadata": {},
   "source": [
    "<font color='#FF69B4'>**Note:**</font> Here are some key points to remember about logical operators:\n",
    "\n",
    "> - The `and` operator evaluates the left operand first. If it's `False`, the whole expression is `False`, and the right operand is not evaluated. This is known as short-circuit evaluation.\n",
    "  \n",
    "> - Similarly, the `or` operator evaluates the left operand first. If it's `True`, the whole expression is `True`, and the right operand is not evaluated.\n",
    "\n",
    "> - The `not` operator has the highest precedence among logical operators, followed by `and`, and then `or`."
   ]
  },
  {
   "attachments": {},
   "cell_type": "markdown",
   "metadata": {},
   "source": [
    "<div style='text-align: center'>\n",
    "    <img src='https://www.askpython.com/wp-content/uploads/2019/12/python-logical-operators-flowchart.png' alt='python-operators-expression' title='Python Logical Operators'/>\n",
    "</div>"
   ]
  },
  {
   "cell_type": "code",
   "execution_count": 1,
   "metadata": {},
   "outputs": [
    {
     "data": {
      "text/plain": [
       "True"
      ]
     },
     "execution_count": 1,
     "metadata": {},
     "output_type": "execute_result"
    }
   ],
   "source": [
    "(24 > 9) and (9 < 12)"
   ]
  },
  {
   "cell_type": "code",
   "execution_count": 2,
   "metadata": {},
   "outputs": [
    {
     "data": {
      "text/plain": [
       "True"
      ]
     },
     "execution_count": 2,
     "metadata": {},
     "output_type": "execute_result"
    }
   ],
   "source": [
    "(5 < 3 ) or (6 < 9)"
   ]
  },
  {
   "cell_type": "code",
   "execution_count": 3,
   "metadata": {},
   "outputs": [
    {
     "data": {
      "text/plain": [
       "False"
      ]
     },
     "execution_count": 3,
     "metadata": {},
     "output_type": "execute_result"
    }
   ],
   "source": [
    "not (5 > 3)"
   ]
  },
  {
   "attachments": {},
   "cell_type": "markdown",
   "metadata": {},
   "source": [
    "> <font color='#FF69B4'>**Note:**</font>  \n",
    "> Logical operators are crucial for building complex conditions in our code.  \n",
    "> They allow us to combine multiple conditions and make decisions based on the combined result.  \n",
    "> This capability is especially useful in conditional statements, loops, and filtering data based on multiple criteria"
   ]
  },
  {
   "attachments": {},
   "cell_type": "markdown",
   "metadata": {},
   "source": [
    "## Assignment Operators\n",
    "\n",
    "Assignment operators are used to assign values to variables. They can also perform certain operations and simultaneously update the value of a variable. This makes our code more concise and easier to read."
   ]
  },
  {
   "attachments": {},
   "cell_type": "markdown",
   "metadata": {},
   "source": [
    "Here's a summary of the assignment operators in Python:\n",
    "\n",
    "1. **Equal (`=`)**:\n",
    "   - Assigns the value of the right operand to the left operand.\n",
    "   - Example: `x = 5` assigns the value `5` to the variable `x`.\n",
    "\n",
    "2. **Add and assign (`+=`)**:\n",
    "   - Adds the right operand to the left operand and assigns the result to the left operand.\n",
    "   - Example: `x += 3` is equivalent to `x = x + 3`.\n",
    "\n",
    "3. **Subtract and assign (`-=`)**:\n",
    "   - Subtracts the right operand from the left operand and assigns the result to the left operand.\n",
    "   - Example: `x -= 2` is equivalent to `x = x - 2`.\n",
    "\n",
    "4. **Multiply and assign (`*=`)**:\n",
    "   - Multiplies the left operand by the right operand and assigns the result to the left operand.\n",
    "   - Example: `x *= 4` is equivalent to `x = x * 4`.\n",
    "\n",
    "5. **Divide and assign (`/=`)**:\n",
    "   - Divides the left operand by the right operand and assigns the result to the left operand.\n",
    "   - Example: `x /= 2` is equivalent to `x = x / 2`.\n",
    "\n",
    "6. **Floor divide and assign (`//=`)**:\n",
    "   - Performs floor division on operands and assigns the result to the left operand.\n",
    "   - Example: `x //= 3` is equivalent to `x = x // 3`.\n",
    "\n",
    "7. **Modulus and assign (`%=`)**:\n",
    "   - Takes the modulus of the left operand by the right operand and assigns the result to the left operand.\n",
    "   - Example: `x %= 4` is equivalent to `x = x % 4`.\n",
    "\n",
    "8. **Exponent and assign (`**=`)**:\n",
    "   - Raises the left operand to the power of the right operand and assigns the result to the left operand.\n",
    "   - Example: `x **= 2` is equivalent to `x = x ** 2`."
   ]
  },
  {
   "cell_type": "code",
   "execution_count": 6,
   "metadata": {},
   "outputs": [
    {
     "data": {
      "text/plain": [
       "10"
      ]
     },
     "execution_count": 6,
     "metadata": {},
     "output_type": "execute_result"
    }
   ],
   "source": [
    "x = 7\n",
    "x += 3\n",
    "x"
   ]
  },
  {
   "cell_type": "code",
   "execution_count": 7,
   "metadata": {},
   "outputs": [
    {
     "data": {
      "text/plain": [
       "6"
      ]
     },
     "execution_count": 7,
     "metadata": {},
     "output_type": "execute_result"
    }
   ],
   "source": [
    "x -= 4\n",
    "x"
   ]
  },
  {
   "cell_type": "code",
   "execution_count": 22,
   "metadata": {},
   "outputs": [
    {
     "data": {
      "text/plain": [
       "42"
      ]
     },
     "execution_count": 22,
     "metadata": {},
     "output_type": "execute_result"
    }
   ],
   "source": [
    "x *= 7\n",
    "x"
   ]
  },
  {
   "cell_type": "code",
   "execution_count": 23,
   "metadata": {},
   "outputs": [
    {
     "data": {
      "text/plain": [
       "21.0"
      ]
     },
     "execution_count": 23,
     "metadata": {},
     "output_type": "execute_result"
    }
   ],
   "source": [
    "x /= 2\n",
    "x"
   ]
  },
  {
   "cell_type": "code",
   "execution_count": 24,
   "metadata": {},
   "outputs": [
    {
     "data": {
      "text/plain": [
       "5.0"
      ]
     },
     "execution_count": 24,
     "metadata": {},
     "output_type": "execute_result"
    }
   ],
   "source": [
    "x //= 4\n",
    "x"
   ]
  },
  {
   "cell_type": "code",
   "execution_count": 25,
   "metadata": {},
   "outputs": [
    {
     "data": {
      "text/plain": [
       "2.0"
      ]
     },
     "execution_count": 25,
     "metadata": {},
     "output_type": "execute_result"
    }
   ],
   "source": [
    "x %= 3\n",
    "x"
   ]
  },
  {
   "cell_type": "code",
   "execution_count": 26,
   "metadata": {},
   "outputs": [
    {
     "data": {
      "text/plain": [
       "8.0"
      ]
     },
     "execution_count": 26,
     "metadata": {},
     "output_type": "execute_result"
    }
   ],
   "source": [
    "x **=3\n",
    "x"
   ]
  },
  {
   "attachments": {},
   "cell_type": "markdown",
   "metadata": {},
   "source": [
    "<font color='#FF69B4'>**Takeaway:**</font> Assignment operators simplify our code by allowing us to perform operations and update variable values in a `single step`. They are especially useful in loops and repetitive tasks where variables need frequent updates."
   ]
  },
  {
   "attachments": {},
   "cell_type": "markdown",
   "metadata": {},
   "source": [
    "## Membership Operators\n",
    "\n",
    "Membership operators are used to test whether a value is a member of a sequence, such as a list, tuple, string, or set. They allow us to quickly check for the presence or absence of a specific value in a collection."
   ]
  },
  {
   "attachments": {},
   "cell_type": "markdown",
   "metadata": {},
   "source": [
    "Here's an overview of the membership operators in Python:\n",
    "\n",
    "1. **`in`**:\n",
    "   - Returns `True` if a value is found in the sequence.\n",
    "   - Example: `'a' in 'hello'` returns `False`.\n",
    "\n",
    "2. **`not in`**:\n",
    "   - Returns `True` if a value is not found in the sequence.\n",
    "   - Example: `'h' not in 'hello'` returns `False`."
   ]
  },
  {
   "attachments": {},
   "cell_type": "markdown",
   "metadata": {},
   "source": [
    "Here are some key points to remember about membership operators:\n",
    "\n",
    "- Membership operators are especially useful in conditional statements to make decisions based on the presence or absence of specific values in collections.\n",
    "\n",
    "- They provide a concise way to check for membership without the need for loops or other more complex methods."
   ]
  },
  {
   "cell_type": "code",
   "execution_count": 27,
   "metadata": {},
   "outputs": [
    {
     "data": {
      "text/plain": [
       "False"
      ]
     },
     "execution_count": 27,
     "metadata": {},
     "output_type": "execute_result"
    }
   ],
   "source": [
    "'g' in 'Kevin'"
   ]
  },
  {
   "cell_type": "code",
   "execution_count": 28,
   "metadata": {},
   "outputs": [
    {
     "data": {
      "text/plain": [
       "False"
      ]
     },
     "execution_count": 28,
     "metadata": {},
     "output_type": "execute_result"
    }
   ],
   "source": [
    "'e' not in 'Kevin'"
   ]
  },
  {
   "cell_type": "code",
   "execution_count": 8,
   "metadata": {},
   "outputs": [
    {
     "data": {
      "text/plain": [
       "False"
      ]
     },
     "execution_count": 8,
     "metadata": {},
     "output_type": "execute_result"
    }
   ],
   "source": [
    "'k' in 'Kevin'"
   ]
  },
  {
   "attachments": {},
   "cell_type": "markdown",
   "metadata": {},
   "source": [
    "## <font color='#FFA500'>**Operator Precedence and Associativity**</font>\n",
    "\n",
    "In Python, as in many programming languages, not all operators are created equal. Some operators have higher precedence than others, meaning they are evaluated before others in an expression. \n",
    "\n",
    "Understanding operator precedence and associativity is crucial to correctly interpret and write expressions, especially complex ones."
   ]
  },
  {
   "cell_type": "code",
   "execution_count": null,
   "metadata": {},
   "outputs": [],
   "source": [
    "result = 5 + 3 * 2 - 8 / 4"
   ]
  },
  {
   "attachments": {},
   "cell_type": "markdown",
   "metadata": {},
   "source": [
    "### Operator Precedence\n",
    "\n",
    "Operator precedence determines the order in which operators are evaluated in an expression. Operators with `higher` precedence are evaluated before those with `lower` precedence. \n",
    "\n",
    "Here's a general order of operator precedence in Python, from highest to lowest:\n",
    "\n",
    "1. Parentheses `()`\n",
    "2. Exponentiation `**`\n",
    "3. Unary operators `+`, `-` (positive, negative)\n",
    "4. Multiplication, Division, Floor Division, and Modulus `*`, `/`, `//`, `%`\n",
    "5. Addition and Subtraction `+`, `-`\n",
    "6. Relational Operators `==`, `!=`, `<`, `<=`, `>`, `>=`\n",
    "7. Membership Operators `in`, `not in`\n",
    "8. Identity Operators `is`, `is not`\n",
    "9. Logical NOT `not`\n",
    "10. Logical AND `and`\n",
    "11. Logical OR `or`"
   ]
  },
  {
   "attachments": {},
   "cell_type": "markdown",
   "metadata": {},
   "source": [
    "### Associativity\n",
    "\n",
    "Associativity determines the order in which operators of the same precedence are evaluated. Most operators in Python are left-associative, meaning they are evaluated from left to right. \n",
    "\n",
    "- Since both subtraction `-` and addition `+` operators have the same precedence and are left-associative, Python evaluates the expression `10 - 4 + 2` results in `8`.\n",
    "\n",
    "However, there are <font color='#FF69B4'>**exceptions**</font>:\n",
    "\n",
    "- The exponentiation operator `**` is right-associative. For example, in the expression `2 ** 3 ** 2`, the rightmost `**` is evaluated first, resulting in `2 ** 9`, which equals `512`."
   ]
  },
  {
   "attachments": {},
   "cell_type": "markdown",
   "metadata": {},
   "source": [
    "## Here are some key points to remember: \n",
    "\n",
    "- Write the expressions simple.\n",
    "- Always use parentheses.\n",
    "- Avoid overcomplicating. \n",
    "- Use proper (descriptive) variable names.\n",
    "- Comment your code. "
   ]
  },
  {
   "cell_type": "code",
   "execution_count": 32,
   "metadata": {},
   "outputs": [],
   "source": [
    "# Instead of:\n",
    "x = 5 + 3 * 2 - 8 / 4\n",
    "\n",
    "# Use:\n",
    "x = 5 + (3 * 2) - (8 / 4)"
   ]
  },
  {
   "cell_type": "code",
   "execution_count": 37,
   "metadata": {},
   "outputs": [],
   "source": [
    "a, b, c, d, e, f, g = 1, 2, 3, 4, 5, 6, 7\n",
    "\n",
    "# Instead of:\n",
    "result = a + b * c / d - e ** f # This is not good\n",
    "\n",
    "# Use:\n",
    "var1 = (b * c) / d\n",
    "var2 = e ** f\n",
    "result = a + var1 - var2"
   ]
  },
  {
   "attachments": {},
   "cell_type": "markdown",
   "metadata": {},
   "source": [
    "## (=) vs. (==) vs. (is)"
   ]
  },
  {
   "cell_type": "code",
   "execution_count": 9,
   "metadata": {},
   "outputs": [],
   "source": [
    "a = [1, 2, 3] # Assigns a list to 'a'\n",
    "b = [1, 2, 3] # Assigns a list to 'b'\n",
    "\n",
    "c = a         # 'c' now refers to the same list as 'a'"
   ]
  },
  {
   "attachments": {},
   "cell_type": "markdown",
   "metadata": {},
   "source": [
    "### Equality Check"
   ]
  },
  {
   "cell_type": "code",
   "execution_count": 39,
   "metadata": {},
   "outputs": [
    {
     "name": "stdout",
     "output_type": "stream",
     "text": [
      "True\n"
     ]
    }
   ],
   "source": [
    "print(a == b) # True, becuase 'a' and 'b' have the same contents"
   ]
  },
  {
   "attachments": {},
   "cell_type": "markdown",
   "metadata": {},
   "source": [
    "### Identity Check"
   ]
  },
  {
   "cell_type": "code",
   "execution_count": 41,
   "metadata": {},
   "outputs": [
    {
     "name": "stdout",
     "output_type": "stream",
     "text": [
      "False\n"
     ]
    }
   ],
   "source": [
    "print(a is b) # False, because 'a' and 'b' refer to two different objects in memory"
   ]
  },
  {
   "cell_type": "code",
   "execution_count": 42,
   "metadata": {},
   "outputs": [
    {
     "name": "stdout",
     "output_type": "stream",
     "text": [
      "True\n"
     ]
    }
   ],
   "source": [
    "print(a is c) # True, becuase 'a' and 'c' refer to the same object in memory"
   ]
  },
  {
   "cell_type": "code",
   "execution_count": 10,
   "metadata": {},
   "outputs": [
    {
     "data": {
      "text/plain": [
       "140567034190336"
      ]
     },
     "execution_count": 10,
     "metadata": {},
     "output_type": "execute_result"
    }
   ],
   "source": [
    "id(a)"
   ]
  },
  {
   "cell_type": "code",
   "execution_count": 11,
   "metadata": {},
   "outputs": [
    {
     "data": {
      "text/plain": [
       "140567033982720"
      ]
     },
     "execution_count": 11,
     "metadata": {},
     "output_type": "execute_result"
    }
   ],
   "source": [
    "id(b)"
   ]
  },
  {
   "cell_type": "code",
   "execution_count": 12,
   "metadata": {},
   "outputs": [
    {
     "data": {
      "text/plain": [
       "140567034190336"
      ]
     },
     "execution_count": 12,
     "metadata": {},
     "output_type": "execute_result"
    }
   ],
   "source": [
    "id(c)"
   ]
  },
  {
   "attachments": {},
   "cell_type": "markdown",
   "metadata": {},
   "source": [
    "### Another Example:"
   ]
  },
  {
   "cell_type": "code",
   "execution_count": 52,
   "metadata": {},
   "outputs": [
    {
     "name": "stdout",
     "output_type": "stream",
     "text": [
      "False\n"
     ]
    }
   ],
   "source": [
    "name_1 = 'Jack Doe'\n",
    "name_2 = 'Jack Doe'\n",
    "print(name_1 is name_2)"
   ]
  },
  {
   "cell_type": "code",
   "execution_count": 53,
   "metadata": {},
   "outputs": [
    {
     "data": {
      "text/plain": [
       "140657914795568"
      ]
     },
     "execution_count": 53,
     "metadata": {},
     "output_type": "execute_result"
    }
   ],
   "source": [
    "id(name_1)"
   ]
  },
  {
   "cell_type": "code",
   "execution_count": 54,
   "metadata": {},
   "outputs": [
    {
     "data": {
      "text/plain": [
       "140657911722096"
      ]
     },
     "execution_count": 54,
     "metadata": {},
     "output_type": "execute_result"
    }
   ],
   "source": [
    "id(name_2)"
   ]
  }
 ],
 "metadata": {
  "kernelspec": {
   "display_name": "base",
   "language": "python",
   "name": "python3"
  },
  "language_info": {
   "codemirror_mode": {
    "name": "ipython",
    "version": 3
   },
   "file_extension": ".py",
   "mimetype": "text/x-python",
   "name": "python",
   "nbconvert_exporter": "python",
   "pygments_lexer": "ipython3",
   "version": "3.10.9"
  },
  "orig_nbformat": 4
 },
 "nbformat": 4,
 "nbformat_minor": 2
}
