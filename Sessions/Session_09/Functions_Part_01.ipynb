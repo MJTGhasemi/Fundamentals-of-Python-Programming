{
 "cells": [
  {
   "attachments": {},
   "cell_type": "markdown",
   "metadata": {},
   "source": [
    "# <font color='#98FB98'>**Functions in Python | Part 1**</font> "
   ]
  },
  {
   "attachments": {},
   "cell_type": "markdown",
   "metadata": {},
   "source": [
    "Functions are the building blocks of reusable, organized, and efficient code.  \n",
    "They are a fundamental concept in programming, much like their counterparts in mathematics.  \n",
    "However, the functions we use in programming go beyond the simple input-output mapping you might have encountered in math class."
   ]
  },
  {
   "attachments": {},
   "cell_type": "markdown",
   "metadata": {},
   "source": [
    "Let's consider the mathematical function where `y = f(x)`. This notation describes a relationship where `f` transforms inputs `x` into an output `y`. "
   ]
  },
  {
   "attachments": {},
   "cell_type": "markdown",
   "metadata": {},
   "source": [
    "<div style='text-align: center'>\n",
    "    <img src='https://www.onlinemathlearning.com/image-files/function-notation.png' alt='functions' title='functions_math' width='600' height='400'/>\n",
    "</div>"
   ]
  },
  {
   "attachments": {},
   "cell_type": "markdown",
   "metadata": {},
   "source": [
    "Similarly, in programming, a function can take inputs (known as parameters), perform operations, and return an output. But that's just the beginning. \n",
    "\n",
    "Programming functions can do infinitely more—they can: \n",
    "- execute complex blocks of code\n",
    "- handle various tasks\n",
    "- create abstractions that make software development more modular and error-free\n",
    "- allow you to write code once and use it multiple times throughout your program, which is a fundamental aspect of the **DRY (Don't Repeat Yourself)** principle"
   ]
  },
  {
   "attachments": {},
   "cell_type": "markdown",
   "metadata": {},
   "source": [
    "<div style='text-align: center'>\n",
    "    <img src='https://ourcodingclub.github.io/assets/img/tutorials/python_crash_course/python_crash_course-function_diagram.png' alt='functions' title='functions_python' width='400' height='400'/>\n",
    "</div>"
   ]
  },
  {
   "attachments": {},
   "cell_type": "markdown",
   "metadata": {},
   "source": [
    "Functions concept is not limited to math or programming. Functions describe a wide range of processes in the real world.  \n",
    "For example, a vending machine is a function that takes an input (cash), performs a series of operations (processing, verifying, and pushing), and produces an output (a product). \n",
    "\n",
    "Similarly, a factory is a function that takes raw materials as input, performs various operations (cutting, shaping, assembling, etc.), and produces finished products as output. In the same way, a function in programming takes inputs, performs operations, and produces outputs."
   ]
  },
  {
   "attachments": {},
   "cell_type": "markdown",
   "metadata": {},
   "source": [
    "<div style='text-align: center'>\n",
    "    <img src='https://www.katesmathlessons.com/uploads/1/6/1/0/1610286/editor/vending-machine-function-input-output.png?1487253716' alt='functions' title='vending' width='400' height='400'/>\n",
    "</div>"
   ]
  },
  {
   "attachments": {},
   "cell_type": "markdown",
   "metadata": {},
   "source": [
    "Up to this point, you've already seen some built-in functions like `id()`, which returns a unique identifier for an object, or `len()`, which tells you how many items are in a container.  \n",
    "These functions encapsulate specific tasks that you can leverage without needing to know the complications of their internal workings."
   ]
  },
  {
   "cell_type": "code",
   "execution_count": 35,
   "metadata": {},
   "outputs": [
    {
     "name": "stdout",
     "output_type": "stream",
     "text": [
      "140486778555376\n"
     ]
    }
   ],
   "source": [
    "s = 'foobar'\n",
    "print(id(s))  # Outputs the unique identifier for the string object 's'"
   ]
  },
  {
   "cell_type": "code",
   "execution_count": 36,
   "metadata": {},
   "outputs": [
    {
     "name": "stdout",
     "output_type": "stream",
     "text": [
      "4\n"
     ]
    }
   ],
   "source": [
    "a = ['foo', 'bar', 'baz', 'qux']\n",
    "print(len(a))  # Outputs the number of items in the list 'a'"
   ]
  },
  {
   "attachments": {},
   "cell_type": "markdown",
   "metadata": {},
   "source": [
    "<font color='#FF69B4'>**Note:**</font> By learning how to define your own functions, you'll gain control over the modularity and reusability of your code. You'll write functions that can be called from anywhere within your program, passing data in and out, and facilitating a smooth workflow."
   ]
  },
  {
   "attachments": {},
   "cell_type": "markdown",
   "metadata": {},
   "source": [
    "## <font color='#FFA500'>**Introducing a few Concepts**</font> "
   ]
  },
  {
   "attachments": {},
   "cell_type": "markdown",
   "metadata": {},
   "source": [
    "### `Abstraction and Reusability`"
   ]
  },
  {
   "attachments": {},
   "cell_type": "markdown",
   "metadata": {},
   "source": [
    "Consider a scenario where you have crafted a snippet of code that calculates the average of a list of numbers. As your codebase grows, you find yourself calculating averages in various parts of your application. Copying and pasting this code everywhere is tempting, but it comes with a high maintenance cost. When a change is necessary, it requires updating the logic at every occurrence, risking inconsistency and bugs."
   ]
  },
  {
   "attachments": {},
   "cell_type": "markdown",
   "metadata": {},
   "source": [
    "The elegant solution is to encapsulate the average-calculation logic within a function:"
   ]
  },
  {
   "attachments": {},
   "cell_type": "markdown",
   "metadata": {},
   "source": [
    "```python\n",
    "def calculate_average(numbers):\n",
    "    return sum(numbers) / len(numbers)\n",
    "```"
   ]
  },
  {
   "attachments": {},
   "cell_type": "markdown",
   "metadata": {},
   "source": [
    "Now, whenever you need to calculate an average, you can call `calculate_average(numbers)`, and you're done. Any future modifications to this logic only need to be made in one place. This abstraction encourages reusability and adheres to the DRY (Don't Repeat Yourself) principle, saving time and reducing errors."
   ]
  },
  {
   "attachments": {},
   "cell_type": "markdown",
   "metadata": {},
   "source": [
    "### `Modularity`"
   ]
  },
  {
   "attachments": {},
   "cell_type": "markdown",
   "metadata": {},
   "source": [
    "Modularity is about breaking down a complex system into manageable, interchangeable components. Just as you might approach a physical task like organizing a room by breaking it down into steps, you can structure programs into modules, each with a specific responsibility."
   ]
  },
  {
   "attachments": {},
   "cell_type": "markdown",
   "metadata": {},
   "source": [
    "Let's consider the file processing example mentioned earlier. Refactoring it into functions not only makes the code cleaner but also enhances comprehension and maintainability:"
   ]
  },
  {
   "attachments": {},
   "cell_type": "markdown",
   "metadata": {},
   "source": [
    "```python\n",
    "def read_file(filepath):\n",
    "    # Logic to read from a file\n",
    "    pass\n",
    "\n",
    "def process_data(data):\n",
    "    # Transform data\n",
    "    pass\n",
    "\n",
    "def write_file(filepath, data):\n",
    "    # Write processed data to a file\n",
    "    pass\n",
    "\n",
    "# Main program flow\n",
    "file_contents = read_file('input.txt')\n",
    "processed_data = process_data(file_contents)\n",
    "write_file('output.txt', processed_data)\n",
    "```"
   ]
  },
  {
   "attachments": {},
   "cell_type": "markdown",
   "metadata": {},
   "source": [
    "Each function handles a distinct aspect of the program, simplifying the development and debugging process."
   ]
  },
  {
   "attachments": {},
   "cell_type": "markdown",
   "metadata": {},
   "source": [
    "### `Namespace Separation`"
   ]
  },
  {
   "attachments": {},
   "cell_type": "markdown",
   "metadata": {},
   "source": [
    "In Python, every function defines its own namespace, which means that variables declared inside a function are local to that function and separate from variables with the same name outside the function. This isolation prevents variable name conflicts and makes the code more predictable and less error-prone."
   ]
  },
  {
   "attachments": {},
   "cell_type": "markdown",
   "metadata": {},
   "source": [
    "Consider two functions, each defining a variable named `temp`:"
   ]
  },
  {
   "attachments": {},
   "cell_type": "markdown",
   "metadata": {},
   "source": [
    "```python\n",
    "def function_a():\n",
    "    temp = \"I'm local to function_a\"\n",
    "    return temp\n",
    "\n",
    "def function_b():\n",
    "    temp = \"I'm local to function_b\"\n",
    "    return temp\n",
    "\n",
    "# No interference occurs between the two 'temp' variables\n",
    "print(function_a())  # Output: I'm local to function_a\n",
    "print(function_b())  # Output: I'm local to function_b\n",
    "```"
   ]
  },
  {
   "attachments": {},
   "cell_type": "markdown",
   "metadata": {},
   "source": [
    "This separation allows developers to write functions with clean and self-contained logic, knowing that their local variables will not affect or be affected by the rest of the program."
   ]
  },
  {
   "attachments": {},
   "cell_type": "markdown",
   "metadata": {},
   "source": [
    "Understanding and leveraging these principles will help your students write Python functions that are clear, maintainable, and efficient. With this foundation, they will be prepared to tackle more advanced topics and build complex Python applications with confidence."
   ]
  },
  {
   "attachments": {},
   "cell_type": "markdown",
   "metadata": {},
   "source": [
    "## <font color='#FFA500'>**Creating Your First Function**</font> "
   ]
  },
  {
   "attachments": {},
   "cell_type": "markdown",
   "metadata": {},
   "source": [
    "Creating a function in Python is a straightforward process that allows you to encapsulate code for reuse and organization. Let's dive into the syntax and build your first simple function step by step."
   ]
  },
  {
   "attachments": {},
   "cell_type": "markdown",
   "metadata": {},
   "source": [
    "### `Function Definition Syntax`"
   ]
  },
  {
   "attachments": {},
   "cell_type": "markdown",
   "metadata": {},
   "source": [
    "To define a function in Python, you use the following structure:"
   ]
  },
  {
   "attachments": {},
   "cell_type": "markdown",
   "metadata": {},
   "source": [
    "```python\n",
    "def function_name(parameters):\n",
    "    statements\n",
    "```"
   ]
  },
  {
   "attachments": {},
   "cell_type": "markdown",
   "metadata": {},
   "source": [
    "Here's a breakdown of what each part of this syntax represents:"
   ]
  },
  {
   "attachments": {},
   "cell_type": "markdown",
   "metadata": {},
   "source": [
    "- `def`: A keyword that tells Python a function is about to be defined.\n",
    "- **Function Name**: A name you give to your function. It should be descriptive and follow standard Python naming conventions.\n",
    "- **Parameters**: These are optional variables that you can pass to the function. They are placeholders for the actual values (arguments) that the function will work with when it is called.\n",
    "- **Body**: The indented block of code that will execute each time the function is called. This is the function's body, where the magic happens."
   ]
  },
  {
   "attachments": {},
   "cell_type": "markdown",
   "metadata": {},
   "source": [
    "<div style='text-align: center'>\n",
    "    <img src=\"images/functions_info.png\" alt=\"Alt text\" width=\"400\" height=\"400\"/>\n",
    "</div>"
   ]
  },
  {
   "attachments": {},
   "cell_type": "markdown",
   "metadata": {},
   "source": [
    "### `Function Calling Syntax`"
   ]
  },
  {
   "attachments": {},
   "cell_type": "markdown",
   "metadata": {},
   "source": [
    "When you want to use your function, you call it by its name followed by parentheses, like so:"
   ]
  },
  {
   "attachments": {},
   "cell_type": "markdown",
   "metadata": {},
   "source": [
    "```python\n",
    "function_name(arguments)\n",
    "```"
   ]
  },
  {
   "attachments": {},
   "cell_type": "markdown",
   "metadata": {},
   "source": [
    "If your function requires parameters, you'll include the corresponding arguments inside the parentheses. If no parameters are needed, you still use the parentheses, but you'll leave them empty."
   ]
  },
  {
   "attachments": {},
   "cell_type": "markdown",
   "metadata": {},
   "source": [
    "### `Your First Function`"
   ]
  },
  {
   "attachments": {},
   "cell_type": "markdown",
   "metadata": {},
   "source": [
    "Let's create a simple function named `greet` that prints a greeting message:"
   ]
  },
  {
   "cell_type": "code",
   "execution_count": 3,
   "metadata": {},
   "outputs": [],
   "source": [
    "def greet():\n",
    "    print('Hello there, welcome to Python functions! My name is MJ')"
   ]
  },
  {
   "attachments": {},
   "cell_type": "markdown",
   "metadata": {},
   "source": [
    "To call this function, you simply write:"
   ]
  },
  {
   "cell_type": "code",
   "execution_count": 4,
   "metadata": {},
   "outputs": [
    {
     "name": "stdout",
     "output_type": "stream",
     "text": [
      "Hello there, welcome to Python functions! My name is MJ\n"
     ]
    }
   ],
   "source": [
    "greet()"
   ]
  },
  {
   "attachments": {},
   "cell_type": "markdown",
   "metadata": {},
   "source": [
    "When you run the above code, you'll see the greeting message printed to the console."
   ]
  },
  {
   "attachments": {},
   "cell_type": "markdown",
   "metadata": {},
   "source": [
    "### `Using Parameters`"
   ]
  },
  {
   "attachments": {},
   "cell_type": "markdown",
   "metadata": {},
   "source": [
    "Now, let's enhance your function by adding a parameter so you can greet someone by name:"
   ]
  },
  {
   "cell_type": "code",
   "execution_count": 5,
   "metadata": {},
   "outputs": [],
   "source": [
    "def greet(name):\n",
    "    print(f'Hello, {name}! Welcome to Python functions!')"
   ]
  },
  {
   "attachments": {},
   "cell_type": "markdown",
   "metadata": {},
   "source": [
    "Calling this function with an argument looks like this:"
   ]
  },
  {
   "cell_type": "code",
   "execution_count": 6,
   "metadata": {},
   "outputs": [
    {
     "name": "stdout",
     "output_type": "stream",
     "text": [
      "Hello, Michael Scott! Welcome to Python functions!\n"
     ]
    }
   ],
   "source": [
    "greet('Michael Scott')"
   ]
  },
  {
   "attachments": {},
   "cell_type": "markdown",
   "metadata": {},
   "source": [
    "<div style='text-align: center'>\n",
    "    <img src=\"https://media.licdn.com/dms/image/D4D08AQGitEEzk6DYpA/croft-frontend-shrinkToFit1024/0/1678725602920?e=2147483647&v=beta&t=VF-q5kYf66TQk2pkWwg0PskD6MhRtvmjlniPbCJgQ9k\" alt=\"Alt text\" width=\"600\" height=\"600\"/>\n",
    "</div>"
   ]
  },
  {
   "attachments": {},
   "cell_type": "markdown",
   "metadata": {},
   "source": [
    "## <font color='#FFA500'>**Placeholder Functions with `pass`**</font> "
   ]
  },
  {
   "attachments": {},
   "cell_type": "markdown",
   "metadata": {},
   "source": [
    "Sometimes, you may want to define the structure of a function but delay writing its content. In Python, the `pass` statement can be used for this purpose:"
   ]
  },
  {
   "cell_type": "code",
   "execution_count": 9,
   "metadata": {},
   "outputs": [],
   "source": [
    "def future_function():\n",
    "    pass"
   ]
  },
  {
   "attachments": {},
   "cell_type": "markdown",
   "metadata": {},
   "source": [
    "The `future_function` can be called, but it won't do anything yet:"
   ]
  },
  {
   "cell_type": "code",
   "execution_count": 10,
   "metadata": {},
   "outputs": [],
   "source": [
    "future_function()  # Does nothing for now"
   ]
  },
  {
   "attachments": {},
   "cell_type": "markdown",
   "metadata": {},
   "source": [
    "This is useful during the early stages of development when you're sketching out the structure of your code but aren't ready to implement the details of every function."
   ]
  },
  {
   "attachments": {},
   "cell_type": "markdown",
   "metadata": {},
   "source": [
    "## <font color='#FFA500'>**Defining and Calling a Function**</font> "
   ]
  },
  {
   "attachments": {},
   "cell_type": "markdown",
   "metadata": {},
   "source": [
    "So we have learned that:  \n",
    "a function is a named sequence of statements that performs a computation or task. When you define a function, you specify the name and the sequence of statements. Later, you can \"call\" the function by name to execute the statements it contains."
   ]
  },
  {
   "attachments": {},
   "cell_type": "markdown",
   "metadata": {},
   "source": [
    "The role of functions is diverse:\n",
    "- **`Reusability`**: Once a function is defined, it can be used repeatedly throughout your program.\n",
    "- **`Modularity`**: Functions allow you to break down complex processes into smaller, manageable pieces.\n",
    "- **`Readability`**: A well-named function can make code more readable by abstracting away complex logic.\n",
    "- **`Maintainability`**: With functions, making changes in one place can affect all the related parts of your program that use the function.\n",
    "- **`Testing`**: Functions can be tested independently from the rest of the program."
   ]
  },
  {
   "attachments": {},
   "cell_type": "markdown",
   "metadata": {},
   "source": [
    "Let's consider an example where we want to calculate the square of different numbers:"
   ]
  },
  {
   "cell_type": "code",
   "execution_count": 14,
   "metadata": {},
   "outputs": [
    {
     "data": {
      "text/plain": [
       "4"
      ]
     },
     "execution_count": 14,
     "metadata": {},
     "output_type": "execute_result"
    }
   ],
   "source": [
    "# Without functions\n",
    "square_of_2 = 2 * 2\n",
    "square_of_2"
   ]
  },
  {
   "cell_type": "code",
   "execution_count": 12,
   "metadata": {},
   "outputs": [],
   "source": [
    "# Without functions\n",
    "square_of_3 = 3 * 3 "
   ]
  },
  {
   "cell_type": "code",
   "execution_count": 13,
   "metadata": {},
   "outputs": [],
   "source": [
    "# Without functions\n",
    "square_of_4 = 4 * 4"
   ]
  },
  {
   "cell_type": "code",
   "execution_count": 21,
   "metadata": {},
   "outputs": [],
   "source": [
    "# With a function\n",
    "def square(number):\n",
    "    return number * number"
   ]
  },
  {
   "cell_type": "code",
   "execution_count": 22,
   "metadata": {},
   "outputs": [
    {
     "data": {
      "text/plain": [
       "(4, 9, 16)"
      ]
     },
     "execution_count": 22,
     "metadata": {},
     "output_type": "execute_result"
    }
   ],
   "source": [
    "square(2), square(3), square(4)"
   ]
  },
  {
   "cell_type": "code",
   "execution_count": 26,
   "metadata": {},
   "outputs": [
    {
     "data": {
      "text/plain": [
       "321489"
      ]
     },
     "execution_count": 26,
     "metadata": {},
     "output_type": "execute_result"
    }
   ],
   "source": [
    "result = square(567)\n",
    "result"
   ]
  },
  {
   "attachments": {},
   "cell_type": "markdown",
   "metadata": {},
   "source": [
    "In the second example, we've defined a `square` function that takes a single argument, `number`, and returns its square.  \n",
    "This not only reduces repetition but also makes the code easier to understand and modify.  \n",
    "If we decide to change the way we calculate squares, we only have to change the code in one place: the body of the `square` function."
   ]
  },
  {
   "attachments": {},
   "cell_type": "markdown",
   "metadata": {},
   "source": [
    "### Defining Functions"
   ]
  },
  {
   "attachments": {},
   "cell_type": "markdown",
   "metadata": {},
   "source": [
    "The syntax for defining a function in Python is as follows:"
   ]
  },
  {
   "attachments": {},
   "cell_type": "markdown",
   "metadata": {},
   "source": [
    "```python\n",
    "def function_name(parameters):\n",
    "    \"\"\"Docstring (optional but recommended)\"\"\"\n",
    "    # Function body\n",
    "    # ...\n",
    "    return result  # optional\n",
    "```"
   ]
  },
  {
   "attachments": {},
   "cell_type": "markdown",
   "metadata": {},
   "source": [
    "Here's what each part means:\n",
    "- `def`: The keyword that starts the definition of a function.\n",
    "- `function_name`: The name of the function, which follows the same naming rules as variables (should begin with a letter or underscore, and can be followed by letters, digits, or underscores).\n",
    "- `parameters`: A comma-separated list of parameters (also known as arguments) that can be passed to the function. Parameters are optional; a function may have none.\n",
    "- `\"\"\"\"Docstring\"\"\"\"`: Also optional, this is a string literal that describes what the function does. Although it's optional, it is highly encouraged to include a docstring for better code documentation.\n",
    "- Function body: This is the block of code that performs the task. It is indented relative to the `def` keyword.\n",
    "- `return`: This keyword is used to exit a function and pass back a value to the caller. If there is no `return` statement, the function returns `None` by default."
   ]
  },
  {
   "attachments": {},
   "cell_type": "markdown",
   "metadata": {},
   "source": [
    "<font color='#FF69B4'>**Note:**</font> When naming functions, it is important to use descriptive names that make it clear what the function does. The naming conventions are as follows:\n",
    "- Use lowercase letters.\n",
    "- Words should be separated by underscores to improve readability (snake_case).\n",
    "- Avoid using names that are too general or too wordy.\n",
    "- Function names should be verbs if the function performs an action, and nouns if they return a certain type of data."
   ]
  },
  {
   "attachments": {},
   "cell_type": "markdown",
   "metadata": {},
   "source": [
    "#### Exercise: \n",
    "\n",
    "Create a simple function that adds two numbers together:"
   ]
  },
  {
   "cell_type": "code",
   "execution_count": 27,
   "metadata": {},
   "outputs": [],
   "source": [
    "def add_numbers(a, b):\n",
    "    \"\"\"Add two numbers and return the result.\n",
    "    @This function was created by me on March 3rd, 2025.\"\"\"\n",
    "    result = a + b\n",
    "    return result"
   ]
  },
  {
   "cell_type": "code",
   "execution_count": 29,
   "metadata": {},
   "outputs": [
    {
     "data": {
      "text/plain": [
       "68403"
      ]
     },
     "execution_count": 29,
     "metadata": {},
     "output_type": "execute_result"
    }
   ],
   "source": [
    "# Testing the function add_numbers\n",
    "add_numbers(3345, 65058)"
   ]
  },
  {
   "cell_type": "code",
   "execution_count": 28,
   "metadata": {},
   "outputs": [
    {
     "name": "stdout",
     "output_type": "stream",
     "text": [
      "Help on function add_numbers in module __main__:\n",
      "\n",
      "add_numbers(a, b)\n",
      "    Add two numbers and return the result.\n",
      "    @This function was created by me on March 3rd, 2025.\n",
      "\n"
     ]
    }
   ],
   "source": [
    "# This is how you can use help() or .__doc__ attribute to have the function docstring.\n",
    "help(add_numbers)"
   ]
  },
  {
   "cell_type": "code",
   "execution_count": 31,
   "metadata": {},
   "outputs": [
    {
     "name": "stdout",
     "output_type": "stream",
     "text": [
      "Add two numbers and return the result.\n",
      "    @This function was created by me on March 3rd, 2025.\n"
     ]
    }
   ],
   "source": [
    "print(add_numbers.__doc__)"
   ]
  },
  {
   "attachments": {},
   "cell_type": "markdown",
   "metadata": {},
   "source": [
    "### Calling Functions"
   ]
  },
  {
   "attachments": {},
   "cell_type": "markdown",
   "metadata": {},
   "source": [
    "After defining a function, the next step is to \"call\" or \"invoke\" it. To do this, you simply use the function's name followed by parentheses, including any necessary arguments within them. When you call a function, you're telling Python to execute the sequence of statements that make up the function body."
   ]
  },
  {
   "attachments": {},
   "cell_type": "markdown",
   "metadata": {},
   "source": [
    "The syntax to call a function is straightforward:\n",
    "```python\n",
    "function_name(arguments)\n",
    "```"
   ]
  },
  {
   "attachments": {},
   "cell_type": "markdown",
   "metadata": {},
   "source": [
    "Here's what each part means:\n",
    "- `function_name`: The name of the function you want to call, which should match the name you used when you defined it.\n",
    "- `arguments`: The values you pass into the function's parameters. These correspond to the parameters you specified when defining the function."
   ]
  },
  {
   "attachments": {},
   "cell_type": "markdown",
   "metadata": {},
   "source": [
    "<div style='text-align: center'>\n",
    "    <img src=\"images/functions_calling.png\" alt=\"Alt text\" width=\"600\" height=\"400\"/>\n",
    "</div>"
   ]
  },
  {
   "cell_type": "code",
   "execution_count": 32,
   "metadata": {},
   "outputs": [
    {
     "name": "stdout",
     "output_type": "stream",
     "text": [
      "My answer to this question\n"
     ]
    }
   ],
   "source": [
    "# Now we can use the add_numbers function\n",
    "a = 4\n",
    "b = 5\n",
    "add_numbers(43575687, 2)\n",
    "print(\"My answer to this question\")\n",
    "if a >= 4:\n",
    "    pass"
   ]
  },
  {
   "attachments": {},
   "cell_type": "markdown",
   "metadata": {},
   "source": [
    "<font color='#FF69B4'>**Note:**</font> If the function requires no arguments, you would still use parentheses, but leave them empty."
   ]
  },
  {
   "attachments": {},
   "cell_type": "markdown",
   "metadata": {},
   "source": [
    ">‌**It's important to note that defining a function does not execute it. Defining is like creating a recipe; calling the function is like actually cooking the dish.**"
   ]
  },
  {
   "attachments": {},
   "cell_type": "markdown",
   "metadata": {},
   "source": [
    "### The `return` Statement"
   ]
  },
  {
   "attachments": {},
   "cell_type": "markdown",
   "metadata": {},
   "source": [
    "When a function is called, Python stops the current flow of the program and jumps to the first line of the called function.  \n",
    "It executes each statement in the function body sequentially and, if the function includes a `return` statement, it returns the specified value back to the caller.  \n",
    "After the function is executed (or returns a value), the flow of execution returns to the point where the function was called and continues with the next statement."
   ]
  },
  {
   "attachments": {},
   "cell_type": "markdown",
   "metadata": {},
   "source": [
    "The `return` statement is used within a function to exit it and pass back a value to the place where the function was called.  \n",
    "Therefore, `return` is how a function gives back a value. "
   ]
  },
  {
   "attachments": {},
   "cell_type": "markdown",
   "metadata": {},
   "source": [
    "If there is no expression, or the \"return statement\" is omitted entirely, the function will return `None`, which is the default return value."
   ]
  },
  {
   "attachments": {},
   "cell_type": "markdown",
   "metadata": {},
   "source": [
    "**Practical Example:**\n",
    "\n",
    "Imagine you're using a vending machine. You select a snack, and the machine delivers it to you. In this analogy, the vending machine is like a function, your selection is the input, and the snack is the output.\n",
    "\n",
    "In Python, a function can take some input (arguments), do something with it, and then give something back (return a value). The `return` statement in a function is like the part where the vending machine delivers the snack back to you. If you don't need anything back, the machine (or function) just performs an action without returning anything.\n",
    "\n"
   ]
  },
  {
   "attachments": {},
   "cell_type": "markdown",
   "metadata": {},
   "source": [
    "Example of a function that uses a `return` statement to return a calculated value:"
   ]
  },
  {
   "cell_type": "markdown",
   "metadata": {},
   "source": [
    "<div style='text-align: center'>\n",
    "    <img src=\"images/functions_return.png\" alt=\"Alt text\" width=\"600\" height=\"400\"/>\n",
    "</div>"
   ]
  },
  {
   "cell_type": "code",
   "execution_count": 43,
   "metadata": {},
   "outputs": [],
   "source": [
    "def calculate_area(width, height):\n",
    "    '''Calculate the area of a rectangle.'''\n",
    "    area = width * height\n",
    "    return area\n",
    "    #print(area)\n",
    "\n",
    "    \n",
    "    "
   ]
  },
  {
   "cell_type": "code",
   "execution_count": 41,
   "metadata": {},
   "outputs": [
    {
     "name": "stdout",
     "output_type": "stream",
     "text": [
      "50\n"
     ]
    }
   ],
   "source": [
    "calculate_area(10, 5)"
   ]
  },
  {
   "cell_type": "code",
   "execution_count": 42,
   "metadata": {},
   "outputs": [
    {
     "name": "stdout",
     "output_type": "stream",
     "text": [
      "50\n",
      "None\n"
     ]
    }
   ],
   "source": [
    "# Using the function and storing its return value in a variable\n",
    "rect_area = calculate_area(10, 5)\n",
    "print(rect_area)  # Outputs: 50"
   ]
  },
  {
   "attachments": {},
   "cell_type": "markdown",
   "metadata": {},
   "source": [
    "In this example, `calculate_area` returns the area of a rectangle, which is then printed."
   ]
  },
  {
   "attachments": {},
   "cell_type": "markdown",
   "metadata": {},
   "source": [
    "You can think of `return area` as the part where the vending machine gives you the snack. The function is giving back the calculated area of rectangle. "
   ]
  },
  {
   "attachments": {},
   "cell_type": "markdown",
   "metadata": {},
   "source": [
    "What will happen if we remove \"retun area\"?  \n",
    "\n",
    "Waht will happen if we replace \"return area\" with \"print(area)\"?"
   ]
  },
  {
   "attachments": {},
   "cell_type": "markdown",
   "metadata": {},
   "source": [
    "Now, let's look at a function without an explicit `return` statement:"
   ]
  },
  {
   "cell_type": "code",
   "execution_count": 35,
   "metadata": {},
   "outputs": [],
   "source": [
    "def print_welcome_message(username):\n",
    "    '''Print a welcome message to the user.'''\n",
    "    print(f'Welcome, {username}!')\n",
    "    "
   ]
  },
  {
   "cell_type": "code",
   "execution_count": 53,
   "metadata": {},
   "outputs": [
    {
     "name": "stdout",
     "output_type": "stream",
     "text": [
      "Welcome, Alice!\n"
     ]
    }
   ],
   "source": [
    "# Using the function\n",
    "print_welcome_message('Alice')  # Outputs: Welcome, Alice!"
   ]
  },
  {
   "attachments": {},
   "cell_type": "markdown",
   "metadata": {},
   "source": [
    "Here, `print_welcome_message` prints a welcome message directly and does not return a value.  \n",
    "Since there is no `return` statement, the function implicitly returns `None` when its execution is completed. "
   ]
  },
  {
   "attachments": {},
   "cell_type": "markdown",
   "metadata": {},
   "source": [
    "So it's like a vending machine that just shows a message on a screen without giving something physical back."
   ]
  },
  {
   "attachments": {},
   "cell_type": "markdown",
   "metadata": {},
   "source": [
    "If you attempt to capture the return value, as shown below, you'll see that it is `None`:"
   ]
  },
  {
   "cell_type": "code",
   "execution_count": 36,
   "metadata": {},
   "outputs": [
    {
     "name": "stdout",
     "output_type": "stream",
     "text": [
      "Welcome, Alice!\n",
      "None\n"
     ]
    }
   ],
   "source": [
    "result = print_welcome_message('Alice')\n",
    "print(result)  # Outputs: None"
   ]
  },
  {
   "attachments": {},
   "cell_type": "markdown",
   "metadata": {},
   "source": [
    "<font color='#FF69B4'>**Note:**</font> Understanding the difference between printing and returning a value is crucial. Printing displays the value to the console, but does not \"send\" the value back to the caller. Returning, on the other hand, sends the value back to the caller, allowing the returned data to be further manipulated or used by the program."
   ]
  },
  {
   "attachments": {},
   "cell_type": "markdown",
   "metadata": {},
   "source": [
    "> **Key Difference**: When you `print` something, it is simply written on the console, and the function returns `None` by default. When you `return` something, it sends that value back to the code that called the function, allowing further interaction with the returned data."
   ]
  },
  {
   "attachments": {},
   "cell_type": "markdown",
   "metadata": {},
   "source": [
    "<font color='#FF69B4'>**Note:**</font>  \n",
    "Functions with `return` are used when you need to capture a result from a function to use in further calculations or operations.  \n",
    "Functions without return are typically used for their side effects like printing output or modifying mutable objects."
   ]
  },
  {
   "attachments": {},
   "cell_type": "markdown",
   "metadata": {},
   "source": [
    "### Time to Practice"
   ]
  },
  {
   "attachments": {},
   "cell_type": "markdown",
   "metadata": {},
   "source": [
    "**Questions:**\n",
    "\n",
    "1. **Defining and Calling a Simple Function**:\n",
    "   Define a function named `greet` that prints \"Hello, World!\" to the console. Then, call this function to see the greeting printed out.\n",
    "\n",
    "2. **Creating a Function with Parameters**:\n",
    "   Define a function called `personalize_greeting` that takes a name as a parameter and prints a personalized greeting, \"Hello, [name]!\". Replace `[name]` with the actual name provided. Call this function with your name as an argument.\n",
    "\n",
    "3. **Calculating the Area of a Circle**:\n",
    "   Define a function named `circle_area` that takes the radius of a circle as a parameter and returns the area of the circle. Use the formula `area = π * radius^2` for the calculation (`π` can be approximated as `3.14159`). Call this function with a radius of `5` and print the result.\n",
    "\n",
    "4. **Using Multiple Parameters**:\n",
    "   Define a function called `add_numbers` that takes two parameters and returns their sum. Call this function with two numbers of your choice and print the result.\n",
    "\n",
    "5. **No Return Statement**:\n",
    "   Define a function called `print_menu` that prints a list of food items to the console but does not return anything. Call this function to display the menu.\n",
    "\n",
    "6. **Bonus: A Function that Returns Multiple Values**:\n",
    "   Define a function called `min_max` that takes a list of numbers as a parameter and returns both the minimum and maximum numbers in the list. Call this function with a list of numbers and unpack the results into two variables, then print those variables."
   ]
  },
  {
   "attachments": {},
   "cell_type": "markdown",
   "metadata": {},
   "source": [
    "**Expected Output:**\n",
    "```bash\n",
    "Hello, World!\n",
    "Hello, Alice!\n",
    "The area of the circle with radius 5 is 78.53975.\n",
    "The sum of 3 and 7 is 10.\n",
    "Menu: Pizza, Salad, Soup\n",
    "Minimum: 2, Maximum: 10\n",
    "```"
   ]
  },
  {
   "attachments": {},
   "cell_type": "markdown",
   "metadata": {},
   "source": [
    "#### Solutions:"
   ]
  },
  {
   "cell_type": "code",
   "execution_count": 55,
   "metadata": {},
   "outputs": [
    {
     "name": "stdout",
     "output_type": "stream",
     "text": [
      "Hello, World!\n"
     ]
    }
   ],
   "source": [
    "# Task 1: Defining and Calling a Simple Function\n",
    "def greet():\n",
    "    print('Hello, World!')\n",
    "\n",
    "\n",
    "# Call the function    \n",
    "greet()"
   ]
  },
  {
   "cell_type": "code",
   "execution_count": 56,
   "metadata": {},
   "outputs": [
    {
     "name": "stdout",
     "output_type": "stream",
     "text": [
      "Hello, Mojtaba!\n"
     ]
    }
   ],
   "source": [
    "# Task 2: Creating a Function with Parameters\n",
    "def personalize_greeting(name):\n",
    "    print(f'Hello, {name}!')\n",
    "    \n",
    "    \n",
    "# Call the function with your name\n",
    "personalize_greeting('Mojtaba')"
   ]
  },
  {
   "cell_type": "code",
   "execution_count": 57,
   "metadata": {},
   "outputs": [
    {
     "name": "stdout",
     "output_type": "stream",
     "text": [
      "The area of the circle with radius 5 is 78.53975.\n"
     ]
    }
   ],
   "source": [
    "# Task 3: Calculating the Area of a Circle\n",
    "def circle_area(radius):\n",
    "    pi = 3.14159\n",
    "    return pi * radius ** 2\n",
    "\n",
    "\n",
    "# Call the function with radius 5 and print the result\n",
    "area = circle_area(5)\n",
    "print(f'The area of the circle with radius 5 is {area}.')"
   ]
  },
  {
   "cell_type": "code",
   "execution_count": 58,
   "metadata": {},
   "outputs": [
    {
     "name": "stdout",
     "output_type": "stream",
     "text": [
      "The sum of 3 and 7 is 10.\n"
     ]
    }
   ],
   "source": [
    "# Task 4: Using Multiple Parameters\n",
    "def add_numbers(num1, num2):\n",
    "    return num1 + num2\n",
    "\n",
    "\n",
    "# Call the function with two numbers and print the result\n",
    "sum_of_numbers = add_numbers(3, 7)\n",
    "print(f'The sum of 3 and 7 is {sum_of_numbers}.')"
   ]
  },
  {
   "cell_type": "code",
   "execution_count": 59,
   "metadata": {},
   "outputs": [
    {
     "name": "stdout",
     "output_type": "stream",
     "text": [
      "Menu: Pizza, Salad, Soup\n"
     ]
    }
   ],
   "source": [
    "# Task 5: No Return Statement\n",
    "def print_menu():\n",
    "    menu_items = ['Pizza', 'Salad', 'Soup']\n",
    "    print('Menu:', ', '.join(menu_items))\n",
    "    \n",
    "\n",
    "# Call the function to display the menu\n",
    "print_menu()"
   ]
  },
  {
   "cell_type": "code",
   "execution_count": 60,
   "metadata": {},
   "outputs": [
    {
     "name": "stdout",
     "output_type": "stream",
     "text": [
      "Minimum: 2, Maximum: 11\n"
     ]
    }
   ],
   "source": [
    "# Bonus: A Function that Returns Multiple Values\n",
    "def min_max(numbers):\n",
    "    return min(numbers), max(numbers)\n",
    "\n",
    "\n",
    "# Call the function with a list of numbers and unpack the results\n",
    "min_number, max_number = min_max([2, 3, 5, 7, 11, 2, 10])\n",
    "print(f'Minimum: {min_number}, Maximum: {max_number}')"
   ]
  }
 ],
 "metadata": {
  "kernelspec": {
   "display_name": "base",
   "language": "python",
   "name": "python3"
  },
  "language_info": {
   "codemirror_mode": {
    "name": "ipython",
    "version": 3
   },
   "file_extension": ".py",
   "mimetype": "text/x-python",
   "name": "python",
   "nbconvert_exporter": "python",
   "pygments_lexer": "ipython3",
   "version": "3.10.9"
  },
  "orig_nbformat": 4
 },
 "nbformat": 4,
 "nbformat_minor": 2
}
