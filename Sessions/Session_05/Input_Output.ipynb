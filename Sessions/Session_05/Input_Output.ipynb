{
 "cells": [
  {
   "attachments": {},
   "cell_type": "markdown",
   "metadata": {},
   "source": [
    "# <font color='#98FB98'>**Basics of Input and Output**</font> "
   ]
  },
  {
   "attachments": {},
   "cell_type": "markdown",
   "metadata": {},
   "source": [
    "For any computer program to be engaging and interactive, it needs to interact seamlessly with its user. This interaction often involves obtaining data inputs from the user and presenting processed results back to them.\n",
    "\n",
    "<font color='#FF69B4'>**Note:**</font> Input to a system can come from a multitude of sources, ranging from direct human interaction to automated sensor data. The output from a system can similarly be directed to different destinations, depending on the needs of the user or the requirements of the application, including simple text-based consoles, more complex graphical interfaces, or saved as files for later use. This flexibility allows software developers to create versatile and useful applications that can interact with the real world in many different ways."
   ]
  },
  {
   "attachments": {},
   "cell_type": "markdown",
   "metadata": {},
   "source": [
    "Let's start with: \n",
    "\n",
    "- Accepting user data directly from the keyboard using Python's built-in `input()` function.\n",
    "- Displaying results or messages directly to the console through Python's `print()` function."
   ]
  },
  {
   "attachments": {},
   "cell_type": "markdown",
   "metadata": {},
   "source": [
    "## <font color='#9400D3'>**Reading Input From the Keyboard**</font> "
   ]
  },
  {
   "attachments": {},
   "cell_type": "markdown",
   "metadata": {},
   "source": [
    "One of the most fundamental ways a computer program interacts with a user is by asking questions and taking answers. This back-and-forth between the user and the program usually happens with the help of the keyboard. "
   ]
  },
  {
   "attachments": {},
   "cell_type": "markdown",
   "metadata": {},
   "source": [
    "### The `input()` Function"
   ]
  },
  {
   "cell_type": "markdown",
   "metadata": {},
   "source": [
    "Python provides a simple built-in function, input(), to capture information typed by the user from the keyboard.\n",
    "\n",
    "**Basic Usage**:"
   ]
  },
  {
   "cell_type": "code",
   "execution_count": 1,
   "metadata": {},
   "outputs": [],
   "source": [
    "# By running this code, python will ask you to input a string\n",
    "user_input = input()"
   ]
  },
  {
   "cell_type": "code",
   "execution_count": 2,
   "metadata": {},
   "outputs": [
    {
     "data": {
      "text/plain": [
       "'256'"
      ]
     },
     "execution_count": 2,
     "metadata": {},
     "output_type": "execute_result"
    }
   ],
   "source": [
    "user_input"
   ]
  },
  {
   "cell_type": "markdown",
   "metadata": {},
   "source": [
    "Here, when the program encounters `input()`, it waits for the user to type something. Once the user presses the `Enter` key, whatever was typed is then stored as a string in the `user_input` variable."
   ]
  },
  {
   "cell_type": "markdown",
   "metadata": {},
   "source": [
    "For example:"
   ]
  },
  {
   "cell_type": "code",
   "execution_count": 3,
   "metadata": {},
   "outputs": [],
   "source": [
    "# When prompted, type in a string and press enter\n",
    "user_input = input()"
   ]
  },
  {
   "cell_type": "code",
   "execution_count": 4,
   "metadata": {},
   "outputs": [
    {
     "data": {
      "text/plain": [
       "'This is Python class!'"
      ]
     },
     "execution_count": 4,
     "metadata": {},
     "output_type": "execute_result"
    }
   ],
   "source": [
    "user_input"
   ]
  },
  {
   "cell_type": "markdown",
   "metadata": {},
   "source": [
    "**Adding a Prompt**:"
   ]
  },
  {
   "cell_type": "markdown",
   "metadata": {},
   "source": [
    "\n",
    "You can make the data collection process more user-friendly by providing a prompt, telling the user what kind of data they should enter:"
   ]
  },
  {
   "cell_type": "code",
   "execution_count": 5,
   "metadata": {},
   "outputs": [],
   "source": [
    "name = input('What is your name?')"
   ]
  },
  {
   "cell_type": "code",
   "execution_count": 6,
   "metadata": {},
   "outputs": [
    {
     "data": {
      "text/plain": [
       "'Alex'"
      ]
     },
     "execution_count": 6,
     "metadata": {},
     "output_type": "execute_result"
    }
   ],
   "source": [
    "name"
   ]
  },
  {
   "attachments": {},
   "cell_type": "markdown",
   "metadata": {},
   "source": [
    "<font color='#FF69B4'>**Note:**</font> It's essential to remember that `input()` always captures data as a string. If your program expects a number, you need to convert this string into the right number type.\n",
    "\n",
    "For instance:"
   ]
  },
  {
   "cell_type": "code",
   "execution_count": 7,
   "metadata": {},
   "outputs": [],
   "source": [
    "age = input('How old are you?')"
   ]
  },
  {
   "cell_type": "code",
   "execution_count": 8,
   "metadata": {},
   "outputs": [
    {
     "data": {
      "text/plain": [
       "'78'"
      ]
     },
     "execution_count": 8,
     "metadata": {},
     "output_type": "execute_result"
    }
   ],
   "source": [
    "age"
   ]
  },
  {
   "cell_type": "code",
   "execution_count": 13,
   "metadata": {},
   "outputs": [
    {
     "data": {
      "text/plain": [
       "str"
      ]
     },
     "execution_count": 13,
     "metadata": {},
     "output_type": "execute_result"
    }
   ],
   "source": [
    "type(age)"
   ]
  },
  {
   "cell_type": "markdown",
   "metadata": {},
   "source": [
    "Here, even though you entered a number, it's stored as a string. If you try to perform arithmetic operations directly, you might run into errors. To avoid this, convert the input to the desired type:"
   ]
  },
  {
   "cell_type": "code",
   "execution_count": 9,
   "metadata": {},
   "outputs": [],
   "source": [
    "age = int(input('How old are you? (Only enter number)'))"
   ]
  },
  {
   "cell_type": "code",
   "execution_count": 10,
   "metadata": {},
   "outputs": [
    {
     "data": {
      "text/plain": [
       "int"
      ]
     },
     "execution_count": 10,
     "metadata": {},
     "output_type": "execute_result"
    }
   ],
   "source": [
    "type(age)"
   ]
  },
  {
   "cell_type": "code",
   "execution_count": 11,
   "metadata": {},
   "outputs": [
    {
     "data": {
      "text/plain": [
       "83"
      ]
     },
     "execution_count": 11,
     "metadata": {},
     "output_type": "execute_result"
    }
   ],
   "source": [
    "age + 5"
   ]
  },
  {
   "attachments": {},
   "cell_type": "markdown",
   "metadata": {},
   "source": [
    "## <font color='#FFA500'>**Writing Output to the Console**</font> "
   ]
  },
  {
   "attachments": {},
   "cell_type": "markdown",
   "metadata": {},
   "source": [
    "\n",
    "After processing data, a significant part of many programs is presenting results, feedback, or messages back to the user. In Python, the primary way to display information to the console is with the `print()` function."
   ]
  },
  {
   "attachments": {},
   "cell_type": "markdown",
   "metadata": {},
   "source": [
    "### The Basic `print()` Function"
   ]
  },
  {
   "cell_type": "markdown",
   "metadata": {},
   "source": [
    "The `print()` function in Python allows you to show one or more items to the console. It's versatile and can display various types of data."
   ]
  },
  {
   "cell_type": "markdown",
   "metadata": {},
   "source": [
    "**Displaying Multiple Items**:\n",
    "\n",
    "You can show multiple items by separating them with commas:"
   ]
  },
  {
   "cell_type": "code",
   "execution_count": 12,
   "metadata": {},
   "outputs": [],
   "source": [
    "name = 'Janice'\n",
    "age = 30"
   ]
  },
  {
   "cell_type": "code",
   "execution_count": 13,
   "metadata": {},
   "outputs": [
    {
     "name": "stdout",
     "output_type": "stream",
     "text": [
      "Janice 30\n"
     ]
    }
   ],
   "source": [
    "print(name, age)"
   ]
  },
  {
   "cell_type": "code",
   "execution_count": 18,
   "metadata": {},
   "outputs": [
    {
     "name": "stdout",
     "output_type": "stream",
     "text": [
      "Janice\n",
      "30\n"
     ]
    }
   ],
   "source": [
    "print(name)\n",
    "print(age)"
   ]
  },
  {
   "cell_type": "code",
   "execution_count": 19,
   "metadata": {},
   "outputs": [
    {
     "name": "stdout",
     "output_type": "stream",
     "text": [
      "The Name is: Janice\n",
      "Age is: 30\n"
     ]
    }
   ],
   "source": [
    "print('The Name is:', name)\n",
    "print('Age is:', age)"
   ]
  },
  {
   "cell_type": "markdown",
   "metadata": {},
   "source": [
    "Notice that by default, `print()` adds a space between each item."
   ]
  },
  {
   "cell_type": "markdown",
   "metadata": {},
   "source": [
    "**Displaying Different Data Types:**\n",
    "\n",
    "The `print()` function is quite flexible. It doesn't just display strings. If you provide it with a different type of data, it will try its best to convert that data into a string format and then display it:"
   ]
  },
  {
   "cell_type": "code",
   "execution_count": 19,
   "metadata": {},
   "outputs": [],
   "source": [
    "favorite_number = 456478\n"
   ]
  },
  {
   "cell_type": "code",
   "execution_count": 20,
   "metadata": {},
   "outputs": [
    {
     "data": {
      "text/plain": [
       "int"
      ]
     },
     "execution_count": 20,
     "metadata": {},
     "output_type": "execute_result"
    }
   ],
   "source": [
    "type(favorite_number)"
   ]
  },
  {
   "cell_type": "code",
   "execution_count": 21,
   "metadata": {},
   "outputs": [
    {
     "name": "stdout",
     "output_type": "stream",
     "text": [
      "Favorite number: 456478\n"
     ]
    }
   ],
   "source": [
    "test_kl = print('Favorite number:', favorite_number)"
   ]
  },
  {
   "attachments": {},
   "cell_type": "markdown",
   "metadata": {},
   "source": [
    "No matter the data type - whether it's an integer, a list, a dictionary, or etc. `print()` is capable of presenting it to the console."
   ]
  },
  {
   "attachments": {},
   "cell_type": "markdown",
   "metadata": {},
   "source": [
    "### String Formatting with `f-string`"
   ]
  },
  {
   "attachments": {},
   "cell_type": "markdown",
   "metadata": {},
   "source": [
    "String formatting means to substitute values into a base string at specific locations.  \n",
    "Suppose you have a sentence like \"I bought ___ oranges.\" and you want to replace the ___ with the number of oranges you bought.  \n",
    "String formatting makes this task easy."
   ]
  },
  {
   "attachments": {},
   "cell_type": "markdown",
   "metadata": {},
   "source": [
    "With Python 3.6, a new string formatting mechanism was introduced, called `formatted string literals`, or more commonly referred to as `f-strings`. \n",
    "\n",
    "They lead with an `f` or `F` before the string and allow you to embed expressions inside `{}` braces."
   ]
  },
  {
   "cell_type": "code",
   "execution_count": 24,
   "metadata": {},
   "outputs": [
    {
     "data": {
      "text/plain": [
       "\"My name is Alex, I'm 24 years old and I'm data scientist.\""
      ]
     },
     "execution_count": 24,
     "metadata": {},
     "output_type": "execute_result"
    }
   ],
   "source": [
    "name = 'Alex'\n",
    "job = 'data scientist'\n",
    "age = 24\n",
    "f\"My name is {name}, I'm {age} years old and I'm {job}.\""
   ]
  },
  {
   "attachments": {},
   "cell_type": "markdown",
   "metadata": {},
   "source": [
    "<font color='#FF69B4'>**Note:**</font> One of the coolest features of f-strings is the ability to embed Python expressions inside the placeholders."
   ]
  },
  {
   "cell_type": "code",
   "execution_count": 25,
   "metadata": {},
   "outputs": [
    {
     "data": {
      "text/plain": [
       "'In ten years, data scientist will be 34 years old.'"
      ]
     },
     "execution_count": 25,
     "metadata": {},
     "output_type": "execute_result"
    }
   ],
   "source": [
    "f'In ten years, {job} will be {age + 10} years old.'"
   ]
  },
  {
   "attachments": {},
   "cell_type": "markdown",
   "metadata": {},
   "source": [
    "**Question**: When do we use f-string rather than simple printing sentences? "
   ]
  },
  {
   "cell_type": "code",
   "execution_count": 37,
   "metadata": {},
   "outputs": [
    {
     "name": "stdout",
     "output_type": "stream",
     "text": [
      "The sum of 5 and 3 is 8\n"
     ]
    }
   ],
   "source": [
    "x = 5\n",
    "y = 3\n",
    "\n",
    "# Using f-string (works perfectly)\n",
    "print(f\"The sum of {x} and {y} is {x + y}\")"
   ]
  },
  {
   "cell_type": "code",
   "execution_count": 36,
   "metadata": {},
   "outputs": [
    {
     "ename": "TypeError",
     "evalue": "can only concatenate str (not \"int\") to str",
     "output_type": "error",
     "traceback": [
      "\u001b[0;31m---------------------------------------------------------------------------\u001b[0m",
      "\u001b[0;31mTypeError\u001b[0m                                 Traceback (most recent call last)",
      "Cell \u001b[0;32mIn[36], line 4\u001b[0m\n\u001b[1;32m      1\u001b[0m x \u001b[39m=\u001b[39m \u001b[39m5\u001b[39m\n\u001b[1;32m      2\u001b[0m y \u001b[39m=\u001b[39m \u001b[39m3\u001b[39m\n\u001b[0;32m----> 4\u001b[0m \u001b[39mprint\u001b[39m(\u001b[39m\"\u001b[39;49m\u001b[39mThe sum of \u001b[39;49m\u001b[39m\"\u001b[39;49m \u001b[39m+\u001b[39;49m x \u001b[39m+\u001b[39m \u001b[39m\"\u001b[39m\u001b[39m and \u001b[39m\u001b[39m\"\u001b[39m \u001b[39m+\u001b[39m y \u001b[39m+\u001b[39m \u001b[39m\"\u001b[39m\u001b[39m is \u001b[39m\u001b[39m\"\u001b[39m \u001b[39m+\u001b[39m (x \u001b[39m+\u001b[39m y))\n",
      "\u001b[0;31mTypeError\u001b[0m: can only concatenate str (not \"int\") to str"
     ]
    }
   ],
   "source": [
    "x = 5\n",
    "y = 3\n",
    "\n",
    "print(\"The sum of \" + x + \" and \" + y + \" is \" + (x + y))  # It will cause an error"
   ]
  },
  {
   "cell_type": "code",
   "execution_count": 24,
   "metadata": {},
   "outputs": [
    {
     "name": "stdout",
     "output_type": "stream",
     "text": [
      "The Name is: Paul\n",
      "The Name is: PAUL\n"
     ]
    }
   ],
   "source": [
    "name = 'Paul'\n",
    "age = 10\n",
    "print('The Name is:', name)\n",
    "print(f\"The Name is: {name.upper()}\")\n",
    "print(f\"The Name is: {age + 20}\")"
   ]
  },
  {
   "attachments": {},
   "cell_type": "markdown",
   "metadata": {},
   "source": [
    "### Escape Sequences\n",
    "\n",
    "To denote an escape sequence, Python uses the backslash (`\\`) followed by another character.\n",
    "\n",
    "Here are some common escape sequences:\n",
    "\n",
    "- `\\\\` : Backslash (`\\`)\n",
    "- `\\'` : Single quote (`'`)\n",
    "- `\\\"` : Double quote (`\"`)\n",
    "- `\\n` : Newline\n",
    "- `\\t` : Tab"
   ]
  },
  {
   "cell_type": "code",
   "execution_count": 26,
   "metadata": {},
   "outputs": [
    {
     "name": "stdout",
     "output_type": "stream",
     "text": [
      "First Line\n",
      " Second Line\n"
     ]
    }
   ],
   "source": [
    "print('First Line\\nSecond Line')\n"
   ]
  },
  {
   "cell_type": "code",
   "execution_count": 27,
   "metadata": {},
   "outputs": [
    {
     "name": "stdout",
     "output_type": "stream",
     "text": [
      "Start\tMiddle\tEnd\n"
     ]
    }
   ],
   "source": [
    "print('Start\\tMiddle\\tEnd')"
   ]
  },
  {
   "attachments": {},
   "cell_type": "markdown",
   "metadata": {},
   "source": [
    "### Raw Strings\n",
    "\n",
    "Raw strings in Python are a convenient feature for handling strings that contain backslashes (`\\`) without interpreting them as escape characters. \n",
    "\n",
    "To create a raw string, prefix your string with the letter `r` or `R`."
   ]
  },
  {
   "cell_type": "code",
   "execution_count": 28,
   "metadata": {},
   "outputs": [
    {
     "name": "stdout",
     "output_type": "stream",
     "text": [
      "This is a backslash: \\\n"
     ]
    }
   ],
   "source": [
    "print('This is a backslash: \\\\')"
   ]
  },
  {
   "cell_type": "code",
   "execution_count": 29,
   "metadata": {},
   "outputs": [
    {
     "name": "stdout",
     "output_type": "stream",
     "text": [
      "This is a backslash: \\\\\n"
     ]
    }
   ],
   "source": [
    "print(r'This is a backslash: \\\\')"
   ]
  },
  {
   "attachments": {},
   "cell_type": "markdown",
   "metadata": {},
   "source": [
    "**Example:** Consider you want to include the file path in your code:"
   ]
  },
  {
   "cell_type": "code",
   "execution_count": 28,
   "metadata": {},
   "outputs": [
    {
     "name": "stdout",
     "output_type": "stream",
     "text": [
      "C:\\Users\\Jack\\Documents\n"
     ]
    }
   ],
   "source": [
    "path = 'C:\\\\Users\\\\Jack\\\\Documents'\n",
    "print(path)"
   ]
  },
  {
   "cell_type": "code",
   "execution_count": 29,
   "metadata": {},
   "outputs": [
    {
     "name": "stdout",
     "output_type": "stream",
     "text": [
      "C:\\Users\\Bob\\Documents\n"
     ]
    }
   ],
   "source": [
    "path = r\"C:\\Users\\Bob\\Documents\"\n",
    "print(path)"
   ]
  },
  {
   "cell_type": "code",
   "execution_count": 30,
   "metadata": {},
   "outputs": [
    {
     "name": "stdout",
     "output_type": "stream",
     "text": [
      "I am '20' years\n"
     ]
    }
   ],
   "source": [
    "sentence = r\"I am '20' years\"\n",
    "print(sentence)"
   ]
  },
  {
   "attachments": {},
   "cell_type": "markdown",
   "metadata": {},
   "source": [
    "Both outputs will be the same, but the raw string version is clearer and easier to read."
   ]
  },
  {
   "attachments": {},
   "cell_type": "markdown",
   "metadata": {},
   "source": [
    "### Question 1: \n",
    "> Given a string \"Data Science & AI\", reverse the string and then replace every 'e' with an asterisk `*`"
   ]
  },
  {
   "cell_type": "code",
   "execution_count": 50,
   "metadata": {},
   "outputs": [
    {
     "name": "stdout",
     "output_type": "stream",
     "text": [
      "IA & *cn*icS ataD\n"
     ]
    }
   ],
   "source": [
    "my_string = 'Data Science & AI'\n",
    "my_string_reverse = my_string[::-1]\n",
    "\n",
    "my_string_reverse = my_string_reverse.replace('e', '*')\n",
    "print(my_string_reverse)  \n"
   ]
  },
  {
   "attachments": {},
   "cell_type": "markdown",
   "metadata": {},
   "source": [
    "### Question 2: \n",
    "\n",
    "> Convert the string \"100\" to an integer, divide it by 3, print the result. "
   ]
  },
  {
   "cell_type": "code",
   "execution_count": 35,
   "metadata": {},
   "outputs": [
    {
     "name": "stdout",
     "output_type": "stream",
     "text": [
      "Result is 33.33\n"
     ]
    }
   ],
   "source": [
    "my_num = '100'\n",
    "my_result = int(my_num) / 3\n",
    "print(f'Result is {my_result:.2f}')"
   ]
  },
  {
   "attachments": {},
   "cell_type": "markdown",
   "metadata": {},
   "source": [
    "### Question 3:\n",
    "> Create a program that calculates the area of a circle. The program should prompt the user to enter the radius of the circle. It should then calculate the area using this formula:  \n",
    "$PI*r^{2}$  (where $r$ is the radius),   \n",
    "and print the result in a formatted message.  \n",
    "<font color='#FF69B4'>**Note:**</font> **PI = $3.14$**\n"
   ]
  },
  {
   "cell_type": "code",
   "execution_count": 30,
   "metadata": {},
   "outputs": [
    {
     "name": "stdout",
     "output_type": "stream",
     "text": [
      "The area of the circle with radius 12.50 is 490.62\n"
     ]
    }
   ],
   "source": [
    "PI = 3.14\n",
    "radius = float(input('Enter the radius of the circle: '))\n",
    "area = PI * (radius ** 2)\n",
    "print(f'The area of the circle with radius {radius:.2f} is {PI*(radius**2):.2f}')\n"
   ]
  }
 ],
 "metadata": {
  "kernelspec": {
   "display_name": "py38",
   "language": "python",
   "name": "python3"
  },
  "language_info": {
   "codemirror_mode": {
    "name": "ipython",
    "version": 3
   },
   "file_extension": ".py",
   "mimetype": "text/x-python",
   "name": "python",
   "nbconvert_exporter": "python",
   "pygments_lexer": "ipython3",
   "version": "3.10.9"
  },
  "orig_nbformat": 4
 },
 "nbformat": 4,
 "nbformat_minor": 2
}
