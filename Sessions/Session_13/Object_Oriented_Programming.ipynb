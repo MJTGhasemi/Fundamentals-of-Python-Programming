{
 "cells": [
  {
   "attachments": {},
   "cell_type": "markdown",
   "metadata": {},
   "source": [
    "# <font color='#98FB98'>**Advance Topics: Introduction to Object Oriented Programming**</font> "
   ]
  },
  {
   "attachments": {},
   "cell_type": "markdown",
   "metadata": {},
   "source": [
    "In this notebook, we will explore the world of `Object-Oriented Programming` (`OOP`) in Python. \n",
    "\n",
    "Before we dive into the complications of OOP, it's essential to understand the broader context of programming paradigms."
   ]
  },
  {
   "attachments": {},
   "cell_type": "markdown",
   "metadata": {},
   "source": [
    "Programming paradigms are like lenses through which we can view and tackle programming challenges.  \n",
    "They guide how we structure our code and solve problems."
   ]
  },
  {
   "attachments": {},
   "cell_type": "markdown",
   "metadata": {},
   "source": [
    "Generally speaking, we have three major paradigms: \n",
    "\n",
    "- **`procedural`**\n",
    "- **`object-oriented`** \n",
    "- **`functional programming`**"
   ]
  },
  {
   "attachments": {},
   "cell_type": "markdown",
   "metadata": {},
   "source": [
    "Let's explore a simple example: "
   ]
  },
  {
   "attachments": {},
   "cell_type": "markdown",
   "metadata": {},
   "source": [
    "- Procedural approach:"
   ]
  },
  {
   "cell_type": "code",
   "execution_count": 1,
   "metadata": {},
   "outputs": [
    {
     "name": "stdout",
     "output_type": "stream",
     "text": [
      "Hello, World!\n"
     ]
    }
   ],
   "source": [
    "def say_hello():\n",
    "    print('Hello, World!')\n",
    "\n",
    "say_hello()"
   ]
  },
  {
   "attachments": {},
   "cell_type": "markdown",
   "metadata": {},
   "source": [
    "The procedural approach focuses on writing procedures or functions that operate on data. This approach structures programs as a sequence of commands or statements that execute in order. In the given example, `say_hello` is a straightforward function that, when called, executes a single command to print \"Hello, World!\" to the console. It's a linear and direct way of programming, where the flow of the program is determined by structured blocks of statements and function calls.\n",
    "\n",
    "**Differences**: Compared to object-oriented and functional approaches, the procedural approach is simpler and more straightforward, focusing on actions rather than data or the relationships between data. It doesn't encapsulate data and behaviors together (as in OOP) or emphasize immutability and first-class functions (as in functional programming)."
   ]
  },
  {
   "attachments": {},
   "cell_type": "markdown",
   "metadata": {},
   "source": [
    "- Object-oriented approach:"
   ]
  },
  {
   "cell_type": "code",
   "execution_count": 2,
   "metadata": {},
   "outputs": [
    {
     "name": "stdout",
     "output_type": "stream",
     "text": [
      "Hello, World!\n"
     ]
    }
   ],
   "source": [
    "class Greeter:\n",
    "    def greet(self):\n",
    "        print('Hello, World!')\n",
    "\n",
    "greeter = Greeter()\n",
    "greeter.greet()"
   ]
  },
  {
   "attachments": {},
   "cell_type": "markdown",
   "metadata": {},
   "source": [
    "The object-oriented (OOP) approach organizes code into objects that encapsulate both data and the operations that can be performed on that data. This approach is useful for modeling complex systems as a collection of interacting objects. In the provided example, a `Greeter` class is defined with an object `greet` is called to print \"Hello, World!\".\n",
    "\n",
    "**Differences**: OOP is distinguished by its use of classes and objects, enabling encapsulation, inheritance, and polymorphism. This approach is more about modeling and organizing data and behavior together into units (classes),"
   ]
  },
  {
   "attachments": {},
   "cell_type": "markdown",
   "metadata": {},
   "source": [
    "- Functional approach:"
   ]
  },
  {
   "cell_type": "code",
   "execution_count": 3,
   "metadata": {},
   "outputs": [
    {
     "name": "stdout",
     "output_type": "stream",
     "text": [
      "Hello, World!\n"
     ]
    }
   ],
   "source": [
    "greet = lambda: print('Hello, World!')\n",
    "greet()"
   ]
  },
  {
   "attachments": {},
   "cell_type": "markdown",
   "metadata": {},
   "source": [
    "Emphasizes the use of functions and immutable data, aiming for purity (no side effects). In the example, `greet` is defined as a lambda function that prints \"Hello, World!\" when called."
   ]
  },
  {
   "attachments": {},
   "cell_type": "markdown",
   "metadata": {},
   "source": [
    "## <font color='#FFA500'>**What is a Programming Paradigm?**</font> "
   ]
  },
  {
   "attachments": {},
   "cell_type": "markdown",
   "metadata": {},
   "source": [
    "A programming paradigm is a set of concepts and practices that prescribe how software construction should be performed.  \n",
    "These paradigms embody the philosophy of programming, influencing the way programmers think about problem-solving, structure code, and how the elements of the programming language itself are utilized to create efficient and readable programs.  \n",
    "Paradigms are not strict rules but rather approaches that offer guidelines on how to tackle different aspects of programming."
   ]
  },
  {
   "attachments": {},
   "cell_type": "markdown",
   "metadata": {},
   "source": [
    "<div style='text-align: center'>\n",
    "    <img src='https://pythontic.com/Python_Programming_Paradigms.png' alt='object_oriented' title='paradigm' width='600' height='400'/>\n",
    "</div>"
   ]
  },
  {
   "attachments": {},
   "cell_type": "markdown",
   "metadata": {},
   "source": [
    "### Brief Overview of Paradigms"
   ]
  },
  {
   "attachments": {},
   "cell_type": "markdown",
   "metadata": {},
   "source": [
    "- `Procedural Programming`\n",
    "    - Procedural programming is one of the oldest programming paradigms and is based on the concept of procedure calls, also known as routines or functions. This paradigm emphasizes a step-by-step set of instructions to solve a problem. It organizes code into reusable blocks (functions) and typically follows a top-down approach. Languages like C are known for their procedural style.  "
   ]
  },
  {
   "attachments": {},
   "cell_type": "markdown",
   "metadata": {},
   "source": [
    "- `Object-Oriented Programming (OOP)`\n",
    "    - Object-oriented programming is centered around the idea of 'objects'. These objects are instances of 'classes', which encapsulate both data (attributes) and behaviors (methods) relevant to the object. OOP is built on the principles of inheritance, encapsulation, abstraction, and polymorphism, allowing for more manageable and scalable code, especially in large software projects. Python, Java, and C++ are examples of languages that support OOP.\n",
    "\n"
   ]
  },
  {
   "attachments": {},
   "cell_type": "markdown",
   "metadata": {},
   "source": [
    "- `Functional Programming`\n",
    "    - Functional programming treats computation as the evaluation of mathematical functions and avoids changing state and mutable data. It emphasizes the use of functions as first-class citizens, meaning they can be assigned to variables, passed as arguments, or returned from other functions. Functional programming languages like Haskell enforce this paradigm strictly, while languages like Python support functional programming features."
   ]
  },
  {
   "attachments": {},
   "cell_type": "markdown",
   "metadata": {},
   "source": [
    "- `Imperative Programming`\n",
    "    - In this paradigm, programs are defined as sequences of instructions that change a program's state. It is characterized by the explicit statement of commands that the computer must perform. The focus is on describing how a program operates, detailing the steps required to achieve a desired outcome. Common imperative programming languages include C, Python, and Java. This paradigm is distinguished by its use of loops, conditionals, and variables to control the flow of a program."
   ]
  },
  {
   "attachments": {},
   "cell_type": "markdown",
   "metadata": {},
   "source": [
    "<font color='#FF69B4'>**Note:**</font> Understanding these paradigms provides a foundation for learning how to use them effectively in your programming projects.  \n",
    "\n",
    "<font color='#FF69B4'>**Note:**</font> Each paradigm has its strengths and is suited for different types of tasks; the choice of which to use often depends on the problem at hand, the requirements of the system, and the preference of the programmer."
   ]
  },
  {
   "attachments": {},
   "cell_type": "markdown",
   "metadata": {},
   "source": [
    "## <font color='#FFA500'>**Object Oriented Programming in Python**</font> "
   ]
  },
  {
   "attachments": {},
   "cell_type": "markdown",
   "metadata": {},
   "source": [
    "So we mentioned that **Object-oriented programming (OOP)** is a method of structuring a program by bundling related properties and behaviors into individual objects. \n",
    "\n",
    "Object-oriented programming is a programming paradigm that provides a means of structuring programs so that properties and behaviors are bundled into individual **objects**.\n",
    "\n",
    "For instance, an object could represent a person with **properties** like a name, age, and address and **behaviors** such as walking, talking, breathing, and running. Or it could represent an email with properties like a recipient list, subject, and body and behaviors like adding attachments and sending."
   ]
  },
  {
   "attachments": {},
   "cell_type": "markdown",
   "metadata": {},
   "source": [
    "<div style='text-align: center'>\n",
    "    <img src='https://img.wonderhowto.com/img/89/23/63557958543427/0/hack-like-pro-python-scripting-for-aspiring-hacker-part-2.w1456.jpg' alt='object_oriented' title='oop' width='600' height='400'/>\n",
    "</div>"
   ]
  },
  {
   "attachments": {},
   "cell_type": "markdown",
   "metadata": {},
   "source": [
    "Put another way, object-oriented programming is an approach for modeling concrete, real-world things, like cars, as well as relations between things, like companies and employees, students and teachers, and so on. OOP models real-world entities as software objects that have some data associated with them and can perform certain functions."
   ]
  },
  {
   "attachments": {},
   "cell_type": "markdown",
   "metadata": {},
   "source": [
    "The **`Key Takeaways`** are that:\n",
    "\n",
    "- Object-oriented programming (OOP) in Python is a way to organize and write your code so that it reflects the real world more closely. In this approach, you create objects in your code that represent real-world things or concepts, and these objects can hold data and perform actions, just like in real life.\n",
    "\n",
    "- Objects are at the center of object-oriented programming in Python, not only representing the data, as in procedural programming, but in the overall structure of the program as well."
   ]
  },
  {
   "attachments": {},
   "cell_type": "markdown",
   "metadata": {},
   "source": [
    "### Key Concepts of OOP:"
   ]
  },
  {
   "attachments": {},
   "cell_type": "markdown",
   "metadata": {},
   "source": [
    "- **`Objects`**: These are the basic units of OOP. An object can represent anything, like a person, a car, or an email. Each object has attributes (data) and methods (functions) that define its behavior and characteristics.\n",
    "- **`Classes`**: Think of a class as a blueprint for creating objects. A class defines the properties and behaviors that its objects will have. For example, if you have a class Person, you can create objects from it that represent different people.\n",
    "- **`Properties (Attributes)`**: These are the data stored inside an object. For example, a Person object might have properties like name, age, and address.\n",
    "- **`Behaviors (Methods)`**: These are functions defined within a class that describe what an object can do. For a Person object, behaviors might include walk(), talk(), and breathe()."
   ]
  },
  {
   "attachments": {},
   "cell_type": "markdown",
   "metadata": {},
   "source": [
    "Primitive data structures—like numbers, strings, and lists—are designed to represent simple pieces of information, such as the cost of an apple, the name of a poem, or your favorite colors, respectively.  \n",
    "What if you want to represent something more complex?"
   ]
  },
  {
   "attachments": {},
   "cell_type": "markdown",
   "metadata": {},
   "source": [
    "For example, let’s say you want to track employees in an organization. You need to store some basic information about each employee, such as their name, age, position, and the year they started working."
   ]
  },
  {
   "attachments": {},
   "cell_type": "markdown",
   "metadata": {},
   "source": [
    "One way to do this is to represent each employee as a list:"
   ]
  },
  {
   "cell_type": "code",
   "execution_count": 9,
   "metadata": {},
   "outputs": [],
   "source": [
    "kirk = ['James Kirk', 34, 'Captain', 2265]\n",
    "spock = ['Spock', 35, 'Science Officer', 2254]\n",
    "mccoy = ['Leonard McCoy', 'Chief Medical Officer', 2266]"
   ]
  },
  {
   "attachments": {},
   "cell_type": "markdown",
   "metadata": {},
   "source": [
    "There are a number of issues with this approach.\n",
    "\n",
    "**First**, it can make larger code files more difficult to manage. If you reference `kirk[0]` several lines away from where the `kirk` list is declared, will you remember that the element with index `0` is the employee’s name?\n",
    "\n",
    "**Second**, it can introduce errors if not every employee has the same number of elements in the list. In the `mccoy` list above, the age is missing, so `mccoy[1]` will return `\"Chief Medical Officer\"` instead of Dr. McCoy’s age."
   ]
  },
  {
   "attachments": {},
   "cell_type": "markdown",
   "metadata": {},
   "source": [
    "Therefore, a great way to make this type of code more manageable and more maintainable is to use <font color='#FF69B4'>**classes**</font>."
   ]
  },
  {
   "attachments": {},
   "cell_type": "markdown",
   "metadata": {},
   "source": [
    "### Practical Example:"
   ]
  },
  {
   "attachments": {},
   "cell_type": "markdown",
   "metadata": {},
   "source": [
    "#### Defining a Class"
   ]
  },
  {
   "cell_type": "code",
   "execution_count": 1,
   "metadata": {},
   "outputs": [],
   "source": [
    "class Person:\n",
    "    def __init__(self, name, age, address):\n",
    "        self.name = name\n",
    "        self.age = age\n",
    "        self.address = address\n",
    "\n",
    "    def talk(self):\n",
    "        print(f'Hi, my name is {self.name}.')\n",
    "\n",
    "    def walk(self):\n",
    "        print(f'{self.name} is walking.')\n"
   ]
  },
  {
   "attachments": {},
   "cell_type": "markdown",
   "metadata": {},
   "source": [
    "In this example, Person is a class that has:\n",
    "\n",
    "- Properties: name, age, address  \n",
    "- Behaviors: talk() (prints the person's name), walk() (simulates the person walking)"
   ]
  },
  {
   "attachments": {},
   "cell_type": "markdown",
   "metadata": {},
   "source": [
    "#### Creating an Object"
   ]
  },
  {
   "cell_type": "code",
   "execution_count": 2,
   "metadata": {},
   "outputs": [
    {
     "name": "stdout",
     "output_type": "stream",
     "text": [
      "Hi, my name is Alice.\n",
      "Alice is walking.\n"
     ]
    }
   ],
   "source": [
    "# Creating an object of the Person class\n",
    "person1 = Person('Alice', 30, '1234 Main St')\n",
    "\n",
    "# Using the object's methods\n",
    "person1.talk()  # Output: Hi, my name is Alice.\n",
    "person1.walk()  # Output: Alice is walking.\n"
   ]
  },
  {
   "cell_type": "code",
   "execution_count": 3,
   "metadata": {},
   "outputs": [
    {
     "name": "stdout",
     "output_type": "stream",
     "text": [
      "Hi, my name is Mojtaba.\n",
      "Mojtaba is walking.\n"
     ]
    }
   ],
   "source": [
    "# Creating an object of the Person class\n",
    "person2 = Person('Mojtaba', 21, 'Buckingham Palace')\n",
    "\n",
    "# Using the object's methods\n",
    "person2.talk()  # Output: Hi, my name is Mojtaba.\n",
    "person2.walk()  # Output: Mojtaba is walking."
   ]
  },
  {
   "attachments": {},
   "cell_type": "markdown",
   "metadata": {},
   "source": [
    "Here, person1, and Person2 are objects of the Person class, representing a person named Alice who is 30 years old and lives at \"1234 Main St\", and a person named Mojtaba who is 21 years old lives in \"Buckingham Palace\". \n",
    "\n",
    "We can use person1 and Person2 to call the methods defined in the Person class, which utilize the properties of person1 and person2."
   ]
  },
  {
   "attachments": {},
   "cell_type": "markdown",
   "metadata": {},
   "source": [
    "### Another Example:"
   ]
  },
  {
   "attachments": {},
   "cell_type": "markdown",
   "metadata": {},
   "source": [
    "<div style='text-align: center'>\n",
    "    <img src='https://earthly.dev/blog/assets/images/python-classes-and-objects/wcXVeEw.png' alt='object_oriented' title='oop' width='600' height='400'/>\n",
    "</div>"
   ]
  },
  {
   "attachments": {},
   "cell_type": "markdown",
   "metadata": {},
   "source": [
    "## <font color='#FFA500'>**How to Define a Class in Python**</font> "
   ]
  },
  {
   "attachments": {},
   "cell_type": "markdown",
   "metadata": {},
   "source": [
    "All class definitions start with the ‍`class‍` keyword, which is followed by the name of the class and a colon. Any code that is indented below the class definition is considered part of the class’s body."
   ]
  },
  {
   "attachments": {},
   "cell_type": "markdown",
   "metadata": {},
   "source": [
    "Here’s an example of a ‍`Dog` class:\n",
    "\n",
    "```python\n",
    "class Dog:\n",
    "    pass\n",
    "```"
   ]
  },
  {
   "attachments": {},
   "cell_type": "markdown",
   "metadata": {},
   "source": [
    "The body of the `Dog` class consists of a single statement: the `pass` keyword. pass is often used as a placeholder indicating where code will eventually go. It allows you to run this code without Python throwing an error."
   ]
  },
  {
   "attachments": {},
   "cell_type": "markdown",
   "metadata": {},
   "source": [
    "> **Note:** Python class names are written in CapitalizedWords notation (**Pascal** case) by convention. For example, a class for a specific breed of dog like the Jack Russell Terrier would be written as `JackRussellTerrier`."
   ]
  },
  {
   "attachments": {},
   "cell_type": "markdown",
   "metadata": {},
   "source": [
    "The `Dog` class isn’t very interesting right now, so let’s spice it up a bit by defining some properties that all `Dog` objects should have. There are a number of properties that we can choose from, including name, age, coat color, and breed. To keep things simple, we’ll just use name and age."
   ]
  },
  {
   "attachments": {},
   "cell_type": "markdown",
   "metadata": {},
   "source": [
    "The properties that all `Dog` objects must have are defined in a method called `.__init__()`. Every time a new `Dog` object is created, `.__init__()` sets the initial **state** of the object by assigning the values of the object’s properties. That is, `.__init__()` initializes each new object of the class."
   ]
  },
  {
   "attachments": {},
   "cell_type": "markdown",
   "metadata": {},
   "source": [
    "You can give `.__init__()` any number of parameters, but the first parameter will always be a variable called `self`. When a new class object is created, the instance is automatically passed to the self parameter in `.__init__()` so that new **attributes** can be defined on the object."
   ]
  },
  {
   "attachments": {},
   "cell_type": "markdown",
   "metadata": {},
   "source": [
    "Let’s update the `Dog` class with an `.__init__()` method that creates `.name` and `.age` attributes:"
   ]
  },
  {
   "cell_type": "code",
   "execution_count": 6,
   "metadata": {},
   "outputs": [],
   "source": [
    "class Dog:\n",
    "    def __init__(self, name, age):\n",
    "        self.name = name\n",
    "        self.age = age"
   ]
  },
  {
   "attachments": {},
   "cell_type": "markdown",
   "metadata": {},
   "source": [
    "<font color='#FF69B4'>**Note:**</font> Notice that the `.__init__()` method’s signature is indented four spaces. The body of the method is indented by eight spaces. This indentation is vitally important. It tells Python that the `.__init__()` method belongs to the Dog class."
   ]
  },
  {
   "attachments": {},
   "cell_type": "markdown",
   "metadata": {},
   "source": [
    "In the body of `.__init__()`, there are two statements using the self variable:\n",
    "\n",
    "1. `self.name = name` creates an attribute called `name` and assigns to it the value of the `name` parameter.\n",
    "2. `self.age = age` creates an attribute called `age`` and assigns to it the value of the `age` parameter."
   ]
  },
  {
   "attachments": {},
   "cell_type": "markdown",
   "metadata": {},
   "source": [
    "Attributes created in `.__init__()` are called **instance attributes**. An instance attribute’s value is specific to a particular instance of the class. All `Dog` objects have a `name` and an `age`, but the values for the `name` and `age` attributes will vary depending on the `Dog` instance.\n",
    "\n",
    "On the other hand, **class attributes** are attributes that have the same value for all class instances. You can define a class attribute by assigning a value to a variable name outside of `.__init__()`."
   ]
  },
  {
   "attachments": {},
   "cell_type": "markdown",
   "metadata": {},
   "source": [
    "<div style='text-align: center'>\n",
    "    <img src='images/Class_Dog.png' alt='object_oriented' title='oop' width='600' height='400'/>\n",
    "</div>"
   ]
  },
  {
   "attachments": {},
   "cell_type": "markdown",
   "metadata": {},
   "source": [
    "For example, the following `Dog` class has a class attribute called `species` with the value `\"Canis familiaris\"`:"
   ]
  },
  {
   "cell_type": "code",
   "execution_count": 11,
   "metadata": {},
   "outputs": [],
   "source": [
    "class Dog:\n",
    "    # Class attribute\n",
    "    species = 'Canis familiaris'\n",
    "\n",
    "    def __init__(self, name, age):\n",
    "        self.name = name\n",
    "        self.age = age"
   ]
  },
  {
   "attachments": {},
   "cell_type": "markdown",
   "metadata": {},
   "source": [
    "Class attributes are defined directly beneath the first line of the class name and are indented by four spaces. They must always be assigned an initial value. When an instance of the class is created, class attributes are automatically created and assigned to their initial values.\n",
    "\n",
    "Use class attributes to define properties that should have the same value for every class instance. Use instance attributes for properties that vary from one instance to another.\n",
    "\n",
    "Now that we have a `Dog` class, let’s create some dogs!"
   ]
  },
  {
   "attachments": {},
   "cell_type": "markdown",
   "metadata": {},
   "source": [
    "### Create an Object in Python"
   ]
  },
  {
   "cell_type": "code",
   "execution_count": 9,
   "metadata": {},
   "outputs": [],
   "source": [
    "class Dog:\n",
    "    pass"
   ]
  },
  {
   "attachments": {},
   "cell_type": "markdown",
   "metadata": {},
   "source": [
    "This creates a new `Dog` class with no attributes or methods."
   ]
  },
  {
   "attachments": {},
   "cell_type": "markdown",
   "metadata": {},
   "source": [
    "Creating a new object from a class is called **instantiating** an object. You can instantiate a new `Dog` object by typing the name of the class, followed by opening and closing parentheses:"
   ]
  },
  {
   "cell_type": "code",
   "execution_count": 10,
   "metadata": {},
   "outputs": [
    {
     "data": {
      "text/plain": [
       "<__main__.Dog at 0x7fa62876a5e0>"
      ]
     },
     "execution_count": 10,
     "metadata": {},
     "output_type": "execute_result"
    }
   ],
   "source": [
    "Dog()"
   ]
  },
  {
   "attachments": {},
   "cell_type": "markdown",
   "metadata": {},
   "source": [
    "You now have a new Dog object at `0x24a5d1b3550`. This funny-looking string of letters and numbers is a **memory address** that indicates where the `Dog` object is stored in your computer’s memory. Note that the address you see on your screen will be different."
   ]
  },
  {
   "attachments": {},
   "cell_type": "markdown",
   "metadata": {},
   "source": [
    "Now instantiate a second `Dog` object:"
   ]
  },
  {
   "cell_type": "code",
   "execution_count": 11,
   "metadata": {},
   "outputs": [
    {
     "data": {
      "text/plain": [
       "<__main__.Dog at 0x7fa6784bba60>"
      ]
     },
     "execution_count": 11,
     "metadata": {},
     "output_type": "execute_result"
    }
   ],
   "source": [
    "Dog()"
   ]
  },
  {
   "attachments": {},
   "cell_type": "markdown",
   "metadata": {},
   "source": [
    "The new `Dog` instance is located at a different memory address. That’s because it’s an entirely new instance and is completely unique from the first `Dog` object that you instantiated."
   ]
  },
  {
   "attachments": {},
   "cell_type": "markdown",
   "metadata": {},
   "source": [
    "To see this another way, type the following:"
   ]
  },
  {
   "cell_type": "code",
   "execution_count": 6,
   "metadata": {},
   "outputs": [],
   "source": [
    "a = Dog()"
   ]
  },
  {
   "cell_type": "code",
   "execution_count": 7,
   "metadata": {},
   "outputs": [],
   "source": [
    "b = Dog()"
   ]
  },
  {
   "cell_type": "code",
   "execution_count": 8,
   "metadata": {},
   "outputs": [
    {
     "data": {
      "text/plain": [
       "False"
      ]
     },
     "execution_count": 8,
     "metadata": {},
     "output_type": "execute_result"
    }
   ],
   "source": [
    "a == b"
   ]
  },
  {
   "attachments": {},
   "cell_type": "markdown",
   "metadata": {},
   "source": [
    "In this code, you create two new `Dog` objects and assign them to the variables `a` and `b`. When you compare `a` and `b` using the `==` operator, the result is `False`. Even though `a` and `b` are both instances of the `Dog` class, they represent two distinct objects in memory."
   ]
  },
  {
   "attachments": {},
   "cell_type": "markdown",
   "metadata": {},
   "source": [
    "Now create a new `Dog` class with a class attribute called `.species` and two instance attributes called `.name` and `.age`:"
   ]
  },
  {
   "cell_type": "code",
   "execution_count": 12,
   "metadata": {},
   "outputs": [],
   "source": [
    "class Dog:\n",
    "    species = 'Golden Retriever'\n",
    "    def __init__(self, name, age):\n",
    "        self.name = name\n",
    "        self.age = age"
   ]
  },
  {
   "attachments": {},
   "cell_type": "markdown",
   "metadata": {},
   "source": [
    "To instantiate objects of this `Dog` class, you need to provide values for the `name` and `age`. If you don’t, then Python raises a `TypeError`:"
   ]
  },
  {
   "cell_type": "code",
   "execution_count": 13,
   "metadata": {},
   "outputs": [
    {
     "ename": "TypeError",
     "evalue": "__init__() missing 2 required positional arguments: 'name' and 'age'",
     "output_type": "error",
     "traceback": [
      "\u001b[0;31m---------------------------------------------------------------------------\u001b[0m",
      "\u001b[0;31mTypeError\u001b[0m                                 Traceback (most recent call last)",
      "Cell \u001b[0;32mIn[13], line 1\u001b[0m\n\u001b[0;32m----> 1\u001b[0m Dog()\n",
      "\u001b[0;31mTypeError\u001b[0m: __init__() missing 2 required positional arguments: 'name' and 'age'"
     ]
    }
   ],
   "source": [
    "Dog()"
   ]
  },
  {
   "cell_type": "code",
   "execution_count": 14,
   "metadata": {},
   "outputs": [],
   "source": [
    "dog1 = Dog('Buddy', 9)"
   ]
  },
  {
   "cell_type": "code",
   "execution_count": 15,
   "metadata": {},
   "outputs": [],
   "source": [
    "dog2 = Dog('Miles', 4)"
   ]
  },
  {
   "attachments": {},
   "cell_type": "markdown",
   "metadata": {},
   "source": [
    "This creates two new `Dog` instances—one for a nine-year-old dog named Buddy and one for a four-year-old dog named Miles."
   ]
  },
  {
   "attachments": {},
   "cell_type": "markdown",
   "metadata": {},
   "source": [
    "The Dog class’s `.__init__()` method has three parameters, so why are only two arguments passed to it in the example?"
   ]
  },
  {
   "attachments": {},
   "cell_type": "markdown",
   "metadata": {},
   "source": [
    "When you instantiate a Dog object, Python creates a new object and passes it to the first parameter of `.__init__()`.  \n",
    "This essentially removes the `self` parameter, so you only need to worry about the `name` and `age` parameters."
   ]
  },
  {
   "attachments": {},
   "cell_type": "markdown",
   "metadata": {},
   "source": [
    "After you create the `Dog` instances, you can access their instance attributes using **dot notation**:"
   ]
  },
  {
   "cell_type": "code",
   "execution_count": 16,
   "metadata": {},
   "outputs": [
    {
     "data": {
      "text/plain": [
       "'Buddy'"
      ]
     },
     "execution_count": 16,
     "metadata": {},
     "output_type": "execute_result"
    }
   ],
   "source": [
    "dog1.name"
   ]
  },
  {
   "cell_type": "code",
   "execution_count": 17,
   "metadata": {},
   "outputs": [
    {
     "data": {
      "text/plain": [
       "9"
      ]
     },
     "execution_count": 17,
     "metadata": {},
     "output_type": "execute_result"
    }
   ],
   "source": [
    "dog1.age"
   ]
  },
  {
   "cell_type": "code",
   "execution_count": 18,
   "metadata": {},
   "outputs": [
    {
     "data": {
      "text/plain": [
       "'Miles'"
      ]
     },
     "execution_count": 18,
     "metadata": {},
     "output_type": "execute_result"
    }
   ],
   "source": [
    "dog2.name"
   ]
  },
  {
   "cell_type": "code",
   "execution_count": 19,
   "metadata": {},
   "outputs": [
    {
     "data": {
      "text/plain": [
       "4"
      ]
     },
     "execution_count": 19,
     "metadata": {},
     "output_type": "execute_result"
    }
   ],
   "source": [
    "dog2.age"
   ]
  },
  {
   "attachments": {},
   "cell_type": "markdown",
   "metadata": {},
   "source": [
    "You can access class attributes the same way:"
   ]
  },
  {
   "cell_type": "code",
   "execution_count": 20,
   "metadata": {},
   "outputs": [
    {
     "data": {
      "text/plain": [
       "'Golden Retriever'"
      ]
     },
     "execution_count": 20,
     "metadata": {},
     "output_type": "execute_result"
    }
   ],
   "source": [
    "dog1.species"
   ]
  },
  {
   "attachments": {},
   "cell_type": "markdown",
   "metadata": {},
   "source": [
    "One of the biggest advantages of using classes to organize data is that objects are guaranteed to have the attributes you expect. All `Dog` objects have `.species`, `.name`, and `.age` attributes, so you can use those attributes with confidence knowing that they will always return a value."
   ]
  },
  {
   "attachments": {},
   "cell_type": "markdown",
   "metadata": {},
   "source": [
    "Although the attributes are guaranteed to exist, their values _can_ be changed dynamically:"
   ]
  },
  {
   "cell_type": "code",
   "execution_count": 21,
   "metadata": {},
   "outputs": [],
   "source": [
    "dog1.age = 10"
   ]
  },
  {
   "cell_type": "code",
   "execution_count": 22,
   "metadata": {},
   "outputs": [
    {
     "data": {
      "text/plain": [
       "10"
      ]
     },
     "execution_count": 22,
     "metadata": {},
     "output_type": "execute_result"
    }
   ],
   "source": [
    "dog1.age"
   ]
  },
  {
   "cell_type": "code",
   "execution_count": 23,
   "metadata": {},
   "outputs": [],
   "source": [
    "dog2.species = 'Siberian Husky'"
   ]
  },
  {
   "cell_type": "code",
   "execution_count": 24,
   "metadata": {},
   "outputs": [
    {
     "data": {
      "text/plain": [
       "'Siberian Husky'"
      ]
     },
     "execution_count": 24,
     "metadata": {},
     "output_type": "execute_result"
    }
   ],
   "source": [
    "dog2.species"
   ]
  },
  {
   "cell_type": "code",
   "execution_count": 24,
   "metadata": {},
   "outputs": [
    {
     "data": {
      "text/plain": [
       "'Golden Retriever'"
      ]
     },
     "execution_count": 24,
     "metadata": {},
     "output_type": "execute_result"
    }
   ],
   "source": [
    "dog1.species"
   ]
  },
  {
   "attachments": {},
   "cell_type": "markdown",
   "metadata": {},
   "source": [
    "In this example, you change the `.age` attribute of the dog1 object to `10`. Then you change the `.species` attribute of the `dog2` object to `\"Siberian Husky\"`, which is a species of dog. That makes dog2 a pretty strange dog, but it is valid Python!"
   ]
  },
  {
   "attachments": {},
   "cell_type": "markdown",
   "metadata": {},
   "source": [
    "The key takeaway here is that custom objects are mutable by default. An object is mutable if it can be altered dynamically. For example, lists and dictionaries are mutable, but strings and tuples are immutable."
   ]
  }
 ],
 "metadata": {
  "kernelspec": {
   "display_name": "base",
   "language": "python",
   "name": "python3"
  },
  "language_info": {
   "codemirror_mode": {
    "name": "ipython",
    "version": 3
   },
   "file_extension": ".py",
   "mimetype": "text/x-python",
   "name": "python",
   "nbconvert_exporter": "python",
   "pygments_lexer": "ipython3",
   "version": "3.10.9"
  },
  "orig_nbformat": 4
 },
 "nbformat": 4,
 "nbformat_minor": 2
}
