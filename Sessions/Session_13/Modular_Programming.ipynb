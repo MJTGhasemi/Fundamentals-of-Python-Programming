{
 "cells": [
  {
   "attachments": {},
   "cell_type": "markdown",
   "metadata": {},
   "source": [
    "# <font color='#98FB98'>**Advance Topics: Modular Programming**</font> "
   ]
  },
  {
   "attachments": {},
   "cell_type": "markdown",
   "metadata": {},
   "source": [
    "Code `modularity` is important (we'll learn what it means in details but basically it's the process of splitting code into several files), but Jupyter encourages you to put most code directly into cells so that you can best use interactive tools.  \n",
    "But to make code the most modular, you want lots of functions, classes, etc. \n",
    "\n",
    "Put another way, the most modular code has nothing except functions/classes/variables/import definitions touching the left margin."
   ]
  },
  {
   "attachments": {},
   "cell_type": "markdown",
   "metadata": {},
   "source": [
    "<font color='#FF69B4'>**Note:**</font>  \n",
    "- Function, class, variable, and import statements should be the only lines of code that start at the very beginning of a line (touching the left margin), indicating that these are top-level definitions or declarations in your code.\n",
    "\n",
    "- Any other code, particularly the bodies of functions and classes, should be indented, meaning they do not touch the left margin. This indentation signifies that the code is part of a block (like inside a function or class), thus not at the top level of the script or module.\n",
    "\n",
    "- This principle aims to enhance code readability and maintainability by clearly distinguishing between top-level definitions and nested code blocks, making the overall structure of the code easier to understand at a glance."
   ]
  },
  {
   "attachments": {},
   "cell_type": "markdown",
   "metadata": {},
   "source": [
    "## <font color='#FFA500'>**Modular Programming**</font> "
   ]
  },
  {
   "attachments": {},
   "cell_type": "markdown",
   "metadata": {},
   "source": [
    "**Modular programming** refers to the process of breaking a large, unwieldy programming task into separate, smaller, more manageable subtasks or **modules**. Individual modules can then be cobbled together like building blocks to create a larger application."
   ]
  },
  {
   "attachments": {},
   "cell_type": "markdown",
   "metadata": {},
   "source": [
    "There are several advantages to **modularizing** code in a large application:\n",
    "- **Simplicity:** Rather than focusing on the entire problem at hand, a module typically focuses on one relatively small portion of the problem. If you’re working on a single module, you’ll have a smaller problem domain to wrap your head around. This makes development easier and less error-prone.\n",
    "\n",
    "- **Maintainability:** Modules are typically designed so that they enforce logical boundaries between different problem domains. If modules are written in a way that minimizes interdependency, there is decreased likelihood that modifications to a single module will have an impact on other parts of the program. (You may even be able to make changes to a module without having any knowledge of the application outside that module.) This makes it more viable for a team of many programmers to work collaboratively on a large application.\n",
    "\n",
    "- **Reusability:** Functionality defined in a single module can be easily reused (through an appropriately defined interface) by other parts of the application. This eliminates the need to duplicate code.\n",
    "\n",
    "- **Scoping:** Modules typically define a separate [**namespace**](https://realpython.com/python-namespaces-scope/), which helps avoid collisions between identifiers in different areas of a program. "
   ]
  },
  {
   "attachments": {},
   "cell_type": "markdown",
   "metadata": {},
   "source": [
    "#### <font color='#FF69B4'>**Note:**</font> What is `namespace`?"
   ]
  },
  {
   "attachments": {},
   "cell_type": "markdown",
   "metadata": {},
   "source": [
    "A namespace is a conceptual space in programming languages where identifiers like names of variables, functions, classes, and other objects are stored. Each identifier in a namespace refers to a unique object. This helps in avoiding naming conflicts, as the same name can be used for different objects in different namespaces.\n",
    "\n",
    "In the context of modules, a namespace ensures that identifiers defined within a module won't clash with those defined in other modules or the main program, unless explicitly imported. This allows for modular and organized code development, where the same name can be safely used in different modules without fear of name collisions.\n",
    "\n",
    "For example, two different modules might both define a function called calculate, but since each function exists within the separate namespace of its respective module, they won't interfere with each other. To use these functions, you would typically prefix them with the module name (e.g., `module1.calculate()` and `module2.calculate()`), which specifies the namespace and makes the reference clear."
   ]
  },
  {
   "attachments": {},
   "cell_type": "markdown",
   "metadata": {},
   "source": [
    "### Python Modules: Overview"
   ]
  },
  {
   "attachments": {},
   "cell_type": "markdown",
   "metadata": {},
   "source": [
    "There are actually three different ways to define a **module** in Python:\n",
    "1. A module can be written in Python itself.\n",
    "2. A module can be written in **C** and loaded dynamically at run-time, like the `re` ([**regular expression**](https://realpython.com/regex-python/)) module.\n",
    "3. A **built-in** module is intrinsically contained in the interpreter, like the [`itertools` module](https://realpython.com/python-itertools/)."
   ]
  },
  {
   "attachments": {},
   "cell_type": "markdown",
   "metadata": {},
   "source": [
    "A module’s contents are accessed the same way in all three cases: with the `import` statement."
   ]
  },
  {
   "attachments": {},
   "cell_type": "markdown",
   "metadata": {},
   "source": [
    "In this class, the focus will be on modules that are written in Python. The cool thing about modules written in Python is that they are exceedingly straightforward to build. All you need to do is create a file that contains legitimate Python code and then give the file a name with a `.py` extension. That’s it! No special syntax or voodoo is necessary."
   ]
  },
  {
   "attachments": {},
   "cell_type": "markdown",
   "metadata": {},
   "source": [
    "For example, suppose you have created a file called `mod.py` containing the following:"
   ]
  },
  {
   "attachments": {},
   "cell_type": "markdown",
   "metadata": {},
   "source": [
    "> `mod.py`\n",
    "> ```python\n",
    "> s = 'Until you spread your wings, you will have no idea how far you can fly.  (-Napoleon Bonaparte)'\n",
    "> a = [100, 200, 300]\n",
    "> \n",
    "> def foo(arg):\n",
    ">     print(f'arg = {arg}')\n",
    "> \n",
    "> class Foo:\n",
    ">     pass\n",
    "```"
   ]
  },
  {
   "attachments": {},
   "cell_type": "markdown",
   "metadata": {},
   "source": [
    "Several objects are defined in `mod.py`:\n",
    "\n",
    "- `s` (a string)\n",
    "- `a` (a list)\n",
    "- `foo()` (a function)\n",
    "- `Foo` (a class)"
   ]
  },
  {
   "attachments": {},
   "cell_type": "markdown",
   "metadata": {},
   "source": [
    "Assuming `mod.py` is in an appropriate location, which you will learn more about shortly, these objects can be accessed by **importing** the module as follows:"
   ]
  },
  {
   "cell_type": "code",
   "execution_count": 1,
   "metadata": {},
   "outputs": [
    {
     "name": "stdout",
     "output_type": "stream",
     "text": [
      "Until you spread your wings, you will have no idea how far you can fly.  (-Napoleon Bonaparte)\n"
     ]
    }
   ],
   "source": [
    "import mod\n",
    "print(mod.s)"
   ]
  },
  {
   "cell_type": "code",
   "execution_count": 2,
   "metadata": {},
   "outputs": [
    {
     "data": {
      "text/plain": [
       "[100, 200, 300]"
      ]
     },
     "execution_count": 2,
     "metadata": {},
     "output_type": "execute_result"
    }
   ],
   "source": [
    "mod.a"
   ]
  },
  {
   "cell_type": "code",
   "execution_count": 8,
   "metadata": {},
   "outputs": [
    {
     "name": "stdout",
     "output_type": "stream",
     "text": [
      "arg = ['quux', 'corge', 'grault']\n"
     ]
    }
   ],
   "source": [
    "mod.foo(['quux', 'corge', 'grault'])"
   ]
  },
  {
   "attachments": {},
   "cell_type": "markdown",
   "metadata": {},
   "source": [
    "<font color='#FF69B4'>**Note:**</font>  When the interpreter executes the above `import` statement, it searches for `mod.py` in a list of directories.  \n",
    "Therefore, you need to put `mod.py` in the directory where the input script is located or the **current directory**."
   ]
  },
  {
   "attachments": {},
   "cell_type": "markdown",
   "metadata": {},
   "source": [
    "Once a module has been imported, you can determine the location where it was found with the module’s `__file__` attribute:"
   ]
  },
  {
   "cell_type": "code",
   "execution_count": 1,
   "metadata": {},
   "outputs": [
    {
     "data": {
      "text/plain": [
       "'/Users/mj/Desktop/MCIT/420-SS9-UM - Fundamentals of Python Programming/Class Presentation/Session 13_20240228/mod.py'"
      ]
     },
     "execution_count": 1,
     "metadata": {},
     "output_type": "execute_result"
    }
   ],
   "source": [
    "import mod\n",
    "mod.__file__"
   ]
  },
  {
   "attachments": {},
   "cell_type": "markdown",
   "metadata": {},
   "source": [
    "## <font color='#FFA500'>**The `import` Statement**</font> "
   ]
  },
  {
   "attachments": {},
   "cell_type": "markdown",
   "metadata": {},
   "source": [
    "**Module** contents are made available to the caller with the `import` statement. The `import` statement takes many different forms. \n",
    "\n",
    "Here are two common forms shown below:"
   ]
  },
  {
   "attachments": {},
   "cell_type": "markdown",
   "metadata": {},
   "source": [
    "### `import <module_name>`"
   ]
  },
  {
   "attachments": {},
   "cell_type": "markdown",
   "metadata": {},
   "source": [
    "This is the simplest form."
   ]
  },
  {
   "cell_type": "code",
   "execution_count": 3,
   "metadata": {},
   "outputs": [],
   "source": [
    "import mod"
   ]
  },
  {
   "cell_type": "code",
   "execution_count": 4,
   "metadata": {},
   "outputs": [
    {
     "data": {
      "text/plain": [
       "'Until you spread your wings, you will have no idea how far you can fly.  (-Napoleon Bonaparte)'"
      ]
     },
     "execution_count": 4,
     "metadata": {},
     "output_type": "execute_result"
    }
   ],
   "source": [
    "mod.s"
   ]
  },
  {
   "attachments": {},
   "cell_type": "markdown",
   "metadata": {},
   "source": [
    "### `from <module_name> import <name(s)>`"
   ]
  },
  {
   "attachments": {},
   "cell_type": "markdown",
   "metadata": {},
   "source": [
    "An alternate form of the `import` statement allows individual objects from the module to be imported directly. \n",
    "\n",
    "```python\n",
    "from <module_name> import <name(s)>\n",
    "```"
   ]
  },
  {
   "cell_type": "code",
   "execution_count": 6,
   "metadata": {},
   "outputs": [],
   "source": [
    "from mod import s, foo"
   ]
  },
  {
   "cell_type": "code",
   "execution_count": 7,
   "metadata": {},
   "outputs": [
    {
     "data": {
      "text/plain": [
       "'Until you spread your wings, you will have no idea how far you can fly.  (-Napoleon Bonaparte)'"
      ]
     },
     "execution_count": 7,
     "metadata": {},
     "output_type": "execute_result"
    }
   ],
   "source": [
    "s"
   ]
  },
  {
   "attachments": {},
   "cell_type": "markdown",
   "metadata": {},
   "source": [
    "### Practical Example: \n",
    "\n",
    "Let's review a practical example (`library management system with its modular design`)."
   ]
  },
  {
   "attachments": {},
   "cell_type": "markdown",
   "metadata": {},
   "source": [
    "We'll design a program for managing a small library. This example will include a class to represent books and a separate module for library operations like adding books and displaying available books.\n",
    "\n",
    "We also introduce a module for user interactions (like adding and displaying books through user input)."
   ]
  },
  {
   "attachments": {},
   "cell_type": "markdown",
   "metadata": {},
   "source": [
    "#### Brief Explanation of the Process and Modules:\n",
    "\n",
    "- `book.py (Book Class)`: Defines a simple Book class with title and author as properties and a method to display the book's information. This class represents the individual books that will be managed by the library system.\n",
    "\n",
    "- `library.py (Library Class)`: Implements the Library class, which manages a collection of Book objects. It includes methods to add books to the library, display all books, search for books by title, and remove books. This class represents the core functionality of the library system.\n",
    "\n",
    "- `ui.py (User Interface Module)`: Provides a text-based user interface for interacting with the library. It displays a menu of options to the user (add, display, search, remove books, and exit) and processes user input to perform the chosen actions. This module separates the user interaction logic from the core library management logic.\n",
    "\n",
    "- `main.py (Program Entry Point)`: Serves as the starting point of the application. It creates an instance of the Library class and calls the main_menu function from ui.py to kick off the user interaction flow."
   ]
  },
  {
   "attachments": {},
   "cell_type": "markdown",
   "metadata": {},
   "source": [
    "#### `1. Book Class`\n",
    "#### book.py:"
   ]
  },
  {
   "cell_type": "code",
   "execution_count": null,
   "metadata": {},
   "outputs": [],
   "source": [
    "# book.py:\n",
    "\n",
    "class Book:\n",
    "    def __init__(self, title, author):\n",
    "        # Initialize the book object with title and author\n",
    "        self.title = title\n",
    "        self.author = author\n",
    "\n",
    "    def display_info(self):\n",
    "        # Display the information of the book\n",
    "        print(f\"Book: {self.title}, Author: {self.author}\")\n"
   ]
  },
  {
   "attachments": {},
   "cell_type": "markdown",
   "metadata": {},
   "source": [
    "## book.py File Overview\n",
    "\n",
    "The `book.py` file defines a class named `Book`.\n",
    "\n",
    "### Book Class\n",
    "\n",
    "The `Book` class includes the following methods:\n",
    "\n",
    "- **`__init__` Method**: Initializes the book with a title, author, and ISBN. This method is called a constructor.\n",
    "\n",
    "- **`__str__` Method**: Returns a string representation of the book object, making it useful for printing the book's details.\n"
   ]
  },
  {
   "attachments": {},
   "cell_type": "markdown",
   "metadata": {},
   "source": [
    "#### `2. Library Class`\n",
    "#### library.py:"
   ]
  },
  {
   "cell_type": "code",
   "execution_count": null,
   "metadata": {},
   "outputs": [],
   "source": [
    "# library.py:\n",
    "\n",
    "from book import Book\n",
    "\n",
    "class Library:\n",
    "    def __init__(self):\n",
    "        self.books = []\n",
    "\n",
    "    def add_book(self, title, author):\n",
    "        new_book = Book(title, author)\n",
    "        self.books.append(new_book)\n",
    "        print(f\"Added book: {title}\")\n",
    "\n",
    "    def display_books(self):\n",
    "        if self.books:\n",
    "            print(\"Library Books:\")\n",
    "            for book in self.books:\n",
    "                book.display_info()\n",
    "        else:\n",
    "            print(\"No books in the library.\")\n",
    "\n",
    "    def search_books(self, title):\n",
    "        # Search for books by title\n",
    "        found_books = [book for book in self.books if title.lower() in book.title.lower()]\n",
    "        if found_books:\n",
    "            print(\"Found Books:\")\n",
    "            for book in found_books:\n",
    "                book.display_info()\n",
    "        else:\n",
    "            print(\"No books found.\")\n",
    "\n",
    "    def remove_book(self, title):\n",
    "        # Remove a book by title\n",
    "        for book in self.books:\n",
    "            if book.title == title:\n",
    "                self.books.remove(book)\n",
    "                print(f\"Removed book: {title}\")\n",
    "                return\n",
    "        print(\"Book not found.\")\n"
   ]
  },
  {
   "attachments": {},
   "cell_type": "markdown",
   "metadata": {},
   "source": [
    "## library.py File Overview\n",
    "\n",
    "The `library.py` file imports the `Book` class from `book.py` and defines a class named `Library`.\n",
    "\n",
    "### Library Class\n",
    "\n",
    "The `Library` class includes the following methods:\n",
    "\n",
    "- **`__init__` Method**: Initializes the library with an empty list of books.\n",
    "\n",
    "- **`add_book` Method**: Adds a book to the library's collection.\n",
    "\n",
    "- **`remove_book` Method**: Removes a book from the library's collection by its ISBN.\n",
    "\n",
    "- **`find_book` Method**: Searches for a book in the library's collection by its ISBN and returns it if found, otherwise it returns `None`.\n",
    "\n",
    "- **`list_books` Method**: Returns a list of all books in the library's collection.\n"
   ]
  },
  {
   "attachments": {},
   "cell_type": "markdown",
   "metadata": {},
   "source": [
    "#### `3. User Interface Module`\n",
    "\n",
    "#### ui.py:"
   ]
  },
  {
   "cell_type": "code",
   "execution_count": null,
   "metadata": {},
   "outputs": [],
   "source": [
    "from library import Library\n",
    "\n",
    "def main_menu(library):\n",
    "    while True:\n",
    "        print(\"\\nLibrary Menu:\")\n",
    "        print(\"1. Add Book\")\n",
    "        print(\"2. Display Books\")\n",
    "        print(\"3. Search Books\")\n",
    "        print(\"4. Remove Book\")\n",
    "        print(\"5. Exit\")\n",
    "        choice = input(\"Enter choice: \")\n",
    "\n",
    "        if choice == \"1\":\n",
    "            title = input(\"Enter book title: \")\n",
    "            author = input(\"Enter book author: \")\n",
    "            library.add_book(title, author)\n",
    "        elif choice == \"2\":\n",
    "            library.display_books()\n",
    "        elif choice == \"3\":\n",
    "            title = input(\"Enter title to search: \")\n",
    "            library.search_books(title)\n",
    "        elif choice == \"4\":\n",
    "            title = input(\"Enter title of book to remove: \")\n",
    "            library.remove_book(title)\n",
    "        elif choice == \"5\":\n",
    "            print(\"Goodbye!\")\n",
    "            break\n",
    "        else:\n",
    "            print(\"Invalid choice. Please choose again.\")\n",
    "\n",
    "if __name__ == \"__main__\":\n",
    "    my_library = Library()\n",
    "    main_menu(my_library)\n"
   ]
  },
  {
   "attachments": {},
   "cell_type": "markdown",
   "metadata": {},
   "source": [
    "## ui.py File Overview\n",
    "\n",
    "The `ui.py` file defines several functions to interact with the user.\n",
    "\n",
    "### Functions\n",
    "\n",
    "- **`display_menu` Function**: Displays the main menu and returns the user's choice.\n",
    "\n",
    "- **`get_book_info` Function**: Prompts the user for the title, author, and ISBN of a book and returns these details.\n",
    "\n",
    "- **`get_isbn` Function**: Prompts the user for the ISBN of a book and returns it.\n"
   ]
  },
  {
   "attachments": {},
   "cell_type": "markdown",
   "metadata": {},
   "source": [
    "#### main.py"
   ]
  },
  {
   "cell_type": "code",
   "execution_count": null,
   "metadata": {},
   "outputs": [],
   "source": [
    "# Import the main_menu function from the ui module\n",
    "from ui import main_menu\n",
    "from library import Library\n",
    "\n",
    "def main():\n",
    "    # Create a Library instance\n",
    "    my_library = Library()\n",
    "    \n",
    "    # Start the main menu for the library system\n",
    "    main_menu(my_library)\n",
    "\n",
    "if __name__ == \"__main__\":\n",
    "    main()\n"
   ]
  },
  {
   "attachments": {},
   "cell_type": "markdown",
   "metadata": {},
   "source": [
    "## main.py File Overview\n",
    "\n",
    "The `main.py` file imports the `Library`, `Book`, and `ui` modules. The main function performs the following tasks:\n",
    "\n",
    "1. **Creates an instance of Library**: Initializes the library to manage the collection of books.\n",
    "2. **Enters an infinite loop**: Displays a menu and handles user choices.\n",
    "\n",
    "### Menu Options\n",
    "\n",
    "The menu offers several options:\n",
    "- **Adding a new book to the library**: Prompts the user for book details and adds the book to the library.\n",
    "- **Removing a book by its ISBN**: Allows the user to remove a book by entering its ISBN.\n",
    "- **Finding and displaying a book by its ISBN**: Lets the user find and display details of a book by entering its ISBN.\n",
    "- **Listing all books in the library**: Displays a list of all books currently in the library.\n",
    "- **Exiting the program**: Ends the infinite loop and exits the program.\n",
    "\n",
    "### Entry Point Check\n",
    "\n",
    "The entry point check (`if __name__ == '__main__':`) ensures that the main function runs when the script is executed directly.\n"
   ]
  }
 ],
 "metadata": {
  "kernelspec": {
   "display_name": "base",
   "language": "python",
   "name": "python3"
  },
  "language_info": {
   "codemirror_mode": {
    "name": "ipython",
    "version": 3
   },
   "file_extension": ".py",
   "mimetype": "text/x-python",
   "name": "python",
   "nbconvert_exporter": "python",
   "pygments_lexer": "ipython3",
   "version": "3.10.9"
  },
  "orig_nbformat": 4
 },
 "nbformat": 4,
 "nbformat_minor": 2
}
