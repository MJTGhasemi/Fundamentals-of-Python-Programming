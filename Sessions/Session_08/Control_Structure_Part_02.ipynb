{
 "cells": [
  {
   "attachments": {},
   "cell_type": "markdown",
   "metadata": {},
   "source": [
    "# <font color='#98FB98'>**Control Structures in Python**</font> "
   ]
  },
  {
   "attachments": {},
   "cell_type": "markdown",
   "metadata": {},
   "source": [
    "`Control Structures` in programming are constructs that dictate the flow of control in a program.  \n",
    "They enable a program to make decisions, execute code blocks conditionally, and perform tasks repeatedly."
   ]
  },
  {
   "attachments": {},
   "cell_type": "markdown",
   "metadata": {},
   "source": [
    "Python, like most programming languages, offers a variety of control structures that can be classified into three main categories: \n",
    "- `Sequential`\n",
    "- `Selection`\n",
    "- `Iteration`"
   ]
  },
  {
   "attachments": {},
   "cell_type": "markdown",
   "metadata": {},
   "source": [
    "<div style='text-align: center'>\n",
    "    <img src='https://net-informations.com/python/flow/img/control.png' alt='python_structures' title='python_structures' width='600' height='400'/>\n",
    "</div>"
   ]
  },
  {
   "attachments": {},
   "cell_type": "markdown",
   "metadata": {},
   "source": [
    "## <font color='#FFA500'>**Sequential Control Structure**</font> "
   ]
  },
  {
   "attachments": {},
   "cell_type": "markdown",
   "metadata": {},
   "source": [
    "The default mode of program execution is sequential. The interpreter executes Python code line by line, from the top of the file to the bottom.  \n",
    "Each statement is executed in the order it appears, and this is the `simplest` form of control flow."
   ]
  },
  {
   "cell_type": "code",
   "execution_count": 1,
   "metadata": {},
   "outputs": [
    {
     "name": "stdout",
     "output_type": "stream",
     "text": [
      "Hello, Class!\n",
      "9\n"
     ]
    }
   ],
   "source": [
    "# Sequential execution example\n",
    "print('Hello, Class!')  # Executed first\n",
    "x = 15                  # Executed second\n",
    "y = x - 6               # Executed third\n",
    "print(y)                # Executed fourth"
   ]
  },
  {
   "attachments": {},
   "cell_type": "markdown",
   "metadata": {},
   "source": [
    "## <font color='#FFA500'>**Selection Control Structure (Conditional Statements)**</font> "
   ]
  },
  {
   "attachments": {},
   "cell_type": "markdown",
   "metadata": {},
   "source": [
    "Selection Control Structures, also known as `Conditional Statements` or `decision-making` structures, allow a program to execute different code blocks based on certain conditions.  \n",
    "Python provides `if`, `elif`, and `else` statements for this purpose."
   ]
  },
  {
   "attachments": {},
   "cell_type": "markdown",
   "metadata": {},
   "source": [
    "### The `if` Statement\n",
    "The `if` statement is the most basic form of selection control structure. It executes a block of code only if a specified condition is true."
   ]
  },
  {
   "attachments": {},
   "cell_type": "markdown",
   "metadata": {},
   "source": [
    "<div style='text-align: center'>\n",
    "    <img src='https://files.realpython.com/media/t.78f3bacaa261.png' alt='if_staatement' title='if_staatement' width='600' height='400'/>\n",
    "</div>"
   ]
  },
  {
   "cell_type": "code",
   "execution_count": 7,
   "metadata": {},
   "outputs": [
    {
     "name": "stdout",
     "output_type": "stream",
     "text": [
      "You have successfully completed the course.\n",
      "See you soon!\n"
     ]
    }
   ],
   "source": [
    "# if statement example\n",
    "grade = 72\n",
    "if grade >= 70:\n",
    "    print('You have successfully completed the course.')\n",
    "print('See you soon!')"
   ]
  },
  {
   "attachments": {},
   "cell_type": "markdown",
   "metadata": {},
   "source": [
    "If the condition `grade >= 70` is true, the print statement is executed.  \n",
    "If the condition is false, the block of code under the if statement is skipped."
   ]
  },
  {
   "attachments": {},
   "cell_type": "markdown",
   "metadata": {},
   "source": [
    "<font color='#FF69B4'>**Note:**</font>\n",
    "> - An **expression** is a combination of values, variables, and operators that, when evaluated, produces another value. This means that expressions are units of code that can be reduced to a value.\n",
    "> - A **statement**, on the other hand, is a complete line of code that performs some action. It's an instruction that the program executes."
   ]
  },
  {
   "attachments": {},
   "cell_type": "markdown",
   "metadata": {},
   "source": [
    "### The `else` Statement\n",
    "The `else` statement complements the `if` statement. An `else` block is executed if the `if` statement's condition is false."
   ]
  },
  {
   "cell_type": "code",
   "execution_count": 12,
   "metadata": {},
   "outputs": [
    {
     "name": "stdout",
     "output_type": "stream",
     "text": [
      "x is less than or equal to 5.\n"
     ]
    }
   ],
   "source": [
    "# if-else statement example\n",
    "x = 2\n",
    "if x > 5:\n",
    "    print('x is greater than 5.')\n",
    "else:\n",
    "    print('x is less than or equal to 5.')"
   ]
  },
  {
   "attachments": {},
   "cell_type": "markdown",
   "metadata": {},
   "source": [
    "In this case, since `x` is not greater than 5, the `else` block is executed."
   ]
  },
  {
   "attachments": {},
   "cell_type": "markdown",
   "metadata": {},
   "source": [
    "### The `elif` Statement\n",
    "The `elif` (short for 'else if') statement can be used to check multiple conditions sequentially.  \n",
    "It is used after an `if` statement and before an `else` statement to check additional conditions."
   ]
  },
  {
   "cell_type": "code",
   "execution_count": 14,
   "metadata": {},
   "outputs": [
    {
     "name": "stdout",
     "output_type": "stream",
     "text": [
      "You have failed, and you need to retake the course.\n"
     ]
    }
   ],
   "source": [
    "# if-elif-else statement example\n",
    "grade = 54\n",
    "if grade >= 70:\n",
    "    print('You have successfully completed the course.')\n",
    "elif grade >= 60:\n",
    "    print('You need to do extra project.')\n",
    "else:\n",
    "    print('You have failed, and you need to retake the course.')"
   ]
  },
  {
   "attachments": {},
   "cell_type": "markdown",
   "metadata": {},
   "source": [
    "Here, `grade` is equal to 54, so the last `else` block is executed. If `x` were, say, 64, the `elif` block would execute."
   ]
  },
  {
   "attachments": {},
   "cell_type": "markdown",
   "metadata": {},
   "source": [
    "### Nested Conditional Statements\n",
    "Conditional statements can be nested within each other. This allows for complex decision-making processes where the outcome depends on multiple conditions."
   ]
  },
  {
   "cell_type": "code",
   "execution_count": 16,
   "metadata": {},
   "outputs": [
    {
     "name": "stdout",
     "output_type": "stream",
     "text": [
      "Grade: B\n"
     ]
    }
   ],
   "source": [
    "# Nested conditionals example\n",
    "grade = 73\n",
    "if grade >= 60:\n",
    "    if grade >= 70:\n",
    "        if grade >= 80:\n",
    "            print('Grade: A')\n",
    "        else:\n",
    "            print('Grade: B')\n",
    "    else:\n",
    "        print('Grade: C')\n",
    "else:\n",
    "    print('Grade: F')"
   ]
  },
  {
   "attachments": {},
   "cell_type": "markdown",
   "metadata": {},
   "source": [
    "<div style='text-align: center'>\n",
    "    <img src=\"images/Untitled_Notebook-1.jpg\" alt=\"Alt text\" width=\"600\" height=\"600\"/>\n",
    "</div>"
   ]
  },
  {
   "attachments": {},
   "cell_type": "markdown",
   "metadata": {},
   "source": [
    "### Conditional Expressions (Ternary Operator)\n",
    "Python supports a condensed way of writing simple `if-else` statements, known as conditional expressions or the ternary operator."
   ]
  },
  {
   "cell_type": "code",
   "execution_count": 56,
   "metadata": {},
   "outputs": [
    {
     "name": "stdout",
     "output_type": "stream",
     "text": [
      "Greater than 5.\n"
     ]
    }
   ],
   "source": [
    "# Conditional expression example\n",
    "x = 10\n",
    "result = 'Greater than 5.' if x > 5 else 'Less than or equal to 5.'\n",
    "print(result)"
   ]
  },
  {
   "cell_type": "code",
   "execution_count": 55,
   "metadata": {},
   "outputs": [
    {
     "name": "stdout",
     "output_type": "stream",
     "text": [
      "Greater than 5.\n"
     ]
    }
   ],
   "source": [
    "# if-else statement example\n",
    "x = 10\n",
    "if x > 5:\n",
    "    print('Greater than 5.')\n",
    "else:\n",
    "    print('Less than or equal to 5.')"
   ]
  },
  {
   "attachments": {},
   "cell_type": "markdown",
   "metadata": {},
   "source": [
    "<font color='#FF69B4'>**Note:**</font> This one-liner is often used for simple conditional assignments."
   ]
  },
  {
   "attachments": {},
   "cell_type": "markdown",
   "metadata": {},
   "source": [
    "### Best Practice: \n",
    "\n",
    "When using conditional statements, keep the following best practices in mind:\n",
    "\n",
    "- Keep your conditions simple and readable. Complex conditions can be broken down into multiple simpler `if` statements or by using boolean variables.\n",
    "- Avoid nested conditions when possible. They can make your code hard to read and maintain.\n",
    "- Use the ternary operator for simple conditional assignments to make your code more concise.\n",
    "- Always consider whether your conditional branches cover all possible cases to prevent unexpected behavior."
   ]
  },
  {
   "attachments": {},
   "cell_type": "markdown",
   "metadata": {},
   "source": [
    "### `Exercise 1`: Number guessing game\n",
    "\n",
    "Write a program that chooses a random integer between 0 and 100 (inclusive). \n",
    "Then ask the user to guess what number has been chosen.  \n",
    "Each time the user enters a guess, the program indicates one of the following:  \n",
    "- Too high\n",
    "- Too low\n",
    "- Just right  \n",
    "\n",
    "If the user guesses correctly, the program exits. Otherwise, the user is asked to\n",
    "try again.  \n",
    "The program only exits after the user guesses correctly.  \n",
    "\n",
    "**Note:** You need to use `import random` to get the random number from the user.  \n",
    "**Note:** You need to use `while True:` to run an infinite loop for running the game. "
   ]
  },
  {
   "attachments": {},
   "cell_type": "markdown",
   "metadata": {},
   "source": [
    "### `Exercise 2`: Movie Ticket Pricing\n",
    "\n",
    "Write a program for a movie theater to determine the ticket price based on the customer's age. The pricing rules are as follows:\n",
    "\n",
    "1. The regular ticket price is $20.\n",
    "2. Children under 14 years old get a 50% discount.\n",
    "3. Seniors aged 65 and above get a 30% discount.\n",
    "\n",
    "The program should:\n",
    "1. Asks the user for their age.\n",
    "2. Calculates and prints the ticket price according to the above rules."
   ]
  },
  {
   "cell_type": "code",
   "execution_count": 2,
   "metadata": {},
   "outputs": [
    {
     "name": "stdout",
     "output_type": "stream",
     "text": [
      "Your guess of 34 is too low!\n",
      "Your guess of 50 is too low!\n",
      "Your guess of 76 is too low!\n",
      "Your guess of 85 is too high!\n",
      "Your guess of 80 is too high!\n",
      "Right! The answer is 78\n"
     ]
    }
   ],
   "source": [
    "# Solution to Exercise 1:\n",
    "import random\n",
    "\n",
    "answer = random.randint(0, 100)\n",
    "while True:\n",
    "    user_guess = int(input('What is your guess? '))\n",
    "    if user_guess == answer:\n",
    "        print(f'Right! The answer is {user_guess}')\n",
    "        break\n",
    "    elif user_guess < answer:\n",
    "        print(f'Your guess of {user_guess} is too low!')\n",
    "    else:\n",
    "        print(f'Your guess of {user_guess} is too high!')\n"
   ]
  },
  {
   "cell_type": "code",
   "execution_count": null,
   "metadata": {},
   "outputs": [],
   "source": [
    "# Mohamed's Answer\n",
    "import random\n",
    " \n",
    "random_integer = random.randint(1, 100)\n",
    "user_guess = int(input(\"Guess a number: \"))\n",
    " \n",
    "while user_guess != random_integer:\n",
    "    if user_guess > random_integer:\n",
    "        print(\"Too high.\")\n",
    "    elif user_guess < random_integer:\n",
    "        print(\"Too low.\")\n",
    "    user_guess = int(input(\"Guess a number: \"))\n",
    " \n",
    "print(\"You guessed correctly!\")\n",
    " "
   ]
  },
  {
   "cell_type": "code",
   "execution_count": 19,
   "metadata": {},
   "outputs": [
    {
     "name": "stdout",
     "output_type": "stream",
     "text": [
      "The ticket price is $20.0.\n"
     ]
    }
   ],
   "source": [
    "# Solution to Exercise 2:\n",
    "age = int(input('Enter your age (Regular ticket price is $20): '))\n",
    "\n",
    "# Regular ticket price\n",
    "ticket_price = 20.00\n",
    "\n",
    "# Check the age and apply discounts if applicable\n",
    "if age < 14:\n",
    "    ticket_price *= 0.5  # Apply 50% discount\n",
    "elif age >= 65:\n",
    "    ticket_price *= 0.7  # Apply 30% discount\n",
    "\n",
    "print(f'The ticket price is ${ticket_price}.')"
   ]
  },
  {
   "attachments": {},
   "cell_type": "markdown",
   "metadata": {},
   "source": [
    "### Match-Case in Python (Python 3.10+)\n",
    "\n",
    "The match-case statement in Python is similar to switch-case in other languages. It allows pattern matching and provides a clean way to handle multiple conditions.\n",
    "\n",
    "```\n",
    "match variable:\n",
    "    case value1:\n",
    "        # Code for value1\n",
    "    case value2:\n",
    "        # Code for value2\n",
    "    case _:\n",
    "        # Default case (like \"else\")\n",
    "```"
   ]
  },
  {
   "cell_type": "code",
   "execution_count": 1,
   "metadata": {},
   "outputs": [
    {
     "name": "stdout",
     "output_type": "stream",
     "text": [
      "OK\n"
     ]
    }
   ],
   "source": [
    "status = 200\n",
    "\n",
    "match status:\n",
    "    case 200:\n",
    "        print(\"OK\")\n",
    "    case 404:\n",
    "        print(\"Not Found\")\n",
    "    case 500:\n",
    "        print(\"Internal Server Error\")\n",
    "    case _:\n",
    "        print(\"Unknown status\")\n"
   ]
  },
  {
   "attachments": {},
   "cell_type": "markdown",
   "metadata": {},
   "source": [
    "## <font color='#FFA500'>**Iteration Control Structure**</font>"
   ]
  },
  {
   "attachments": {},
   "cell_type": "markdown",
   "metadata": {},
   "source": [
    "Iteration control structures, or loops, allow a block of code to be executed repeatedly based on a condition.  \n",
    "Python provides two loop constructs: the `for` loop and the `while` loop."
   ]
  },
  {
   "attachments": {},
   "cell_type": "markdown",
   "metadata": {},
   "source": [
    "<div style='text-align: center'>\n",
    "    <img src='https://pythonclassroomdiary.files.wordpress.com/2018/12/while.jpg' alt='if_staatement' title='if_staatement' width='400' height='600'/>\n",
    "</div>"
   ]
  },
  {
   "attachments": {},
   "cell_type": "markdown",
   "metadata": {},
   "source": [
    "### The `for` Loop\n",
    "\n",
    "A `for` loop is used for iterating over a sequence, such as lists, tuples, dictionaries, sets, or strings. It is the go-to loop for a known number of iterations and is often employed in data processing and repetitive task execution."
   ]
  },
  {
   "attachments": {},
   "cell_type": "markdown",
   "metadata": {},
   "source": [
    "#### Numeric Range Loop\n",
    "One of the simplest forms of the `for` loop is the numeric range loop, where the loop iterates over a sequence of numbers between a start and end value."
   ]
  },
  {
   "attachments": {},
   "cell_type": "markdown",
   "metadata": {},
   "source": [
    "```pascal\n",
    "for i := 1 to 10 do\n",
    "    <loop body>\n",
    "```"
   ]
  },
  {
   "attachments": {},
   "cell_type": "markdown",
   "metadata": {},
   "source": [
    "In this structure, the loop body is executed ten times, with the variable `i` taking on values from 1 to 10, incrementing by 1 with each iteration."
   ]
  },
  {
   "attachments": {},
   "cell_type": "markdown",
   "metadata": {},
   "source": [
    "#### Three-Expression Loop\n",
    "\n",
    "Made popular by the C programming language, this form of `for` loop consists of three components:\n",
    "\n",
    "- An initialization statement.\n",
    "- A test expression that determines when the loop should terminate.\n",
    "- An iteration expression that updates the loop variable."
   ]
  },
  {
   "attachments": {},
   "cell_type": "markdown",
   "metadata": {},
   "source": [
    "```c\n",
    "for (i = 0; i < 10; i++) {\n",
    "    <loop body>\n",
    "}\n",
    "```"
   ]
  },
  {
   "attachments": {},
   "cell_type": "markdown",
   "metadata": {},
   "source": [
    "Here's how this loop works:\n",
    "\n",
    "1. Initialize `i` to 0.\n",
    "2. Continue looping as long as `i < 10`.\n",
    "3. Increment `i` by 1 after each loop iteration.\n"
   ]
  },
  {
   "attachments": {},
   "cell_type": "markdown",
   "metadata": {},
   "source": [
    "The flexibility of the expressions in the three-expression `for` loop makes it powerful."
   ]
  },
  {
   "attachments": {},
   "cell_type": "markdown",
   "metadata": {},
   "source": [
    "#### Collection-Based or Iterator-Based Loop\n",
    "\n",
    "This variant of the `for` loop iterates over a collection of objects or an iterator, rather than working with numerical ranges or conditions directly:"
   ]
  },
  {
   "attachments": {},
   "cell_type": "markdown",
   "metadata": {},
   "source": [
    "```python\n",
    "for item in collection:\n",
    "    <loop body>\n",
    "```"
   ]
  },
  {
   "attachments": {},
   "cell_type": "markdown",
   "metadata": {},
   "source": [
    "In each iteration, the variable `item` is assigned the next value from the collection."
   ]
  },
  {
   "cell_type": "code",
   "execution_count": 3,
   "metadata": {},
   "outputs": [
    {
     "name": "stdout",
     "output_type": "stream",
     "text": [
      "I like apple.\n",
      "I like banana.\n",
      "I like cherry.\n"
     ]
    }
   ],
   "source": [
    "# for loop example (List)\n",
    "fruits_list = ['apple', 'banana', 'cherry']\n",
    "for i in fruits_list:\n",
    "    print(f'I like {i}.')"
   ]
  },
  {
   "cell_type": "code",
   "execution_count": 4,
   "metadata": {},
   "outputs": [
    {
     "name": "stdout",
     "output_type": "stream",
     "text": [
      "1\n",
      "2\n",
      "3\n"
     ]
    }
   ],
   "source": [
    "# for loop example (Tuple)\n",
    "coordinates_tuple = (1, 2, 3)\n",
    "for coordinate in coordinates_tuple:\n",
    "    print(coordinate)"
   ]
  },
  {
   "cell_type": "code",
   "execution_count": 5,
   "metadata": {},
   "outputs": [
    {
     "name": "stdout",
     "output_type": "stream",
     "text": [
      "name\n",
      "age\n",
      "gender\n",
      "Alice\n",
      "25\n",
      "Female\n",
      "name: Alice\n",
      "age: 25\n",
      "gender: Female\n"
     ]
    }
   ],
   "source": [
    "# for loop example (Dictionary)\n",
    "\n",
    "person = {'name': 'Alice', 'age': 25, 'gender': 'Female'}\n",
    "# Iterating over keys\n",
    "for key in person:\n",
    "    print(key)\n",
    "\n",
    "# Iterating over values\n",
    "for value in person.values():\n",
    "    print(value)\n",
    "\n",
    "# Iterating over key-value pairs\n",
    "for key, value in person.items():\n",
    "    print(f\"{key}: {value}\")"
   ]
  },
  {
   "cell_type": "code",
   "execution_count": 34,
   "metadata": {},
   "outputs": [
    {
     "name": "stdout",
     "output_type": "stream",
     "text": [
      "1\n",
      "2\n",
      "3\n",
      "4\n",
      "5\n"
     ]
    }
   ],
   "source": [
    "# for loop example (Set)\n",
    "\n",
    "numbers_set = {1, 2, 3, 4, 5}\n",
    "for number in numbers_set:\n",
    "    print(number)"
   ]
  },
  {
   "cell_type": "code",
   "execution_count": 6,
   "metadata": {},
   "outputs": [
    {
     "name": "stdout",
     "output_type": "stream",
     "text": [
      "H\n",
      "e\n",
      "l\n",
      "l\n",
      "o\n",
      "!\n"
     ]
    }
   ],
   "source": [
    "# for loop example (String)\n",
    "\n",
    "greeting = 'Hello!'\n",
    "for letter in greeting:\n",
    "    print(letter)"
   ]
  },
  {
   "attachments": {},
   "cell_type": "markdown",
   "metadata": {},
   "source": [
    "### Using range()\n",
    "\n",
    "The `range()` function generates a sequence of numbers, which is often used for looping a specific number of times in `for` loops."
   ]
  },
  {
   "cell_type": "code",
   "execution_count": 26,
   "metadata": {},
   "outputs": [
    {
     "name": "stdout",
     "output_type": "stream",
     "text": [
      "0\n",
      "1\n",
      "2\n",
      "3\n",
      "4\n"
     ]
    }
   ],
   "source": [
    "# Using range to iterate over a sequence of numbers\n",
    "for i in range(5):  # Will iterate over 0, 1, 2, 3, 4\n",
    "    print(i)"
   ]
  },
  {
   "attachments": {},
   "cell_type": "markdown",
   "metadata": {},
   "source": [
    "### How to Add Elements to a List in Python Using a For Loop? "
   ]
  },
  {
   "cell_type": "code",
   "execution_count": null,
   "metadata": {},
   "outputs": [],
   "source": [
    "# Step 1: Create an empty list\n",
    "shopping_cart = []\n",
    "\n",
    "# Step 2: Define a range of items (numbers)\n",
    "items_to_add = range(1, 6)  # This will generate numbers from 1 to 5\n",
    "\n",
    "# Step 3: Use a for loop to add each item to the list\n",
    "for item in items_to_add:\n",
    "    shopping_cart.append(f\"Item {item}\")\n",
    "\n",
    "print(shopping_cart)  # Output: ['Item 1', 'Item 2', 'Item 3', 'Item 4', 'Item 5']"
   ]
  },
  {
   "cell_type": "code",
   "execution_count": 7,
   "metadata": {},
   "outputs": [
    {
     "name": "stdout",
     "output_type": "stream",
     "text": [
      "['Item 1', 'Item 2', 'Item 3', 'Item 4', 'Item 5']\n"
     ]
    }
   ],
   "source": [
    "# Using list comprehension to add items\n",
    "shopping_cart = [f\"Item {i}\" for i in range(1, 6)]\n",
    "print(shopping_cart)"
   ]
  },
  {
   "attachments": {},
   "cell_type": "markdown",
   "metadata": {},
   "source": [
    "### Question: \n",
    "Write a Python program that asks the user to input 5 items to bring on a picnic. Store these items in a list and then display the entire list of items once all inputs have been collected."
   ]
  },
  {
   "cell_type": "code",
   "execution_count": 8,
   "metadata": {},
   "outputs": [
    {
     "name": "stdout",
     "output_type": "stream",
     "text": [
      "Your picnic basket contains: ['water', 'bread', 'blanket', 'cheese ', 'milk']\n"
     ]
    }
   ],
   "source": [
    "# Step 1: Create an empty list\n",
    "picnic_items = []\n",
    "\n",
    "# Step 2: Use a for loop to gather user input\n",
    "for i in range(5):  # Let's say the user will input 5 items\n",
    "    item = input(\"Enter an item for your picnic: \")\n",
    "    picnic_items.append(item)\n",
    "\n",
    "print(\"Your picnic basket contains:\", picnic_items)"
   ]
  },
  {
   "attachments": {},
   "cell_type": "markdown",
   "metadata": {},
   "source": [
    "### Nested Loops\n",
    "A nested loop is a loop inside the body of another loop. It's useful when dealing with multi-dimensional data structures.\n",
    "\n",
    "Nested loops can be used to perform more complex iterations, and the depth of nesting can be as much as the problem requires."
   ]
  },
  {
   "cell_type": "code",
   "execution_count": 9,
   "metadata": {},
   "outputs": [],
   "source": [
    "# Example of a nested loop\n",
    "matrix = [\n",
    "    [1, 2, 3],\n",
    "    [4, 5, 6],\n",
    "    [7, 8, 9]\n",
    "]"
   ]
  },
  {
   "cell_type": "code",
   "execution_count": 11,
   "metadata": {},
   "outputs": [
    {
     "name": "stdout",
     "output_type": "stream",
     "text": [
      "1\n",
      "2\n",
      "3\n",
      "4\n",
      "5\n",
      "6\n",
      "7\n",
      "8\n",
      "9\n"
     ]
    }
   ],
   "source": [
    "# Iterate over each row in the matrix\n",
    "for my_row in matrix:\n",
    "    # Iterate over each element in the row\n",
    "    for my_element in my_row:\n",
    "        print(my_element)"
   ]
  },
  {
   "cell_type": "code",
   "execution_count": 12,
   "metadata": {},
   "outputs": [],
   "source": [
    "matrix = [\n",
    "    [1, 2, 3],\n",
    "    [4, 5, 6],\n",
    "    [7, 8, 9]\n",
    "]"
   ]
  },
  {
   "cell_type": "code",
   "execution_count": 13,
   "metadata": {},
   "outputs": [
    {
     "data": {
      "text/plain": [
       "5"
      ]
     },
     "execution_count": 13,
     "metadata": {},
     "output_type": "execute_result"
    }
   ],
   "source": [
    "element = matrix[1][1]\n",
    "element"
   ]
  },
  {
   "attachments": {},
   "cell_type": "markdown",
   "metadata": {},
   "source": [
    "`Outer Loop`:\n",
    "\n",
    "The for row in matrix: loop is the outer loop that iterates over each row in the matrix. In each iteration, the variable row represents one of the inner lists (or rows) of the matrix.  \n",
    "This means row takes on the values [1, 2, 3], then [4, 5, 6], and finally [7, 8, 9] in successive iterations."
   ]
  },
  {
   "attachments": {},
   "cell_type": "markdown",
   "metadata": {},
   "source": [
    "`Inner Loop`:\n",
    "\n",
    "Inside the outer loop, there's another for loop: for element in row:. This is the inner loop, which iterates over each element in the current row.  \n",
    "The variable element represents each item in the row list during its iteration. So, if row is [1, 2, 3], element takes on the values 1, then 2, and finally 3 in successive iterations."
   ]
  },
  {
   "attachments": {},
   "cell_type": "markdown",
   "metadata": {},
   "source": [
    "### `Exercise`: Processing and Analyzing Temperature Data"
   ]
  },
  {
   "attachments": {},
   "cell_type": "markdown",
   "metadata": {},
   "source": [
    "In this exercise, you will work with a list of daily average temperatures (in degrees Celsius) collected over a week. Your task is to use `for` loops to process this data and extract some meaningful insights.\n"
   ]
  },
  {
   "cell_type": "code",
   "execution_count": 15,
   "metadata": {},
   "outputs": [],
   "source": [
    "# Weekly temperature data in degrees Celsius\n",
    "temperatures = [19, 21, 22, 24, 23, 19, 20]"
   ]
  },
  {
   "attachments": {},
   "cell_type": "markdown",
   "metadata": {},
   "source": [
    "**Tasks:**\n",
    "\n",
    "1. **Calculate the Average Temperature of the Week**:\n",
    "   Write a `for` loop that calculates the average temperature for the week and prints it out.\n",
    "\n",
    "2. **Find the Maximum and Minimum Temperatures**:\n",
    "   Use a `for` loop to determine the highest and lowest temperatures recorded during the week. Print both values.\n",
    "\n",
    "3. **Count Warm Days**:\n",
    "   Define a \"warm day\" as having an average temperature of 22 degrees Celsius or higher. Write a `for` loop that counts the number of warm days in the list and prints the count.\n",
    "\n",
    "4. **Create a New List of Temperature Fluctuations**:\n",
    "   Write a `for` loop to create a new list that contains the temperature fluctuations from one day to the next (the difference between each consecutive pair of temperatures). Print the new list.\n",
    "\n",
    "5. **Bonus: Find the Day with the Largest Fluctuation**:\n",
    "   Using the list of temperature fluctuations you created in task 4, write a `for` loop to find out which day had the largest temperature fluctuation. Note that you don't need to consider the first day since there's no previous day to compare it with. Print the day (as an index) and the fluctuation."
   ]
  },
  {
   "attachments": {},
   "cell_type": "markdown",
   "metadata": {},
   "source": [
    "**Sample Output:**\n",
    "```bash\n",
    "The average temperature for the week is: 21.14°C\n",
    "The maximum temperature of the week is: 24°C\n",
    "The minimum temperature of the week is: 19°C\n",
    "Number of warm days: 3\n",
    "Temperature fluctuations: [2, 1, 2, -1, -4, 1]\n",
    "The largest fluctuation was 4°C and occurred from day 4 to day 5.\n",
    "```"
   ]
  },
  {
   "cell_type": "code",
   "execution_count": 16,
   "metadata": {},
   "outputs": [],
   "source": [
    "temperatures = [19, 21, 22, 24, 23, 19, 20]"
   ]
  },
  {
   "cell_type": "code",
   "execution_count": 17,
   "metadata": {},
   "outputs": [
    {
     "name": "stdout",
     "output_type": "stream",
     "text": [
      "The average temperature for the week is: 21.14°C\n"
     ]
    }
   ],
   "source": [
    "# Solution for Task 1: Calculate the Average Temperature of the Week\n",
    "total_temp = 0\n",
    "for temp in temperatures:\n",
    "    total_temp += temp # total_temp = total_temp + temp\n",
    "average_temp = total_temp / len(temperatures)\n",
    "\n",
    "print(f'The average temperature for the week is: {average_temp:.2f}°C')"
   ]
  },
  {
   "cell_type": "code",
   "execution_count": 18,
   "metadata": {},
   "outputs": [
    {
     "name": "stdout",
     "output_type": "stream",
     "text": [
      "The maximum temperature of the week is: 24°C\n",
      "The minimum temperature of the week is: 19°C\n"
     ]
    }
   ],
   "source": [
    "# Solution for Task 2: Find the Maximum and Minimum Temperatures\n",
    "max_temp = temperatures[0]\n",
    "min_temp = temperatures[0]\n",
    "for temp in temperatures:\n",
    "    if temp > max_temp:\n",
    "        max_temp = temp\n",
    "    elif temp < min_temp:\n",
    "        min_temp = temp\n",
    "\n",
    "print(f'The maximum temperature of the week is: {max_temp}°C')\n",
    "print(f'The minimum temperature of the week is: {min_temp}°C')"
   ]
  },
  {
   "cell_type": "code",
   "execution_count": 34,
   "metadata": {},
   "outputs": [
    {
     "name": "stdout",
     "output_type": "stream",
     "text": [
      "Number of warm days: 3\n"
     ]
    }
   ],
   "source": [
    "# Solution for Task 3: Count Warm Days\n",
    "warm_days_count = 0\n",
    "for temp in temperatures:\n",
    "    if temp >= 22:\n",
    "        warm_days_count += 1\n",
    "\n",
    "print(f'Number of warm days: {warm_days_count}')"
   ]
  },
  {
   "cell_type": "code",
   "execution_count": null,
   "metadata": {},
   "outputs": [],
   "source": [
    "temperatures = [19, 21, 22, 24, 23, 19, 20]"
   ]
  },
  {
   "cell_type": "code",
   "execution_count": 20,
   "metadata": {},
   "outputs": [
    {
     "name": "stdout",
     "output_type": "stream",
     "text": [
      "Temperature fluctuations: [2, 1, 2, -1, -4, 1]\n"
     ]
    }
   ],
   "source": [
    "# Solution for Task 4: Create a New List of Temperature Fluctuations\n",
    "fluctuations = []\n",
    "for i in range(len(temperatures) - 1):\n",
    "    fluctuation = (temperatures[i+1] - temperatures[i]) # if you want to have the fluctuations as positive values, you can use abs() function!\n",
    "    fluctuations.append(fluctuation)\n",
    "\n",
    "print(f'Temperature fluctuations: {fluctuations}')"
   ]
  },
  {
   "cell_type": "code",
   "execution_count": 37,
   "metadata": {},
   "outputs": [
    {
     "name": "stdout",
     "output_type": "stream",
     "text": [
      "The largest fluctuation was 4°C and occurred from day 5 to day 6.\n"
     ]
    }
   ],
   "source": [
    "# Solution for Task 5: Bonus: Find the Day with the Largest Fluctuation\n",
    "largest_fluctuation = 0\n",
    "day_of_largest_fluctuation = 0\n",
    "for i in range(1, len(fluctuations)):\n",
    "    if fluctuations[i] > largest_fluctuation:\n",
    "        largest_fluctuation = fluctuations[i]\n",
    "        day_of_largest_fluctuation = i + 1  # Adding 1 to convert from index to day\n",
    "\n",
    "print(f'The largest fluctuation was {largest_fluctuation}°C and occurred from day {day_of_largest_fluctuation} to day {day_of_largest_fluctuation + 1}.')"
   ]
  },
  {
   "attachments": {},
   "cell_type": "markdown",
   "metadata": {},
   "source": [
    "### The `while` Loop\n",
    "The `while` loop repeatedly executes a target statement as long as a given condition is true.\n",
    "\n",
    "<font color='#FF69B4'>**Note:**</font> Unlike `for` loops, which iterate over a sequence or range, `while` loops are controlled by a conditional expression."
   ]
  },
  {
   "cell_type": "code",
   "execution_count": 17,
   "metadata": {},
   "outputs": [
    {
     "name": "stdout",
     "output_type": "stream",
     "text": [
      "The count is: 0\n",
      "The count is: 1\n",
      "The count is: 2\n",
      "The count is: 3\n",
      "The count is: 4\n",
      "The count is: 5\n"
     ]
    }
   ],
   "source": [
    "# while loop example\n",
    "count = 0\n",
    "while count <= 5:\n",
    "    print(f'The count is: {count}')\n",
    "    count += 1 # count = count + 1"
   ]
  },
  {
   "attachments": {},
   "cell_type": "markdown",
   "metadata": {},
   "source": [
    "A `while` loop continuously executes the code block under it until the control condition becomes false. The condition is checked before the execution of the loop body, and if it evaluates to True, the loop body is executed; this process repeats until the condition is no longer true.\n"
   ]
  },
  {
   "attachments": {},
   "cell_type": "markdown",
   "metadata": {},
   "source": [
    "In this example, the loop will run as long as `counter` is less than 5. The statement `counter += 1` ensures that the counter is incremented each time the loop runs, which eventually causes the condition to become false and the loop to terminate."
   ]
  },
  {
   "cell_type": "code",
   "execution_count": 21,
   "metadata": {},
   "outputs": [
    {
     "name": "stdout",
     "output_type": "stream",
     "text": [
      "Your number is: 34\n",
      "Your number is: 67\n",
      "Your number is: 25\n",
      "Your number is: 640978\n",
      "Your number is: 394657394857032495\n",
      "Your number is: -54098\n",
      "Your number is: -6759\n"
     ]
    }
   ],
   "source": [
    "# Indefinite loop where we don't know how many times it will run\n",
    "user_input = int(input('Enter a number: '))\n",
    "while user_input != 0:\n",
    "    print(f'Your number is: {user_input}')\n",
    "    user_input = int(input('Enter a number: '))"
   ]
  },
  {
   "attachments": {},
   "cell_type": "markdown",
   "metadata": {},
   "source": [
    "- At the start, the code prompts the user to enter a number (converted into an integer) and stored in the variable user_input.\n",
    "\n",
    "- The while loop is set to continue as long as user_input does not equal zero.\n",
    "\n",
    "- Inside the loop, it first prints the current value. Then, it prompts the user to enter another number, and stored in user_input.\n",
    "\n",
    "- The loop will terminate when the user enters 0. Since the condition `user_input != 0` will no longer be true, the loop stops.\n"
   ]
  },
  {
   "attachments": {},
   "cell_type": "markdown",
   "metadata": {},
   "source": [
    "### Infinite Loops and How to Avoid Them"
   ]
  },
  {
   "attachments": {},
   "cell_type": "markdown",
   "metadata": {},
   "source": [
    "An infinite loop occurs when the loop's condition never becomes false. Infinite loops can freeze your program and are typically an error unless intentionally used for a continuously running process."
   ]
  },
  {
   "attachments": {},
   "cell_type": "markdown",
   "metadata": {},
   "source": [
    "To avoid infinite loops, ensure that the condition in a `while` loop will eventually become false. Here are common causes and solutions:\n",
    "\n",
    "- **Forgetting to update the control variable**: Make sure there are statements in the loop that change the value of the control variable.\n",
    "- **Using a condition that always evaluates to True**: Double-check the logic of your condition to ensure it can be false under some circumstances.\n",
    "- **External changes not accounted for**: If your loop relies on external conditions, such as user input or data from a file, ensure the loop can exit if those conditions change."
   ]
  },
  {
   "cell_type": "code",
   "execution_count": 5,
   "metadata": {},
   "outputs": [],
   "source": [
    "# Potential infinite loop example\n",
    "# Uncomment and run at your own risk\n",
    "while True:\n",
    "    print(\"This will run forever!\")"
   ]
  },
  {
   "attachments": {},
   "cell_type": "markdown",
   "metadata": {},
   "source": [
    "### Nested `while` Loops"
   ]
  },
  {
   "attachments": {},
   "cell_type": "markdown",
   "metadata": {},
   "source": [
    "Nested loops are a loop inside another loop. In `while` loops, nesting can be used to perform complex tasks that require a loop to run within another loop."
   ]
  },
  {
   "cell_type": "code",
   "execution_count": 1,
   "metadata": {},
   "outputs": [
    {
     "name": "stdout",
     "output_type": "stream",
     "text": [
      "Outer counter: 0, Inner counter: 0\n",
      "Outer counter: 0, Inner counter: 1\n",
      "Outer counter: 1, Inner counter: 0\n",
      "Outer counter: 1, Inner counter: 1\n",
      "Outer counter: 2, Inner counter: 0\n",
      "Outer counter: 2, Inner counter: 1\n"
     ]
    }
   ],
   "source": [
    "# Nested while loop example\n",
    "outer_counter = 0\n",
    "while outer_counter < 3:\n",
    "    inner_counter = 0\n",
    "    while inner_counter < 2:\n",
    "        print(f\"Outer counter: {outer_counter}, Inner counter: {inner_counter}\")\n",
    "        inner_counter += 1\n",
    "    outer_counter += 1"
   ]
  },
  {
   "attachments": {},
   "cell_type": "markdown",
   "metadata": {},
   "source": [
    "This example shows an outer loop that runs three times, and an inner loop that runs twice for each outer loop iteration, resulting in a total of six print statements."
   ]
  },
  {
   "attachments": {},
   "cell_type": "markdown",
   "metadata": {},
   "source": [
    "### **Exercise**: Tracking a Savings Goal with While Loops"
   ]
  },
  {
   "attachments": {},
   "cell_type": "markdown",
   "metadata": {},
   "source": [
    "In this exercise, you will simulate a savings account balance over time to determine how long it takes to reach a financial goal. You will use a `while` loop to model the account balance as it accumulates interest and receives monthly deposits."
   ]
  },
  {
   "attachments": {},
   "cell_type": "markdown",
   "metadata": {},
   "source": [
    "**Scenario:**\n",
    "Imagine you have a savings account with an initial balance and a goal balance you want to achieve. Each month, you deposit a fixed amount into the account, and the account also earns interest annually."
   ]
  },
  {
   "attachments": {},
   "cell_type": "markdown",
   "metadata": {},
   "source": [
    "**Given Data:**"
   ]
  },
  {
   "cell_type": "code",
   "execution_count": 7,
   "metadata": {},
   "outputs": [],
   "source": [
    "initial_balance = 1000  # The starting balance in the account.\n",
    "monthly_deposit = 100   # The fixed amount deposited into the account each month.\n",
    "annual_interest_rate = 0.05  # The annual interest rate as a decimal (5% here).\n",
    "savings_goal = 4000     # The target balance you want to reach."
   ]
  },
  {
   "attachments": {},
   "cell_type": "markdown",
   "metadata": {},
   "source": [
    "**Tasks:**\n",
    "\n",
    "1. **Calculate the Number of Months to Reach the Savings Goal**:\n",
    "   Using a `while` loop, calculate how many months it will take for the account balance to reach or exceed the savings goal. Assume that the interest is applied annually (i.e., the balance increases by the annual interest rate once every 12 months). Print the number of months needed.\n",
    "\n",
    "2. **Print the Account Balance at the End of Each Year**:\n",
    "   Modify the `while` loop from Task 1 to print the account balance at the end of each year until the savings goal is reached.\n",
    "\n",
    "3. **Bonus: Adjust for Different Interest Application Frequencies**:\n",
    "   Adjust the `while` loop to apply interest on a different frequency (e.g., monthly, quarterly). The frequency can be a variable that you define. Print the number of months needed to reach the savings goal with this new interest application frequency."
   ]
  },
  {
   "attachments": {},
   "cell_type": "markdown",
   "metadata": {},
   "source": [
    "**Sample Output:**\n",
    "```bash\n",
    "It will take 16 months to reach the savings goal.\n",
    "Account balance at the end of year 1: $1300.00\n",
    "Account balance at the end of year 2: $1630.00\n",
    "(Bonus) Monthly interest applied: It will take 9 months to reach the savings goal.\n",
    "```"
   ]
  },
  {
   "attachments": {},
   "cell_type": "markdown",
   "metadata": {},
   "source": [
    "Remember to include comments in your code to explain the logic behind your `while` loop and any calculations you perform. This practice will not only help you understand your own code better but also assist others in following your reasoning. Good luck, and enjoy your financial modeling exercise."
   ]
  },
  {
   "attachments": {},
   "cell_type": "markdown",
   "metadata": {},
   "source": [
    "### Solutions:"
   ]
  },
  {
   "cell_type": "code",
   "execution_count": 40,
   "metadata": {},
   "outputs": [],
   "source": [
    "# Given data\n",
    "initial_balance = 1000  # The starting balance in the account.\n",
    "monthly_deposit = 100   # The fixed amount deposited into the account each month.\n",
    "annual_interest_rate = 0.05  # The annual interest rate as a decimal (5% here).\n",
    "savings_goal = 4000     # The target balance you want to reach."
   ]
  },
  {
   "cell_type": "code",
   "execution_count": 41,
   "metadata": {},
   "outputs": [
    {
     "name": "stdout",
     "output_type": "stream",
     "text": [
      "It will take 28 months to reach the savings goal.\n"
     ]
    }
   ],
   "source": [
    "# Task 1: Calculate the Number of Months to Reach the Savings Goal\n",
    "balance = initial_balance\n",
    "months = 0\n",
    "\n",
    "while balance < savings_goal:\n",
    "    # Add monthly deposit to balance\n",
    "    balance += monthly_deposit\n",
    "    # Check if a year has passed and apply interest\n",
    "    if months % 12 == 0 and months > 0:\n",
    "        balance += balance * annual_interest_rate\n",
    "    # Increment the month count\n",
    "    months += 1\n",
    "\n",
    "print(f'It will take {months} months to reach the savings goal.')"
   ]
  },
  {
   "cell_type": "code",
   "execution_count": 10,
   "metadata": {},
   "outputs": [
    {
     "name": "stdout",
     "output_type": "stream",
     "text": [
      "Account balance at the end of year 1: $2310.00\n",
      "Account balance at the end of year 2: $3685.50\n"
     ]
    }
   ],
   "source": [
    "# Task 2: Print the Account Balance at the End of Each Year\n",
    "balance = initial_balance\n",
    "months = 0\n",
    "\n",
    "while balance < savings_goal:\n",
    "    # Add monthly deposit to balance\n",
    "    balance += monthly_deposit\n",
    "    # Increment the month count\n",
    "    months += 1\n",
    "    # Check if a year has passed and apply interest\n",
    "    if months % 12 == 0:\n",
    "        balance += balance * annual_interest_rate\n",
    "        print(f'Account balance at the end of year {months // 12}: ${balance:.2f}')"
   ]
  },
  {
   "cell_type": "code",
   "execution_count": 11,
   "metadata": {},
   "outputs": [
    {
     "name": "stdout",
     "output_type": "stream",
     "text": [
      "Interest applied every 12 months: It will take 28 months to reach the savings goal.\n"
     ]
    }
   ],
   "source": [
    "# Bonus: Adjust for Different Interest Application Frequencies\n",
    "balance = initial_balance\n",
    "months = 0\n",
    "interest_frequency = 12  # Monthly interest\n",
    "\n",
    "while balance < savings_goal:\n",
    "    # Add monthly deposit to balance\n",
    "    balance += monthly_deposit\n",
    "    # Apply interest based on the specified frequency\n",
    "    if months % interest_frequency == 0 and months > 0:\n",
    "        balance += balance * (annual_interest_rate / (12 / interest_frequency))\n",
    "    # Increment the month count\n",
    "    months += 1\n",
    "\n",
    "print(f'Interest applied every {interest_frequency} months: It will take {months} months to reach the savings goal.')"
   ]
  },
  {
   "attachments": {},
   "cell_type": "markdown",
   "metadata": {},
   "source": [
    "When you run this code, you will see how many months it takes to reach the savings goal under different conditions, including the application of annual interest and adjusted interest frequencies. This exercise demonstrates the practical use of `while` loops in financial modeling scenarios."
   ]
  },
  {
   "attachments": {},
   "cell_type": "markdown",
   "metadata": {},
   "source": [
    "### Loop Control Statements"
   ]
  },
  {
   "attachments": {},
   "cell_type": "markdown",
   "metadata": {},
   "source": [
    "Loop control statements are used to alter the behavior of Python's loop constructs (for and while loops) during their execution."
   ]
  },
  {
   "attachments": {},
   "cell_type": "markdown",
   "metadata": {},
   "source": [
    "- The `break` statement provides a way to exit a loop prematurely when a certain condition is met.\n",
    "- The `continue` statement allows you to skip the rest of the current loop iteration and move on to the next one.\n",
    "- The `pass` statement acts as a placeholder and does nothing; it is used syntactically where a statement is required but no action is needed."
   ]
  },
  {
   "attachments": {},
   "cell_type": "markdown",
   "metadata": {},
   "source": [
    "By mastering these loop control statements, you will gain finer control over your loops' execution paths, enabling you to handle complex scenarios with ease."
   ]
  },
  {
   "attachments": {},
   "cell_type": "markdown",
   "metadata": {},
   "source": [
    "### The `break` Statement"
   ]
  },
  {
   "attachments": {},
   "cell_type": "markdown",
   "metadata": {},
   "source": [
    "The `break` statement is used to terminate the loop entirely. When a `break` statement is encountered inside a loop, the loop is immediately terminated and the program control resumes at the next statement following the loop."
   ]
  },
  {
   "cell_type": "code",
   "execution_count": 2,
   "metadata": {},
   "outputs": [
    {
     "name": "stdout",
     "output_type": "stream",
     "text": [
      "1\n",
      "2\n",
      "3\n",
      "4\n",
      "Loop ended.\n"
     ]
    }
   ],
   "source": [
    "# Using 'break' to exit a loop\n",
    "for i in range(1, 10):\n",
    "    if i == 5:\n",
    "        break\n",
    "    print(i)\n",
    "print('Loop ended.')"
   ]
  },
  {
   "attachments": {},
   "cell_type": "markdown",
   "metadata": {},
   "source": [
    "In this example, the loop will terminate when `i` equals 5, and \"Loop ended.\" will be printed to the console."
   ]
  },
  {
   "attachments": {},
   "cell_type": "markdown",
   "metadata": {},
   "source": [
    "### The `continue` Statement\n",
    "\n",
    "The `continue` statement is used to skip the rest of the code inside a loop for the `current iteration` only. The loop does not terminate but continues on with the next iteration."
   ]
  },
  {
   "cell_type": "code",
   "execution_count": 3,
   "metadata": {},
   "outputs": [
    {
     "name": "stdout",
     "output_type": "stream",
     "text": [
      "1\n",
      "2\n",
      "3\n",
      "4\n",
      "5\n",
      "6\n",
      "7\n",
      "8\n",
      "9\n",
      "Loop ended.\n"
     ]
    }
   ],
   "source": [
    "# Using 'continue' to skip an iteration\n",
    "for i in range(1, 10):\n",
    "    if i == 5:\n",
    "        continue\n",
    "    print(i)\n",
    "print('Loop ended.')"
   ]
  },
  {
   "attachments": {},
   "cell_type": "markdown",
   "metadata": {},
   "source": [
    "Here, the number 5 is not printed because when `i` is equal to 5, the `continue` statement causes the loop to skip the rest of its body for that iteration."
   ]
  },
  {
   "attachments": {},
   "cell_type": "markdown",
   "metadata": {},
   "source": [
    "### The `pass` Statement\n",
    "\n",
    "The `pass` statement is a null operation; nothing happens when it executes. It is used as a `placeholder` in a code block where a statement is syntactically required, but you do not want any command or code to execute."
   ]
  },
  {
   "cell_type": "code",
   "execution_count": 2,
   "metadata": {},
   "outputs": [
    {
     "name": "stdout",
     "output_type": "stream",
     "text": [
      "1\n",
      "2\n",
      "3\n",
      "4\n",
      "5\n",
      "6\n",
      "7\n",
      "8\n",
      "9\n",
      "Loop ended.\n"
     ]
    }
   ],
   "source": [
    "# Using 'pass' as a placeholder\n",
    "for i in range(1, 10):\n",
    "    if i == 5:\n",
    "        pass  # TODO: Add logic for when i is 5\n",
    "    print(i)\n",
    "print('Loop ended.')"
   ]
  },
  {
   "attachments": {},
   "cell_type": "markdown",
   "metadata": {},
   "source": [
    "In this example, the `pass` statement does nothing when `i` equals 5, but it allows the loop to continue running and print all numbers from 1 to 9."
   ]
  },
  {
   "attachments": {},
   "cell_type": "markdown",
   "metadata": {},
   "source": [
    "#### Best Practices"
   ]
  },
  {
   "attachments": {},
   "cell_type": "markdown",
   "metadata": {},
   "source": [
    "When using loop control statements, keep the following in mind:\n",
    "\n",
    "- Use the `break` statement sparingly. It can make loops less predictable and harder to understand.\n",
    "- Use the `continue` statement when you need to skip over part of a loop for a certain condition.\n",
    "- Use the `pass` statement as a placeholder for future code. It reminds you or indicates to others that a piece of code is intentionally left blank at the moment."
   ]
  },
  {
   "attachments": {},
   "cell_type": "markdown",
   "metadata": {},
   "source": [
    "### Exercise: Controlling Loop Execution with `break`, `continue`, and `pass`"
   ]
  },
  {
   "attachments": {},
   "cell_type": "markdown",
   "metadata": {},
   "source": [
    "In this exercise, you'll be working with a list of integers to practice using the `break`, `continue`, and `pass` statements within `for` or `while` loops in Python. These control statements alter the flow of a loop: `break` terminates the loop, `continue` skips to the next iteration, and `pass` does nothing and serves as a placeholder."
   ]
  },
  {
   "cell_type": "code",
   "execution_count": 5,
   "metadata": {},
   "outputs": [],
   "source": [
    "# Given Data\n",
    "\n",
    "numbers = [7, 8, 0, 4, 3, 0, 5, 6, 0, 1]"
   ]
  },
  {
   "attachments": {},
   "cell_type": "markdown",
   "metadata": {},
   "source": [
    "**Tasks:**\n",
    "\n",
    "1. **Find and Print the First Zero**:\n",
    "   Use a `for` loop to iterate through the list and print the first zero you encounter. Use the `break` statement to exit the loop once the zero is found.\n",
    "\n",
    "2. **Print Non-Zero Numbers**:\n",
    "   Write another `for` loop that prints all the numbers in the list except for the zeros. Use the `continue` statement to skip printing zeros.\n",
    "\n",
    "3. **Use `pass` as a Placeholder**:\n",
    "   Suppose you want to iterate over the list and process non-zero numbers in the future, but the processing code isn't ready yet. Use a `for` loop with the `pass` statement as a placeholder for non-zero numbers and print \"Zero found\" for zeros.\n",
    "\n",
    "4. **Bonus: Implement a Retry Mechanism**: (Optional, this may be challenging)\n",
    "   Simulate a simple retry mechanism using a `while` loop. You are trying to connect to a server, and the connection attempts are represented by the list of numbers. A zero means the connection failed, and any non-zero number represents a successful connection. Use a `for` loop inside a `while` loop to iterate through the connection attempts. If a connection is successful (`non-zero`), print \"Connected\" and use the `break` statement to exit both loops. If all connection attempts fail after iterating through the whole list, print \"All connection attempts failed. Retrying...\" and start the connection attempts again. Limit the number of retries to 3 to avoid an infinite loop."
   ]
  },
  {
   "cell_type": "code",
   "execution_count": 6,
   "metadata": {},
   "outputs": [
    {
     "name": "stdout",
     "output_type": "stream",
     "text": [
      "Here is the first: 0\n"
     ]
    }
   ],
   "source": [
    "for num in numbers:\n",
    "    if num == 0:\n",
    "        print(\"Here is the first:\", num)\n",
    "        break\n",
    "    \n",
    "    "
   ]
  },
  {
   "attachments": {},
   "cell_type": "markdown",
   "metadata": {},
   "source": [
    "**Sample Output:**\n",
    "```bash\n",
    "First zero found at index 2\n",
    "8\n",
    "7\n",
    "4\n",
    "3\n",
    "5\n",
    "6\n",
    "1\n",
    "Zero found\n",
    "Zero found\n",
    "Zero found\n",
    "Connected\n",
    "```"
   ]
  },
  {
   "attachments": {},
   "cell_type": "markdown",
   "metadata": {},
   "source": [
    "#### Solution:"
   ]
  },
  {
   "cell_type": "code",
   "execution_count": 21,
   "metadata": {},
   "outputs": [
    {
     "name": "stdout",
     "output_type": "stream",
     "text": [
      "First zero found at index 2\n"
     ]
    }
   ],
   "source": [
    "# Task 1: Find and Print the First Zero\n",
    "for index, number in enumerate(numbers):\n",
    "    if number == 0:\n",
    "        print(f'First zero found at index {index}')\n",
    "        break  # Exit the loop after the first zero is found."
   ]
  },
  {
   "cell_type": "code",
   "execution_count": 18,
   "metadata": {},
   "outputs": [
    {
     "name": "stdout",
     "output_type": "stream",
     "text": [
      "7\n",
      "8\n",
      "4\n",
      "3\n",
      "5\n",
      "6\n",
      "1\n"
     ]
    }
   ],
   "source": [
    "# Task 2: Print Non-Zero Numbers\n",
    "for num in numbers:\n",
    "    if num == 0:\n",
    "        continue  # Skip the rest of the loop and continue with the next iteration.\n",
    "    print(num)"
   ]
  },
  {
   "cell_type": "code",
   "execution_count": 7,
   "metadata": {},
   "outputs": [
    {
     "name": "stdout",
     "output_type": "stream",
     "text": [
      "Zero found\n",
      "Zero found\n",
      "Zero found\n"
     ]
    }
   ],
   "source": [
    "# Task 3: Use `pass` as a Placeholder\n",
    "for number in numbers:\n",
    "    if number == 0:\n",
    "        print('Zero found')\n",
    "    else:\n",
    "        # Placeholder for future code to process non-zero numbers.\n",
    "        pass"
   ]
  },
  {
   "cell_type": "code",
   "execution_count": 20,
   "metadata": {},
   "outputs": [
    {
     "name": "stdout",
     "output_type": "stream",
     "text": [
      "Connected\n"
     ]
    }
   ],
   "source": [
    "# Task 4: Bonus: Implement a Retry Mechanism\n",
    "max_retries = 3\n",
    "retries = 0\n",
    "while retries < max_retries:\n",
    "    for number in numbers:\n",
    "        if number != 0:\n",
    "            print('Connected')\n",
    "            break  # Exit the for loop if connected.\n",
    "    else:\n",
    "        # The 'else' block executes if the 'for' loop was not terminated by 'break'.\n",
    "        print('All connection attempts failed. Retrying...')\n",
    "        retries += 1\n",
    "        continue  # Continue with the next iteration of the while loop.\n",
    "    break  # Exit the while loop if connected."
   ]
  },
  {
   "attachments": {},
   "cell_type": "markdown",
   "metadata": {},
   "source": [
    "<font color='#FF69B4'>**Note:**</font> The `enumerate` function is a built-in function that is particularly useful when you need both the index and the value when iterating over a sequence, like a list or a string.  \n",
    "\n",
    "It adds a counter to each item of the iterable, returning it as an \"enumerate object,\" which is essentially an iterator that produces pairs containing indexes and the corresponding values from the iterable."
   ]
  },
  {
   "cell_type": "code",
   "execution_count": 47,
   "metadata": {},
   "outputs": [
    {
     "name": "stdout",
     "output_type": "stream",
     "text": [
      "0 apple\n",
      "1 banana\n",
      "2 cherry\n"
     ]
    }
   ],
   "source": [
    "# Example of enumerate\n",
    "fruits = ['apple', 'banana', 'cherry']\n",
    "for index, fruit in enumerate(fruits):\n",
    "    print(index, fruit)"
   ]
  },
  {
   "cell_type": "code",
   "execution_count": 4,
   "metadata": {},
   "outputs": [
    {
     "name": "stdout",
     "output_type": "stream",
     "text": [
      "0: 7\n",
      "1: 8\n",
      "2: 0\n",
      "3: 4\n",
      "4: 3\n",
      "5: 0\n",
      "6: 5\n",
      "7: 6\n",
      "8: 0\n",
      "9: 1\n"
     ]
    }
   ],
   "source": [
    "# In above example:\n",
    "numbers = [7, 8, 0, 4, 3, 0, 5, 6, 0, 1] \n",
    "for index, number in enumerate(numbers):     \n",
    "    print(f'{index}: {number}')"
   ]
  },
  {
   "cell_type": "code",
   "execution_count": 48,
   "metadata": {},
   "outputs": [
    {
     "name": "stdout",
     "output_type": "stream",
     "text": [
      "[(0, 7), (1, 8), (2, 0), (3, 4), (4, 3), (5, 0), (6, 5), (7, 6), (8, 0), (9, 1)]\n"
     ]
    }
   ],
   "source": [
    "numbers = [7, 8, 0, 4, 3, 0, 5, 6, 0, 1] \n",
    "num_list = list(enumerate(numbers))\n",
    "print(num_list)"
   ]
  },
  {
   "attachments": {},
   "cell_type": "markdown",
   "metadata": {},
   "source": [
    "### <font color='#FF69B4'>**Note:**</font>"
   ]
  },
  {
   "attachments": {},
   "cell_type": "markdown",
   "metadata": {},
   "source": [
    "We can create new sequences (such as lists, sets, or dictionaries) by applying an expression to each item in an iterable."
   ]
  },
  {
   "attachments": {},
   "cell_type": "markdown",
   "metadata": {},
   "source": [
    "The general form of a comprehension is:\n",
    "- For lists: `[expression for item in iterable]`\n",
    "- For sets: `{expression for item in iterable}`\n",
    "- For dictionaries: `{key_expression: value_expression for item in iterable}`"
   ]
  },
  {
   "cell_type": "code",
   "execution_count": 22,
   "metadata": {},
   "outputs": [
    {
     "data": {
      "text/plain": [
       "[0, 1, 4, 9, 16, 25, 36, 49, 64, 81]"
      ]
     },
     "execution_count": 22,
     "metadata": {},
     "output_type": "execute_result"
    }
   ],
   "source": [
    "# Simple List\n",
    "squares = [x**2 for x in range(10)]\n",
    "squares"
   ]
  },
  {
   "attachments": {},
   "cell_type": "markdown",
   "metadata": {},
   "source": [
    "```\n",
    "my_list = [] # To add the new elements to opur new list\n",
    "x**2 \n",
    "my_list.append()\n",
    "\n",
    "```"
   ]
  },
  {
   "cell_type": "code",
   "execution_count": 23,
   "metadata": {},
   "outputs": [
    {
     "data": {
      "text/plain": [
       "{0, 1, 4, 9, 16, 25, 36, 49, 64, 81}"
      ]
     },
     "execution_count": 23,
     "metadata": {},
     "output_type": "execute_result"
    }
   ],
   "source": [
    "# Simple Set\n",
    "squares = {x**2 for x in range(10)}\n",
    "squares"
   ]
  },
  {
   "cell_type": "code",
   "execution_count": 24,
   "metadata": {},
   "outputs": [
    {
     "data": {
      "text/plain": [
       "{0: 0, 1: 1, 2: 4, 3: 9, 4: 16, 5: 25, 6: 36, 7: 49, 8: 64, 9: 81}"
      ]
     },
     "execution_count": 24,
     "metadata": {},
     "output_type": "execute_result"
    }
   ],
   "source": [
    "# Simple Dictionary\n",
    "squared_dict = {x: x**2 for x in range(10)}\n",
    "squared_dict"
   ]
  },
  {
   "attachments": {},
   "cell_type": "markdown",
   "metadata": {},
   "source": [
    "#### Exercise\n",
    "\n",
    "Imagine you have a list of dictionaries representing various products in a store. Each dictionary contains the product name, category, and price. Your task is to use comprehensions to perform the following operations:\n",
    "\n",
    "1. Generate a list of product names that are in the category \"Electronics\".\n",
    "2. Create a dictionary that maps product names to their prices, but only for products that cost more than $50.\n",
    "3. Compute the average price of all the products in the \"Books\" category."
   ]
  },
  {
   "attachments": {},
   "cell_type": "markdown",
   "metadata": {},
   "source": [
    "Here's the list of products you will work with:"
   ]
  },
  {
   "cell_type": "code",
   "execution_count": 25,
   "metadata": {},
   "outputs": [],
   "source": [
    "products = [\n",
    "    {\"name\": \"Laptop\", \"category\": \"Electronics\", \"price\": 999.99},\n",
    "    {\"name\": \"Smartphone\", \"category\": \"Electronics\", \"price\": 699.99},\n",
    "    {\"name\": \"Book: The Alchemist\", \"category\": \"Books\", \"price\": 14.99},\n",
    "    {\"name\": \"Book: Harry Potter\", \"category\": \"Books\", \"price\": 29.99},\n",
    "    {\"name\": \"Bluetooth Headphones\", \"category\": \"Electronics\", \"price\": 199.99},\n",
    "    {\"name\": \"Monitor\", \"category\": \"Electronics\", \"price\": 149.99},\n",
    "    {\"name\": \"Book: Python Programming\", \"category\": \"Books\", \"price\": 49.99},\n",
    "    {\"name\": \"Desk Lamp\", \"category\": \"Furniture\", \"price\": 24.99},\n",
    "    {\"name\": \"Mousepad\", \"category\": \"Accessories\", \"price\": 5.99},\n",
    "    {\"name\": \"Stylus Pen\", \"category\": \"Accessories\", \"price\": 12.99},\n",
    "]"
   ]
  },
  {
   "cell_type": "code",
   "execution_count": 26,
   "metadata": {},
   "outputs": [
    {
     "name": "stdout",
     "output_type": "stream",
     "text": [
      "Electronics Products: ['Laptop', 'Smartphone', 'Bluetooth Headphones', 'Monitor']\n"
     ]
    }
   ],
   "source": [
    "# 1. Generate a list of product names that are in the category \"Electronics\".\n",
    "electronics_names = [product[\"name\"] for product in products if product[\"category\"] == \"Electronics\"]\n",
    "print(\"Electronics Products:\", electronics_names)"
   ]
  },
  {
   "cell_type": "code",
   "execution_count": 27,
   "metadata": {},
   "outputs": [
    {
     "name": "stdout",
     "output_type": "stream",
     "text": [
      "Products over $50: {'Laptop': 999.99, 'Smartphone': 699.99, 'Bluetooth Headphones': 199.99, 'Monitor': 149.99}\n"
     ]
    }
   ],
   "source": [
    "# 2. Create a dictionary that maps product names to their prices, but only for products that cost more than $50.\n",
    "products_over_50 = {product[\"name\"]: product[\"price\"] for product in products if product[\"price\"] > 50}\n",
    "print(\"Products over $50:\", products_over_50)"
   ]
  },
  {
   "cell_type": "code",
   "execution_count": 28,
   "metadata": {},
   "outputs": [
    {
     "name": "stdout",
     "output_type": "stream",
     "text": [
      "Average Price of Books: 31.656666666666666\n"
     ]
    }
   ],
   "source": [
    "# 3. Compute the average price of all the products in the \"Books\" category.\n",
    "books_prices = [product[\"price\"] for product in products if product[\"category\"] == \"Books\"]\n",
    "average_price_books = sum(books_prices) / len(books_prices) if books_prices else 0\n",
    "print(\"Average Price of Books:\", average_price_books)"
   ]
  },
  {
   "attachments": {},
   "cell_type": "markdown",
   "metadata": {},
   "source": [
    "#### Exercise: "
   ]
  },
  {
   "cell_type": "code",
   "execution_count": 29,
   "metadata": {},
   "outputs": [],
   "source": [
    "words = [\"apple\", \"banana\", \"cherry\", \"date\", \"elderberry\", \"fig\", \"grape\"]\n",
    "scores = [88, 92, 78, 90, 89, 76, 61]\n"
   ]
  },
  {
   "attachments": {},
   "cell_type": "markdown",
   "metadata": {},
   "source": [
    "**Tasks:**\n",
    "1. **List Comprehension - Select Long Words**:\n",
    "   Use a list comprehension to create a new list that contains only the words with more than 5 characters from the `words` list. Print the new list.\n",
    "\n",
    "2. **Set Comprehension - Unique Word Lengths**:\n",
    "   Use a set comprehension to create a set that contains the lengths of each word in the `words` list. This will give you a set of unique word lengths. Print the resulting set.\n",
    "\n",
    "3. **Dictionary Comprehension - Word to Length Mapping**:\n",
    "   Use a dictionary comprehension to create a dictionary where each word in the `words` list is a key, and its corresponding value is the length of the word. Print the dictionary.\n",
    "\n",
    "4. **List Comprehension with Conditional - Grade Categories**:\n",
    "   Use a list comprehension with a conditional to create a new list of strings that categorize each score in the `scores` list as 'Pass' if the score is 75 or higher and 'Fail' if the score is lower than 75. Print the list of grade categories.\n",
    "\n",
    "5. **Bonus: Nested Comprehensions - Matrix Transposition**:\n",
    "   Given a matrix (a list of lists), use a nested list comprehension to transpose the matrix (swap rows and columns). Print the transposed matrix."
   ]
  },
  {
   "attachments": {},
   "cell_type": "markdown",
   "metadata": {},
   "source": [
    "Sample data for bonus task:"
   ]
  },
  {
   "cell_type": "code",
   "execution_count": 30,
   "metadata": {},
   "outputs": [],
   "source": [
    "matrix = [\n",
    "    [1, 2, 3],\n",
    "    [4, 5, 6],\n",
    "    [7, 8, 9]\n",
    "]"
   ]
  },
  {
   "attachments": {},
   "cell_type": "markdown",
   "metadata": {},
   "source": [
    "**Expected Output:**\n",
    "```bash\n",
    "Long words: ['banana', 'cherry', 'elderberry']\n",
    "Unique word lengths: {4, 5, 6, 7, 10}\n",
    "Word to length: {'apple': 5, 'banana': 6, 'cherry': 6, 'date': 4, 'elderberry': 10, 'fig': 3, 'grape': 5}\n",
    "Grade categories: ['Pass', 'Pass', 'Pass', 'Pass', 'Pass', 'Pass', 'Fail']\n",
    "Transposed matrix: [[1, 4, 7], [2, 5, 8], [3, 6, 9]]\n",
    "```"
   ]
  },
  {
   "attachments": {},
   "cell_type": "markdown",
   "metadata": {},
   "source": [
    "#### Solution:"
   ]
  },
  {
   "cell_type": "code",
   "execution_count": 31,
   "metadata": {},
   "outputs": [],
   "source": [
    "# Given data\n",
    "words = [\"apple\", \"banana\", \"cherry\", \"date\", \"elderberry\", \"fig\", \"grape\"]\n",
    "scores = [88, 92, 78, 90, 89, 76, 61]"
   ]
  },
  {
   "cell_type": "code",
   "execution_count": 32,
   "metadata": {},
   "outputs": [
    {
     "name": "stdout",
     "output_type": "stream",
     "text": [
      "Long words: ['banana', 'cherry', 'elderberry']\n"
     ]
    }
   ],
   "source": [
    "# Task 1: List Comprehension - Select Long Words\n",
    "long_words = [word for word in words if len(word) > 5]\n",
    "print(f\"Long words: {long_words}\")"
   ]
  },
  {
   "cell_type": "code",
   "execution_count": 33,
   "metadata": {},
   "outputs": [
    {
     "name": "stdout",
     "output_type": "stream",
     "text": [
      "Unique word lengths: {3, 4, 5, 6, 10}\n"
     ]
    }
   ],
   "source": [
    "# Task 2: Set Comprehension - Unique Word Lengths\n",
    "unique_word_lengths = {len(word) for word in words}\n",
    "print(f\"Unique word lengths: {unique_word_lengths}\")"
   ]
  },
  {
   "cell_type": "code",
   "execution_count": 34,
   "metadata": {},
   "outputs": [
    {
     "name": "stdout",
     "output_type": "stream",
     "text": [
      "Word to length: {'apple': 5, 'banana': 6, 'cherry': 6, 'date': 4, 'elderberry': 10, 'fig': 3, 'grape': 5}\n"
     ]
    }
   ],
   "source": [
    "# Task 3: Dictionary Comprehension - Word to Length Mapping\n",
    "word_to_length = {word: len(word) for word in words}\n",
    "print(f\"Word to length: {word_to_length}\")"
   ]
  },
  {
   "cell_type": "code",
   "execution_count": 35,
   "metadata": {},
   "outputs": [
    {
     "name": "stdout",
     "output_type": "stream",
     "text": [
      "Grade categories: ['Pass', 'Pass', 'Pass', 'Pass', 'Pass', 'Pass', 'Fail']\n"
     ]
    }
   ],
   "source": [
    "# Task 4: List Comprehension with Conditional - Grade Categories\n",
    "grade_categories = [\"Pass\" if score >= 75 else \"Fail\" for score in scores]\n",
    "print(f\"Grade categories: {grade_categories}\")"
   ]
  },
  {
   "cell_type": "code",
   "execution_count": 36,
   "metadata": {},
   "outputs": [
    {
     "name": "stdout",
     "output_type": "stream",
     "text": [
      "Transposed matrix: [[1, 4, 7], [2, 5, 8], [3, 6, 9]]\n"
     ]
    }
   ],
   "source": [
    "# Bonus: Nested Comprehensions - Matrix Transposition\n",
    "matrix = [\n",
    "    [1, 2, 3],\n",
    "    [4, 5, 6],\n",
    "    [7, 8, 9]\n",
    "]\n",
    "\n",
    "transposed_matrix = [[row[i] for row in matrix] for i in range(len(matrix[0]))]\n",
    "print(f\"Transposed matrix: {transposed_matrix}\")"
   ]
  }
 ],
 "metadata": {
  "kernelspec": {
   "display_name": "base",
   "language": "python",
   "name": "python3"
  },
  "language_info": {
   "codemirror_mode": {
    "name": "ipython",
    "version": 3
   },
   "file_extension": ".py",
   "mimetype": "text/x-python",
   "name": "python",
   "nbconvert_exporter": "python",
   "pygments_lexer": "ipython3",
   "version": "3.12.8"
  },
  "orig_nbformat": 4
 },
 "nbformat": 4,
 "nbformat_minor": 2
}
