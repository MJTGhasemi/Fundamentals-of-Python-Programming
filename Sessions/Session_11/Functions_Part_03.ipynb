{
 "cells": [
  {
   "attachments": {},
   "cell_type": "markdown",
   "metadata": {},
   "source": [
    "# <font color='#98FB98'>**Functions in Python | Part 3**</font> "
   ]
  },
  {
   "attachments": {},
   "cell_type": "markdown",
   "metadata": {},
   "source": [
    "### Using `return` for Control Flow"
   ]
  },
  {
   "attachments": {},
   "cell_type": "markdown",
   "metadata": {},
   "source": [
    "`return` statements are versatile and can be strategically placed to control the flow of execution within a function, especially for conditions such as `error checking` or `validating inputs`."
   ]
  },
  {
   "cell_type": "code",
   "execution_count": 1,
   "metadata": {},
   "outputs": [],
   "source": [
    "def process_number(number):\n",
    "    if number < 0:\n",
    "        return 'Invalid input: Number is negative.'\n",
    "    # Further processing for valid input\n",
    "    return f'Processing number: {number}'"
   ]
  },
  {
   "attachments": {},
   "cell_type": "markdown",
   "metadata": {},
   "source": [
    "Here, the function checks if the input is negative. If so, it immediately exits, returning a message indicating invalid input. Otherwise, it proceeds with the intended processing."
   ]
  },
  {
   "cell_type": "code",
   "execution_count": 2,
   "metadata": {},
   "outputs": [
    {
     "data": {
      "text/plain": [
       "'Invalid input: Number is negative.'"
      ]
     },
     "execution_count": 2,
     "metadata": {},
     "output_type": "execute_result"
    }
   ],
   "source": [
    "process_number(-5)"
   ]
  },
  {
   "cell_type": "code",
   "execution_count": 3,
   "metadata": {},
   "outputs": [
    {
     "data": {
      "text/plain": [
       "'Processing number: 10'"
      ]
     },
     "execution_count": 3,
     "metadata": {},
     "output_type": "execute_result"
    }
   ],
   "source": [
    "process_number(10)"
   ]
  },
  {
   "attachments": {},
   "cell_type": "markdown",
   "metadata": {},
   "source": [
    "### Functions with Multiple Return Statements"
   ]
  },
  {
   "attachments": {},
   "cell_type": "markdown",
   "metadata": {},
   "source": [
    "Functions can have multiple `return` statements, often used in conjunction with conditional logic to return different outcomes based on various conditions."
   ]
  },
  {
   "cell_type": "code",
   "execution_count": 4,
   "metadata": {},
   "outputs": [],
   "source": [
    "def classify_age(age):\n",
    "    if age < 13:\n",
    "        return 'Child'\n",
    "    elif age < 20:\n",
    "        return 'Teenager'\n",
    "    elif age < 60:\n",
    "        return 'Adult'\n",
    "    else:\n",
    "        return 'Senior'"
   ]
  },
  {
   "cell_type": "code",
   "execution_count": 5,
   "metadata": {},
   "outputs": [
    {
     "data": {
      "text/plain": [
       "'Child'"
      ]
     },
     "execution_count": 5,
     "metadata": {},
     "output_type": "execute_result"
    }
   ],
   "source": [
    "classify_age(12)"
   ]
  },
  {
   "cell_type": "code",
   "execution_count": 6,
   "metadata": {},
   "outputs": [
    {
     "data": {
      "text/plain": [
       "'Teenager'"
      ]
     },
     "execution_count": 6,
     "metadata": {},
     "output_type": "execute_result"
    }
   ],
   "source": [
    "classify_age(18)"
   ]
  },
  {
   "cell_type": "code",
   "execution_count": 7,
   "metadata": {},
   "outputs": [
    {
     "data": {
      "text/plain": [
       "'Adult'"
      ]
     },
     "execution_count": 7,
     "metadata": {},
     "output_type": "execute_result"
    }
   ],
   "source": [
    "classify_age(30)"
   ]
  },
  {
   "cell_type": "code",
   "execution_count": 8,
   "metadata": {},
   "outputs": [
    {
     "data": {
      "text/plain": [
       "'Senior'"
      ]
     },
     "execution_count": 8,
     "metadata": {},
     "output_type": "execute_result"
    }
   ],
   "source": [
    "classify_age(70)"
   ]
  },
  {
   "attachments": {},
   "cell_type": "markdown",
   "metadata": {},
   "source": [
    "<font color='#FF69B4'>**Common Mistake:**</font> It's a common mistake to use `print` instead of `return` to communicate a value from a function. While `print` simply displays the value on the console, `return` sends the value back to the caller, allowing further interaction with the returned data.  \n",
    "Here's an example of the difference between the two:"
   ]
  },
  {
   "cell_type": "code",
   "execution_count": 9,
   "metadata": {},
   "outputs": [],
   "source": [
    "# Common mistake: Using print instead of return\n",
    "def add(a, b):\n",
    "    print(a + b)  # This prints the sum but doesn't return it."
   ]
  },
  {
   "cell_type": "code",
   "execution_count": 10,
   "metadata": {},
   "outputs": [
    {
     "name": "stdout",
     "output_type": "stream",
     "text": [
      "8\n"
     ]
    }
   ],
   "source": [
    "result = add(5, 3)"
   ]
  },
  {
   "cell_type": "code",
   "execution_count": 12,
   "metadata": {},
   "outputs": [
    {
     "name": "stdout",
     "output_type": "stream",
     "text": [
      "None\n"
     ]
    }
   ],
   "source": [
    "print(result)  # This will print 'None'."
   ]
  },
  {
   "cell_type": "code",
   "execution_count": 13,
   "metadata": {},
   "outputs": [],
   "source": [
    "# Good practice: Using return to communicate a value\n",
    "def add(a, b):\n",
    "    return a + b"
   ]
  },
  {
   "cell_type": "code",
   "execution_count": 14,
   "metadata": {},
   "outputs": [],
   "source": [
    "result = add(5, 3)"
   ]
  },
  {
   "cell_type": "code",
   "execution_count": 15,
   "metadata": {},
   "outputs": [
    {
     "name": "stdout",
     "output_type": "stream",
     "text": [
      "8\n"
     ]
    }
   ],
   "source": [
    "print(result)  # This will print '8'."
   ]
  },
  {
   "attachments": {},
   "cell_type": "markdown",
   "metadata": {},
   "source": [
    "### Variable-Length Positional Arguments (`*args`)"
   ]
  },
  {
   "attachments": {},
   "cell_type": "markdown",
   "metadata": {},
   "source": [
    "Sometimes, you need a function to accept an arbitrary number of arguments. Python allows this with `*args`, which collects extra positional arguments into a tuple."
   ]
  },
  {
   "cell_type": "code",
   "execution_count": 16,
   "metadata": {},
   "outputs": [],
   "source": [
    "# Example:\n",
    "def add_numbers(*numbers):\n",
    "    return sum(numbers)"
   ]
  },
  {
   "cell_type": "code",
   "execution_count": 17,
   "metadata": {},
   "outputs": [
    {
     "name": "stdout",
     "output_type": "stream",
     "text": [
      "6\n"
     ]
    }
   ],
   "source": [
    "# You can pass any number of arguments\n",
    "print(add_numbers(1, 2, 3))  "
   ]
  },
  {
   "cell_type": "code",
   "execution_count": 20,
   "metadata": {},
   "outputs": [
    {
     "name": "stdout",
     "output_type": "stream",
     "text": [
      "171\n"
     ]
    }
   ],
   "source": [
    "print(add_numbers(4, 5, 23, 41, 98))   "
   ]
  },
  {
   "attachments": {},
   "cell_type": "markdown",
   "metadata": {},
   "source": [
    "Another practical use case is concatenating an arbitrary number of strings with a specified separator:"
   ]
  },
  {
   "cell_type": "code",
   "execution_count": 21,
   "metadata": {},
   "outputs": [],
   "source": [
    "def concatenate_strings(separator, *args):\n",
    "    return separator.join(args)"
   ]
  },
  {
   "cell_type": "code",
   "execution_count": 90,
   "metadata": {},
   "outputs": [
    {
     "data": {
      "text/plain": [
       "'Python is awesome. No!'"
      ]
     },
     "execution_count": 90,
     "metadata": {},
     "output_type": "execute_result"
    }
   ],
   "source": [
    "# Concatenate with a space separator\n",
    "concatenate_strings(' ', 'Python', 'is', 'awesome.', 'No!')"
   ]
  },
  {
   "cell_type": "code",
   "execution_count": 91,
   "metadata": {},
   "outputs": [
    {
     "data": {
      "text/plain": [
       "'2023-04-21'"
      ]
     },
     "execution_count": 91,
     "metadata": {},
     "output_type": "execute_result"
    }
   ],
   "source": [
    "# Concatenate with a hyphen separator\n",
    "concatenate_strings('-', '2023', '04', '21')"
   ]
  },
  {
   "attachments": {},
   "cell_type": "markdown",
   "metadata": {},
   "source": [
    "### Argument Tuple Unpacking (`*` with function calls)"
   ]
  },
  {
   "attachments": {},
   "cell_type": "markdown",
   "metadata": {},
   "source": [
    "If you have a list or tuple of values and want to pass them as `separate positional arguments` to a function, you can use `*` to unpack them."
   ]
  },
  {
   "attachments": {},
   "cell_type": "markdown",
   "metadata": {},
   "source": [
    "This technique is incredibly useful when we already have data in a structured form (like a list or tuple) and want to pass it to a function expecting separate positional arguments."
   ]
  },
  {
   "cell_type": "code",
   "execution_count": 22,
   "metadata": {},
   "outputs": [],
   "source": [
    "def greet(first_name, last_name):\n",
    "    print(f'Hello, {first_name} {last_name}!')\n"
   ]
  },
  {
   "cell_type": "code",
   "execution_count": 28,
   "metadata": {},
   "outputs": [
    {
     "name": "stdout",
     "output_type": "stream",
     "text": [
      "Hello, John Doe!\n"
     ]
    }
   ],
   "source": [
    "names_list = ['John', 'Doe']\n",
    "greet(*names_list)"
   ]
  },
  {
   "cell_type": "code",
   "execution_count": 29,
   "metadata": {},
   "outputs": [
    {
     "name": "stdout",
     "output_type": "stream",
     "text": [
      "Hello, John Doe!\n"
     ]
    }
   ],
   "source": [
    "names_tuple = ('John', 'Doe')\n",
    "greet(*names_tuple)"
   ]
  },
  {
   "attachments": {},
   "cell_type": "markdown",
   "metadata": {},
   "source": [
    "<font color='#FF69B4'>**Note:**</font> We can also combine both packing and unpacking in function calls. Follow the example: "
   ]
  },
  {
   "cell_type": "code",
   "execution_count": 30,
   "metadata": {},
   "outputs": [],
   "source": [
    "def print_authors(*authors):\n",
    "    for author in authors:\n",
    "        print(author)"
   ]
  },
  {
   "cell_type": "code",
   "execution_count": 31,
   "metadata": {},
   "outputs": [],
   "source": [
    "author_list = ['J.K. Rowling', 'George R.R. Martin', 'J.R.R. Tolkien']"
   ]
  },
  {
   "cell_type": "code",
   "execution_count": 32,
   "metadata": {},
   "outputs": [
    {
     "name": "stdout",
     "output_type": "stream",
     "text": [
      "J.K. Rowling\n",
      "George R.R. Martin\n",
      "J.R.R. Tolkien\n"
     ]
    }
   ],
   "source": [
    "# The list is unpacked into individual arguments, then packed into a tuple\n",
    "print_authors(*author_list)"
   ]
  },
  {
   "attachments": {},
   "cell_type": "markdown",
   "metadata": {},
   "source": [
    "### Variable-Length Keyword Arguments (`**kwargs`)"
   ]
  },
  {
   "attachments": {},
   "cell_type": "markdown",
   "metadata": {},
   "source": [
    "Similar to `*args`, but for keyword arguments. `**kwargs` collects them into a dictionary, allowing functions to handle named arguments dynamically."
   ]
  },
  {
   "cell_type": "code",
   "execution_count": 33,
   "metadata": {},
   "outputs": [],
   "source": [
    "def introduce_yourself(**details):\n",
    "    for key, value in details.items():\n",
    "        print(f'{key}: {value}')"
   ]
  },
  {
   "cell_type": "code",
   "execution_count": 34,
   "metadata": {},
   "outputs": [
    {
     "name": "stdout",
     "output_type": "stream",
     "text": [
      "name: Alice\n",
      "age: 30\n",
      "profession: Engineer\n"
     ]
    }
   ],
   "source": [
    "# Introducing a person with multiple attributes\n",
    "introduce_yourself(name='Alice', age=30, profession='Engineer')"
   ]
  },
  {
   "attachments": {},
   "cell_type": "markdown",
   "metadata": {},
   "source": [
    "Here, `**details` acts as a container for any number of named arguments passed to the `introduce_yourself` function. This approach allows the function to handle varying attributes of a person's introduction without needing to specify each possible parameter upfront."
   ]
  },
  {
   "attachments": {},
   "cell_type": "markdown",
   "metadata": {},
   "source": [
    "<font color='#FF69B4'>**Note:**</font> Combining argument dictionary packing with positional arguments enhances the function's flexibility, enabling it to accept both a fixed set of arguments and an arbitrary number of keyword arguments:"
   ]
  },
  {
   "cell_type": "code",
   "execution_count": 40,
   "metadata": {},
   "outputs": [],
   "source": [
    "# Example:\n",
    "def create_profile(name, **details):\n",
    "    print(f'Name: {name}')\n",
    "    for key, value in details.items():\n",
    "        print(f\"{key}: {value}\")"
   ]
  },
  {
   "cell_type": "code",
   "execution_count": 42,
   "metadata": {},
   "outputs": [
    {
     "name": "stdout",
     "output_type": "stream",
     "text": [
      "Name: Alice\n",
      "age: 30\n",
      "city: New York\n",
      "job: Data Scientist\n"
     ]
    }
   ],
   "source": [
    "# Creating a profile with additional details\n",
    "create_profile('Alice', age=30, city='New York', job='Data Scientist')\n"
   ]
  },
  {
   "attachments": {},
   "cell_type": "markdown",
   "metadata": {},
   "source": [
    "### Argument Dictionary Unpacking (`**` with function calls)"
   ]
  },
  {
   "attachments": {},
   "cell_type": "markdown",
   "metadata": {},
   "source": [
    "While argument dictionary packing allows a function to accept an arbitrary number of keyword arguments, **argument dictionary unpacking** does the opposite.  \n",
    "It enables a dictionary of key-value pairs to be unpacked and passed as keyword arguments to a function when we call the function.  \n",
    "This technique, marked by the double asterisk (`**`), enhances the flexibility of function calls, especially when dealing with dynamic data structures or configurations."
   ]
  },
  {
   "attachments": {},
   "cell_type": "markdown",
   "metadata": {},
   "source": [
    "Similar to tuple unpacking, but for dictionaries. This allows passing key-value pairs as separate keyword arguments."
   ]
  },
  {
   "cell_type": "code",
   "execution_count": 35,
   "metadata": {},
   "outputs": [],
   "source": [
    "def display_info(name, age, profession):\n",
    "    print(f'Name: {name}, Age: {age}, Profession: {profession}')"
   ]
  },
  {
   "cell_type": "code",
   "execution_count": 37,
   "metadata": {},
   "outputs": [],
   "source": [
    "person_info = {'name': 'Alice', 'age': 30, 'profession': 'Engineer'}"
   ]
  },
  {
   "cell_type": "code",
   "execution_count": 38,
   "metadata": {},
   "outputs": [
    {
     "name": "stdout",
     "output_type": "stream",
     "text": [
      "Name: Alice, Age: 30, Profession: Engineer\n"
     ]
    }
   ],
   "source": [
    "# Unpacking the dictionary and passing as keyword arguments\n",
    "display_info(**person_info)"
   ]
  },
  {
   "attachments": {},
   "cell_type": "markdown",
   "metadata": {},
   "source": [
    "By using `**person_info`, we unpack the dictionary so that each key-value pair is passed as a separate keyword argument to the `display_info` function. This approach is particularly useful for functions that require a flexible set of parameters."
   ]
  },
  {
   "cell_type": "code",
   "execution_count": 42,
   "metadata": {},
   "outputs": [],
   "source": [
    "def set_config(**config):\n",
    "    for key, value in config.items():\n",
    "        print(f\"{key} set to {value}\")\n"
   ]
  },
  {
   "cell_type": "code",
   "execution_count": 43,
   "metadata": {},
   "outputs": [
    {
     "name": "stdout",
     "output_type": "stream",
     "text": [
      "mode set to dark\n",
      "language set to French\n",
      "version set to 9.8.7\n"
     ]
    }
   ],
   "source": [
    "config = {'mode': 'dark', 'language': 'French', 'version': '9.8.7'}\n",
    "set_config(**config)"
   ]
  },
  {
   "attachments": {},
   "cell_type": "markdown",
   "metadata": {},
   "source": [
    "This example demonstrates how dictionary unpacking can be seamlessly used to pass a set of configuration settings to a function, making the code cleaner and more intuitive."
   ]
  },
  {
   "attachments": {},
   "cell_type": "markdown",
   "metadata": {},
   "source": [
    "## <font color='#FFA500'>**Function Documentation**</font> "
   ]
  },
  {
   "attachments": {},
   "cell_type": "markdown",
   "metadata": {},
   "source": [
    "Documenting functions is crucial in software development. Well-documented code not only helps others understand what your code is supposed to do but also aids in debugging and extending the codebase without introducing errors."
   ]
  },
  {
   "attachments": {},
   "cell_type": "markdown",
   "metadata": {},
   "source": [
    "Previously, we discussed that why function documentation is crucial: \n",
    "\n",
    "- **Readability:**\n",
    "    - The primary goal of function documentation is to enhance the readability of your code. When a developer encounters a function, the documentation should immediately convey the function's purpose without the need to decipher the code itself. Well-documented functions allow developers to grasp the logic quickly, saving time and reducing cognitive load.\n",
    "\n",
    "- **Maintenance:**\n",
    "    - Code maintenance is a significant part of the software development lifecycle. Over the course of a project, code is modified, refactored, and extended. Documentation acts as a guidepost for future maintainers, providing them with the necessary context to make changes confidently. When the original author of the code is no longer available, good documentation is often the only source of insight into the design decisions that were made.\n",
    "\n",
    "- **Onboarding:**\n",
    "    - When new developers join a project, they often face a steep learning curve. Comprehensive function documentation can significantly ease this process, allowing newcomers to get up to speed more quickly. Instead of relying solely on direct communication with the existing team, new developers can rely on documentation to understand how to use various parts of the codebase.\n",
    "\n",
    "- **Collaboration:**\n",
    "    - In team environments, where multiple developers work on the same codebase, clear documentation is critical for collaboration. It helps in aligning understanding and ensures that everyone is on the same page regarding how functions are supposed to work, what inputs they expect, and what outputs they produce.\n",
    "\n",
    "- **Debugging:**\n",
    "    - When something goes wrong, well-documented functions can be a lifesaver. Debugging involves tracing through the code to find where things are breaking. Documentation can provide immediate hints about what a function was intended to do, which can be compared against its actual behavior to identify bugs.\n",
    "\n",
    "- **Reusability:**\n",
    "    - Software development often involves building on existing solutions. When functions are well-documented, they can be more easily reused in different parts of the application, or even in different projects, because their functionality is clearly described and their interfaces are well-defined."
   ]
  },
  {
   "attachments": {},
   "cell_type": "markdown",
   "metadata": {},
   "source": [
    "### Docstrings"
   ]
  },
  {
   "attachments": {},
   "cell_type": "markdown",
   "metadata": {},
   "source": [
    "We also mentioned that by using triple quotes (`'''` or `\"\"\"`) we can ass docstrings to the functions which explain what a function does. \n",
    "\n",
    "Here is an example of a simple function with a docstring:"
   ]
  },
  {
   "cell_type": "code",
   "execution_count": 43,
   "metadata": {},
   "outputs": [],
   "source": [
    "def calculate_area(radius):\n",
    "    \"\"\"\n",
    "    Calculate the area of a circle given its radius.\n",
    "\n",
    "    Args:\n",
    "        radius (float): The radius of the circle.\n",
    "\n",
    "    Returns:\n",
    "        float: The area of the circle.\n",
    "\n",
    "    Raises:\n",
    "        ValueError: If the radius is negative.\n",
    "\n",
    "    Examples:\n",
    "        >>> calculate_area(5)\n",
    "        78.53981633974483\n",
    "\n",
    "    Note:\n",
    "        The area is calculated using the formula pi * radius^2.\n",
    "    \"\"\"\n",
    "    if radius < 0:\n",
    "        raise ValueError('The radius cannot be negative.')\n",
    "    return 3.141592653589793 * radius ** 2"
   ]
  },
  {
   "attachments": {},
   "cell_type": "markdown",
   "metadata": {},
   "source": [
    "You can access the docstring of a function by using the `help()` built-in function or by printing `my_function.__doc__`."
   ]
  },
  {
   "cell_type": "code",
   "execution_count": 44,
   "metadata": {},
   "outputs": [
    {
     "name": "stdout",
     "output_type": "stream",
     "text": [
      "Help on function calculate_area in module __main__:\n",
      "\n",
      "calculate_area(radius)\n",
      "    Calculate the area of a circle given its radius.\n",
      "    \n",
      "    Args:\n",
      "        radius (float): The radius of the circle.\n",
      "    \n",
      "    Returns:\n",
      "        float: The area of the circle.\n",
      "    \n",
      "    Raises:\n",
      "        ValueError: If the radius is negative.\n",
      "    \n",
      "    Examples:\n",
      "        >>> calculate_area(5)\n",
      "        78.53981633974483\n",
      "    \n",
      "    Note:\n",
      "        The area is calculated using the formula pi * radius^2.\n",
      "\n"
     ]
    }
   ],
   "source": [
    "help(calculate_area)"
   ]
  },
  {
   "cell_type": "code",
   "execution_count": 45,
   "metadata": {},
   "outputs": [
    {
     "name": "stdout",
     "output_type": "stream",
     "text": [
      "\n",
      "    Calculate the area of a circle given its radius.\n",
      "\n",
      "    Args:\n",
      "        radius (float): The radius of the circle.\n",
      "\n",
      "    Returns:\n",
      "        float: The area of the circle.\n",
      "\n",
      "    Raises:\n",
      "        ValueError: If the radius is negative.\n",
      "\n",
      "    Examples:\n",
      "        >>> calculate_area(5)\n",
      "        78.53981633974483\n",
      "\n",
      "    Note:\n",
      "        The area is calculated using the formula pi * radius^2.\n",
      "    \n"
     ]
    }
   ],
   "source": [
    "print(calculate_area.__doc__)"
   ]
  },
  {
   "attachments": {},
   "cell_type": "markdown",
   "metadata": {},
   "source": [
    "You can also use `help()` for built-in functions as well. "
   ]
  },
  {
   "cell_type": "code",
   "execution_count": 127,
   "metadata": {},
   "outputs": [
    {
     "name": "stdout",
     "output_type": "stream",
     "text": [
      "Help on built-in function len in module builtins:\n",
      "\n",
      "len(obj, /)\n",
      "    Return the number of items in a container.\n",
      "\n"
     ]
    }
   ],
   "source": [
    "help(len)"
   ]
  },
  {
   "cell_type": "code",
   "execution_count": 49,
   "metadata": {},
   "outputs": [
    {
     "name": "stdout",
     "output_type": "stream",
     "text": [
      "Help on built-in function id in module builtins:\n",
      "\n",
      "id(obj, /)\n",
      "    Return the identity of an object.\n",
      "    \n",
      "    This is guaranteed to be unique among simultaneously existing objects.\n",
      "    (CPython uses the object's memory address.)\n",
      "\n"
     ]
    }
   ],
   "source": [
    "help(id)"
   ]
  },
  {
   "attachments": {},
   "cell_type": "markdown",
   "metadata": {},
   "source": [
    "<font color='#FF69B4'>**Note:**</font> You can consider these key elements to write effective, concise and professional docstrings:"
   ]
  },
  {
   "attachments": {},
   "cell_type": "markdown",
   "metadata": {},
   "source": [
    "- **Brief Description**\n",
    "  - Start with a brief, yet descriptive, summary of the function's purpose. This summary should be concise—often a single line is sufficient. It should give the reader an immediate understanding of what the function does without having to read the rest of the docstring or inspect the code.\n",
    "- **Parameters**\n",
    "  - After the initial description, document each parameter the function takes. Include the name, type, and a short explanation of what each parameter represents and how it is used by the function. This information is invaluable when trying to understand the inputs that the function expects.\n",
    "- **Return Values**\n",
    "  - If the function returns a value, describe what the value is, along with its type. If a function can return multiple types of values or raises exceptions, this should be clearly documented so that users of the function can write code that handles the output appropriately.\n",
    "- **Other Sections**\n",
    "  - **Example Usage:** Providing a code snippet showing how to call the function can be very helpful, especially for complex or less intuitive functions.\n",
    "  - **Raises:** Detail any exceptions that the function may raise, along with the conditions under which they are raised.\n",
    "  - **Notes:** Include any additional information or context that could be useful, such as performance considerations, side effects, or limitations of the function.\n",
    "  - **See Also:** Mention related functions or resources that might be of interest to someone using the function."
   ]
  },
  {
   "attachments": {},
   "cell_type": "markdown",
   "metadata": {},
   "source": [
    "### Time to Practice!"
   ]
  },
  {
   "attachments": {},
   "cell_type": "markdown",
   "metadata": {},
   "source": [
    "<div style='text-align: center'>\n",
    "    <img src='https://images.inc.com/uploaded_files/image/1920x1080/getty_133970892_157811.jpg' alt='functions' title='practice' width='600' height='400'/>\n",
    "</div>"
   ]
  },
  {
   "attachments": {},
   "cell_type": "markdown",
   "metadata": {},
   "source": [
    "Imagine you have written a function that calculates the area of a rectangle. Your task is to document this function properly using a docstring that includes a description of the function, its parameters, return value, and any additional information you think is relevant. "
   ]
  },
  {
   "attachments": {},
   "cell_type": "markdown",
   "metadata": {},
   "source": [
    "**Tasks:**\n",
    "\n",
    "1. **Write the Function**:\n",
    "   Define a function named `calculate_rectangle_area` that takes two parameters, `width` and `height`, which represent the dimensions of a rectangle.\n",
    "\n",
    "2. **Add a Docstring**:\n",
    "   Write a docstring for the `calculate_rectangle_area` function. Make sure to include:\n",
    "   - A brief description of what the function does.\n",
    "   - Descriptions of the parameters `width` and `height`.\n",
    "   - The expected return value description.\n",
    "\n",
    "3. **Access the Docstring**:\n",
    "   Write code that prints the docstring of the `calculate_rectangle_area` function using both the `help()` function and the `.__doc__` attribute.\n"
   ]
  },
  {
   "cell_type": "code",
   "execution_count": 50,
   "metadata": {},
   "outputs": [],
   "source": [
    "# Task 1, 2: Write the Function, add Docstring\n",
    "def calculate_rectangle_area(width, height):\n",
    "    \"\"\"\n",
    "    Calculate the area of a rectangle.\n",
    "\n",
    "    Parameters:\n",
    "    width (float): The width of the rectangle in units.\n",
    "    height (float): The height of the rectangle in units.\n",
    "\n",
    "    Returns:\n",
    "    float: The area of the rectangle in square units.\n",
    "    \"\"\"\n",
    "    return width * height\n"
   ]
  },
  {
   "cell_type": "code",
   "execution_count": 129,
   "metadata": {},
   "outputs": [
    {
     "name": "stdout",
     "output_type": "stream",
     "text": [
      "\n",
      "    Calculate the area of a rectangle.\n",
      "\n",
      "    Parameters:\n",
      "    width (float): The width of the rectangle in units.\n",
      "    height (float): The height of the rectangle in units.\n",
      "\n",
      "    Returns:\n",
      "    float: The area of the rectangle in square units.\n",
      "    \n"
     ]
    }
   ],
   "source": [
    "# Task 3\n",
    "print(calculate_rectangle_area.__doc__)"
   ]
  },
  {
   "cell_type": "code",
   "execution_count": 52,
   "metadata": {},
   "outputs": [
    {
     "name": "stdout",
     "output_type": "stream",
     "text": [
      "Help on function calculate_rectangle_area in module __main__:\n",
      "\n",
      "calculate_rectangle_area(width, height)\n",
      "    Calculate the area of a rectangle.\n",
      "    \n",
      "    Parameters:\n",
      "    width (float): The width of the rectangle in units.\n",
      "    height (float): The height of the rectangle in units.\n",
      "    \n",
      "    Returns:\n",
      "    float: The area of the rectangle in square units.\n",
      "\n"
     ]
    }
   ],
   "source": [
    "help(calculate_rectangle_area)"
   ]
  },
  {
   "attachments": {},
   "cell_type": "markdown",
   "metadata": {},
   "source": [
    "## <font color='#FFA500'>**Lambda Functions**</font> "
   ]
  },
  {
   "attachments": {},
   "cell_type": "markdown",
   "metadata": {},
   "source": [
    "<div style='text-align: center'>\n",
    "    <img src='https://i.ytimg.com/vi/OgwbIZveGwg/maxresdefault.jpg' alt='functions' title='lambda' width='600' height='400'/>\n",
    "</div>"
   ]
  },
  {
   "attachments": {},
   "cell_type": "markdown",
   "metadata": {},
   "source": [
    "`Lambda` functions, also known as lambda expressions, are used for constructing function objects that are required for a short duration and are not intended to be reused outside of their immediate context.\n",
    "\n",
    "Understanding and utilizing lambda functions in your code can lead to more elegant and expressive programming patterns."
   ]
  },
  {
   "attachments": {},
   "cell_type": "markdown",
   "metadata": {},
   "source": [
    "Lambda functions are a feature in Python that allows you to create `small`, `one-time`, `anonymous function` objects.  \n",
    "These functions are called \"lambda\" functions because they are not declared with the standard `def` keyword, but with the `lambda` keyword, which is derived from the lambda calculus, a formal system in mathematical logic and computer science for expressing computation by way of variable binding and substitution."
   ]
  },
  {
   "attachments": {},
   "cell_type": "markdown",
   "metadata": {},
   "source": [
    "Lambda functions can take any number of arguments, but they can only contain a single expression. The result of this expression is the return value of the function.\n",
    "\n",
    "They are often used in situations where a simple function is needed for a short duration, and where defining a full function using `def` would be unnecessarily verbose or complex."
   ]
  },
  {
   "attachments": {},
   "cell_type": "markdown",
   "metadata": {},
   "source": [
    "### The Syntax of Lambda Functions"
   ]
  },
  {
   "attachments": {},
   "cell_type": "markdown",
   "metadata": {},
   "source": [
    "The syntax of a lambda function is distinct and straightforward. Here's the basic structure:"
   ]
  },
  {
   "attachments": {},
   "cell_type": "markdown",
   "metadata": {},
   "source": [
    "```python\n",
    "lambda arguments: expression\n",
    "```\n"
   ]
  },
  {
   "attachments": {},
   "cell_type": "markdown",
   "metadata": {},
   "source": [
    "Let's break down the components:"
   ]
  },
  {
   "attachments": {},
   "cell_type": "markdown",
   "metadata": {},
   "source": [
    "- `lambda`: This is the keyword that signifies the start of a lambda function.\n",
    "- `arguments`: This is where you specify any number of arguments (parameters) that the lambda function can receive, separated by commas. These work like arguments in a regular function. You can also have lambda functions without any arguments.\n",
    "- `:`: The colon separates the arguments from the body of the lambda function.\n",
    "- `expression`: A single line of code that gets evaluated and returned when the lambda function is called. Unlike regular functions, you do not need to include a `return` statement."
   ]
  },
  {
   "cell_type": "code",
   "execution_count": 1,
   "metadata": {},
   "outputs": [
    {
     "data": {
      "text/plain": [
       "8"
      ]
     },
     "execution_count": 1,
     "metadata": {},
     "output_type": "execute_result"
    }
   ],
   "source": [
    "def add(x,y):  \n",
    "    return x + y\n",
    "\n",
    "add(5,3)"
   ]
  },
  {
   "cell_type": "code",
   "execution_count": 2,
   "metadata": {},
   "outputs": [
    {
     "data": {
      "text/plain": [
       "8"
      ]
     },
     "execution_count": 2,
     "metadata": {},
     "output_type": "execute_result"
    }
   ],
   "source": [
    "# Example: \n",
    "add = lambda x, y: x + y\n",
    "\n",
    "add(5, 3)"
   ]
  },
  {
   "attachments": {},
   "cell_type": "markdown",
   "metadata": {},
   "source": [
    "In this example, the lambda function takes two arguments, `x` and `y`, and returns their sum. The lambda function is assigned to the variable `add`, which can then be used like any function object."
   ]
  },
  {
   "attachments": {},
   "cell_type": "markdown",
   "metadata": {},
   "source": [
    "<font color='#FF69B4'>**Note:**</font> It's important to note that while you can assign a lambda function to a variable, it's more common to use them in a transient manner, for instance as an argument to a higher-order function:"
   ]
  },
  {
   "cell_type": "code",
   "execution_count": 3,
   "metadata": {},
   "outputs": [
    {
     "data": {
      "text/plain": [
       "[1, 4, 9, 16, 25]"
      ]
     },
     "execution_count": 3,
     "metadata": {},
     "output_type": "execute_result"
    }
   ],
   "source": [
    "numbers = [1, 2, 3, 4, 5]\n",
    "squared = map(lambda x: x ** 2, numbers)\n",
    "list(squared)"
   ]
  },
  {
   "attachments": {},
   "cell_type": "markdown",
   "metadata": {},
   "source": [
    "In this example, `map()` takes a lambda function and an iterable, and returns an iterator that applies the lambda function to every item of the iterable."
   ]
  },
  {
   "attachments": {},
   "cell_type": "markdown",
   "metadata": {},
   "source": [
    "### When to Use `Lambda` Functions"
   ]
  },
  {
   "attachments": {},
   "cell_type": "markdown",
   "metadata": {},
   "source": [
    "Lambda functions are best used in scenarios where a simple, temporary function is needed without the syntactic baggage of a full function definition. Here are some common use cases where lambda functions are particularly useful:\n",
    "\n",
    "1. **Short-Lived Functions**: When you need a function for a brief period, and defining it with a `def` would make the code less clear and more verbose.\n",
    "\n",
    "2. **Higher-Order Functions**: When passing a function as an argument to another function, like `sort()`, `map()`, `filter()`, or `reduce()`. Lambda functions can be used inline, which can make the code more readable.\n",
    "\n",
    "3. **Small Transformations or Actions**: When performing minor data transformations, such as formatting strings, changing case, or performing simple arithmetic.\n",
    "\n",
    "4. **Functional Constructs**: When dealing with functional programming constructs where you need to compose functions in a mathematical sense."
   ]
  },
  {
   "cell_type": "code",
   "execution_count": 5,
   "metadata": {},
   "outputs": [
    {
     "data": {
      "text/plain": [
       "[(4, 'four'), (1, 'one'), (3, 'three'), (2, 'two')]"
      ]
     },
     "execution_count": 5,
     "metadata": {},
     "output_type": "execute_result"
    }
   ],
   "source": [
    "# Example of using lambda with sort()\n",
    "pairs = [(1, 'one'), (2, 'two'), (3, 'three'), (4, 'four')]\n",
    "pairs.sort(key=lambda pair: pair[1])\n",
    "pairs"
   ]
  },
  {
   "cell_type": "code",
   "execution_count": 7,
   "metadata": {},
   "outputs": [
    {
     "data": {
      "text/plain": [
       "'hello'"
      ]
     },
     "execution_count": 7,
     "metadata": {},
     "output_type": "execute_result"
    }
   ],
   "source": [
    "# Here is an explanation of the above lambda functions, and how it returns the second element of a list (tuple).\n",
    "my_fun = lambda element: element[1]\n",
    "\n",
    "my_fun([2, 'hello'])"
   ]
  },
  {
   "attachments": {},
   "cell_type": "markdown",
   "metadata": {},
   "source": [
    "This code snippet sorts a list of tuples, `pairs`, based on the alphabetical order of the words in the second element of each tuple. It uses the `sort()` method with a lambda function as the `key` argument.  \n",
    "The lambda function takes each tuple (`pair`) and returns its second element (`pair[1]`), which is a string.  \n",
    "The `sort()` method then rearranges the tuples in the list according to the alphabetical order of these strings. After sorting, the tuples are ordered by the English words 'four', 'one', 'three', 'two'."
   ]
  },
  {
   "cell_type": "code",
   "execution_count": 59,
   "metadata": {},
   "outputs": [
    {
     "name": "stdout",
     "output_type": "stream",
     "text": [
      "Help on built-in function sorted in module builtins:\n",
      "\n",
      "sorted(iterable, /, *, key=None, reverse=False)\n",
      "    Return a new list containing all items from the iterable in ascending order.\n",
      "    \n",
      "    A custom key function can be supplied to customize the sort order, and the\n",
      "    reverse flag can be set to request the result in descending order.\n",
      "\n"
     ]
    }
   ],
   "source": [
    "help(sorted)"
   ]
  },
  {
   "attachments": {},
   "cell_type": "markdown",
   "metadata": {},
   "source": [
    "**Question:** Rewrite the sorting functionality without using a lambda function"
   ]
  },
  {
   "cell_type": "code",
   "execution_count": 147,
   "metadata": {},
   "outputs": [
    {
     "name": "stdout",
     "output_type": "stream",
     "text": [
      "[(4, 'four'), (1, 'one'), (3, 'three'), (2, 'two')]\n"
     ]
    }
   ],
   "source": [
    "# Solution\n",
    "\n",
    "def get_second_element(pair):\n",
    "    return pair[1]\n",
    "\n",
    "pairs = [(1, 'one'), (2, 'two'), (3, 'three'), (4, 'four')]\n",
    "pairs.sort(key=get_second_element)\n",
    "sorted_pairs = sorted(pairs, key=get_second_element)\n",
    "print(pairs)\n"
   ]
  },
  {
   "attachments": {},
   "cell_type": "markdown",
   "metadata": {},
   "source": [
    "### Limitations of Lambda Functions\n",
    "\n",
    "While lambda functions are useful, they are not always the best choice. Here are some limitations and considerations to keep in mind:\n",
    "\n",
    "1. **Single Expression**: Lambda functions are limited to a single expression. This means that they are not suitable for complex operations that require multiple statements, loops, or conditional branching.\n",
    "\n",
    "2. **Readability**: Overuse of lambda functions can lead to code that is hard to read and understand, especially for beginners. It's important to prioritize readability and maintainability over conciseness.\n",
    "\n",
    "3. **Debugging Difficulty**: Lambda functions do not have a name, which can make debugging harder since no useful name is displayed in stack traces.\n",
    "\n",
    "4. **No Documentation**: Lambda functions do not support docstrings, so you cannot document them as thoroughly as named functions.\n",
    "\n",
    "5. **Limited Scope**: Variables from the enclosing scope can be accessed within a lambda function, but the lambda function does not have its own local namespace.\n",
    "\n",
    "6. **No Assignments**: You cannot make variable assignments inside a lambda function.\n",
    "\n",
    "7. **No Annotations**: Lambda functions do not support annotations for their arguments or return type, which can be useful for type checking and readability.\n",
    "\n",
    "8. **Misuse**: Lambda functions can be misused to cram complex operations into a single line, which can lead to less maintainable code."
   ]
  },
  {
   "attachments": {},
   "cell_type": "markdown",
   "metadata": {},
   "source": [
    "### Time to Practice!"
   ]
  },
  {
   "attachments": {},
   "cell_type": "markdown",
   "metadata": {},
   "source": [
    "**Tasks:**\n",
    "\n",
    "1. **A Simple Addition Function**:\n",
    "   Write a lambda function that adds two numbers\n",
    "\n",
    "2. **A Lambda to Square a Number**:\n",
    "   Write a lambda function that squares a number\n",
    "\n",
    "3. **A Lambda to Check for Even Numbers**:\n",
    "   Write a lambda function that checks if a number is even\n",
    "\n",
    "4. **A Lambda to Reverse a String**:\n",
    "   Write a lambda function that reverses a string\n",
    "\n",
    "5. **A Lambda to Concatenate phrases**:\n",
    "   Write a lambda function that concatenate 3 phrases (Py, th, on) to make a complete word (Python)\n",
    "\n",
    "6. **A Lambda with Variable-Length Arguments (*args)**:\n",
    "   Write a lambda that accepts variable number of positional arguments and return the sum\n",
    "\n",
    "7. **A Lambda with Variable-Length Arguments (\\**kwargs)**:\n",
    "   Write a lambda that accepts variable number of keyword arguments and create a sentence"
   ]
  },
  {
   "cell_type": "code",
   "execution_count": 61,
   "metadata": {},
   "outputs": [
    {
     "data": {
      "text/plain": [
       "5"
      ]
     },
     "execution_count": 61,
     "metadata": {},
     "output_type": "execute_result"
    }
   ],
   "source": [
    "# A lambda function that adds two numbers\n",
    "add = lambda x, y: x + y\n",
    "add(2, 3)"
   ]
  },
  {
   "cell_type": "code",
   "execution_count": 148,
   "metadata": {},
   "outputs": [
    {
     "data": {
      "text/plain": [
       "16"
      ]
     },
     "execution_count": 148,
     "metadata": {},
     "output_type": "execute_result"
    }
   ],
   "source": [
    "# A lambda function that squares a number\n",
    "square = lambda x: x**2\n",
    "square(4)"
   ]
  },
  {
   "cell_type": "code",
   "execution_count": 153,
   "metadata": {},
   "outputs": [
    {
     "data": {
      "text/plain": [
       "False"
      ]
     },
     "execution_count": 153,
     "metadata": {},
     "output_type": "execute_result"
    }
   ],
   "source": [
    "# A lambda function that checks if a number is even\n",
    "is_even = lambda x: x % 2 == 0 \n",
    "is_even(5)"
   ]
  },
  {
   "cell_type": "code",
   "execution_count": 151,
   "metadata": {},
   "outputs": [
    {
     "data": {
      "text/plain": [
       "'even'"
      ]
     },
     "execution_count": 151,
     "metadata": {},
     "output_type": "execute_result"
    }
   ],
   "source": [
    "# A lambda function that checks if a number is even using if expression\n",
    "is_even = lambda x: 'even' if x % 2 == 0 else 'odd'\n",
    "is_even(20)"
   ]
  },
  {
   "cell_type": "code",
   "execution_count": 154,
   "metadata": {},
   "outputs": [
    {
     "data": {
      "text/plain": [
       "'olleh'"
      ]
     },
     "execution_count": 154,
     "metadata": {},
     "output_type": "execute_result"
    }
   ],
   "source": [
    "# A lambda function that reverses a string\n",
    "reverse_str = lambda s: s[::-1]\n",
    "reverse_str('hello')"
   ]
  },
  {
   "cell_type": "code",
   "execution_count": 65,
   "metadata": {},
   "outputs": [
    {
     "data": {
      "text/plain": [
       "'Python'"
      ]
     },
     "execution_count": 65,
     "metadata": {},
     "output_type": "execute_result"
    }
   ],
   "source": [
    "# A lambda function with multiple arguments\n",
    "concatenate = lambda a, b, c: a + b + c\n",
    "concatenate('Py', 'th', 'on')"
   ]
  },
  {
   "cell_type": "code",
   "execution_count": 66,
   "metadata": {},
   "outputs": [
    {
     "data": {
      "text/plain": [
       "10"
      ]
     },
     "execution_count": 66,
     "metadata": {},
     "output_type": "execute_result"
    }
   ],
   "source": [
    "# A lambda that accepts variable number of positional arguments\n",
    "sum_all = lambda *args: sum(args)\n",
    "sum_all(1, 2, 3, 4)"
   ]
  },
  {
   "cell_type": "code",
   "execution_count": 155,
   "metadata": {},
   "outputs": [
    {
     "data": {
      "text/plain": [
       "'Python is awesome.'"
      ]
     },
     "execution_count": 155,
     "metadata": {},
     "output_type": "execute_result"
    }
   ],
   "source": [
    "# A lambda that accepts variable number of keyword arguments\n",
    "merge_strings = lambda **kwargs: \" \".join(kwargs.values())\n",
    "merge_strings(a='Python', b='is', c='awesome.')"
   ]
  },
  {
   "attachments": {},
   "cell_type": "markdown",
   "metadata": {},
   "source": [
    "### Using Lambda Functions with filter()"
   ]
  },
  {
   "attachments": {},
   "cell_type": "markdown",
   "metadata": {},
   "source": [
    "The `filter()` function in Python takes a function and an iterable and constructs an iterator from the elements of the iterable for which the function returns true. Lambda functions are commonly used with `filter()` because they can succinctly express the filtering logic in a single line."
   ]
  },
  {
   "attachments": {},
   "cell_type": "markdown",
   "metadata": {},
   "source": [
    "**Example with `filter()`:**"
   ]
  },
  {
   "cell_type": "code",
   "execution_count": 156,
   "metadata": {},
   "outputs": [
    {
     "data": {
      "text/plain": [
       "[2, 4, 6, 8]"
      ]
     },
     "execution_count": 156,
     "metadata": {},
     "output_type": "execute_result"
    }
   ],
   "source": [
    "# Using a lambda function to filter out even numbers from a list\n",
    "numbers = [1, 2, 3, 4, 5, 6, 7, 8, 9]\n",
    "even_numbers = filter(lambda x: x % 2 == 0, numbers)\n",
    "list(even_numbers)"
   ]
  },
  {
   "attachments": {},
   "cell_type": "markdown",
   "metadata": {},
   "source": [
    "Here, the lambda function `lambda x: x % 2 == 0` acts as the filter condition. Only the numbers in the list that satisfy this condition (i.e., are even) are included in the resulting iterator."
   ]
  },
  {
   "attachments": {},
   "cell_type": "markdown",
   "metadata": {},
   "source": [
    "### Using Lambda Functions with map()"
   ]
  },
  {
   "attachments": {},
   "cell_type": "markdown",
   "metadata": {},
   "source": [
    "The `map()` function applies a given function to every item of an iterable and returns a list of the results. Lambda functions are ideal for use with `map()` when the transformation logic is concise.\n",
    "\n",
    "**Example with `map()`:**"
   ]
  },
  {
   "cell_type": "code",
   "execution_count": 70,
   "metadata": {},
   "outputs": [
    {
     "data": {
      "text/plain": [
       "[1, 4, 9, 16, 25]"
      ]
     },
     "execution_count": 70,
     "metadata": {},
     "output_type": "execute_result"
    }
   ],
   "source": [
    "# Using a lambda function to square each number in a list\n",
    "numbers = [1, 2, 3, 4, 5]\n",
    "squared_numbers = map(lambda x: x**2, numbers)\n",
    "list(squared_numbers)"
   ]
  },
  {
   "attachments": {},
   "cell_type": "markdown",
   "metadata": {},
   "source": [
    "In this case, the lambda function `lambda x: x**2` is used to square each number in the list. The `map()` function applies this lambda to each element of the `numbers` list."
   ]
  },
  {
   "attachments": {},
   "cell_type": "markdown",
   "metadata": {},
   "source": [
    "### When to Use and When to Avoid Lambda Functions"
   ]
  },
  {
   "attachments": {},
   "cell_type": "markdown",
   "metadata": {},
   "source": [
    "Lambda functions are a powerful feature of Python, but they need to be used wisely. Here are some guidelines on when to use and when to avoid them:"
   ]
  },
  {
   "attachments": {},
   "cell_type": "markdown",
   "metadata": {},
   "source": [
    "**When to Use Lambda Functions:**\n",
    "\n",
    "1. **Simple Functional Operations**: Use lambda functions for simple operations that can be expressed in a single line.\n",
    "\n",
    "2. **Temporary Functions**: If a function is used only once and is not complex, a lambda function can be justified.\n",
    "\n",
    "3. **Inline Operations**: In cases where you need to pass a function as an argument, lambda functions can make your code more concise and readable.\n",
    "\n",
    "4. **Functional Programming**: When using functional programming methods, such as `map()`, `filter()`, and `reduce()`, lambda functions are appropriate."
   ]
  },
  {
   "attachments": {},
   "cell_type": "markdown",
   "metadata": {},
   "source": [
    "**When to Avoid Lambda Functions:**\n",
    "\n",
    "1. **Complex Functions**: If the logic takes more than one expression, it's better to use a named function.\n",
    "\n",
    "2. **Code Reusability**: If you find yourself copying and pasting the same lambda function in multiple places, it's time to define a named function.\n",
    "\n",
    "3. **Debugging**: If a piece of code is tricky and you expect to need detailed stack traces, avoid lambda functions, as they can make debugging more challenging.\n",
    "\n",
    "4. **Readability Over Conciseness**: If using a lambda function makes your code harder to understand, opt for a regular function with a name that clearly conveys its purpose."
   ]
  }
 ],
 "metadata": {
  "kernelspec": {
   "display_name": "base",
   "language": "python",
   "name": "python3"
  },
  "language_info": {
   "codemirror_mode": {
    "name": "ipython",
    "version": 3
   },
   "file_extension": ".py",
   "mimetype": "text/x-python",
   "name": "python",
   "nbconvert_exporter": "python",
   "pygments_lexer": "ipython3",
   "version": "3.10.9"
  },
  "orig_nbformat": 4
 },
 "nbformat": 4,
 "nbformat_minor": 2
}
