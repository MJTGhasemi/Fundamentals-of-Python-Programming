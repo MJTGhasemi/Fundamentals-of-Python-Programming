{
 "cells": [
  {
   "attachments": {},
   "cell_type": "markdown",
   "metadata": {},
   "source": [
    "## <font color='#FFA500'>**Simple Game using Mutable and Immutable Objects**</font> "
   ]
  },
  {
   "cell_type": "code",
   "execution_count": 1,
   "metadata": {},
   "outputs": [
    {
     "name": "stdout",
     "output_type": "stream",
     "text": [
      "pygame 2.5.2 (SDL 2.28.3, Python 3.10.9)\n",
      "Hello from the pygame community. https://www.pygame.org/contribute.html\n"
     ]
    },
    {
     "name": "stderr",
     "output_type": "stream",
     "text": [
      "2025-02-24 19:15:10.708 python[71835:33354807] +[IMKClient subclass]: chose IMKClient_Modern\n",
      "2025-02-24 19:15:10.708 python[71835:33354807] +[IMKInputSession subclass]: chose IMKInputSession_Modern\n"
     ]
    },
    {
     "ename": "SystemExit",
     "evalue": "",
     "output_type": "error",
     "traceback": [
      "An exception has occurred, use %tb to see the full traceback.\n",
      "\u001b[0;31mSystemExit\u001b[0m\n"
     ]
    },
    {
     "name": "stderr",
     "output_type": "stream",
     "text": [
      "/Users/mj/anaconda3/lib/python3.10/site-packages/IPython/core/interactiveshell.py:3468: UserWarning: To exit: use 'exit', 'quit', or Ctrl-D.\n",
      "  warn(\"To exit: use 'exit', 'quit', or Ctrl-D.\", stacklevel=1)\n"
     ]
    }
   ],
   "source": [
    "import pygame\n",
    "import sys\n",
    "\n",
    "# Initialize pygame\n",
    "pygame.init()\n",
    "\n",
    "# Screen dimensions\n",
    "screen_width, screen_height = 640, 480\n",
    "screen = pygame.display.set_mode((screen_width, screen_height))\n",
    "\n",
    "# Colors\n",
    "black = (0, 0, 0)\n",
    "white = (255, 255, 255)\n",
    "red = (255, 0, 0)\n",
    "\n",
    "# Player attributes\n",
    "player_size = 20\n",
    "player_color = white\n",
    "# Player starts at bottom left, accounting for player size\n",
    "player_pos = [0, screen_height - player_size]\n",
    "player_velocity = 5\n",
    "\n",
    "# Obstacles\n",
    "obstacles = [((100, 100), (50, 50)), ((300, 200), (100, 50)), ((500, 300), (150, 20))]\n",
    "obstacle_color = red\n",
    "\n",
    "def player_collides_with_obstacle(new_pos, obstacles):\n",
    "    player_rect = pygame.Rect(new_pos[0], new_pos[1], player_size, player_size)\n",
    "    for obstacle_pos, obstacle_size in obstacles:\n",
    "        obstacle_rect = pygame.Rect(obstacle_pos[0], obstacle_pos[1], obstacle_size[0], obstacle_size[1])\n",
    "        if player_rect.colliderect(obstacle_rect):\n",
    "            return True\n",
    "    return False\n",
    "\n",
    "# Game loop\n",
    "clock = pygame.time.Clock()\n",
    "while True:\n",
    "    for event in pygame.event.get():\n",
    "        if event.type == pygame.QUIT:\n",
    "            pygame.quit()\n",
    "            sys.exit()\n",
    "        elif event.type == pygame.KEYDOWN:  # Check if a key is pressed\n",
    "            if event.key == pygame.K_ESCAPE:  # Check if the key is the Esc key\n",
    "                pygame.quit()\n",
    "                sys.exit()\n",
    "    \n",
    "    keys = pygame.key.get_pressed()\n",
    "    new_pos = player_pos.copy()\n",
    "    if keys[pygame.K_LEFT]:\n",
    "        new_pos[0] -= player_velocity\n",
    "    if keys[pygame.K_RIGHT]:\n",
    "        new_pos[0] += player_velocity\n",
    "    if keys[pygame.K_UP]:\n",
    "        new_pos[1] -= player_velocity\n",
    "    if keys[pygame.K_DOWN]:\n",
    "        new_pos[1] += player_velocity\n",
    "\n",
    "    # Prevent the player from going out of bounds\n",
    "    new_pos[0] = max(0, min(screen_width - player_size, new_pos[0]))\n",
    "    new_pos[1] = max(0, min(screen_height - player_size, new_pos[1]))\n",
    "\n",
    "    # Collision detection\n",
    "    if not player_collides_with_obstacle(new_pos, obstacles):\n",
    "        player_pos = new_pos\n",
    "\n",
    "    # Draw everything\n",
    "    screen.fill(black)\n",
    "    pygame.draw.rect(screen, player_color, (player_pos[0], player_pos[1], player_size, player_size))\n",
    "    for obstacle_pos, obstacle_size in obstacles:\n",
    "        pygame.draw.rect(screen, obstacle_color, obstacle_pos + obstacle_size)\n",
    "    \n",
    "    pygame.display.flip()\n",
    "    clock.tick(30)  # Limit the game to 30 frames per second\n"
   ]
  },
  {
   "attachments": {},
   "cell_type": "markdown",
   "metadata": {},
   "source": [
    "### Lists in the Game:\n",
    "`player_pos`: This is a list [0, screen_height - player_size], representing the mutable x and y coordinates of the player's position. The list is mutable because you need to update the player's position as they move around the screen."
   ]
  },
  {
   "attachments": {},
   "cell_type": "markdown",
   "metadata": {},
   "source": [
    "### Tuples in the Game:\n",
    "`Obstacle Definitions`: Each obstacle is defined as a tuple of tuples (nested tuples), e.g., ((100, 100), (50, 50)), where the first tuple represents the obstacle's position (x, y) and the second tuple represents its size (width, height). Tuples are used here because the position and size of the obstacles do not change once they are defined. The immutability of tuples makes them a suitable choice for representing such fixed data.\n",
    "\n",
    "`Colors`: Colors are defined as tuples, e.g., black = (0, 0, 0), representing RGB color values. These values are constant and do not change throughout the game, so tuples are used to ensure these data remain unchanged."
   ]
  }
 ],
 "metadata": {
  "kernelspec": {
   "display_name": "base",
   "language": "python",
   "name": "python3"
  },
  "language_info": {
   "codemirror_mode": {
    "name": "ipython",
    "version": 3
   },
   "file_extension": ".py",
   "mimetype": "text/x-python",
   "name": "python",
   "nbconvert_exporter": "python",
   "pygments_lexer": "ipython3",
   "version": "3.10.9"
  },
  "orig_nbformat": 4
 },
 "nbformat": 4,
 "nbformat_minor": 2
}
