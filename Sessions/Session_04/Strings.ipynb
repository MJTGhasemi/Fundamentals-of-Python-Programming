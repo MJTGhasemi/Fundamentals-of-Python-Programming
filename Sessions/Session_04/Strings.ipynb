{
 "cells": [
  {
   "attachments": {},
   "cell_type": "markdown",
   "metadata": {},
   "source": [
    "# <font color='#98FB98'>**Strings**</font>"
   ]
  },
  {
   "attachments": {},
   "cell_type": "markdown",
   "metadata": {},
   "source": [
    "Strings are one of the most commonly used data types in programming. Programming often relies on strings for displaying messages, reading input, or processing text files."
   ]
  },
  {
   "attachments": {},
   "cell_type": "markdown",
   "metadata": {},
   "source": [
    "At its core, a string is a sequence of characters. In Python, characters can be `alphabets`, `numbers`, `punctuation`, or even `spaces`. Essentially, any key you can type on a keyboard can be part of a string."
   ]
  },
  {
   "cell_type": "code",
   "execution_count": 1,
   "metadata": {},
   "outputs": [
    {
     "data": {
      "text/plain": [
       "'Hello Class of Python!'"
      ]
     },
     "execution_count": 1,
     "metadata": {},
     "output_type": "execute_result"
    }
   ],
   "source": [
    "my_message = 'Hello Class of Python!'\n",
    "my_message"
   ]
  },
  {
   "cell_type": "code",
   "execution_count": 2,
   "metadata": {},
   "outputs": [
    {
     "ename": "SyntaxError",
     "evalue": "unterminated string literal (detected at line 1) (4014557083.py, line 1)",
     "output_type": "error",
     "traceback": [
      "\u001b[0;36m  Cell \u001b[0;32mIn[2], line 1\u001b[0;36m\u001b[0m\n\u001b[0;31m    'It's a nice weekend.'\u001b[0m\n\u001b[0m                         ^\u001b[0m\n\u001b[0;31mSyntaxError\u001b[0m\u001b[0;31m:\u001b[0m unterminated string literal (detected at line 1)\n"
     ]
    }
   ],
   "source": [
    "'It's a nice weekend.'"
   ]
  },
  {
   "cell_type": "code",
   "execution_count": 3,
   "metadata": {},
   "outputs": [
    {
     "data": {
      "text/plain": [
       "\"It's a nice weekend.\""
      ]
     },
     "execution_count": 3,
     "metadata": {},
     "output_type": "execute_result"
    }
   ],
   "source": [
    "\"It's a nice weekend.\""
   ]
  },
  {
   "cell_type": "code",
   "execution_count": 4,
   "metadata": {},
   "outputs": [
    {
     "name": "stdout",
     "output_type": "stream",
     "text": [
      "\n",
      "Hello,\n",
      "This is the last warning,\n",
      "You have to pay your rent.\n",
      "\n"
     ]
    }
   ],
   "source": [
    "message = '''\n",
    "Hello,\n",
    "This is the last warning,\n",
    "You have to pay your rent.\n",
    "'''\n",
    "print(message)\n"
   ]
  },
  {
   "attachments": {},
   "cell_type": "markdown",
   "metadata": {},
   "source": [
    "## <font color='#FFA500'>**Basic String Operations**</font> "
   ]
  },
  {
   "attachments": {},
   "cell_type": "markdown",
   "metadata": {},
   "source": [
    "### Concatenating Strings\n",
    "\n",
    "> Concatenation refers to joining two or more strings into one. In Python, you can concatenate strings using the `+` operator."
   ]
  },
  {
   "cell_type": "code",
   "execution_count": 7,
   "metadata": {},
   "outputs": [
    {
     "data": {
      "text/plain": [
       "'Jack Richer'"
      ]
     },
     "execution_count": 7,
     "metadata": {},
     "output_type": "execute_result"
    }
   ],
   "source": [
    "first_name = 'Jack'\n",
    "last_name = 'Richer'\n",
    "full_name = first_name + ' ' + last_name\n",
    "full_name"
   ]
  },
  {
   "attachments": {},
   "cell_type": "markdown",
   "metadata": {},
   "source": [
    "### Replicating Strings using Repitition\n",
    "\n",
    "> Python allows you to repeat a string multiple times using the `*` operator."
   ]
  },
  {
   "cell_type": "code",
   "execution_count": 8,
   "metadata": {},
   "outputs": [
    {
     "data": {
      "text/plain": [
       "'hahahahaha'"
      ]
     },
     "execution_count": 8,
     "metadata": {},
     "output_type": "execute_result"
    }
   ],
   "source": [
    "str_test = 'ha'\n",
    "laugh = str_test * 5\n",
    "laugh\n"
   ]
  },
  {
   "attachments": {},
   "cell_type": "markdown",
   "metadata": {},
   "source": [
    "### Checking for Substrings with `in`\n",
    "\n",
    "The in operator allows you to check if a certain substring exists within a larger string."
   ]
  },
  {
   "cell_type": "code",
   "execution_count": 12,
   "metadata": {},
   "outputs": [
    {
     "data": {
      "text/plain": [
       "True"
      ]
     },
     "execution_count": 12,
     "metadata": {},
     "output_type": "execute_result"
    }
   ],
   "source": [
    "hero = 'Frodo'\n",
    "hero in 'Frodo saved all of Middle Earth.'"
   ]
  },
  {
   "cell_type": "code",
   "execution_count": 14,
   "metadata": {},
   "outputs": [
    {
     "data": {
      "text/plain": [
       "False"
      ]
     },
     "execution_count": 14,
     "metadata": {},
     "output_type": "execute_result"
    }
   ],
   "source": [
    "hero not in 'Gandalf the Grey sent three eagles to find Frodo and Sam after the destruction of Mount Doom.'"
   ]
  },
  {
   "attachments": {},
   "cell_type": "markdown",
   "metadata": {},
   "source": [
    "### Finding the Length of String with `len()`\n",
    "\n",
    "> The `len()` function returns the number of characters in a string."
   ]
  },
  {
   "cell_type": "code",
   "execution_count": 9,
   "metadata": {},
   "outputs": [],
   "source": [
    "message = 'Hello World!'"
   ]
  },
  {
   "cell_type": "code",
   "execution_count": 10,
   "metadata": {},
   "outputs": [
    {
     "data": {
      "text/plain": [
       "12"
      ]
     },
     "execution_count": 10,
     "metadata": {},
     "output_type": "execute_result"
    }
   ],
   "source": [
    "len(message)"
   ]
  },
  {
   "attachments": {},
   "cell_type": "markdown",
   "metadata": {},
   "source": [
    "### Accessing Characters using Indexing\n",
    "\n",
    "> Strings in Python are ordered sequences of character data. This means each character in a string has a specific position or index. \n",
    "\n",
    "> Python follows zero-based indexing, so the first character is at index 0, the second at index 1, and so on."
   ]
  },
  {
   "attachments": {},
   "cell_type": "markdown",
   "metadata": {},
   "source": [
    "<div style=\"text-align: center\">\n",
    "    <img src=\"https://miro.medium.com/v2/resize:fit:1400/1*6xXLjk-Jq23LRNBTDGK3Uw.png\" alt=\"strings\" title=\"strings\"/>\n",
    "</div>"
   ]
  },
  {
   "cell_type": "code",
   "execution_count": 11,
   "metadata": {},
   "outputs": [],
   "source": [
    "sentence = 'Python'"
   ]
  },
  {
   "cell_type": "code",
   "execution_count": 20,
   "metadata": {},
   "outputs": [
    {
     "data": {
      "text/plain": [
       "'P'"
      ]
     },
     "execution_count": 20,
     "metadata": {},
     "output_type": "execute_result"
    }
   ],
   "source": [
    "sentence[0]"
   ]
  },
  {
   "cell_type": "code",
   "execution_count": 21,
   "metadata": {},
   "outputs": [
    {
     "data": {
      "text/plain": [
       "'t'"
      ]
     },
     "execution_count": 21,
     "metadata": {},
     "output_type": "execute_result"
    }
   ],
   "source": [
    "sentence[2]"
   ]
  },
  {
   "cell_type": "code",
   "execution_count": 22,
   "metadata": {},
   "outputs": [
    {
     "data": {
      "text/plain": [
       "'h'"
      ]
     },
     "execution_count": 22,
     "metadata": {},
     "output_type": "execute_result"
    }
   ],
   "source": [
    "sentence[-3]"
   ]
  },
  {
   "cell_type": "code",
   "execution_count": 23,
   "metadata": {},
   "outputs": [
    {
     "data": {
      "text/plain": [
       "'n'"
      ]
     },
     "execution_count": 23,
     "metadata": {},
     "output_type": "execute_result"
    }
   ],
   "source": [
    "sentence[len(sentence) - 1]"
   ]
  },
  {
   "cell_type": "code",
   "execution_count": 24,
   "metadata": {},
   "outputs": [
    {
     "data": {
      "text/plain": [
       "'P'"
      ]
     },
     "execution_count": 24,
     "metadata": {},
     "output_type": "execute_result"
    }
   ],
   "source": [
    "sentence[-len(sentence)]"
   ]
  },
  {
   "attachments": {},
   "cell_type": "markdown",
   "metadata": {},
   "source": [
    "### String Slicing\n",
    "\n",
    "> Slicing allows you to extract a portion or substring from the original string. It's done by specifying two indices separated by a colon `:`"
   ]
  },
  {
   "cell_type": "code",
   "execution_count": 25,
   "metadata": {},
   "outputs": [],
   "source": [
    "sentence = 'Python'"
   ]
  },
  {
   "cell_type": "code",
   "execution_count": 26,
   "metadata": {},
   "outputs": [
    {
     "data": {
      "text/plain": [
       "'tho'"
      ]
     },
     "execution_count": 26,
     "metadata": {},
     "output_type": "execute_result"
    }
   ],
   "source": [
    "sentence[2:5]"
   ]
  },
  {
   "cell_type": "code",
   "execution_count": 12,
   "metadata": {},
   "outputs": [
    {
     "data": {
      "text/plain": [
       "'yth'"
      ]
     },
     "execution_count": 12,
     "metadata": {},
     "output_type": "execute_result"
    }
   ],
   "source": [
    "sentence[-5:-2]"
   ]
  },
  {
   "cell_type": "code",
   "execution_count": 13,
   "metadata": {},
   "outputs": [
    {
     "data": {
      "text/plain": [
       "''"
      ]
     },
     "execution_count": 13,
     "metadata": {},
     "output_type": "execute_result"
    }
   ],
   "source": [
    "sentence[-2:-5]"
   ]
  },
  {
   "attachments": {},
   "cell_type": "markdown",
   "metadata": {},
   "source": [
    "### Why sentence[-5:-2] Works?\n",
    "\n",
    "Indices Interpretation:\n",
    "-5 translates to len(sentence) - 5.  \n",
    "-2 translates to len(sentence) - 2.  \n",
    "\n",
    "Slice Operation:  \n",
    "With a default positive step (1), Python slices from left to right.  \n",
    "The slice includes characters from index -5 up to, but not including, index -2.  \n",
    "\n",
    "Result:  \n",
    "You get the substring that spans these indices in the forward direction.  "
   ]
  },
  {
   "attachments": {},
   "cell_type": "markdown",
   "metadata": {},
   "source": [
    "### Why sentence[-2:-5] Returns Empty?\n",
    "\n",
    "Indices Interpretation:  \n",
    "-2 translates to len(sentence) - 2 (a higher index).  \n",
    "-5 translates to len(sentence) - 5 (a lower index).  \n",
    "\n",
    "Slice Operation:  \n",
    "With a default positive step (1), Python expects the start index to be less than the stop index when moving left to right.  \n",
    "Since -2 (start) is greater than -5 (stop), and the step is positive, Python doesn't loop backward.  \n",
    "\n",
    "Result:  \n",
    "The slice is empty because it tries to move forward from a higher index to a lower index with a positive step, which is not possible."
   ]
  },
  {
   "cell_type": "code",
   "execution_count": 1,
   "metadata": {},
   "outputs": [
    {
     "name": "stdout",
     "output_type": "stream",
     "text": [
      "orl\n",
      "\n",
      "dlr\n"
     ]
    }
   ],
   "source": [
    "sentence = \"Hello, World!\"\n",
    "\n",
    "# Valid slice (left to right)\n",
    "print(sentence[-5:-2])  # Outputs: 'orl'\n",
    "\n",
    "# Invalid slice with positive step (no output)\n",
    "print(sentence[-2:-5])  # Outputs: ''\n",
    "\n",
    "# Valid slice with negative step (right to left)\n",
    "print(sentence[-2:-5:-1])  # Outputs: 'dlr'\n"
   ]
  },
  {
   "cell_type": "code",
   "execution_count": 18,
   "metadata": {},
   "outputs": [
    {
     "data": {
      "text/plain": [
       "'lo o'"
      ]
     },
     "execution_count": 18,
     "metadata": {},
     "output_type": "execute_result"
    }
   ],
   "source": [
    "sentence = \"Hello, World!\"\n",
    "sentence[2:9:2]"
   ]
  },
  {
   "cell_type": "code",
   "execution_count": 17,
   "metadata": {},
   "outputs": [
    {
     "data": {
      "text/plain": [
       "'rW,l'"
      ]
     },
     "execution_count": 17,
     "metadata": {},
     "output_type": "execute_result"
    }
   ],
   "source": [
    "sentence = \"Hello, World!\"\n",
    "sentence[9:2:-2]"
   ]
  },
  {
   "attachments": {},
   "cell_type": "markdown",
   "metadata": {},
   "source": [
    "## <font color='#FFA500'>**String Methods**</font> "
   ]
  },
  {
   "attachments": {},
   "cell_type": "markdown",
   "metadata": {},
   "source": [
    "The operations or functions that are associated with an object and have the ability to access or modify the data inside the object are called `methods`.\n",
    "\n",
    "In Python, you can use these methods by appending them to the object with a dot (`.`) followed by the method's name."
   ]
  },
  {
   "attachments": {},
   "cell_type": "markdown",
   "metadata": {},
   "source": [
    "Given that strings are objects in Python, they come with a set of built-in methods that allow us to perform various operations on them."
   ]
  },
  {
   "attachments": {},
   "cell_type": "markdown",
   "metadata": {},
   "source": [
    "### Changing Case"
   ]
  },
  {
   "attachments": {},
   "cell_type": "markdown",
   "metadata": {},
   "source": [
    "- `upper()`: Converts all characters in the string to uppercase.\n",
    "\n",
    "- `lower()`: Converts all characters in the string to lowercase.\n",
    "\n",
    "- `capitalize()`: Capitalizes the first character of the string.\n",
    "\n",
    "- `title()`: Capitalizes the first character of each word in the string.\n",
    "\n",
    "- `isalpha()`: Checks if all characters in the string are alphabetic.\n",
    "\n",
    "- `isdigit()`: Checks if all characters in the string are digits."
   ]
  },
  {
   "cell_type": "code",
   "execution_count": 23,
   "metadata": {},
   "outputs": [],
   "source": [
    "text = 'Saul Goodman'"
   ]
  },
  {
   "cell_type": "code",
   "execution_count": 24,
   "metadata": {},
   "outputs": [
    {
     "data": {
      "text/plain": [
       "'SAUL GOODMAN'"
      ]
     },
     "execution_count": 24,
     "metadata": {},
     "output_type": "execute_result"
    }
   ],
   "source": [
    "# You can use strings' method directly without variables\n",
    "'Saul Goodman'.upper()"
   ]
  },
  {
   "cell_type": "code",
   "execution_count": 20,
   "metadata": {},
   "outputs": [
    {
     "data": {
      "text/plain": [
       "'SAUL GOODMAN'"
      ]
     },
     "execution_count": 20,
     "metadata": {},
     "output_type": "execute_result"
    }
   ],
   "source": [
    "text.upper()"
   ]
  },
  {
   "cell_type": "code",
   "execution_count": 25,
   "metadata": {},
   "outputs": [
    {
     "data": {
      "text/plain": [
       "'saul goodman'"
      ]
     },
     "execution_count": 25,
     "metadata": {},
     "output_type": "execute_result"
    }
   ],
   "source": [
    "text.lower()"
   ]
  },
  {
   "cell_type": "code",
   "execution_count": 26,
   "metadata": {},
   "outputs": [
    {
     "data": {
      "text/plain": [
       "'Saul goodman'"
      ]
     },
     "execution_count": 26,
     "metadata": {},
     "output_type": "execute_result"
    }
   ],
   "source": [
    "text.capitalize()"
   ]
  },
  {
   "cell_type": "code",
   "execution_count": 27,
   "metadata": {},
   "outputs": [
    {
     "data": {
      "text/plain": [
       "'Saul Goodman'"
      ]
     },
     "execution_count": 27,
     "metadata": {},
     "output_type": "execute_result"
    }
   ],
   "source": [
    "text.title()"
   ]
  },
  {
   "cell_type": "code",
   "execution_count": 28,
   "metadata": {},
   "outputs": [
    {
     "data": {
      "text/plain": [
       "False"
      ]
     },
     "execution_count": 28,
     "metadata": {},
     "output_type": "execute_result"
    }
   ],
   "source": [
    "text.isalpha()"
   ]
  },
  {
   "cell_type": "code",
   "execution_count": 29,
   "metadata": {},
   "outputs": [
    {
     "data": {
      "text/plain": [
       "False"
      ]
     },
     "execution_count": 29,
     "metadata": {},
     "output_type": "execute_result"
    }
   ],
   "source": [
    "text_01 = \"12345a\"\n",
    "text_01.isdigit()"
   ]
  },
  {
   "cell_type": "code",
   "execution_count": 30,
   "metadata": {},
   "outputs": [
    {
     "data": {
      "text/plain": [
       "True"
      ]
     },
     "execution_count": 30,
     "metadata": {},
     "output_type": "execute_result"
    }
   ],
   "source": [
    "text_02= \"12345\"\n",
    "text_02.isdigit()"
   ]
  },
  {
   "attachments": {},
   "cell_type": "markdown",
   "metadata": {},
   "source": [
    "### Searching and Replacing"
   ]
  },
  {
   "attachments": {},
   "cell_type": "markdown",
   "metadata": {},
   "source": [
    "- `find(substring)`: Returns the index of the first occurrence of the substring. If not found, returns `-1`.\n",
    "\n",
    "- `replace(old, new)`: Replaces all occurrences of the old substring with the new substring.\n",
    "\n",
    "- `strip()`: Removes any leading and trailing whitespaces.\n",
    "\n",
    "- `split(separator)`: Splits the string at each occurrence of the separator and returns a list."
   ]
  },
  {
   "cell_type": "code",
   "execution_count": 31,
   "metadata": {},
   "outputs": [
    {
     "data": {
      "text/plain": [
       "6"
      ]
     },
     "execution_count": 31,
     "metadata": {},
     "output_type": "execute_result"
    }
   ],
   "source": [
    "text = 'hello world'\n",
    "text.find('world')"
   ]
  },
  {
   "cell_type": "code",
   "execution_count": 11,
   "metadata": {},
   "outputs": [
    {
     "data": {
      "text/plain": [
       "-1"
      ]
     },
     "execution_count": 11,
     "metadata": {},
     "output_type": "execute_result"
    }
   ],
   "source": [
    "text.find('Python')"
   ]
  },
  {
   "cell_type": "code",
   "execution_count": 32,
   "metadata": {},
   "outputs": [
    {
     "data": {
      "text/plain": [
       "'hello Python'"
      ]
     },
     "execution_count": 32,
     "metadata": {},
     "output_type": "execute_result"
    }
   ],
   "source": [
    "text = 'hello world'\n",
    "text.replace('world', 'Python')"
   ]
  },
  {
   "cell_type": "code",
   "execution_count": 33,
   "metadata": {},
   "outputs": [
    {
     "data": {
      "text/plain": [
       "'hello world'"
      ]
     },
     "execution_count": 33,
     "metadata": {},
     "output_type": "execute_result"
    }
   ],
   "source": [
    "# if the word is not in the text, it will not change anything\n",
    "text.replace(\"x\", \"X\")"
   ]
  },
  {
   "cell_type": "code",
   "execution_count": 34,
   "metadata": {},
   "outputs": [
    {
     "data": {
      "text/plain": [
       "'Hello World'"
      ]
     },
     "execution_count": 34,
     "metadata": {},
     "output_type": "execute_result"
    }
   ],
   "source": [
    "text = '   Hello World   '\n",
    "text.strip()"
   ]
  },
  {
   "cell_type": "code",
   "execution_count": 17,
   "metadata": {},
   "outputs": [
    {
     "data": {
      "text/plain": [
       "['hello', 'world']"
      ]
     },
     "execution_count": 17,
     "metadata": {},
     "output_type": "execute_result"
    }
   ],
   "source": [
    "text = 'hello,world'\n",
    "text.split(',')"
   ]
  },
  {
   "attachments": {},
   "cell_type": "markdown",
   "metadata": {},
   "source": [
    "## <font color='#FFA500'>**Immutability of Strings**</font> "
   ]
  },
  {
   "attachments": {},
   "cell_type": "markdown",
   "metadata": {},
   "source": [
    "So far, we learnt about the various string methods in Python, such as `.upper` and `.lower`, that allow us to change the case of the string. \n",
    "\n",
    "However, it's important to understand a crucial aspect of strings in Python - they are `immutable`. Now, you might wonder, what does it mean when we say strings are immutable?"
   ]
  },
  {
   "attachments": {},
   "cell_type": "markdown",
   "metadata": {},
   "source": [
    "\n",
    "`Immutability`, in simple terms, means that an object can't be modified after it was created. So when we apply the term 'immutable' to strings, it essentially means that once a string is established in your code, it cannot be changed."
   ]
  },
  {
   "cell_type": "code",
   "execution_count": 35,
   "metadata": {},
   "outputs": [],
   "source": [
    "s = 'Hello, world!'"
   ]
  },
  {
   "cell_type": "code",
   "execution_count": 19,
   "metadata": {},
   "outputs": [
    {
     "data": {
      "text/plain": [
       "'H'"
      ]
     },
     "execution_count": 19,
     "metadata": {},
     "output_type": "execute_result"
    }
   ],
   "source": [
    "s[0]"
   ]
  },
  {
   "attachments": {},
   "cell_type": "markdown",
   "metadata": {},
   "source": [
    "Let's say we want to change the first character of that string to 'h.' The first instinct might be to try something like this:"
   ]
  },
  {
   "cell_type": "code",
   "execution_count": 36,
   "metadata": {},
   "outputs": [
    {
     "ename": "TypeError",
     "evalue": "'str' object does not support item assignment",
     "output_type": "error",
     "traceback": [
      "\u001b[0;31m---------------------------------------------------------------------------\u001b[0m",
      "\u001b[0;31mTypeError\u001b[0m                                 Traceback (most recent call last)",
      "Cell \u001b[0;32mIn[36], line 1\u001b[0m\n\u001b[0;32m----> 1\u001b[0m s[\u001b[39m0\u001b[39m] \u001b[39m=\u001b[39m \u001b[39m'\u001b[39m\u001b[39mh\u001b[39m\u001b[39m'\u001b[39m\n",
      "\u001b[0;31mTypeError\u001b[0m: 'str' object does not support item assignment"
     ]
    }
   ],
   "source": [
    "s[0] = 'h'"
   ]
  },
  {
   "attachments": {},
   "cell_type": "markdown",
   "metadata": {},
   "source": [
    "We got Python returns a `TypeError`: 'str' object does not support item assignment. This proves the fact that strings in python are indeed immutable."
   ]
  },
  {
   "attachments": {},
   "cell_type": "markdown",
   "metadata": {},
   "source": [
    "### <font color='#FF69B4'>**So what should we do?**</font>"
   ]
  },
  {
   "attachments": {},
   "cell_type": "markdown",
   "metadata": {},
   "source": [
    "Since we cannot modify strings in place, any operation that we perform on a string to `change` it would actually result in a <font color='#FF69B4'>**new string**</font>."
   ]
  },
  {
   "cell_type": "code",
   "execution_count": 23,
   "metadata": {},
   "outputs": [
    {
     "data": {
      "text/plain": [
       "'hello, world!'"
      ]
     },
     "execution_count": 23,
     "metadata": {},
     "output_type": "execute_result"
    }
   ],
   "source": [
    "s = \"h\" + s[1:]\n",
    "s"
   ]
  },
  {
   "attachments": {},
   "cell_type": "markdown",
   "metadata": {},
   "source": [
    "In this code, we're not changing the original string, but creating a completely new string.\n",
    "\n",
    "String methods such as `.upper`, `.lower`, or `.replace`, all return new strings. They don't change the original string but return a modified copy of it."
   ]
  },
  {
   "cell_type": "code",
   "execution_count": 47,
   "metadata": {},
   "outputs": [
    {
     "data": {
      "text/plain": [
       "'HELLO, WORLD!'"
      ]
     },
     "execution_count": 47,
     "metadata": {},
     "output_type": "execute_result"
    }
   ],
   "source": [
    "s_upper = s.upper()\n",
    "s_upper"
   ]
  },
  {
   "attachments": {},
   "cell_type": "markdown",
   "metadata": {},
   "source": [
    "Here, `s.upper()` returns a new string where all characters are uppercased. The original string `s` remains unchanged. \n",
    "\n",
    "It's crucial to remember the immutability of strings when writing your code. Understanding that string methods do not mutate the original string but return new ones is key to preventing bugs and errors. "
   ]
  },
  {
   "cell_type": "code",
   "execution_count": 24,
   "metadata": {},
   "outputs": [
    {
     "name": "stdout",
     "output_type": "stream",
     "text": [
      "Original string: hello\n",
      "Original ID: 140216461862576\n",
      "Modified string: hello world\n",
      "Modified ID: 140215654524848\n"
     ]
    }
   ],
   "source": [
    "# Original string\n",
    "s = 'hello'\n",
    "print(f'Original string: {s}')\n",
    "print(f'Original ID: {id(s)}')\n",
    "\n",
    "# Modify the string (attempt to change it)\n",
    "s = s + ' world'\n",
    "print(f'Modified string: {s}')\n",
    "print(f'Modified ID: {id(s)}')"
   ]
  },
  {
   "attachments": {},
   "cell_type": "markdown",
   "metadata": {},
   "source": [
    "### Example of a mutable object (List)"
   ]
  },
  {
   "cell_type": "code",
   "execution_count": 25,
   "metadata": {},
   "outputs": [
    {
     "name": "stdout",
     "output_type": "stream",
     "text": [
      "Original list: [1, 2, 3]\n",
      "Original ID: 140215654731776\n",
      "Modified list: [1, 2, 3, 4]\n",
      "Modified ID: 140215654731776\n"
     ]
    }
   ],
   "source": [
    "# Original list\n",
    "lst = [1, 2, 3]\n",
    "print(f'Original list: {lst}')\n",
    "print(f'Original ID: {id(lst)}')\n",
    "\n",
    "# Modify the list (in-place change)\n",
    "lst.append(4)\n",
    "print(f'Modified list: {lst}')\n",
    "print(f'Modified ID: {id(lst)}')"
   ]
  },
  {
   "attachments": {},
   "cell_type": "markdown",
   "metadata": {},
   "source": [
    "## <font color='#FFA500'>**Time to practice!**</font> "
   ]
  },
  {
   "attachments": {},
   "cell_type": "markdown",
   "metadata": {},
   "source": [
    "- Question_1: Create a string variable named `greeting` with the value \"Hello, Python learners!\" and print it.\n",
    "\n",
    "- Question_2: Use the len() function to find the length of the string `greeting` you created above.\n",
    "\n",
    "- Question_3: Access and print the first and last character of `greeting`.\n",
    "\n",
    "- Question_4: Slice the `greeting` string to include only the word \"Hello\".\n",
    "\n",
    "- Question_5: Use a string method to convert `greeting` to uppercase and another method to split it into individual words.\n",
    "\n",
    "- Question_6: Concatenate the following strings: \"Python\", \"is\", \"awesome!\" to form a complete sentence and print it.\n",
    "\n",
    "- Question_7: Use f-string to embed the variables language = \"Python\" and version = 3.8 into the sentence \"I am learning Python 3.8\".\n",
    "\n",
    "- Question_8: Print the string: She said, \"Python is my favorite programming language!\" using escaping for the double quotes.\n",
    "\n",
    "- Question_9: Check if the word \"Python\" is in the sentence \"This is a Python class.\" and print True or False.\n",
    "\n",
    "- Question_10: Replace the word \"Python\" with \"programming\" in the sentence \"I love Python.\" and print the result."
   ]
  },
  {
   "cell_type": "code",
   "execution_count": 37,
   "metadata": {},
   "outputs": [
    {
     "name": "stdout",
     "output_type": "stream",
     "text": [
      "Hello, Python Learners!\n"
     ]
    }
   ],
   "source": [
    "# Question_1\n",
    "\n",
    "greeting = \"Hello, Python Learners!\"\n",
    "print(greeting)\n"
   ]
  },
  {
   "cell_type": "code",
   "execution_count": 38,
   "metadata": {},
   "outputs": [
    {
     "name": "stdout",
     "output_type": "stream",
     "text": [
      "23\n"
     ]
    }
   ],
   "source": [
    "# Question_2\n",
    "\n",
    "length = len(greeting)\n",
    "print(length)\n"
   ]
  },
  {
   "cell_type": "code",
   "execution_count": 39,
   "metadata": {},
   "outputs": [
    {
     "name": "stdout",
     "output_type": "stream",
     "text": [
      "First character: H \n",
      "Last character: !\n"
     ]
    }
   ],
   "source": [
    "# Question_3\n",
    "\n",
    "first_char = greeting[0]\n",
    "last_char = greeting[-1]\n",
    "print(\"First character:\", first_char, \"\\nLast character:\", last_char)\n"
   ]
  },
  {
   "cell_type": "code",
   "execution_count": 40,
   "metadata": {},
   "outputs": [
    {
     "name": "stdout",
     "output_type": "stream",
     "text": [
      "Hello\n"
     ]
    }
   ],
   "source": [
    "# Question_4\n",
    "\n",
    "hello_slice = greeting[:5]\n",
    "print(hello_slice)\n"
   ]
  },
  {
   "cell_type": "code",
   "execution_count": 34,
   "metadata": {},
   "outputs": [
    {
     "name": "stdout",
     "output_type": "stream",
     "text": [
      "Uppercase: HELLO, PYTHON LEARNERS! \n",
      "Split into words: ['Hello,', 'Python', 'Learners!']\n"
     ]
    }
   ],
   "source": [
    "# Question_5\n",
    "\n",
    "greeting_upper = greeting.upper()\n",
    "greeting_split = greeting.split()\n",
    "print(\"Uppercase:\", greeting_upper, \"\\nSplit into words:\", greeting_split)\n"
   ]
  },
  {
   "cell_type": "code",
   "execution_count": 53,
   "metadata": {},
   "outputs": [
    {
     "name": "stdout",
     "output_type": "stream",
     "text": [
      "Python is awesome!\n"
     ]
    }
   ],
   "source": [
    "# Question_6\n",
    "\n",
    "complete_sentence = \"Python\" + \" is \" + \"awesome!\"    \n",
    "print(complete_sentence)\n"
   ]
  },
  {
   "cell_type": "code",
   "execution_count": 50,
   "metadata": {},
   "outputs": [
    {
     "name": "stdout",
     "output_type": "stream",
     "text": [
      "I am learning Python 3.11.6.\n"
     ]
    }
   ],
   "source": [
    "# Question_7\n",
    "\n",
    "language = \"Python\"\n",
    "version = \"3.11.6\"\n",
    "learning_sentence = f\"I am learning {language} {version}.\"\n",
    "print(learning_sentence)\n"
   ]
  },
  {
   "cell_type": "code",
   "execution_count": 41,
   "metadata": {},
   "outputs": [
    {
     "name": "stdout",
     "output_type": "stream",
     "text": [
      "She said, \"Python is my favorite programming language!\"\n"
     ]
    }
   ],
   "source": [
    "# Question_8\n",
    "\n",
    "print(\"She said, \\\"Python is my favorite programming language!\\\"\")\n",
    "print(\"She said, 'Python is my favorite programming language!'\")\n"
   ]
  },
  {
   "cell_type": "code",
   "execution_count": 45,
   "metadata": {},
   "outputs": [
    {
     "name": "stdout",
     "output_type": "stream",
     "text": [
      "True\n"
     ]
    }
   ],
   "source": [
    "# Question_9\n",
    "\n",
    "sentence = \"This is a Python class.\"\n",
    "contains_python = \"Python\" in sentence\n",
    "print(contains_python)\n"
   ]
  },
  {
   "cell_type": "code",
   "execution_count": 46,
   "metadata": {},
   "outputs": [
    {
     "name": "stdout",
     "output_type": "stream",
     "text": [
      "I love programming.\n"
     ]
    }
   ],
   "source": [
    "# Question_10\n",
    "\n",
    "love_sentence = \"I love Python.\"\n",
    "replaced_sentence = love_sentence.replace(\"Python\", \"programming\")\n",
    "print(replaced_sentence)\n"
   ]
  },
  {
   "attachments": {},
   "cell_type": "markdown",
   "metadata": {},
   "source": [
    "# Understanding f-Strings in Python\n",
    "In Python, `f-strings` (formatted string literals) provide a concise and readable way to embed expressions inside string literals. \n",
    "\n",
    "Introduced in Python 3.6, f-strings use curly braces `{}` to evaluate variables and expressions directly within the string."
   ]
  },
  {
   "attachments": {},
   "cell_type": "markdown",
   "metadata": {},
   "source": [
    "The syntax of an f-string is as follows:\n",
    "```\n",
    "f\"Your string with embedded expressions: {expression}\""
   ]
  },
  {
   "attachments": {},
   "cell_type": "markdown",
   "metadata": {},
   "source": [
    "Where expression can be a variable, function, or even more complex operations."
   ]
  },
  {
   "attachments": {},
   "cell_type": "markdown",
   "metadata": {},
   "source": [
    "#### Benefits of f-Strings\n",
    "\n",
    "1. **Concise Syntax:** You can embed variables and expressions directly in the string without needing concatenation or % formatting.\n",
    "\n",
    "2. **Readability:** f-strings are easier to read and write compared to older string formatting methods."
   ]
  },
  {
   "attachments": {},
   "cell_type": "markdown",
   "metadata": {},
   "source": [
    "**Basic f-String Examples:**"
   ]
  },
  {
   "cell_type": "code",
   "execution_count": 42,
   "metadata": {},
   "outputs": [
    {
     "name": "stdout",
     "output_type": "stream",
     "text": [
      "My name is Jasmin and I am 30 years old.\n"
     ]
    }
   ],
   "source": [
    "name = \"Jasmin\"\n",
    "age = 31\n",
    "\n",
    "print(f\"My name is {name} and I am {age} years old.\")"
   ]
  },
  {
   "attachments": {},
   "cell_type": "markdown",
   "metadata": {},
   "source": [
    "### Embedding Expressions in f-Strings\n",
    "\n",
    "You can also embed expressions directly within f-strings:"
   ]
  },
  {
   "cell_type": "code",
   "execution_count": 44,
   "metadata": {},
   "outputs": [
    {
     "name": "stdout",
     "output_type": "stream",
     "text": [
      "The sum of 5 and 116 is 121.\n"
     ]
    }
   ],
   "source": [
    "x = 5\n",
    "y = 116\n",
    "\n",
    "print(f\"The sum of {x} and {y} is {x + y}.\")"
   ]
  },
  {
   "attachments": {},
   "cell_type": "markdown",
   "metadata": {},
   "source": [
    "### Formatting Numbers in f-Strings\n",
    "\n",
    "f-strings allow you to format numbers, such as setting precision for floating-point values or formatting numbers with commas."
   ]
  },
  {
   "cell_type": "code",
   "execution_count": 48,
   "metadata": {},
   "outputs": [
    {
     "name": "stdout",
     "output_type": "stream",
     "text": [
      "Pi rounded to 2 decimal places: 46\n"
     ]
    }
   ],
   "source": [
    "result = 45.8945875978039452\n",
    "\n",
    "print(f\"Pi rounded to 2 decimal places: {result:.0f}\")"
   ]
  },
  {
   "cell_type": "code",
   "execution_count": 51,
   "metadata": {},
   "outputs": [
    {
     "name": "stdout",
     "output_type": "stream",
     "text": [
      "The large number is: 1,000,000\n"
     ]
    }
   ],
   "source": [
    "large_number = 1000000\n",
    "\n",
    "print(f\"The large number is: {large_number:,}\")"
   ]
  }
 ],
 "metadata": {
  "kernelspec": {
   "display_name": "base",
   "language": "python",
   "name": "python3"
  },
  "language_info": {
   "codemirror_mode": {
    "name": "ipython",
    "version": 3
   },
   "file_extension": ".py",
   "mimetype": "text/x-python",
   "name": "python",
   "nbconvert_exporter": "python",
   "pygments_lexer": "ipython3",
   "version": "3.10.9"
  },
  "orig_nbformat": 4
 },
 "nbformat": 4,
 "nbformat_minor": 2
}
