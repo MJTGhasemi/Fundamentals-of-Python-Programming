{
 "cells": [
  {
   "attachments": {},
   "cell_type": "markdown",
   "metadata": {},
   "source": [
    "# <font color='#98FB98'>**List, Tuple, Set, Dictionary**</font> "
   ]
  },
  {
   "attachments": {},
   "cell_type": "markdown",
   "metadata": {},
   "source": [
    "In Python, we have several composite (or compound) data types that are used to group together other values.  \n",
    "The versatility of these data types makes them very beneficial for handling various kinds of data structures, which we utilize in our everyday programming.  \n",
    "\n",
    "The main types of composite data structures provided by Python are `lists`, `tuples`, `sets`, and `dictionaries`."
   ]
  },
  {
   "attachments": {},
   "cell_type": "markdown",
   "metadata": {},
   "source": [
    "<div style='text-align: center'>\n",
    "    <img src='https://miro.medium.com/v2/resize:fit:800/0*XSkX88TP7Bza0CXz.png' alt='composite_data_type' title='composit_data_type' width='800' height='500'/>\n",
    "</div>\n"
   ]
  },
  {
   "attachments": {},
   "cell_type": "markdown",
   "metadata": {},
   "source": [
    "## <font color='#FFA500'>**Lists**</font> "
   ]
  },
  {
   "attachments": {},
   "cell_type": "markdown",
   "metadata": {},
   "source": [
    "Lists are the most versatile compound data types in Python.  \n",
    "They are similar to arrays in other programming languages but have more extensive functionality. Lists are `mutable`.\n",
    "\n",
    "A list can contain objects of different types (integers, strings, other lists, etc.) and is defined by enclosing the values (items) between square brackets `[]`, separated by commas.\n",
    "\n",
    "List can be indexed, sliced, and manipulated. "
   ]
  },
  {
   "attachments": {},
   "cell_type": "markdown",
   "metadata": {},
   "source": [
    "### Characteristics of Lists:\n",
    "\n",
    "- **Ordered**: Lists maintain the order of elements as they were added. Each element has a specific position, or index, which you can use to access it.\n",
    "\n",
    "- **Mutable**: You can add, remove, and modify elements in a list.\n",
    "\n",
    "- **Heterogeneous**: Lists can contain elements of different data types—integers, strings, float, and even other lists or complex objects.\n",
    "\n",
    "- **Dynamic**: Lists can grow and shrink in size dynamically as items are added or removed.\n",
    "\n",
    "- **Indexable and Slicable**: You can access individual items or a subset of items using indexing and slicing operations."
   ]
  },
  {
   "attachments": {},
   "cell_type": "markdown",
   "metadata": {},
   "source": [
    "<div style='text-align: center'>\n",
    "    <img src='https://scaler.com/topics/images/list_methods_in_python.webp' alt='lists' title='lists' width='800' height='500'/>\n",
    "</div>"
   ]
  },
  {
   "cell_type": "code",
   "execution_count": 1,
   "metadata": {},
   "outputs": [
    {
     "data": {
      "text/plain": [
       "list"
      ]
     },
     "execution_count": 1,
     "metadata": {},
     "output_type": "execute_result"
    }
   ],
   "source": [
    "# A list of integers\n",
    "numbers = [1, 2, 3, 4, 5]\n",
    "type(numbers)"
   ]
  },
  {
   "cell_type": "code",
   "execution_count": 2,
   "metadata": {},
   "outputs": [
    {
     "data": {
      "text/plain": [
       "[1, 2, 'Python', 4.0, [3, 4, 6]]"
      ]
     },
     "execution_count": 2,
     "metadata": {},
     "output_type": "execute_result"
    }
   ],
   "source": [
    "# A list containing mixed data types\n",
    "mixed_list = [1, 2, 'Python', 4.0, [3, 4, 6]]\n",
    "mixed_list"
   ]
  },
  {
   "attachments": {},
   "cell_type": "markdown",
   "metadata": {},
   "source": [
    "### Creating Empty List\n",
    "\n",
    "There might be cases where you want to start with an empty list and add elements later. \n",
    "\n",
    "To create an empty list, use empty square brackets `[]` or the `list()` constructor with no arguments:"
   ]
  },
  {
   "cell_type": "code",
   "execution_count": 3,
   "metadata": {},
   "outputs": [
    {
     "data": {
      "text/plain": [
       "[]"
      ]
     },
     "execution_count": 3,
     "metadata": {},
     "output_type": "execute_result"
    }
   ],
   "source": [
    "empty_list_1 = []\n",
    "empty_list_1"
   ]
  },
  {
   "cell_type": "code",
   "execution_count": 4,
   "metadata": {},
   "outputs": [
    {
     "data": {
      "text/plain": [
       "[]"
      ]
     },
     "execution_count": 4,
     "metadata": {},
     "output_type": "execute_result"
    }
   ],
   "source": [
    "empty_list_2 = list()\n",
    "empty_list_2"
   ]
  },
  {
   "attachments": {},
   "cell_type": "markdown",
   "metadata": {},
   "source": [
    "### Creating List from Other Data Types\n",
    "\n",
    "It is possible to create lists from other iterables like strings, tuples, and sets.\n",
    "\n",
    "Python also allows list initialization with repetitive elements using the multiplication, or `*`, operator.\n"
   ]
  },
  {
   "cell_type": "code",
   "execution_count": 5,
   "metadata": {},
   "outputs": [
    {
     "data": {
      "text/plain": [
       "['h', 'e', 'l', 'l', 'o']"
      ]
     },
     "execution_count": 5,
     "metadata": {},
     "output_type": "execute_result"
    }
   ],
   "source": [
    "# From a string - creates a list of characters\n",
    "character_list = list('hello')\n",
    "character_list"
   ]
  },
  {
   "cell_type": "code",
   "execution_count": 6,
   "metadata": {},
   "outputs": [
    {
     "data": {
      "text/plain": [
       "[1, 2, 3]"
      ]
     },
     "execution_count": 6,
     "metadata": {},
     "output_type": "execute_result"
    }
   ],
   "source": [
    "# From a tuple\n",
    "tuple_to_list = list((1, 2, 3))\n",
    "tuple_to_list"
   ]
  },
  {
   "cell_type": "code",
   "execution_count": 7,
   "metadata": {},
   "outputs": [
    {
     "data": {
      "text/plain": [
       "[1, 2, 3]"
      ]
     },
     "execution_count": 7,
     "metadata": {},
     "output_type": "execute_result"
    }
   ],
   "source": [
    "# From a set - order of elements will be arbitrary\n",
    "set_to_list = list({3, 1, 2})\n",
    "set_to_list"
   ]
  },
  {
   "cell_type": "code",
   "execution_count": 8,
   "metadata": {},
   "outputs": [
    {
     "data": {
      "text/plain": [
       "[0, 0, 0, 0, 0, 0, 0, 0, 0, 0]"
      ]
     },
     "execution_count": 8,
     "metadata": {},
     "output_type": "execute_result"
    }
   ],
   "source": [
    "# A list of ten zeroes\n",
    "zero_list = [0] * 10\n",
    "zero_list"
   ]
  },
  {
   "cell_type": "code",
   "execution_count": 9,
   "metadata": {},
   "outputs": [
    {
     "data": {
      "text/plain": [
       "[None, None, None, None, None, None, None, None, None, None]"
      ]
     },
     "execution_count": 9,
     "metadata": {},
     "output_type": "execute_result"
    }
   ],
   "source": [
    "# A list of 10 None values\n",
    "none_list = [None] * 10\n",
    "none_list"
   ]
  },
  {
   "attachments": {},
   "cell_type": "markdown",
   "metadata": {},
   "source": [
    "<font color='#DC143C'>**What is \"None\"?**</font>  \n",
    "<font color='#DC143C'>**Is it a string?**</font>   "
   ]
  },
  {
   "attachments": {},
   "cell_type": "markdown",
   "metadata": {},
   "source": [
    "### Creating Lists with Range\n",
    "\n",
    "The `range()` function can be used in combination with the `list()` constructor to create lists of numbers that follow a specific pattern."
   ]
  },
  {
   "cell_type": "code",
   "execution_count": 10,
   "metadata": {},
   "outputs": [
    {
     "data": {
      "text/plain": [
       "range"
      ]
     },
     "execution_count": 10,
     "metadata": {},
     "output_type": "execute_result"
    }
   ],
   "source": [
    "type(range(10))"
   ]
  },
  {
   "cell_type": "code",
   "execution_count": 11,
   "metadata": {},
   "outputs": [
    {
     "data": {
      "text/plain": [
       "[0, 1, 2, 3, 4, 5, 6, 7, 8, 9]"
      ]
     },
     "execution_count": 11,
     "metadata": {},
     "output_type": "execute_result"
    }
   ],
   "source": [
    "# A list of consecutive numbers\n",
    "consecutive_numbers = list(range(10))\n",
    "consecutive_numbers"
   ]
  },
  {
   "cell_type": "code",
   "execution_count": 12,
   "metadata": {},
   "outputs": [],
   "source": [
    "num_list = [89, 46, 346, 435, 34]\n",
    "city = ['montreal', 'toronto', 'new york', 'denver', 'chicago']\n"
   ]
  },
  {
   "cell_type": "code",
   "execution_count": 13,
   "metadata": {},
   "outputs": [],
   "source": [
    "# You can get values from input() functions\n",
    "city_user = [input()]"
   ]
  },
  {
   "cell_type": "code",
   "execution_count": 14,
   "metadata": {},
   "outputs": [
    {
     "name": "stdout",
     "output_type": "stream",
     "text": [
      "435\n",
      "34\n",
      "950\n",
      "5\n"
     ]
    }
   ],
   "source": [
    "# Built in functions for Lists\n",
    "\n",
    "max_my_list = max(num_list) # max()\n",
    "min_my_list = min(num_list) # min()\n",
    "sum_my_list = sum(num_list) # sum()\n",
    "len_city = len(city) # len()\n",
    "\n",
    "print(max_my_list)\n",
    "print(min_my_list)\n",
    "print(sum_my_list)\n",
    "print(len_city)"
   ]
  },
  {
   "attachments": {},
   "cell_type": "markdown",
   "metadata": {},
   "source": [
    "### Accessing and Modifying List Elements\n",
    "\n",
    "Lists in Python are not only mutable, allowing you to change their contents, but they are also ordered, which means that each element in the list has a specific position or index."
   ]
  },
  {
   "attachments": {},
   "cell_type": "markdown",
   "metadata": {},
   "source": [
    "<div style='text-align: center'>\n",
    "    <img src='https://s3.amazonaws.com/dq-content/608/6.1-m608.svg' alt='lists_index' title='lists_index' width='800' height='500'/>\n",
    "</div>"
   ]
  },
  {
   "cell_type": "code",
   "execution_count": 15,
   "metadata": {},
   "outputs": [],
   "source": [
    "fruits = ['apple', 'banana', 'elderberry', 'fig', 'cherry', 'date']"
   ]
  },
  {
   "cell_type": "code",
   "execution_count": 16,
   "metadata": {},
   "outputs": [
    {
     "data": {
      "text/plain": [
       "'apple'"
      ]
     },
     "execution_count": 16,
     "metadata": {},
     "output_type": "execute_result"
    }
   ],
   "source": [
    "# Access the first element\n",
    "fruits[0]"
   ]
  },
  {
   "cell_type": "code",
   "execution_count": 17,
   "metadata": {},
   "outputs": [
    {
     "data": {
      "text/plain": [
       "'date'"
      ]
     },
     "execution_count": 17,
     "metadata": {},
     "output_type": "execute_result"
    }
   ],
   "source": [
    "# Access the last element using negative indexing \n",
    "fruits[-1]"
   ]
  },
  {
   "cell_type": "code",
   "execution_count": 18,
   "metadata": {},
   "outputs": [
    {
     "data": {
      "text/plain": [
       "['banana', 'elderberry', 'fig']"
      ]
     },
     "execution_count": 18,
     "metadata": {},
     "output_type": "execute_result"
    }
   ],
   "source": [
    "# Slice from the first to third element\n",
    "sublist_fruits = fruits[1:4]\n",
    "sublist_fruits"
   ]
  },
  {
   "cell_type": "code",
   "execution_count": 19,
   "metadata": {},
   "outputs": [
    {
     "data": {
      "text/plain": [
       "['apple', 'elderberry', 'cherry']"
      ]
     },
     "execution_count": 19,
     "metadata": {},
     "output_type": "execute_result"
    }
   ],
   "source": [
    "# Slice every second element\n",
    "alternate_fruits = fruits[::2]\n",
    "alternate_fruits"
   ]
  },
  {
   "attachments": {},
   "cell_type": "markdown",
   "metadata": {},
   "source": [
    "The first colon : indicates the start and end of the slice, and by omitting values before and after the colon, you're specifying the default start (beginning of the list) and default end (end of the list).  \n",
    "The number after the second colon specifies the step, in this case, 2, which means that the slice should include every second element from the list."
   ]
  },
  {
   "cell_type": "code",
   "execution_count": 20,
   "metadata": {},
   "outputs": [
    {
     "data": {
      "text/plain": [
       "['date', 'cherry', 'fig', 'elderberry', 'banana', 'apple']"
      ]
     },
     "execution_count": 20,
     "metadata": {},
     "output_type": "execute_result"
    }
   ],
   "source": [
    "# Reverse the list\n",
    "reversed_fruits = fruits[::-1]\n",
    "reversed_fruits"
   ]
  },
  {
   "cell_type": "code",
   "execution_count": 21,
   "metadata": {},
   "outputs": [
    {
     "data": {
      "text/plain": [
       "['apple', 'banana', 'blueberry', 'fig', 'cherry', 'date']"
      ]
     },
     "execution_count": 21,
     "metadata": {},
     "output_type": "execute_result"
    }
   ],
   "source": [
    "# How to change 'elderberry' to 'blueberry'\n",
    "fruits[2] = 'blueberry'\n",
    "fruits"
   ]
  },
  {
   "attachments": {},
   "cell_type": "markdown",
   "metadata": {},
   "source": [
    "### Adding Elements to a List"
   ]
  },
  {
   "attachments": {},
   "cell_type": "markdown",
   "metadata": {},
   "source": [
    "You can add elements to your list using several methods:\n",
    "\n",
    "- `.append()` adds a single element to the end of the list\n",
    "- `.extend()` adds all elements from another iterable (e.g., another list) to the end of the list\n",
    "- `.insert()` adds an element at a specific position >> not a very efficient way"
   ]
  },
  {
   "cell_type": "code",
   "execution_count": 22,
   "metadata": {},
   "outputs": [
    {
     "data": {
      "text/plain": [
       "['apple', 'banana', 'blueberry', 'fig', 'cherry', 'date', 'melon']"
      ]
     },
     "execution_count": 22,
     "metadata": {},
     "output_type": "execute_result"
    }
   ],
   "source": [
    "# Append 'melon' to the end of the list\n",
    "fruits.append('melon')\n",
    "fruits"
   ]
  },
  {
   "cell_type": "code",
   "execution_count": 23,
   "metadata": {},
   "outputs": [
    {
     "data": {
      "text/plain": [
       "['apple',\n",
       " 'banana',\n",
       " 'blueberry',\n",
       " 'fig',\n",
       " 'cherry',\n",
       " 'date',\n",
       " 'melon',\n",
       " 'apricot',\n",
       " 'grape']"
      ]
     },
     "execution_count": 23,
     "metadata": {},
     "output_type": "execute_result"
    }
   ],
   "source": [
    "# Extend the list with another list\n",
    "more_fruits = ['apricot', 'grape']\n",
    "fruits.extend(more_fruits)\n",
    "fruits"
   ]
  },
  {
   "cell_type": "code",
   "execution_count": 24,
   "metadata": {},
   "outputs": [
    {
     "data": {
      "text/plain": [
       "['orange',\n",
       " 'apple',\n",
       " 'banana',\n",
       " 'blueberry',\n",
       " 'fig',\n",
       " 'cherry',\n",
       " 'date',\n",
       " 'melon',\n",
       " 'apricot',\n",
       " 'grape']"
      ]
     },
     "execution_count": 24,
     "metadata": {},
     "output_type": "execute_result"
    }
   ],
   "source": [
    "# Insert 'orange' at the beginning of the list\n",
    "fruits.insert(0, 'orange')\n",
    "fruits"
   ]
  },
  {
   "attachments": {},
   "cell_type": "markdown",
   "metadata": {},
   "source": [
    "### Removing Elements to a List"
   ]
  },
  {
   "attachments": {},
   "cell_type": "markdown",
   "metadata": {},
   "source": [
    "You can remove elements using several methods:\n",
    "\n",
    "- `.pop()` removes and returns the element at a given index (or the last one if no index is provided)\n",
    "- `.remove()` finds and removes the first matching element without needing to know its index\n",
    "- Using `del` you can remove an item at a specific index or slice\n",
    "- Clearing All Items with `.clear()`"
   ]
  },
  {
   "cell_type": "code",
   "execution_count": 25,
   "metadata": {},
   "outputs": [
    {
     "data": {
      "text/plain": [
       "'grape'"
      ]
     },
     "execution_count": 25,
     "metadata": {},
     "output_type": "execute_result"
    }
   ],
   "source": [
    "# Remove and return the last item\n",
    "popped_fruit = fruits.pop()\n",
    "popped_fruit"
   ]
  },
  {
   "cell_type": "code",
   "execution_count": 26,
   "metadata": {},
   "outputs": [
    {
     "data": {
      "text/plain": [
       "'orange'"
      ]
     },
     "execution_count": 26,
     "metadata": {},
     "output_type": "execute_result"
    }
   ],
   "source": [
    "# Remove and return the first item\n",
    "popped_first_fruit = fruits.pop(0)\n",
    "popped_first_fruit"
   ]
  },
  {
   "cell_type": "code",
   "execution_count": 27,
   "metadata": {},
   "outputs": [
    {
     "data": {
      "text/plain": [
       "['apple', 'banana', 'blueberry', 'fig', 'cherry', 'date', 'melon', 'apricot']"
      ]
     },
     "execution_count": 27,
     "metadata": {},
     "output_type": "execute_result"
    }
   ],
   "source": [
    "fruits"
   ]
  },
  {
   "cell_type": "code",
   "execution_count": 28,
   "metadata": {},
   "outputs": [
    {
     "data": {
      "text/plain": [
       "['apple', 'banana', 'blueberry', 'fig', 'date', 'melon', 'apricot']"
      ]
     },
     "execution_count": 28,
     "metadata": {},
     "output_type": "execute_result"
    }
   ],
   "source": [
    "# Remove 'cherry' from the list\n",
    "fruits.remove('cherry')\n",
    "fruits"
   ]
  },
  {
   "cell_type": "code",
   "execution_count": 29,
   "metadata": {},
   "outputs": [
    {
     "data": {
      "text/plain": [
       "['banana', 'blueberry', 'fig', 'date', 'melon', 'apricot']"
      ]
     },
     "execution_count": 29,
     "metadata": {},
     "output_type": "execute_result"
    }
   ],
   "source": [
    "# Delete the first item\n",
    "del fruits[0]\n",
    "fruits"
   ]
  },
  {
   "cell_type": "code",
   "execution_count": 30,
   "metadata": {},
   "outputs": [
    {
     "data": {
      "text/plain": [
       "['banana', 'date', 'melon', 'apricot']"
      ]
     },
     "execution_count": 30,
     "metadata": {},
     "output_type": "execute_result"
    }
   ],
   "source": [
    "# Delete a slice\n",
    "del fruits[1:3]\n",
    "fruits"
   ]
  },
  {
   "cell_type": "code",
   "execution_count": 31,
   "metadata": {},
   "outputs": [
    {
     "data": {
      "text/plain": [
       "[]"
      ]
     },
     "execution_count": 31,
     "metadata": {},
     "output_type": "execute_result"
    }
   ],
   "source": [
    "# Remove all items from the list\n",
    "fruits.clear()\n",
    "fruits"
   ]
  },
  {
   "attachments": {},
   "cell_type": "markdown",
   "metadata": {},
   "source": [
    "### List Concatenation"
   ]
  },
  {
   "cell_type": "code",
   "execution_count": 32,
   "metadata": {},
   "outputs": [
    {
     "data": {
      "text/plain": [
       "[1, 2, 3, 4, 5, 6]"
      ]
     },
     "execution_count": 32,
     "metadata": {},
     "output_type": "execute_result"
    }
   ],
   "source": [
    "list_one = [1, 2, 3]\n",
    "list_two = [4, 5, 6]\n",
    "combined_list = list_one + list_two\n",
    "combined_list"
   ]
  },
  {
   "cell_type": "code",
   "execution_count": 33,
   "metadata": {},
   "outputs": [
    {
     "data": {
      "text/plain": [
       "[1, 2, 3, 1, 2, 3, 1, 2, 3]"
      ]
     },
     "execution_count": 33,
     "metadata": {},
     "output_type": "execute_result"
    }
   ],
   "source": [
    "repeated_list = list_one * 3\n",
    "repeated_list"
   ]
  },
  {
   "attachments": {},
   "cell_type": "markdown",
   "metadata": {},
   "source": [
    "### Membership Testing\n",
    "\n",
    "To check if an item exists within a list, Python offers the `in` and `not in` operators for membership testing."
   ]
  },
  {
   "cell_type": "code",
   "execution_count": 34,
   "metadata": {},
   "outputs": [],
   "source": [
    "fruits_new = ['apple', 'banana', 'elderberry', 'fig', 'cherry', 'date']"
   ]
  },
  {
   "cell_type": "code",
   "execution_count": 35,
   "metadata": {},
   "outputs": [
    {
     "data": {
      "text/plain": [
       "True"
      ]
     },
     "execution_count": 35,
     "metadata": {},
     "output_type": "execute_result"
    }
   ],
   "source": [
    "# Check if 'apple' is in the list\n",
    "'apple' in fruits_new  # Returns True"
   ]
  },
  {
   "cell_type": "code",
   "execution_count": 36,
   "metadata": {},
   "outputs": [
    {
     "data": {
      "text/plain": [
       "False"
      ]
     },
     "execution_count": 36,
     "metadata": {},
     "output_type": "execute_result"
    }
   ],
   "source": [
    "# Check if 'banana' is not in the list\n",
    "'banana' not in fruits_new  # Returns False"
   ]
  },
  {
   "attachments": {},
   "cell_type": "markdown",
   "metadata": {},
   "source": [
    "### Finding Index of an Element\n",
    "\n",
    "The `.index()` method can be used when you need to find the index of a particular item. It returns the first index at which the item appears."
   ]
  },
  {
   "cell_type": "code",
   "execution_count": 40,
   "metadata": {},
   "outputs": [
    {
     "data": {
      "text/plain": [
       "3"
      ]
     },
     "execution_count": 40,
     "metadata": {},
     "output_type": "execute_result"
    }
   ],
   "source": [
    "# Get the index of 'cat'\n",
    "fruits_new.index('fig')"
   ]
  },
  {
   "attachments": {},
   "cell_type": "markdown",
   "metadata": {},
   "source": [
    "### Counting the Number of Occurrences of an ELement\n",
    "\n",
    "The `.count()` method can be used to count the number of times an item appears in a list."
   ]
  },
  {
   "cell_type": "code",
   "execution_count": 41,
   "metadata": {},
   "outputs": [
    {
     "data": {
      "text/plain": [
       "1"
      ]
     },
     "execution_count": 41,
     "metadata": {},
     "output_type": "execute_result"
    }
   ],
   "source": [
    "fruits_new.count('fig')"
   ]
  },
  {
   "cell_type": "code",
   "execution_count": 42,
   "metadata": {},
   "outputs": [
    {
     "data": {
      "text/plain": [
       "0"
      ]
     },
     "execution_count": 42,
     "metadata": {},
     "output_type": "execute_result"
    }
   ],
   "source": [
    "fruits_new.count('fish')"
   ]
  },
  {
   "attachments": {},
   "cell_type": "markdown",
   "metadata": {},
   "source": [
    "### Reversing the Order of a List\n",
    "\n",
    "The `.reverse()` method flips the order of the elements in the list. "
   ]
  },
  {
   "cell_type": "code",
   "execution_count": 45,
   "metadata": {},
   "outputs": [],
   "source": [
    "numbers = [1, 2, 3, 3, 6, 9, 4, 5]\n",
    "\n",
    "# Reverse the numbers list\n",
    "numbers.reverse()"
   ]
  },
  {
   "cell_type": "code",
   "execution_count": 46,
   "metadata": {},
   "outputs": [
    {
     "data": {
      "text/plain": [
       "[5, 4, 9, 6, 3, 3, 2, 1]"
      ]
     },
     "execution_count": 46,
     "metadata": {},
     "output_type": "execute_result"
    }
   ],
   "source": [
    "numbers"
   ]
  },
  {
   "attachments": {},
   "cell_type": "markdown",
   "metadata": {},
   "source": [
    "### Sorting a List\n",
    "\n",
    "With the `.sort()` method, you can sort the elements in a list in ascending or descending order."
   ]
  },
  {
   "cell_type": "code",
   "execution_count": 47,
   "metadata": {},
   "outputs": [
    {
     "data": {
      "text/plain": [
       "[1, 2, 3, 3, 4, 5, 6, 9]"
      ]
     },
     "execution_count": 47,
     "metadata": {},
     "output_type": "execute_result"
    }
   ],
   "source": [
    "numbers.sort()\n",
    "numbers"
   ]
  },
  {
   "attachments": {},
   "cell_type": "markdown",
   "metadata": {},
   "source": [
    "<font color='#FF69B4'>**Question:**</font>\n",
    "\n",
    "What is the difference between method `.reverse()` and `.sort()`, and functions `reversed()` and `sorted()`?\n"
   ]
  },
  {
   "attachments": {},
   "cell_type": "markdown",
   "metadata": {},
   "source": [
    "## <font color='#FFA500'>**Tuples**</font> "
   ]
  },
  {
   "attachments": {},
   "cell_type": "markdown",
   "metadata": {},
   "source": [
    "Tuples are like lists, but they are `immutable`, which signifies they cannot be changed after creation.  \n",
    "\n",
    "Unlike lists that are dynamic, allowing elements to be modified, added, or removed, tuples are static and remain unchanged once they are created, which is a superpower in certain contexts, making tuples a preferable choice for fixed collections of items belonging together and should not be altered.\n",
    "\n",
    "Tuples are presented by rounded brackets `()`."
   ]
  },
  {
   "cell_type": "code",
   "execution_count": 37,
   "metadata": {},
   "outputs": [
    {
     "data": {
      "text/plain": [
       "(1, 2, 'Python', 4.0, (3, 4))"
      ]
     },
     "execution_count": 37,
     "metadata": {},
     "output_type": "execute_result"
    }
   ],
   "source": [
    "(1, 2, 'Python', 4.0, (3, 4))"
   ]
  },
  {
   "attachments": {},
   "cell_type": "markdown",
   "metadata": {},
   "source": [
    "<div style='text-align: center'>\n",
    "    <img src='https://www.scaler.com/topics/images/difference-between-list-and-tuple-in-python_thumbnail.webp' alt='lists_vs_tuples' title='lists_vs_tuples' width='800' height='500'/>\n",
    "</div>"
   ]
  },
  {
   "attachments": {},
   "cell_type": "markdown",
   "metadata": {},
   "source": [
    "<font color='#FF69B4'>**Why do we need another container if we already have lists?**</font>  \n",
    "- Tuples are faster than lists due to their static nature, making them optimal for constant sets of values.  \n",
    "- Tuples' immutability allows them to be used as keys in dictionaries (will be covered in a future session) which is something lists cannot do.\n"
   ]
  },
  {
   "attachments": {},
   "cell_type": "markdown",
   "metadata": {},
   "source": [
    "### Creating Tuples"
   ]
  },
  {
   "cell_type": "code",
   "execution_count": 49,
   "metadata": {},
   "outputs": [
    {
     "data": {
      "text/plain": [
       "(1, 2, 3)"
      ]
     },
     "execution_count": 49,
     "metadata": {},
     "output_type": "execute_result"
    }
   ],
   "source": [
    "my_tuple = (1, 2, 3)\n",
    "my_tuple"
   ]
  },
  {
   "attachments": {},
   "cell_type": "markdown",
   "metadata": {},
   "source": [
    "If you have no elements or just a single element"
   ]
  },
  {
   "cell_type": "code",
   "execution_count": 50,
   "metadata": {},
   "outputs": [
    {
     "data": {
      "text/plain": [
       "()"
      ]
     },
     "execution_count": 50,
     "metadata": {},
     "output_type": "execute_result"
    }
   ],
   "source": [
    "empty_tuple = ()\n",
    "empty_tuple"
   ]
  },
  {
   "cell_type": "code",
   "execution_count": 52,
   "metadata": {},
   "outputs": [
    {
     "data": {
      "text/plain": [
       "(4,)"
      ]
     },
     "execution_count": 52,
     "metadata": {},
     "output_type": "execute_result"
    }
   ],
   "source": [
    "single_element_tuple = (4,)\n",
    "single_element_tuple"
   ]
  },
  {
   "cell_type": "code",
   "execution_count": 54,
   "metadata": {},
   "outputs": [],
   "source": [
    "# Nested Tuples\n",
    "nested_tuple = (1, (2, 3), 4)"
   ]
  },
  {
   "attachments": {},
   "cell_type": "markdown",
   "metadata": {},
   "source": [
    "### Accessing Tuple Elements\n",
    "Accessing the elements in a tuple is identical to accessing list elements—using indexing and slicing."
   ]
  },
  {
   "cell_type": "code",
   "execution_count": 55,
   "metadata": {},
   "outputs": [],
   "source": [
    "my_tuple = ('a', 'b', 'c', 'd', 'e')"
   ]
  },
  {
   "cell_type": "code",
   "execution_count": 56,
   "metadata": {},
   "outputs": [
    {
     "data": {
      "text/plain": [
       "'b'"
      ]
     },
     "execution_count": 56,
     "metadata": {},
     "output_type": "execute_result"
    }
   ],
   "source": [
    "my_tuple[1]"
   ]
  },
  {
   "cell_type": "code",
   "execution_count": 57,
   "metadata": {},
   "outputs": [
    {
     "data": {
      "text/plain": [
       "('b', 'c', 'd')"
      ]
     },
     "execution_count": 57,
     "metadata": {},
     "output_type": "execute_result"
    }
   ],
   "source": [
    "my_tuple[1:4]"
   ]
  },
  {
   "attachments": {},
   "cell_type": "markdown",
   "metadata": {},
   "source": [
    "You cannot change the elements of a tuple after it is defined, since tuples are `immutable`."
   ]
  },
  {
   "cell_type": "code",
   "execution_count": 58,
   "metadata": {},
   "outputs": [
    {
     "ename": "TypeError",
     "evalue": "'tuple' object does not support item assignment",
     "output_type": "error",
     "traceback": [
      "\u001b[0;31m---------------------------------------------------------------------------\u001b[0m",
      "\u001b[0;31mTypeError\u001b[0m                                 Traceback (most recent call last)",
      "Cell \u001b[0;32mIn[58], line 1\u001b[0m\n\u001b[0;32m----> 1\u001b[0m my_tuple[\u001b[39m1\u001b[39m] \u001b[39m=\u001b[39m \u001b[39m'\u001b[39m\u001b[39mx\u001b[39m\u001b[39m'\u001b[39m\n",
      "\u001b[0;31mTypeError\u001b[0m: 'tuple' object does not support item assignment"
     ]
    }
   ],
   "source": [
    "my_tuple[1] = 'x'"
   ]
  },
  {
   "attachments": {},
   "cell_type": "markdown",
   "metadata": {},
   "source": [
    "Immutability comes with several practical benefits:\n",
    "\n",
    "1. **`Consistency`**: The inability to change tuples ensures the data they contain is consistent wherever they're used.\n",
    "2. **`Security`**: Tuples prevent accidental data modification, protecting against certain types of bugs and maintaining data integrity.\n",
    "3. **`Efficiency`**: Tuples can be more memory-efficient and faster in certain contexts due to their immutable nature.\n",
    "4. **`Usability as Dictionary Keys`**: A tuple's immutability makes it hashable, allowing it to be used as a key in Python dictionaries, as long as all its contents are also immutable. You will learn more about dictionaries in a future session. We will also cover hashable objects in detail in a advanced topics."
   ]
  },
  {
   "cell_type": "code",
   "execution_count": 60,
   "metadata": {},
   "outputs": [],
   "source": [
    "# Example of immutability benefits\n",
    "my_info = ('Jane Doe', '123 Elm Street', 28)"
   ]
  },
  {
   "attachments": {},
   "cell_type": "markdown",
   "metadata": {},
   "source": [
    "If you attempt to change one of its values, you'll encounter an error:"
   ]
  },
  {
   "cell_type": "code",
   "execution_count": 61,
   "metadata": {},
   "outputs": [
    {
     "ename": "TypeError",
     "evalue": "'tuple' object does not support item assignment",
     "output_type": "error",
     "traceback": [
      "\u001b[0;31m---------------------------------------------------------------------------\u001b[0m",
      "\u001b[0;31mTypeError\u001b[0m                                 Traceback (most recent call last)",
      "Cell \u001b[0;32mIn[61], line 1\u001b[0m\n\u001b[0;32m----> 1\u001b[0m my_info[\u001b[39m2\u001b[39m] \u001b[39m=\u001b[39m \u001b[39m29\u001b[39m\n",
      "\u001b[0;31mTypeError\u001b[0m: 'tuple' object does not support item assignment"
     ]
    }
   ],
   "source": [
    "my_info[2] = 29  # Raises a TypeError"
   ]
  },
  {
   "attachments": {},
   "cell_type": "markdown",
   "metadata": {},
   "source": [
    "If you need to 'update' a piece of information, you have to create an entirely new tuple:"
   ]
  },
  {
   "cell_type": "code",
   "execution_count": 63,
   "metadata": {},
   "outputs": [
    {
     "data": {
      "text/plain": [
       "('Jane Doe', '123 Elm Street', 29)"
      ]
     },
     "execution_count": 63,
     "metadata": {},
     "output_type": "execute_result"
    }
   ],
   "source": [
    "my_info = my_info[:2] + (29,)\n",
    "my_info"
   ]
  },
  {
   "attachments": {},
   "cell_type": "markdown",
   "metadata": {},
   "source": [
    "This approach ensures the integrity of 'my_info' throughout your code. Changes are intentional and explicit, reducing the chance of accidental data corruption."
   ]
  },
  {
   "attachments": {},
   "cell_type": "markdown",
   "metadata": {},
   "source": [
    "<font color='#FF69B4'>**Note:**</font> While mutable data structures like lists allow for direct modification, tuples encourage you to create new tuples from existing ones, leading to a more functional programming style. As you write more Python code, this distinction influences your approach to structuring data and can guide you toward purposeful usage of your data containers."
   ]
  },
  {
   "attachments": {},
   "cell_type": "markdown",
   "metadata": {},
   "source": [
    "This difference encourages two styles of programming:\n",
    "\n",
    "- `Mutable approach (with lists)`: Directly change your data as needed.\n",
    "- `Immutable approach (with tuples)`: Reflect changes by creating new data, leaving the original untouched.\n",
    "\n",
    "Why It Matters:\n",
    "\n",
    "- Immutable data structures like tuples are safe from unintended changes, which is great for fixed data and can lead to safer, more predictable code.  \n",
    "- Mutable data structures like lists are flexible and efficient for data that changes over time."
   ]
  },
  {
   "attachments": {},
   "cell_type": "markdown",
   "metadata": {},
   "source": [
    "`Practical Example`:  \n",
    "Imagine you're developing a simple game or an application that tracks movements across a grid or map. Each position on the map is represented by a pair of coordinates: the first number for the horizontal position (x) and the second for the vertical position (y)."
   ]
  },
  {
   "attachments": {},
   "cell_type": "markdown",
   "metadata": {},
   "source": [
    "Using a List for Mutable data:"
   ]
  },
  {
   "cell_type": "code",
   "execution_count": 64,
   "metadata": {},
   "outputs": [],
   "source": [
    "\n",
    "player_position = [4, 2]  # Starting position on the map at coordinates x=4, y=2\n"
   ]
  },
  {
   "attachments": {},
   "cell_type": "markdown",
   "metadata": {},
   "source": [
    "As the player moves east (right) on the map, you update the position directly by modifying the list:"
   ]
  },
  {
   "cell_type": "code",
   "execution_count": 65,
   "metadata": {},
   "outputs": [],
   "source": [
    "player_position[0] += 1  # Move the player to the right; new position is [5, 2]"
   ]
  },
  {
   "attachments": {},
   "cell_type": "markdown",
   "metadata": {},
   "source": [
    "Therefore, `Lists are mutable`, so you can easily change the player's position by directly updating the values."
   ]
  },
  {
   "attachments": {},
   "cell_type": "markdown",
   "metadata": {},
   "source": [
    "Using a Tuple for Immutable Data:"
   ]
  },
  {
   "attachments": {},
   "cell_type": "markdown",
   "metadata": {},
   "source": [
    "Now, let's say you want to keep track of a landmark that doesn't move, like a mountain:"
   ]
  },
  {
   "cell_type": "code",
   "execution_count": 66,
   "metadata": {},
   "outputs": [],
   "source": [
    "mountain_location = (3, 5)  # Fixed position on the map\n"
   ]
  },
  {
   "attachments": {},
   "cell_type": "markdown",
   "metadata": {},
   "source": [
    "Since the mountain's location is constant, a tuple is used to ensure that the coordinates cannot be accidentally changed. Tuples are immutable, meaning once they are created, their values cannot be altered."
   ]
  },
  {
   "attachments": {},
   "cell_type": "markdown",
   "metadata": {},
   "source": [
    "If, for some reason, the landscape changes and the mountain moves (a rare event, but good for this example), you cannot directly modify `mountain_location` because it's a tuple.  \n",
    "Instead, you must create a new tuple to represent the new location:"
   ]
  },
  {
   "cell_type": "code",
   "execution_count": 68,
   "metadata": {},
   "outputs": [],
   "source": [
    "new_mountain_location = (mountain_location[0] + 1, mountain_location[1])  # Mountain moves to the right; new location is (4, 5)"
   ]
  },
  {
   "attachments": {},
   "cell_type": "markdown",
   "metadata": {},
   "source": [
    "### Tuples Concatenation"
   ]
  },
  {
   "cell_type": "code",
   "execution_count": 69,
   "metadata": {},
   "outputs": [
    {
     "data": {
      "text/plain": [
       "(1, 2, 3, 4, 5, 6)"
      ]
     },
     "execution_count": 69,
     "metadata": {},
     "output_type": "execute_result"
    }
   ],
   "source": [
    "tuple1 = (1, 2, 3)\n",
    "tuple2 = (4, 5, 6)\n",
    "combined_tuple = tuple1 + tuple2\n",
    "combined_tuple"
   ]
  },
  {
   "attachments": {},
   "cell_type": "markdown",
   "metadata": {},
   "source": [
    "### Repetition"
   ]
  },
  {
   "cell_type": "code",
   "execution_count": null,
   "metadata": {},
   "outputs": [],
   "source": [
    "repeated_tuple = tuple1 * 2\n",
    "repeated_tuple"
   ]
  },
  {
   "attachments": {},
   "cell_type": "markdown",
   "metadata": {},
   "source": [
    "### Membership Testing"
   ]
  },
  {
   "cell_type": "code",
   "execution_count": 70,
   "metadata": {},
   "outputs": [
    {
     "data": {
      "text/plain": [
       "True"
      ]
     },
     "execution_count": 70,
     "metadata": {},
     "output_type": "execute_result"
    }
   ],
   "source": [
    "5 in tuple2  # Evaluates to True"
   ]
  },
  {
   "attachments": {},
   "cell_type": "markdown",
   "metadata": {},
   "source": [
    "### Methods in Tuples\n",
    "\n",
    "Tuples have two built-in methods: `.count()` and `.index()`, allowing the counting of occurrences of a value and finding the index of the first occurrence of a value, respectively:"
   ]
  },
  {
   "cell_type": "code",
   "execution_count": 72,
   "metadata": {},
   "outputs": [],
   "source": [
    "tuple3 = (206, 56, 89, 49, 110, 206, 405, 206)"
   ]
  },
  {
   "cell_type": "code",
   "execution_count": 73,
   "metadata": {},
   "outputs": [
    {
     "data": {
      "text/plain": [
       "3"
      ]
     },
     "execution_count": 73,
     "metadata": {},
     "output_type": "execute_result"
    }
   ],
   "source": [
    "# Count\n",
    "count_of_206 = tuple3.count(206)\n",
    "count_of_206"
   ]
  },
  {
   "cell_type": "code",
   "execution_count": 74,
   "metadata": {},
   "outputs": [
    {
     "data": {
      "text/plain": [
       "0"
      ]
     },
     "execution_count": 74,
     "metadata": {},
     "output_type": "execute_result"
    }
   ],
   "source": [
    "# Index\n",
    "index_of_first_206 = tuple3.index(206)\n",
    "index_of_first_206"
   ]
  },
  {
   "attachments": {},
   "cell_type": "markdown",
   "metadata": {},
   "source": [
    "### Sorting and Reversing\n",
    "Tuples do not have a `.sort()` and `.reverse()` method like lists do since they are immutable.  \n",
    "However, you can use the built-in `sorted()` and `reversed()` function to sort and reverse a tuple and return a new tuple."
   ]
  },
  {
   "cell_type": "code",
   "execution_count": 80,
   "metadata": {},
   "outputs": [
    {
     "data": {
      "text/plain": [
       "(1, 2, 3, 4, 5)"
      ]
     },
     "execution_count": 80,
     "metadata": {},
     "output_type": "execute_result"
    }
   ],
   "source": [
    "tuple4 = (1, 5, 3, 2, 4)\n",
    "tuple(sorted(tuple4))"
   ]
  },
  {
   "cell_type": "code",
   "execution_count": 81,
   "metadata": {},
   "outputs": [
    {
     "data": {
      "text/plain": [
       "(4, 2, 3, 5, 1)"
      ]
     },
     "execution_count": 81,
     "metadata": {},
     "output_type": "execute_result"
    }
   ],
   "source": [
    "tuple(reversed(tuple4))"
   ]
  },
  {
   "attachments": {},
   "cell_type": "markdown",
   "metadata": {},
   "source": [
    "## <font color='#FFA500'>**Dictionaries**</font> "
   ]
  },
  {
   "attachments": {},
   "cell_type": "markdown",
   "metadata": {},
   "source": [
    "A dictionary in Python is an unordered collection of items.  \n",
    "While other compound data types like lists and tuples use integers as indices, dictionaries use a key-value pairing system. "
   ]
  },
  {
   "attachments": {},
   "cell_type": "markdown",
   "metadata": {},
   "source": [
    "Dictionaries are similar to associative arrays or hashes and consist of key-value pairs. Dictionaries are `mutable`.  \n",
    "A dictionary key can be most Python types, and are generally numbers or strings. Values, on the other hand, can be any arbitrary Python object. \n",
    "\n",
    "Dictionaries are defined by curly brackets `{}`, with items listed as `key: value` pairs.\n",
    "\n",
    "To sum up, dictionaries offer a way to create an associative array of keys and values – think of them as a practical and widely applicable way to store and manage data."
   ]
  },
  {
   "attachments": {},
   "cell_type": "markdown",
   "metadata": {},
   "source": [
    "### Characteristics of Dictionaries:\n",
    "\n",
    "- **Unordered**: Unlike lists, where items have a defined order, the items in a dictionary are not ordered. The order of insertion does not guarantee the order of the elements when you retrieve them.\n",
    "\n",
    "- **Mutable**: Dictionaries are changeable, meaning you can add, modify, or remove items after the dictionary has been created.\n",
    "\n",
    "- **Dynamic**: They can grow and shrink as needed without any predefined size or restriction.\n",
    "\n",
    "- **Indexed**: They are indexed by keys, which can be any immutable type, typically strings and numbers, but tuples can also be used if they contain only immutable elements.\n",
    "\n",
    "- **Keys are Unique**: No two items in a dictionary can have the same key, ensuring the uniqueness of each piece of data. If you try to use a duplicate key, the old value for that key will be overridden.\n",
    "\n",
    "- **Accessible**: Values in dictionaries can be accessed using their corresponding keys, making data retrieval fast and efficient."
   ]
  },
  {
   "attachments": {},
   "cell_type": "markdown",
   "metadata": {},
   "source": [
    "<div style='text-align: center'>\n",
    "    <img src='https://material.bits.vib.be/topics/python-programming/images/myDictionary-cropped.png' alt='dictionaries' title='dictionaries' width='800' height='500'/>\n",
    "</div>"
   ]
  },
  {
   "cell_type": "code",
   "execution_count": 39,
   "metadata": {},
   "outputs": [
    {
     "data": {
      "text/plain": [
       "{'name': 'Python', 'version': 3.9}"
      ]
     },
     "execution_count": 39,
     "metadata": {},
     "output_type": "execute_result"
    }
   ],
   "source": [
    "{'name': 'Python', 'version': 3.9}"
   ]
  },
  {
   "attachments": {},
   "cell_type": "markdown",
   "metadata": {},
   "source": [
    "### Dictionaries vs Lists\n",
    "\n",
    "Here are a few points on how dictionaries compare to other Python data structures:\n",
    "\n",
    "- **Lists**: Lists are ordered, indexed by integers, and can contain duplicate items. They are best used when the order of elements matters, and you might need to access them by their position.\n",
    "\n",
    "- **Dictionaries**: Dictionaries, too, preserve the uniqueness of their keys, but they allow attaching a value to each key, creating a pair. Unlike lists, dictionaries are indexed by keys, making them highly efficient for associating data."
   ]
  },
  {
   "attachments": {},
   "cell_type": "markdown",
   "metadata": {},
   "source": [
    "### Creating Dictionaries in Python"
   ]
  },
  {
   "cell_type": "code",
   "execution_count": 85,
   "metadata": {},
   "outputs": [],
   "source": [
    "# Creating an empty dictionary\n",
    "empty_dict = {}\n",
    "empty_dict_1 = dict()"
   ]
  },
  {
   "cell_type": "code",
   "execution_count": 83,
   "metadata": {},
   "outputs": [],
   "source": [
    "# A dictionary with integer keys and string values\n",
    "student_grades = {1: 'A', 2: 'B', 3: 'C'}"
   ]
  },
  {
   "cell_type": "code",
   "execution_count": 86,
   "metadata": {},
   "outputs": [
    {
     "data": {
      "text/plain": [
       "{'name': 'Alice', 'age': 30, 1: ['pizza', 'pasta']}"
      ]
     },
     "execution_count": 86,
     "metadata": {},
     "output_type": "execute_result"
    }
   ],
   "source": [
    "# A dictionary with mixed key types\n",
    "person_info = {'name': 'Alice', 'age': 30, 1: ['pizza', 'pasta']}\n",
    "person_info"
   ]
  },
  {
   "attachments": {},
   "cell_type": "markdown",
   "metadata": {},
   "source": [
    "Here, we mixed strings and an integer as keys and even included a list as one of the values - dictionaries are versatile!"
   ]
  },
  {
   "attachments": {},
   "cell_type": "markdown",
   "metadata": {},
   "source": [
    "### Different ways to Create Dictionaries"
   ]
  },
  {
   "cell_type": "code",
   "execution_count": 90,
   "metadata": {},
   "outputs": [
    {
     "data": {
      "text/plain": [
       "{'Name': 'Alice', 'Username': 'user123', 'Password': 'hello345', 'Age': 37}"
      ]
     },
     "execution_count": 90,
     "metadata": {},
     "output_type": "execute_result"
    }
   ],
   "source": [
    "# Direct initialization with key-value pairs\n",
    "student_info_1 = {'Name': 'Alice', 'Username': 'user123', 'Password': 'hello345', 'Age': 37}\n",
    "student_info_1"
   ]
  },
  {
   "cell_type": "code",
   "execution_count": 91,
   "metadata": {},
   "outputs": [
    {
     "data": {
      "text/plain": [
       "{'Name': 'Alice', 'Username': 'user123', 'Password': 'hello345', 'Age': 37}"
      ]
     },
     "execution_count": 91,
     "metadata": {},
     "output_type": "execute_result"
    }
   ],
   "source": [
    "# Using a sequence of tuples with the dict() constructor\n",
    "student_info_2 = dict([('Name', 'Alice'), ('Username', 'user123'), ('Password', 'hello345'), ('Age', 37)])\n",
    "student_info_2"
   ]
  },
  {
   "cell_type": "code",
   "execution_count": 92,
   "metadata": {},
   "outputs": [
    {
     "data": {
      "text/plain": [
       "{'Name': 'Alice', 'Username': 'user123', 'Password': 'hello345', 'Age': 37}"
      ]
     },
     "execution_count": 92,
     "metadata": {},
     "output_type": "execute_result"
    }
   ],
   "source": [
    "# Using keyword arguments with the dict() constructor\n",
    "student_info_3 = dict(Name = 'Alice', Username = 'user123', Password = 'hello345', Age = 37)\n",
    "student_info_3"
   ]
  },
  {
   "attachments": {},
   "cell_type": "markdown",
   "metadata": {},
   "source": [
    "<font color='#FF69B4'>**Note:**</font> In Python dictionaries, `keys must be immutable types`, which means you cannot use mutable types such as lists or other dictionaries as keys. However, you can use tuples as keys if they contain only immutable elements."
   ]
  },
  {
   "cell_type": "code",
   "execution_count": 93,
   "metadata": {},
   "outputs": [
    {
     "ename": "TypeError",
     "evalue": "unhashable type: 'list'",
     "output_type": "error",
     "traceback": [
      "\u001b[0;31m---------------------------------------------------------------------------\u001b[0m",
      "\u001b[0;31mTypeError\u001b[0m                                 Traceback (most recent call last)",
      "Cell \u001b[0;32mIn[93], line 2\u001b[0m\n\u001b[1;32m      1\u001b[0m \u001b[39m# This will raise a TypeError as lists are not immutable\u001b[39;00m\n\u001b[0;32m----> 2\u001b[0m my_dict \u001b[39m=\u001b[39m {[\u001b[39m1\u001b[39m, \u001b[39m2\u001b[39m, \u001b[39m3\u001b[39m]: \u001b[39m'\u001b[39m\u001b[39mabc\u001b[39m\u001b[39m'\u001b[39m}\n",
      "\u001b[0;31mTypeError\u001b[0m: unhashable type: 'list'"
     ]
    }
   ],
   "source": [
    "# This will raise a TypeError as lists are not immutable\n",
    "my_dict = {[1, 2, 3]: 'abc'}"
   ]
  },
  {
   "cell_type": "code",
   "execution_count": 96,
   "metadata": {},
   "outputs": [
    {
     "data": {
      "text/plain": [
       "'abc'"
      ]
     },
     "execution_count": 96,
     "metadata": {},
     "output_type": "execute_result"
    }
   ],
   "source": [
    "# This is fine as tuples are immutable\n",
    "my_dict = {(1, 2, 3): 'abc'}\n",
    "my_dict[(1, 2, 3)]"
   ]
  },
  {
   "attachments": {},
   "cell_type": "markdown",
   "metadata": {},
   "source": [
    "### Accessing Dictionary Values in Python"
   ]
  },
  {
   "attachments": {},
   "cell_type": "markdown",
   "metadata": {},
   "source": [
    "Each value stored in a dictionary is associated with a unique key. You can retrieve a value by using square brackets `[]` along with the key:"
   ]
  },
  {
   "cell_type": "code",
   "execution_count": 97,
   "metadata": {},
   "outputs": [
    {
     "data": {
      "text/plain": [
       "'Alice'"
      ]
     },
     "execution_count": 97,
     "metadata": {},
     "output_type": "execute_result"
    }
   ],
   "source": [
    "person_info = {'name': 'Alice', 'age': 30, 'city': 'New York'}\n",
    "person_info['name']"
   ]
  },
  {
   "attachments": {},
   "cell_type": "markdown",
   "metadata": {},
   "source": [
    "There are times you may want to access all keys, all values, or all key-value pairs in a dictionary. Python dictionaries provide methods for these operations:\n",
    "\n",
    "- `keys()`: This method returns a new view of the dictionary's keys.\n",
    "- `values()`: This method returns a new view of the dictionary's values.\n",
    "- `items()`: This method returns a new view of the dictionary's items (key-value pairs)."
   ]
  },
  {
   "cell_type": "code",
   "execution_count": 98,
   "metadata": {},
   "outputs": [
    {
     "data": {
      "text/plain": [
       "dict_keys(['name', 'age', 'city'])"
      ]
     },
     "execution_count": 98,
     "metadata": {},
     "output_type": "execute_result"
    }
   ],
   "source": [
    "# Accessing all keys\n",
    "keys = person_info.keys()\n",
    "keys"
   ]
  },
  {
   "cell_type": "code",
   "execution_count": 99,
   "metadata": {},
   "outputs": [
    {
     "data": {
      "text/plain": [
       "dict_values(['Alice', 30, 'New York'])"
      ]
     },
     "execution_count": 99,
     "metadata": {},
     "output_type": "execute_result"
    }
   ],
   "source": [
    "# Accessing all values\n",
    "values = person_info.values()\n",
    "values"
   ]
  },
  {
   "cell_type": "code",
   "execution_count": 100,
   "metadata": {},
   "outputs": [
    {
     "data": {
      "text/plain": [
       "dict_items([('name', 'Alice'), ('age', 30), ('city', 'New York')])"
      ]
     },
     "execution_count": 100,
     "metadata": {},
     "output_type": "execute_result"
    }
   ],
   "source": [
    "# Accessing all items\n",
    "items = person_info.items()\n",
    "items"
   ]
  },
  {
   "attachments": {},
   "cell_type": "markdown",
   "metadata": {},
   "source": [
    "### Adding, Updating and Removing Dictionary Items in Python"
   ]
  },
  {
   "attachments": {},
   "cell_type": "markdown",
   "metadata": {},
   "source": [
    "To add an item to a dictionary, you can use the assignment operator (`=`) with a new key and the value that you want to associate with it. If the key doesn't already exist in the dictionary, then a new key-value pair is added:"
   ]
  },
  {
   "cell_type": "code",
   "execution_count": 101,
   "metadata": {},
   "outputs": [],
   "source": [
    "# Starting with an empty dictionary\n",
    "portfolio = {}"
   ]
  },
  {
   "cell_type": "code",
   "execution_count": 103,
   "metadata": {},
   "outputs": [
    {
     "data": {
      "text/plain": [
       "{'AAPL': 100}"
      ]
     },
     "execution_count": 103,
     "metadata": {},
     "output_type": "execute_result"
    }
   ],
   "source": [
    "# Adding a new key-value pair\n",
    "portfolio['AAPL'] = 100  # Add a new item with key 'AAPL' and value 100\n",
    "portfolio"
   ]
  },
  {
   "cell_type": "code",
   "execution_count": 105,
   "metadata": {},
   "outputs": [
    {
     "data": {
      "text/plain": [
       "{'AAPL': 100, 'GOOG': 25}"
      ]
     },
     "execution_count": 105,
     "metadata": {},
     "output_type": "execute_result"
    }
   ],
   "source": [
    "# Adding another item\n",
    "portfolio['GOOG'] = 25  # Add another item\n",
    "portfolio"
   ]
  },
  {
   "cell_type": "code",
   "execution_count": 106,
   "metadata": {},
   "outputs": [
    {
     "data": {
      "text/plain": [
       "{'AAPL': 150, 'GOOG': 25}"
      ]
     },
     "execution_count": 106,
     "metadata": {},
     "output_type": "execute_result"
    }
   ],
   "source": [
    "# Updating the value of an existing key\n",
    "portfolio['AAPL'] = 150  # Update the value associated with key 'AAPL'\n",
    "portfolio"
   ]
  },
  {
   "attachments": {},
   "cell_type": "markdown",
   "metadata": {},
   "source": [
    "<font color='#FF69B4'>**Note:**</font> The `.update()` method offers an alternative way to add new items or update existing ones, specially when we want to update several items at once."
   ]
  },
  {
   "cell_type": "code",
   "execution_count": 107,
   "metadata": {},
   "outputs": [
    {
     "data": {
      "text/plain": [
       "{'AAPL': 200, 'GOOG': 25, 'TSLA': 50}"
      ]
     },
     "execution_count": 107,
     "metadata": {},
     "output_type": "execute_result"
    }
   ],
   "source": [
    "# Using another dictionary to update\n",
    "portfolio.update({'TSLA': 50, 'AAPL': 200})  # Updates 'AAPL' and adds 'TSLA'\n",
    "portfolio"
   ]
  },
  {
   "cell_type": "code",
   "execution_count": 108,
   "metadata": {},
   "outputs": [
    {
     "data": {
      "text/plain": [
       "{'AAPL': 200, 'GOOG': 25, 'TSLA': 50, 'MSFT': 80, 'AMZN': 15}"
      ]
     },
     "execution_count": 108,
     "metadata": {},
     "output_type": "execute_result"
    }
   ],
   "source": [
    "# Using an iterable of key-value pairs\n",
    "portfolio.update([('MSFT', 80), ('AMZN', 15)]) \n",
    "portfolio"
   ]
  },
  {
   "attachments": {},
   "cell_type": "markdown",
   "metadata": {},
   "source": [
    "<font color='#FF69B4'>**Note:**</font> The `del` statement is used to delete items from a dictionary by specifying the key. After the removal, the key and its associated value are no longer present in the dictionary. "
   ]
  },
  {
   "cell_type": "code",
   "execution_count": 109,
   "metadata": {},
   "outputs": [],
   "source": [
    "# Consider the following dictionary\n",
    "grade_book = {'math': 95, 'science': 90, 'history': 85, 'english': 80}"
   ]
  },
  {
   "cell_type": "code",
   "execution_count": 110,
   "metadata": {},
   "outputs": [
    {
     "data": {
      "text/plain": [
       "{'math': 95, 'science': 90, 'english': 80}"
      ]
     },
     "execution_count": 110,
     "metadata": {},
     "output_type": "execute_result"
    }
   ],
   "source": [
    "# Removing an item with a specific key\n",
    "del grade_book['history']\n",
    "grade_book"
   ]
  },
  {
   "attachments": {},
   "cell_type": "markdown",
   "metadata": {},
   "source": [
    "To remove all items from a dictionary, effectively resetting it to an empty dictionary, you can use the `.clear()` method:"
   ]
  },
  {
   "cell_type": "code",
   "execution_count": 111,
   "metadata": {},
   "outputs": [
    {
     "data": {
      "text/plain": [
       "{}"
      ]
     },
     "execution_count": 111,
     "metadata": {},
     "output_type": "execute_result"
    }
   ],
   "source": [
    "# Clearing all items from the dictionary\n",
    "grade_book.clear()\n",
    "grade_book"
   ]
  },
  {
   "attachments": {},
   "cell_type": "markdown",
   "metadata": {},
   "source": [
    "The `.get(key, default=None)` method returns the value for the specified key if the key is in the dictionary; otherwise, it returns the default value:"
   ]
  },
  {
   "cell_type": "code",
   "execution_count": 113,
   "metadata": {},
   "outputs": [
    {
     "data": {
      "text/plain": [
       "1"
      ]
     },
     "execution_count": 113,
     "metadata": {},
     "output_type": "execute_result"
    }
   ],
   "source": [
    "sample_dict = {'a': 1, 'b': 2, 'c': 3}\n",
    "sample_dict.get('a')"
   ]
  },
  {
   "cell_type": "code",
   "execution_count": 114,
   "metadata": {},
   "outputs": [
    {
     "data": {
      "text/plain": [
       "'Not Found'"
      ]
     },
     "execution_count": 114,
     "metadata": {},
     "output_type": "execute_result"
    }
   ],
   "source": [
    "# Returns 'Not Found' as 'd' does not exist in the dictionary\n",
    "sample_dict.get('d', 'Not Found')"
   ]
  },
  {
   "attachments": {},
   "cell_type": "markdown",
   "metadata": {},
   "source": [
    "### Nested Dictionaries in Python\n",
    "Nested dictionaries are dictionaries that contain other dictionaries as their values. This structure allows you to create complex, hierarchical data models within a single, nested data structure. Let's explore the concept of nested dictionaries and how to work with them."
   ]
  },
  {
   "attachments": {},
   "cell_type": "markdown",
   "metadata": {},
   "source": [
    "A nested dictionary is used when one key refers to another dictionary. These can be as deep as needed, meaning you can have a dictionary that contains a dictionary, which in turn contains another dictionary, and so on."
   ]
  },
  {
   "cell_type": "code",
   "execution_count": 5,
   "metadata": {},
   "outputs": [],
   "source": [
    "# A simple nested dictionary\n",
    "family_ages = {\n",
    "    'parent1': {'name': 'John', 'age': 42},\n",
    "    'parent2': {'name': 'Jane', 'age': 40},\n",
    "    'child': {'name': 'Doe', 'age': 18}\n",
    "}"
   ]
  },
  {
   "attachments": {},
   "cell_type": "markdown",
   "metadata": {},
   "source": [
    "In this example, the keys 'parent1', 'parent2', and 'child' are mapped to other dictionaries that store individual information about family members."
   ]
  },
  {
   "cell_type": "code",
   "execution_count": 6,
   "metadata": {},
   "outputs": [
    {
     "data": {
      "text/plain": [
       "'John'"
      ]
     },
     "execution_count": 6,
     "metadata": {},
     "output_type": "execute_result"
    }
   ],
   "source": [
    "# Accessing nested dictionary values\n",
    "parent1_name = family_ages['parent1']['name']\n",
    "parent1_name"
   ]
  },
  {
   "cell_type": "code",
   "execution_count": 7,
   "metadata": {},
   "outputs": [
    {
     "data": {
      "text/plain": [
       "{'parent1': {'name': 'John', 'age': 43},\n",
       " 'parent2': {'name': 'Jane', 'age': 40},\n",
       " 'child': {'name': 'Doe', 'age': 18}}"
      ]
     },
     "execution_count": 7,
     "metadata": {},
     "output_type": "execute_result"
    }
   ],
   "source": [
    "# Modifying an item in a nested dictionary\n",
    "family_ages['parent1']['age'] = 43\n",
    "family_ages"
   ]
  },
  {
   "attachments": {},
   "cell_type": "markdown",
   "metadata": {},
   "source": [
    "Adding a new item is similar to modifying, except you specify a new key for the nested dictionary"
   ]
  },
  {
   "cell_type": "code",
   "execution_count": 8,
   "metadata": {},
   "outputs": [
    {
     "data": {
      "text/plain": [
       "{'parent1': {'name': 'John', 'age': 43, 'birthday': 'January 1'},\n",
       " 'parent2': {'name': 'Jane', 'age': 40},\n",
       " 'child': {'name': 'Doe', 'age': 18}}"
      ]
     },
     "execution_count": 8,
     "metadata": {},
     "output_type": "execute_result"
    }
   ],
   "source": [
    "# Adding a new item to a nested dictionary\n",
    "family_ages['parent1']['birthday'] = 'January 1'\n",
    "family_ages"
   ]
  },
  {
   "attachments": {},
   "cell_type": "markdown",
   "metadata": {},
   "source": [
    "Using `.pop()` method with nested dictionaries:"
   ]
  },
  {
   "cell_type": "code",
   "execution_count": 9,
   "metadata": {},
   "outputs": [
    {
     "data": {
      "text/plain": [
       "{'parent1': {'name': 'John', 'age': 43},\n",
       " 'parent2': {'name': 'Jane', 'age': 40},\n",
       " 'child': {'name': 'Doe', 'age': 18}}"
      ]
     },
     "execution_count": 9,
     "metadata": {},
     "output_type": "execute_result"
    }
   ],
   "source": [
    "family_ages['parent1'].pop('birthday')\n",
    "family_ages"
   ]
  },
  {
   "attachments": {},
   "cell_type": "markdown",
   "metadata": {},
   "source": [
    "## Time to practice: \n",
    "\n",
    "- **Question 1**:  \n",
    "Create a dictionary named student_info containing the following information about a student: name (\"John Doe\"), age (22), and major (\"Computer Science\"). Then, access and print the student's major using two methods: direct key access and the get() method."
   ]
  },
  {
   "attachments": {},
   "cell_type": "markdown",
   "metadata": {},
   "source": [
    "- **Question 2**:  \n",
    "Add a new key-value pair to student_info, indicating the student's GPA as 3.5. Then, update the student's major to \"Data Science\". Print the updated dictionary."
   ]
  },
  {
   "attachments": {},
   "cell_type": "markdown",
   "metadata": {},
   "source": [
    "- **Question 3**:  \n",
    "Remove the GPA information from student_info using the pop() method and print the key-value pair being removed. Then, clear all remaining items in student_info and print the empty dictionary."
   ]
  },
  {
   "cell_type": "code",
   "execution_count": 119,
   "metadata": {},
   "outputs": [
    {
     "name": "stdout",
     "output_type": "stream",
     "text": [
      "Computer Science\n",
      "Computer Science\n"
     ]
    }
   ],
   "source": [
    "# Answer 1\n",
    "\n",
    "# Creating the dictionary\n",
    "student_info = {\"name\": \"John Doe\", \"age\": 22, \"major\": \"Computer Science\"}\n",
    "\n",
    "# Accessing and printing the major using direct key access\n",
    "print(student_info[\"major\"])\n",
    "\n",
    "# Accessing and printing the major using the get() method\n",
    "print(student_info.get(\"major\"))\n"
   ]
  },
  {
   "cell_type": "code",
   "execution_count": 120,
   "metadata": {},
   "outputs": [
    {
     "name": "stdout",
     "output_type": "stream",
     "text": [
      "{'name': 'John Doe', 'age': 22, 'major': 'Data Science', 'GPA': 3.5}\n"
     ]
    }
   ],
   "source": [
    "# Answer 2\n",
    "# Adding a new key-value pair\n",
    "student_info[\"GPA\"] = 3.5\n",
    "\n",
    "# Updating the major\n",
    "student_info[\"major\"] = \"Data Science\"\n",
    "\n",
    "# Printing the updated dictionary\n",
    "print(student_info)\n"
   ]
  },
  {
   "cell_type": "code",
   "execution_count": 121,
   "metadata": {},
   "outputs": [
    {
     "name": "stdout",
     "output_type": "stream",
     "text": [
      "Removed GPA: 3.5\n",
      "{}\n"
     ]
    }
   ],
   "source": [
    "# Answer 3\n",
    "# Removing and printing the GPA information\n",
    "removed_gpa = student_info.pop(\"GPA\")\n",
    "print(\"Removed GPA:\", removed_gpa)\n",
    "\n",
    "# Clearing all items and printing the empty dictionary\n",
    "student_info.clear()\n",
    "print(student_info)\n"
   ]
  },
  {
   "attachments": {},
   "cell_type": "markdown",
   "metadata": {},
   "source": [
    "## <font color='#FFA500'>**Sets**</font> "
   ]
  },
  {
   "attachments": {},
   "cell_type": "markdown",
   "metadata": {},
   "source": [
    "Sets are an unordered collection of unique elements without duplicates. They are `mutable`, but they can only contain immutable Python objects as elements.  \n",
    "You can perform operations like union, intersection, and difference on sets, similar to mathematical sets. \n",
    "\n",
    "Sets are represented with curly brackets `{}`."
   ]
  },
  {
   "attachments": {},
   "cell_type": "markdown",
   "metadata": {},
   "source": [
    "**Characteristics of Sets:**\n",
    "- **Unique Elements**: Sets enforce uniqueness; no two elements can be the same. Duplicate items are automatically merged.\n",
    "- **Mutable**: You can add and remove items from a set.\n",
    "- **Unordered**: The items in a set do not have a defined order; sets are not sequence data types.\n",
    "- **Unindexed**: Unlike lists or tuples, sets do not support indexing or slicing.\n"
   ]
  },
  {
   "cell_type": "code",
   "execution_count": 1,
   "metadata": {},
   "outputs": [
    {
     "data": {
      "text/plain": [
       "{1, 2, 4.0, 'Python'}"
      ]
     },
     "execution_count": 1,
     "metadata": {},
     "output_type": "execute_result"
    }
   ],
   "source": [
    "{1, 2, 'Python', 4.0}"
   ]
  },
  {
   "attachments": {},
   "cell_type": "markdown",
   "metadata": {},
   "source": [
    "**Sets vs. Lists vs. Dictionaries:**\n",
    "- **Lists** are ordered collections of items which can `contain duplicates` and `support indexing`.\n",
    "- **Dictionaries** hold `key-value pairs` and are `indexed by keys`, which must be `unique`.\n",
    "- **Sets**, on the other hand, are used when the `order is unimportant`, and you need to ensure that there are `no duplicates` in the collection."
   ]
  },
  {
   "attachments": {},
   "cell_type": "markdown",
   "metadata": {},
   "source": [
    "**When to Use a Set?**\n",
    "\n",
    "Use a set when you have a collection of unique items and you want to perform operations like checking for membership, eliminating duplicates from a list, or performing mathematical set operations like unions and intersections.\n",
    "\n",
    "Sets are particularly useful when dealing with data where the representation of a mathematical set is needed, such as groups, selections, or pool of unique items where it's essential to know whether an item is present or not without caring about the order.\n",
    "\n",
    "In summary, Python sets are simple yet powerful. Understanding their properties and how they differ from other data types like lists and dictionaries is crucial as it allows you to select the right tool for your data manipulation tasks."
   ]
  },
  {
   "cell_type": "code",
   "execution_count": 2,
   "metadata": {},
   "outputs": [],
   "source": [
    "my_set = {1, 2, 3, 4, 5}"
   ]
  },
  {
   "attachments": {},
   "cell_type": "markdown",
   "metadata": {},
   "source": [
    "Because empty curly braces `{}` are used to define an empty dictionary, sets have their own syntax for an empty set using the `set()` constructor with no arguments:"
   ]
  },
  {
   "cell_type": "code",
   "execution_count": 3,
   "metadata": {},
   "outputs": [],
   "source": [
    "empty_set = set()"
   ]
  },
  {
   "cell_type": "code",
   "execution_count": 125,
   "metadata": {},
   "outputs": [
    {
     "data": {
      "text/plain": [
       "{1, 2, 3, 4, 5}"
      ]
     },
     "execution_count": 125,
     "metadata": {},
     "output_type": "execute_result"
    }
   ],
   "source": [
    "# Creating a set from a list\n",
    "list_with_duplicates = [1, 2, 2, 3, 4, 4, 5]\n",
    "unique_set = set(list_with_duplicates)\n",
    "unique_set"
   ]
  },
  {
   "cell_type": "code",
   "execution_count": 4,
   "metadata": {},
   "outputs": [],
   "source": [
    "my_set = {1, 2, 3, 4, 5}"
   ]
  },
  {
   "cell_type": "code",
   "execution_count": 5,
   "metadata": {},
   "outputs": [
    {
     "data": {
      "text/plain": [
       "True"
      ]
     },
     "execution_count": 5,
     "metadata": {},
     "output_type": "execute_result"
    }
   ],
   "source": [
    "# Check if 3 is in the set\n",
    "3 in my_set"
   ]
  },
  {
   "cell_type": "code",
   "execution_count": 6,
   "metadata": {},
   "outputs": [
    {
     "data": {
      "text/plain": [
       "[1, 2, 3, 4, 5]"
      ]
     },
     "execution_count": 6,
     "metadata": {},
     "output_type": "execute_result"
    }
   ],
   "source": [
    "# Converting a Set to a List\n",
    "ordered_elements = list(my_set)\n",
    "ordered_elements"
   ]
  },
  {
   "cell_type": "code",
   "execution_count": 7,
   "metadata": {},
   "outputs": [],
   "source": [
    "my_set = {1, 2, 3}"
   ]
  },
  {
   "cell_type": "code",
   "execution_count": 8,
   "metadata": {},
   "outputs": [
    {
     "data": {
      "text/plain": [
       "{1, 2, 3, 4}"
      ]
     },
     "execution_count": 8,
     "metadata": {},
     "output_type": "execute_result"
    }
   ],
   "source": [
    "# Adding an element to the set\n",
    "my_set.add(4)\n",
    "my_set"
   ]
  },
  {
   "cell_type": "code",
   "execution_count": 10,
   "metadata": {},
   "outputs": [
    {
     "data": {
      "text/plain": [
       "{1, 2, 3, 4}"
      ]
     },
     "execution_count": 10,
     "metadata": {},
     "output_type": "execute_result"
    }
   ],
   "source": [
    "# Attempting to add a duplicate element\n",
    "my_set.add(2)\n",
    "my_set"
   ]
  },
  {
   "attachments": {},
   "cell_type": "markdown",
   "metadata": {},
   "source": [
    "<font color='#FF69B4'>**Note:**</font> The highlight of sets is that they contain `unique items`—no duplicates. If an attempt is made to add a duplicate element with .add(), the set remains unchanged:"
   ]
  },
  {
   "cell_type": "code",
   "execution_count": 11,
   "metadata": {},
   "outputs": [
    {
     "data": {
      "text/plain": [
       "{1, 2, 3, 4, 5, 6}"
      ]
     },
     "execution_count": 11,
     "metadata": {},
     "output_type": "execute_result"
    }
   ],
   "source": [
    "# Using update with a list (to add multiple new elements, not just one)\n",
    "my_set.update([2, 5, 6])\n",
    "my_set"
   ]
  },
  {
   "cell_type": "code",
   "execution_count": 12,
   "metadata": {},
   "outputs": [
    {
     "data": {
      "text/plain": [
       "{1, 2, 3, 4, 5, 6, 7, 8}"
      ]
     },
     "execution_count": 12,
     "metadata": {},
     "output_type": "execute_result"
    }
   ],
   "source": [
    "# Using update with another set\n",
    "another_set = {6, 7, 8}\n",
    "my_set.update(another_set)\n",
    "my_set"
   ]
  },
  {
   "cell_type": "code",
   "execution_count": 13,
   "metadata": {},
   "outputs": [],
   "source": [
    "my_set = {1, 2, 3, 4, 5}"
   ]
  },
  {
   "cell_type": "code",
   "execution_count": 14,
   "metadata": {},
   "outputs": [
    {
     "data": {
      "text/plain": [
       "{1, 2, 4, 5}"
      ]
     },
     "execution_count": 14,
     "metadata": {},
     "output_type": "execute_result"
    }
   ],
   "source": [
    "# Remove the element 3 from the set\n",
    "my_set.remove(3)\n",
    "my_set"
   ]
  },
  {
   "cell_type": "code",
   "execution_count": 15,
   "metadata": {},
   "outputs": [
    {
     "data": {
      "text/plain": [
       "set()"
      ]
     },
     "execution_count": 15,
     "metadata": {},
     "output_type": "execute_result"
    }
   ],
   "source": [
    "# Remove all items from a set,\n",
    "my_set.clear()\n",
    "my_set"
   ]
  },
  {
   "attachments": {},
   "cell_type": "markdown",
   "metadata": {},
   "source": [
    "### Set Operations\n",
    "\n",
    "Python sets offer a range of operations that allow you to compare sets and create new sets from existing ones based on their contents."
   ]
  },
  {
   "attachments": {},
   "cell_type": "markdown",
   "metadata": {},
   "source": [
    "<div style='text-align: center'>\n",
    "    <img src='https://drek4537l1klr.cloudfront.net/cui/Figures/CH03_F08_Cui.png' alt='setoperations' title='setoperations' width='800' height='500'/>\n",
    "</div>"
   ]
  },
  {
   "attachments": {},
   "cell_type": "markdown",
   "metadata": {},
   "source": [
    "### Union\n",
    "The union of two sets is a set containing all the distinct elements from both sets. In Python, you can use the `|` operator or the `.union()` method:"
   ]
  },
  {
   "cell_type": "code",
   "execution_count": 16,
   "metadata": {},
   "outputs": [],
   "source": [
    "set_a = {1, 2, 3}\n",
    "set_b = {3, 4, 5}"
   ]
  },
  {
   "cell_type": "code",
   "execution_count": 17,
   "metadata": {},
   "outputs": [
    {
     "data": {
      "text/plain": [
       "{1, 2, 3, 4, 5}"
      ]
     },
     "execution_count": 17,
     "metadata": {},
     "output_type": "execute_result"
    }
   ],
   "source": [
    "# Using the | operator\n",
    "set_a | set_b"
   ]
  },
  {
   "cell_type": "code",
   "execution_count": 19,
   "metadata": {},
   "outputs": [
    {
     "data": {
      "text/plain": [
       "{1, 2, 3, 4, 5}"
      ]
     },
     "execution_count": 19,
     "metadata": {},
     "output_type": "execute_result"
    }
   ],
   "source": [
    "# Using the .union() method\n",
    "set_a.union(set_b)"
   ]
  },
  {
   "attachments": {},
   "cell_type": "markdown",
   "metadata": {},
   "source": [
    "### Intersection\n",
    "The intersection of two sets is a set containing only the elements common to both sets. Use the `&` operator or the `.intersection()` method:"
   ]
  },
  {
   "cell_type": "code",
   "execution_count": 21,
   "metadata": {},
   "outputs": [
    {
     "data": {
      "text/plain": [
       "{3}"
      ]
     },
     "execution_count": 21,
     "metadata": {},
     "output_type": "execute_result"
    }
   ],
   "source": [
    "# Using the & operator\n",
    "set_a & set_b"
   ]
  },
  {
   "cell_type": "code",
   "execution_count": 22,
   "metadata": {},
   "outputs": [
    {
     "data": {
      "text/plain": [
       "{3}"
      ]
     },
     "execution_count": 22,
     "metadata": {},
     "output_type": "execute_result"
    }
   ],
   "source": [
    "# Using the .intersection() method\n",
    "set_a.intersection(set_b)"
   ]
  },
  {
   "attachments": {},
   "cell_type": "markdown",
   "metadata": {},
   "source": [
    "### Difference\n",
    "The difference between two sets is a set containing elements in the first set but not in the second. The `-` operator or the `.difference()` method achieves this:"
   ]
  },
  {
   "cell_type": "code",
   "execution_count": 23,
   "metadata": {},
   "outputs": [
    {
     "data": {
      "text/plain": [
       "{1, 2}"
      ]
     },
     "execution_count": 23,
     "metadata": {},
     "output_type": "execute_result"
    }
   ],
   "source": [
    "# Using the - operator\n",
    "set_a - set_b"
   ]
  },
  {
   "cell_type": "code",
   "execution_count": 24,
   "metadata": {},
   "outputs": [
    {
     "data": {
      "text/plain": [
       "{1, 2}"
      ]
     },
     "execution_count": 24,
     "metadata": {},
     "output_type": "execute_result"
    }
   ],
   "source": [
    "# Using the .difference() method\n",
    "set_a.difference(set_b)"
   ]
  },
  {
   "cell_type": "code",
   "execution_count": 25,
   "metadata": {},
   "outputs": [
    {
     "data": {
      "text/plain": [
       "{4, 5}"
      ]
     },
     "execution_count": 25,
     "metadata": {},
     "output_type": "execute_result"
    }
   ],
   "source": [
    "set_b - set_a"
   ]
  },
  {
   "attachments": {},
   "cell_type": "markdown",
   "metadata": {},
   "source": [
    "### Symmetric Difference\n",
    "The symmetric difference of two sets is a set containing elements that are in either of the two sets but not in both. It's like a union minus the intersection. Use the `^` operator or the `.symmetric_difference()` method:"
   ]
  },
  {
   "cell_type": "code",
   "execution_count": 26,
   "metadata": {},
   "outputs": [
    {
     "data": {
      "text/plain": [
       "{1, 2, 4, 5}"
      ]
     },
     "execution_count": 26,
     "metadata": {},
     "output_type": "execute_result"
    }
   ],
   "source": [
    "# Using the ^ operator\n",
    "set_a ^ set_b"
   ]
  },
  {
   "cell_type": "code",
   "execution_count": 27,
   "metadata": {},
   "outputs": [
    {
     "data": {
      "text/plain": [
       "{1, 2, 4, 5}"
      ]
     },
     "execution_count": 27,
     "metadata": {},
     "output_type": "execute_result"
    }
   ],
   "source": [
    "# Using the .symmetric_difference() method\n",
    "set_a.symmetric_difference(set_b)"
   ]
  },
  {
   "cell_type": "code",
   "execution_count": 28,
   "metadata": {},
   "outputs": [
    {
     "data": {
      "text/plain": [
       "{1, 2, 4, 5}"
      ]
     },
     "execution_count": 28,
     "metadata": {},
     "output_type": "execute_result"
    }
   ],
   "source": [
    "set_b ^ set_a"
   ]
  },
  {
   "attachments": {},
   "cell_type": "markdown",
   "metadata": {},
   "source": [
    "## <font color='#FFA500'>**Unpacking Tuples and Lists**</font> "
   ]
  },
  {
   "attachments": {},
   "cell_type": "markdown",
   "metadata": {},
   "source": [
    "Unpacking allows us to take a compound data structure, like a tuple or list, and distribute its contents into individual variables. \n",
    "\n",
    "This operation makes it easier to manipulate and access specific elements without indexing into the tuple or list."
   ]
  },
  {
   "attachments": {},
   "cell_type": "markdown",
   "metadata": {},
   "source": [
    "Consider that you have a tuple of coordinates, and you want to assign its element to variables, you will have 2 options:\n",
    "\n",
    "- `Option 1`: Using indexing of elements\n",
    "- `Option 2`: Using unpacking"
   ]
  },
  {
   "cell_type": "code",
   "execution_count": 31,
   "metadata": {},
   "outputs": [],
   "source": [
    "# Tuple of cordinate\n",
    "coordinate = (2, -6, 9)"
   ]
  },
  {
   "cell_type": "code",
   "execution_count": 32,
   "metadata": {},
   "outputs": [
    {
     "name": "stdout",
     "output_type": "stream",
     "text": [
      "x coordinate: 2\n",
      "y coordinate: -6\n",
      "z coordinate: 9\n"
     ]
    }
   ],
   "source": [
    "# Option 1: Indexing\n",
    "x1 = coordinate[0]\n",
    "y1 = coordinate[1]\n",
    "z1 = coordinate[2]\n",
    "\n",
    "print('x coordinate:', x1)\n",
    "print('y coordinate:', y1)\n",
    "print('z coordinate:', z1)"
   ]
  },
  {
   "cell_type": "code",
   "execution_count": 33,
   "metadata": {},
   "outputs": [
    {
     "name": "stdout",
     "output_type": "stream",
     "text": [
      "x coordinate: 2\n",
      "y coordinate: -6\n",
      "z coordinate: 9\n"
     ]
    }
   ],
   "source": [
    "# Option 2: Unpacking\n",
    "x2, y2, z2 = coordinate\n",
    "\n",
    "print('x coordinate:', x2)\n",
    "print('y coordinate:', y2)\n",
    "print('z coordinate:', z2)"
   ]
  },
  {
   "attachments": {},
   "cell_type": "markdown",
   "metadata": {},
   "source": [
    "Unpacking is similar with Lists. \n",
    "\n"
   ]
  },
  {
   "cell_type": "code",
   "execution_count": 34,
   "metadata": {},
   "outputs": [
    {
     "name": "stdout",
     "output_type": "stream",
     "text": [
      "Superhero Name: Clark Kent\n",
      "Superhero Age: 42\n",
      "Superhero Identity: Superman\n"
     ]
    }
   ],
   "source": [
    "# A list of student information\n",
    "superhero_info = ['Clark Kent', 42, 'Superman']\n",
    "name, age, identity = superhero_info\n",
    "print('Superhero Name:', name)\n",
    "print('Superhero Age:', age)\n",
    "print('Superhero Identity:', identity)"
   ]
  },
  {
   "attachments": {},
   "cell_type": "markdown",
   "metadata": {},
   "source": [
    "## Time to practice:"
   ]
  },
  {
   "attachments": {},
   "cell_type": "markdown",
   "metadata": {},
   "source": [
    "- **Exercise 1**:  \n",
    "Create a set named colors that contains the colors 'red', 'green', 'blue', and 'yellow'. Verify if 'purple' is in the colors set. Add 'purple' to the set and check again.\n",
    "\n",
    "- **Exercise 2**:  \n",
    "Given the list numbers_list = [1, 2, 3, 4, 3, 2, 1, 5, 6, 5, 4], create a set named unique_numbers from this list. `Determine how many unique numbers are in numbers_list by checking the size of unique_numbers`.\n",
    "\n",
    "- **Exercise 3**:  \n",
    "You have a set flavors containing 'chocolate', 'vanilla', and 'strawberry'. Update flavors to include 'mint' and 'bubble gum' using a single command.\n",
    "\n",
    "- **Exercise 4**:  \n",
    "There is a set tools with elements 'hammer', 'wrench', 'screwdriver', and 'pliers'. Remove 'wrench' from tools using .remove(). Then, using .discard(), attempt to remove 'saw' from tools.\n",
    "\n",
    "- **Exercise 5**:  \n",
    "Create a set planets including 'earth', 'jupiter', and 'mars'. Safely remove 'venus' from the set planets using a method that will not raise an error even if the item does not exist.\n",
    "\n",
    "- **Exercise 6**:  \n",
    "Take the planets set and clear all of its elements, ensuring that it is emptied completely.\n",
    "\n",
    "\n",
    "- **Exercise 7**:  \n",
    "Given the following sets:  \n",
    "set_x = {10, 20, 30, 40, 50}  \n",
    "set_y = {30, 40, 50, 60, 70}  \n",
    "set_z = {5, 15, 25, 35}  \n",
    "Perform the following operations:  \n",
    "Find the union of set_x and set_y using both the .union() method and the | operator. Verify that the result is the same.  \n",
    "Compute the intersection of set_x, set_y, and set_z using the .intersection() method.  \n",
    "Determine the symmetric difference between set_y and set_z using both the .symmetric_difference() method and the ^ operator. Check if the outcomes match.  \n",
    "Use the difference operator - to find elements in set_x that are not in set_y.  \n",
    "Attempt to perform an operation that combines all three sets, set_x, set_y, and set_z, into a new set containing elements shared by at least two of the sets. Hint: You may need to use method chaining or additional parentheses with operators to achieve this."
   ]
  },
  {
   "cell_type": "code",
   "execution_count": 148,
   "metadata": {},
   "outputs": [
    {
     "name": "stdout",
     "output_type": "stream",
     "text": [
      "False\n",
      "True\n"
     ]
    }
   ],
   "source": [
    "# Exercise 1:\n",
    "\n",
    "# Create the set\n",
    "colors = {'red', 'green', 'blue', 'yellow'}\n",
    "\n",
    "# Verify 'purple' in colors\n",
    "print('purple' in colors)  # Output: False\n",
    "\n",
    "# Add 'purple' to the set\n",
    "colors.add('purple')\n",
    "\n",
    "# Check again\n",
    "print('purple' in colors)  # Output: True\n"
   ]
  },
  {
   "cell_type": "code",
   "execution_count": 149,
   "metadata": {},
   "outputs": [
    {
     "name": "stdout",
     "output_type": "stream",
     "text": [
      "6\n"
     ]
    }
   ],
   "source": [
    "# Exercise 2:\n",
    "\n",
    "# Given list\n",
    "numbers_list = [1, 2, 3, 4, 3, 2, 1, 5, 6, 5, 4]\n",
    "\n",
    "# Create a set from the list\n",
    "unique_numbers = set(numbers_list)\n",
    "\n",
    "# Determine the number of unique elements\n",
    "print(len(unique_numbers))  # Output: 6\n"
   ]
  },
  {
   "cell_type": "code",
   "execution_count": 152,
   "metadata": {},
   "outputs": [
    {
     "name": "stdout",
     "output_type": "stream",
     "text": [
      "{'mint', 'vanilla', 'strawberry', 'bubble gum', 'chocolate'}\n"
     ]
    }
   ],
   "source": [
    "# Exercise 3:\n",
    "\n",
    "# Initial set\n",
    "flavors = {'chocolate', 'vanilla', 'strawberry'}\n",
    "\n",
    "# Update the set\n",
    "flavors.update(['mint', 'bubble gum'])\n",
    "\n",
    "# Verify the update\n",
    "print(flavors)\n"
   ]
  },
  {
   "cell_type": "code",
   "execution_count": 153,
   "metadata": {},
   "outputs": [
    {
     "name": "stdout",
     "output_type": "stream",
     "text": [
      "{'screwdriver', 'hammer', 'pliers'}\n"
     ]
    }
   ],
   "source": [
    "# Exercise 4:\n",
    "\n",
    "# Initial set\n",
    "tools = {'hammer', 'wrench', 'screwdriver', 'pliers'}\n",
    "\n",
    "# Remove 'wrench'\n",
    "tools.remove('wrench')\n",
    "\n",
    "# Attempt to remove 'saw'\n",
    "tools.discard('saw')\n",
    "\n",
    "# Verify the final set\n",
    "print(tools)\n"
   ]
  },
  {
   "cell_type": "code",
   "execution_count": 154,
   "metadata": {},
   "outputs": [
    {
     "name": "stdout",
     "output_type": "stream",
     "text": [
      "{'earth', 'jupiter', 'mars'}\n"
     ]
    }
   ],
   "source": [
    "# Exercise 5:\n",
    "\n",
    "# Initial set\n",
    "planets = {'earth', 'jupiter', 'mars'}\n",
    "\n",
    "# Safely remove 'venus'\n",
    "planets.discard('venus')\n",
    "\n",
    "# Verify the final set\n",
    "print(planets)\n"
   ]
  },
  {
   "cell_type": "code",
   "execution_count": 155,
   "metadata": {},
   "outputs": [
    {
     "name": "stdout",
     "output_type": "stream",
     "text": [
      "set()\n"
     ]
    }
   ],
   "source": [
    "# Exercise 6:\n",
    "\n",
    "# Clear the set\n",
    "planets.clear()\n",
    "\n",
    "# Verify the set is empty\n",
    "print(planets)  # Output: set()\n"
   ]
  },
  {
   "cell_type": "code",
   "execution_count": 156,
   "metadata": {},
   "outputs": [
    {
     "name": "stdout",
     "output_type": "stream",
     "text": [
      "True\n",
      "set()\n",
      "True\n",
      "{10, 20}\n",
      "set()\n"
     ]
    }
   ],
   "source": [
    "# Exercise 7:\n",
    "\n",
    "# Given sets\n",
    "set_x = {10, 20, 30, 40, 50}\n",
    "set_y = {30, 40, 50, 60, 70}\n",
    "set_z = {5, 15, 25, 35}\n",
    "\n",
    "# Union\n",
    "union_method = set_x.union(set_y)\n",
    "union_operator = set_x | set_y\n",
    "print(union_method == union_operator)  # Output: True\n",
    "\n",
    "# Intersection\n",
    "intersection = set_x.intersection(set_y, set_z)\n",
    "print(intersection)  # Output: set(), since no common elements among all three\n",
    "\n",
    "# Symmetric Difference\n",
    "sym_diff_method = set_y.symmetric_difference(set_z)\n",
    "sym_diff_operator = set_y ^ set_z\n",
    "print(sym_diff_method == sym_diff_operator)  # Output: True\n",
    "\n",
    "# Difference\n",
    "difference = set_x - set_y\n",
    "print(difference)  # Output: {10, 20}\n",
    "\n",
    "# Combining all three sets with shared elements\n",
    "# This operation finds elements unique to set_x and set_y, then intersects with set_z\n",
    "combined = (set_x ^ set_y) & set_z\n",
    "print(combined)  # Output could vary based on interpretation. Provided example focuses on shared elements logic.\n"
   ]
  }
 ],
 "metadata": {
  "kernelspec": {
   "display_name": "base",
   "language": "python",
   "name": "python3"
  },
  "language_info": {
   "codemirror_mode": {
    "name": "ipython",
    "version": 3
   },
   "file_extension": ".py",
   "mimetype": "text/x-python",
   "name": "python",
   "nbconvert_exporter": "python",
   "pygments_lexer": "ipython3",
   "version": "3.10.9"
  },
  "orig_nbformat": 4
 },
 "nbformat": 4,
 "nbformat_minor": 2
}
