{
 "cells": [
  {
   "attachments": {},
   "cell_type": "markdown",
   "metadata": {},
   "source": [
    "# <font color='#98FB98'>**Control Structures in Python**</font> "
   ]
  },
  {
   "attachments": {},
   "cell_type": "markdown",
   "metadata": {},
   "source": [
    "`Control Structures` in programming are constructs that dictate the flow of control in a program.  \n",
    "They enable a program to make decisions, execute code blocks conditionally, and perform tasks repeatedly."
   ]
  },
  {
   "attachments": {},
   "cell_type": "markdown",
   "metadata": {},
   "source": [
    "Python, like most programming languages, offers a variety of control structures that can be classified into three main categories: \n",
    "- `Sequential`\n",
    "- `Selection`\n",
    "- `Iteration`"
   ]
  },
  {
   "attachments": {},
   "cell_type": "markdown",
   "metadata": {},
   "source": [
    "<div style='text-align: center'>\n",
    "    <img src='https://net-informations.com/python/flow/img/control.png' alt='python_structures' title='python_structures' width='600' height='400'/>\n",
    "</div>"
   ]
  },
  {
   "attachments": {},
   "cell_type": "markdown",
   "metadata": {},
   "source": [
    "## <font color='#FFA500'>**Sequential Control Structure**</font> "
   ]
  },
  {
   "attachments": {},
   "cell_type": "markdown",
   "metadata": {},
   "source": [
    "The default mode of program execution is sequential. The interpreter executes Python code line by line, from the top of the file to the bottom.  \n",
    "Each statement is executed in the order it appears, and this is the `simplest` form of control flow."
   ]
  },
  {
   "cell_type": "code",
   "execution_count": 4,
   "metadata": {},
   "outputs": [
    {
     "name": "stdout",
     "output_type": "stream",
     "text": [
      "Hello, Class!\n",
      "9\n"
     ]
    }
   ],
   "source": [
    "# Sequential execution example\n",
    "print('Hello, Class!')  # Executed first\n",
    "x = 15                  # Executed second\n",
    "y = x - 6               # Executed third\n",
    "print(y)                # Executed fourth"
   ]
  },
  {
   "attachments": {},
   "cell_type": "markdown",
   "metadata": {},
   "source": [
    "## <font color='#FFA500'>**Selection Control Structure (Conditional Statements)**</font> "
   ]
  },
  {
   "attachments": {},
   "cell_type": "markdown",
   "metadata": {},
   "source": [
    "Selection Control Structures, also known as `Conditional Statements` or `decision-making` structures, allow a program to execute different code blocks based on certain conditions.  \n",
    "Python provides `if`, `elif`, and `else` statements for this purpose."
   ]
  },
  {
   "attachments": {},
   "cell_type": "markdown",
   "metadata": {},
   "source": [
    "### The `if` Statement\n",
    "The `if` statement is the most basic form of selection control structure. It executes a block of code only if a specified condition is true."
   ]
  },
  {
   "attachments": {},
   "cell_type": "markdown",
   "metadata": {},
   "source": [
    "<div style='text-align: center'>\n",
    "    <img src='https://files.realpython.com/media/t.78f3bacaa261.png' alt='if_staatement' title='if_staatement' width='600' height='400'/>\n",
    "</div>"
   ]
  },
  {
   "cell_type": "code",
   "execution_count": 4,
   "metadata": {},
   "outputs": [
    {
     "name": "stdout",
     "output_type": "stream",
     "text": [
      "You have successfully completed the course.\n"
     ]
    }
   ],
   "source": [
    "# if statement example\n",
    "grade = 85\n",
    "if grade >= 70:\n",
    "    print('You have successfully completed the course.')"
   ]
  },
  {
   "attachments": {},
   "cell_type": "markdown",
   "metadata": {},
   "source": [
    "If the condition `grade >= 70` is true, the print statement is executed.  \n",
    "If the condition is false, the block of code under the if statement is skipped."
   ]
  },
  {
   "attachments": {},
   "cell_type": "markdown",
   "metadata": {},
   "source": [
    "<font color='#FF69B4'>**Note:**</font>\n",
    "> - An **expression** is a combination of values, variables, and operators that, when evaluated, produces another value. This means that expressions are units of code that can be reduced to a value.\n",
    "> - A **statement**, on the other hand, is a complete line of code that performs some action. It's an instruction that the program executes."
   ]
  },
  {
   "attachments": {},
   "cell_type": "markdown",
   "metadata": {},
   "source": [
    "### The `else` Statement\n",
    "The `else` statement complements the `if` statement. An `else` block is executed if the `if` statement's condition is false."
   ]
  },
  {
   "cell_type": "code",
   "execution_count": 7,
   "metadata": {},
   "outputs": [
    {
     "name": "stdout",
     "output_type": "stream",
     "text": [
      "x is less than or equal to 5.\n"
     ]
    }
   ],
   "source": [
    "# if-else statement example\n",
    "x = 4\n",
    "if x > 5:\n",
    "    print('x is greater than 5.')\n",
    "else:\n",
    "    print('x is less than or equal to 5.')"
   ]
  },
  {
   "attachments": {},
   "cell_type": "markdown",
   "metadata": {},
   "source": [
    "In this case, since `x` is not greater than 5, the `else` block is executed."
   ]
  },
  {
   "attachments": {},
   "cell_type": "markdown",
   "metadata": {},
   "source": [
    "### The `elif` Statement\n",
    "The `elif` (short for 'else if') statement can be used to check multiple conditions sequentially.  \n",
    "It is used after an `if` statement and before an `else` statement to check additional conditions."
   ]
  },
  {
   "cell_type": "code",
   "execution_count": 10,
   "metadata": {},
   "outputs": [
    {
     "name": "stdout",
     "output_type": "stream",
     "text": [
      "You have failed, and you need to retake the course.\n"
     ]
    }
   ],
   "source": [
    "# if-elif-else statement example\n",
    "grade = 54\n",
    "if grade >= 70:\n",
    "    print('You have successfully completed the course.')\n",
    "elif grade >= 60:\n",
    "    print('You need to do extra project.')\n",
    "else:\n",
    "    print('You have failed, and you need to retake the course.')"
   ]
  },
  {
   "attachments": {},
   "cell_type": "markdown",
   "metadata": {},
   "source": [
    "Here, `grade` is equal to 54, so the last `else` block is executed. If `x` were, say, 64, the `elif` block would execute."
   ]
  },
  {
   "attachments": {},
   "cell_type": "markdown",
   "metadata": {},
   "source": [
    "### Nested Conditional Statements\n",
    "Conditional statements can be nested within each other. This allows for complex decision-making processes where the outcome depends on multiple conditions."
   ]
  },
  {
   "cell_type": "code",
   "execution_count": 11,
   "metadata": {},
   "outputs": [
    {
     "name": "stdout",
     "output_type": "stream",
     "text": [
      "Grade: A\n"
     ]
    }
   ],
   "source": [
    "# Nested conditionals example\n",
    "grade = 85\n",
    "if grade >= 60:\n",
    "    if grade >= 70:\n",
    "        if grade >= 80:\n",
    "            print('Grade: A')\n",
    "        else:\n",
    "            print('Grade: B')\n",
    "    else:\n",
    "        print('Grade: C')\n",
    "else:\n",
    "    print('Grade: F')"
   ]
  },
  {
   "attachments": {},
   "cell_type": "markdown",
   "metadata": {},
   "source": [
    "<div style='text-align: center'>\n",
    "    <img src=\"images/Untitled_Notebook-1.jpg\" alt=\"Alt text\" width=\"600\" height=\"600\"/>\n",
    "</div>"
   ]
  },
  {
   "attachments": {},
   "cell_type": "markdown",
   "metadata": {},
   "source": [
    "### Conditional Expressions (Ternary Operator)\n",
    "Python supports a condensed way of writing simple `if-else` statements, known as conditional expressions or the ternary operator."
   ]
  },
  {
   "cell_type": "code",
   "execution_count": 56,
   "metadata": {},
   "outputs": [
    {
     "name": "stdout",
     "output_type": "stream",
     "text": [
      "Greater than 5.\n"
     ]
    }
   ],
   "source": [
    "# Conditional expression example\n",
    "x = 10\n",
    "result = 'Greater than 5.' if x > 5 else 'Less than or equal to 5.'\n",
    "print(result)"
   ]
  },
  {
   "cell_type": "code",
   "execution_count": 55,
   "metadata": {},
   "outputs": [
    {
     "name": "stdout",
     "output_type": "stream",
     "text": [
      "Greater than 5.\n"
     ]
    }
   ],
   "source": [
    "# if-else statement example\n",
    "x = 10\n",
    "if x > 5:\n",
    "    print('Greater than 5.')\n",
    "else:\n",
    "    print('Less than or equal to 5.')"
   ]
  },
  {
   "attachments": {},
   "cell_type": "markdown",
   "metadata": {},
   "source": [
    "<font color='#FF69B4'>**Note:**</font> This one-liner is often used for simple conditional assignments."
   ]
  },
  {
   "attachments": {},
   "cell_type": "markdown",
   "metadata": {},
   "source": [
    "### Best Practice: \n",
    "\n",
    "When using conditional statements, keep the following best practices in mind:\n",
    "\n",
    "- Keep your conditions simple and readable. Complex conditions can be broken down into multiple simpler `if` statements or by using boolean variables.\n",
    "- Avoid nested conditions when possible. They can make your code hard to read and maintain.\n",
    "- Use the ternary operator for simple conditional assignments to make your code more concise.\n",
    "- Always consider whether your conditional branches cover all possible cases to prevent unexpected behavior."
   ]
  },
  {
   "attachments": {},
   "cell_type": "markdown",
   "metadata": {},
   "source": [
    "### `Exercise 1`: Number guessing game\n",
    "\n",
    "Write a program that chooses a random integer between 0 and 100 (inclusive). \n",
    "Then ask the user to guess what number has been chosen.  \n",
    "Each time the user enters a guess, the program indicates one of the following:  \n",
    "- Too high\n",
    "- Too low\n",
    "- Just right  \n",
    "\n",
    "If the user guesses correctly, the program exits. Otherwise, the user is asked to\n",
    "try again.  \n",
    "The program only exits after the user guesses correctly.  \n",
    "\n",
    "**Note:** You need to use `import random` to get the random number from the user.  \n",
    "**Note:** You need to use `while True:` to run an infinite loop for running the game. "
   ]
  },
  {
   "attachments": {},
   "cell_type": "markdown",
   "metadata": {},
   "source": [
    "### `Exercise 2`: Movie Ticket Pricing\n",
    "\n",
    "Write a program for a movie theater to determine the ticket price based on the customer's age. The pricing rules are as follows:\n",
    "\n",
    "1. The regular ticket price is $20.\n",
    "2. Children under 14 years old get a 50% discount.\n",
    "3. Seniors aged 65 and above get a 30% discount.\n",
    "\n",
    "The program should:\n",
    "1. Asks the user for their age.\n",
    "2. Calculates and prints the ticket price according to the above rules."
   ]
  }
 ],
 "metadata": {
  "kernelspec": {
   "display_name": "base",
   "language": "python",
   "name": "python3"
  },
  "language_info": {
   "codemirror_mode": {
    "name": "ipython",
    "version": 3
   },
   "file_extension": ".py",
   "mimetype": "text/x-python",
   "name": "python",
   "nbconvert_exporter": "python",
   "pygments_lexer": "ipython3",
   "version": "3.10.9"
  },
  "orig_nbformat": 4
 },
 "nbformat": 4,
 "nbformat_minor": 2
}
