{
 "cells": [
  {
   "attachments": {},
   "cell_type": "markdown",
   "id": "068a8cdc",
   "metadata": {},
   "source": [
    "<center>\n",
    "<h1>Python Quiz</h1>\n",
    "</center>\n",
    "\n",
    "\n",
    "### <font color='#FF69B4'>**Deadline: May 25, 2024 | 23:59**</font> "
   ]
  },
  {
   "attachments": {},
   "cell_type": "markdown",
   "id": "41932648",
   "metadata": {},
   "source": [
    "> Please answer the following questions to the best of your ability. Additionally, please provide the rationale behind your answers and demonstrate your solution."
   ]
  },
  {
   "cell_type": "markdown",
   "id": "b81bc420",
   "metadata": {},
   "source": [
    "### Question 1\n",
    "**What is the output of the following Python code?**\n",
    "\n",
    "```python\n",
    "b = '11\\t12'\n",
    "print(b.count('\\t'))\n",
    "```\n"
   ]
  },
  {
   "cell_type": "markdown",
   "id": "f2eeca4a",
   "metadata": {},
   "source": [
    "### Question 2\n",
    "**What is the output of the following Python code?**\n",
    "\n",
    "```python\n",
    "lst = ['P', 20, 'Q', 4.50]\n",
    "item = iter(lst)\n",
    "print(next(item))\n",
    "```\n"
   ]
  },
  {
   "cell_type": "markdown",
   "id": "3f784498",
   "metadata": {},
   "source": [
    "### Question 3\n",
    "**What is the output of the following Python code?**\n",
    "\n",
    "```python\n",
    "a = [1, 2, 3, 4]\n",
    "b = [1, 2, 5]\n",
    "if sorted(a) < sorted(b):\n",
    "    print(True)\n",
    "else:\n",
    "    print(False)\n",
    "```\n"
   ]
  },
  {
   "cell_type": "markdown",
   "id": "e2ddc290",
   "metadata": {},
   "source": [
    "### Question 4\n",
    "**What is the output of the following Python code?**\n",
    "\n",
    "```python\n",
    "c = '13\\t14'\n",
    "print(c.index('\\t'))\n",
    "```\n"
   ]
  },
  {
   "cell_type": "markdown",
   "id": "75fa4512",
   "metadata": {},
   "source": [
    "### Question 5\n",
    "**What is the output of the following Python code?**\n",
    "\n",
    "```python\n",
    "a = 0.1\n",
    "b = 0.2\n",
    "c = 0.3\n",
    "print(a + b == c)\n",
    "```\n"
   ]
  },
  {
   "cell_type": "markdown",
   "id": "2ce63d8d",
   "metadata": {},
   "source": [
    "### Question 6\n",
    "**What is the output of the following Python code?**\n",
    "\n",
    "```python\n",
    "my_dict = {1: 0, 0: [], True: False}\n",
    "result = all(my_dict)\n",
    "print(result)\n",
    "```\n"
   ]
  },
  {
   "cell_type": "markdown",
   "id": "c64cde62",
   "metadata": {},
   "source": [
    "### Question 7\n",
    "**What is the output of the following Python code?**\n",
    "\n",
    "```python\n",
    "a = [1, 2, 3, 4]\n",
    "b = [1, 2, 5]\n",
    "if all(x < y for x, y in zip(a, b)):\n",
    "    print(True)\n",
    "else:\n",
    "    print(False)\n",
    "```\n"
   ]
  },
  {
   "attachments": {},
   "cell_type": "markdown",
   "id": "19c814c6",
   "metadata": {},
   "source": [
    "**Note**: The `zip()` function in Python takes one or more iterables (like lists, tuples, etc.) and returns an iterator of tuples, where the first item in each passed iterable is paired together, the second item in each passed iterable is paired together, and so on. If the passed iterables are of uneven length, zip() stops creating tuples when the shortest input iterable is exhausted."
   ]
  }
 ],
 "metadata": {
  "language_info": {
   "name": "python"
  }
 },
 "nbformat": 4,
 "nbformat_minor": 5
}
